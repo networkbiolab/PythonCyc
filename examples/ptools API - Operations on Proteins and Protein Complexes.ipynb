{
 "cells": [
  {
   "cell_type": "code",
   "execution_count": 1,
   "metadata": {},
   "outputs": [
    {
     "data": {
      "text/plain": [
       "0"
      ]
     },
     "execution_count": 1,
     "metadata": {},
     "output_type": "execute_result"
    }
   ],
   "source": [
    "#to run the script, you need to start pathway tools form the command line \n",
    "# using the -lisp -python options. Example (from the pathway tools github repository)\n",
    "import os\n",
    "# os.system('nohup /opt/pathway-tools/pathway-tools -lisp -python &')\n",
    "os.system('nohup /opt/pathway-tools/pathway-tools -lisp -python-local-only &') # added cybersecurity\n",
    "os.system('nohup /shared/D1/opt/pathway-tools/pathway-tools -lisp -python-local-only &') # added cybersecurity"
   ]
  },
  {
   "cell_type": "code",
   "execution_count": 2,
   "metadata": {},
   "outputs": [
    {
     "data": {
      "text/plain": [
       "['/home/glucksfall/Dropbox/modding-pythoncyc/PythonCyc']"
      ]
     },
     "execution_count": 2,
     "metadata": {},
     "output_type": "execute_result"
    }
   ],
   "source": [
    "# modify sys.path to recognize local pythoncyc\n",
    "import os\n",
    "import sys\n",
    "module_path = os.path.abspath(os.path.join('./PythonCyc/'))\n",
    "sys.path = [module_path]\n",
    "\n",
    "sys.path"
   ]
  },
  {
   "cell_type": "code",
   "execution_count": 3,
   "metadata": {},
   "outputs": [
    {
     "name": "stdout",
     "output_type": "stream",
     "text": [
      "[u'|META|', u'|ECOLI|']\n",
      "class-name-p\n",
      "(class-name-p \"proteins\" )\n",
      "(with-organism (:org-id '|ECOLI|) (class-name-p \"proteins\" ))\n",
      "get-frame-object\n",
      "(get-frame-object '|Proteins| )\n",
      "(with-organism (:org-id '|ECOLI|) (get-frame-object '|Proteins| ))\n",
      "get-class\n",
      "(get-class |Proteins| )\n",
      "(with-organism (:org-id '|ECOLI|) (get-class |Proteins| ))\n",
      "all-protein-complexes\n",
      "(all-protein-complexes  :filter :all)\n",
      "(with-organism (:org-id '|ECOLI|) (all-protein-complexes  :filter :all))\n"
     ]
    }
   ],
   "source": [
    "# remove pyc files\n",
    "!rm ./PythonCyc/pythoncyc/*pyc\n",
    "\n",
    "import pythoncyc\n",
    "all_orgids = pythoncyc.all_orgids()\n",
    "print all_orgids\n",
    "\n",
    "meta = pythoncyc.select_organism(u'|META|')\n",
    "ecoli = pythoncyc.select_organism(u'|ECOLI|')\n",
    "proteins = [x.frameid for x in ecoli.proteins.instances][0:2]\n",
    "complexes = ecoli.all_protein_complexes()[0:2]"
   ]
  },
  {
   "cell_type": "code",
   "execution_count": 4,
   "metadata": {},
   "outputs": [
    {
     "name": "stdout",
     "output_type": "stream",
     "text": [
      "monomers-of-protein\n",
      "(monomers-of-protein '|CPLX0-7660| :coefficients? t :unmodify? t)\n",
      "(with-organism (:org-id '|ECOLI|) (monomers-of-protein '|CPLX0-7660| :coefficients? t :unmodify? t))\n",
      "monomers-of-protein\n",
      "(monomers-of-protein '|CPLX0-8247| :coefficients? t :unmodify? t)\n",
      "(with-organism (:org-id '|ECOLI|) (monomers-of-protein '|CPLX0-8247| :coefficients? t :unmodify? t))\n",
      "[[[u'|G6106-MONOMER|'], [4]], [[u'|URAA-MONOMER|'], [2]]]\n",
      "monomers-of-protein\n",
      "(monomers-of-protein '|OPPC-MONOMER| )\n",
      "(with-organism (:org-id '|ECOLI|) (monomers-of-protein '|OPPC-MONOMER| ))\n",
      "monomers-of-protein\n",
      "(monomers-of-protein '|YHBN-MONOMER| )\n",
      "(with-organism (:org-id '|ECOLI|) (monomers-of-protein '|YHBN-MONOMER| ))\n",
      "[[[u'|OPPC-MONOMER|'], [1]], [[u'|YHBN-MONOMER|'], [1]]]\n"
     ]
    }
   ],
   "source": [
    "\"\"\"\n",
    "p\n",
    "An instance of the class |Proteins|. \n",
    "coefficients?\n",
    "Keyword, Optional If true, then the second return value of the function will be \n",
    "a list of monomer coefficients. Defaults to true. \n",
    "unmodify?\n",
    "Keyword, Optional If true, obtain the monomers of the unmodified form of p.\n",
    "\"\"\"\n",
    "\n",
    "lst = []\n",
    "for protein in complexes:\n",
    "    lst.append(ecoli.monomers_of_protein(protein = protein, coefficients = True, unmodify = True))\n",
    "print(lst[-10:])\n",
    "\n",
    "lst = []\n",
    "for protein in proteins:\n",
    "    lst.append(ecoli.monomers_of_protein(protein = protein))\n",
    "print(lst[-10:])"
   ]
  },
  {
   "cell_type": "code",
   "execution_count": 5,
   "metadata": {},
   "outputs": [
    {
     "name": "stdout",
     "output_type": "stream",
     "text": [
      "base-components-of-protein\n",
      "(base-components-of-protein '|CPLX0-7660| :exclude-small-molecules? t)\n",
      "(with-organism (:org-id '|ECOLI|) (base-components-of-protein '|CPLX0-7660| :exclude-small-molecules? t))\n",
      "base-components-of-protein\n",
      "(base-components-of-protein '|CPLX0-8247| :exclude-small-molecules? t)\n",
      "(with-organism (:org-id '|ECOLI|) (base-components-of-protein '|CPLX0-8247| :exclude-small-molecules? t))\n",
      "[[[u'|G6106-MONOMER|'], [4]], [[u'|URAA-MONOMER|'], [2]]]\n",
      "base-components-of-protein\n",
      "(base-components-of-protein '|OPPC-MONOMER| )\n",
      "(with-organism (:org-id '|ECOLI|) (base-components-of-protein '|OPPC-MONOMER| ))\n",
      "base-components-of-protein\n",
      "(base-components-of-protein '|YHBN-MONOMER| )\n",
      "(with-organism (:org-id '|ECOLI|) (base-components-of-protein '|YHBN-MONOMER| ))\n",
      "[[[u'|OPPC-MONOMER|'], [1]], [[u'|YHBN-MONOMER|'], [1]]]\n"
     ]
    }
   ],
   "source": [
    "\"\"\"\n",
    "p\n",
    "An instance of the class |Proteins|. \n",
    "exclude-small-molecules?\n",
    "Keyword, Optional If nil, then small molecule components are also returned. \n",
    "Default value is true. \n",
    "\"\"\"\n",
    "\n",
    "lst = []\n",
    "for protein in complexes:\n",
    "    lst.append(ecoli.base_components_of_protein(protein = protein, exclude_small_molecules = True))\n",
    "print(lst[-10:])\n",
    "\n",
    "lst = []\n",
    "for protein in proteins:\n",
    "    lst.append(ecoli.base_components_of_protein(protein = protein))\n",
    "print(lst[-10:])"
   ]
  },
  {
   "cell_type": "code",
   "execution_count": 6,
   "metadata": {},
   "outputs": [
    {
     "name": "stdout",
     "output_type": "stream",
     "text": [
      "containers-of\n",
      "(containers-of '|CPLX0-7660| t )\n",
      "(with-organism (:org-id '|ECOLI|) (containers-of '|CPLX0-7660| t ))\n",
      "containers-of\n",
      "(containers-of '|CPLX0-8247| t )\n",
      "(with-organism (:org-id '|ECOLI|) (containers-of '|CPLX0-8247| t ))\n",
      "[[], []]\n",
      "containers-of\n",
      "(containers-of '|OPPC-MONOMER| nil )\n",
      "(with-organism (:org-id '|ECOLI|) (containers-of '|OPPC-MONOMER| nil ))\n",
      "containers-of\n",
      "(containers-of '|YHBN-MONOMER| nil )\n",
      "(with-organism (:org-id '|ECOLI|) (containers-of '|YHBN-MONOMER| nil ))\n",
      "[[u'|OPPC-MONOMER|', u'|CPLX0-3970|', u'|ABC-22-CPLX|'], [u'|YHBN-MONOMER|', u'|CPLX0-7992|']]\n"
     ]
    }
   ],
   "source": [
    "\"\"\"\n",
    "protein\n",
    "An instance of the class |Proteins|. \n",
    "exclude-self?\n",
    "Optional If true, then protein will not be included in the return value. \n",
    "\"\"\"\n",
    "\n",
    "lst = []\n",
    "for protein in complexes:\n",
    "    lst.append(ecoli.containers_of(protein = protein, exclude_self = True))\n",
    "print(lst[-10:])\n",
    "\n",
    "lst = []\n",
    "for protein in proteins:\n",
    "    lst.append(ecoli.containers_of(protein = protein))\n",
    "print(lst[-10:])"
   ]
  },
  {
   "cell_type": "code",
   "execution_count": 7,
   "metadata": {},
   "outputs": [
    {
     "name": "stdout",
     "output_type": "stream",
     "text": [
      "protein-or-rna-containers-of\n",
      "(protein-or-rna-containers-of '|CPLX0-7660| nil )\n",
      "(with-organism (:org-id '|ECOLI|) (protein-or-rna-containers-of '|CPLX0-7660| nil ))\n",
      "protein-or-rna-containers-of\n",
      "(protein-or-rna-containers-of '|CPLX0-8247| nil )\n",
      "(with-organism (:org-id '|ECOLI|) (protein-or-rna-containers-of '|CPLX0-8247| nil ))\n",
      "[[u'|CPLX0-7660|'], [u'|CPLX0-8247|']]\n",
      "protein-or-rna-containers-of\n",
      "(protein-or-rna-containers-of '|OPPC-MONOMER| nil )\n",
      "(with-organism (:org-id '|ECOLI|) (protein-or-rna-containers-of '|OPPC-MONOMER| nil ))\n",
      "protein-or-rna-containers-of\n",
      "(protein-or-rna-containers-of '|YHBN-MONOMER| nil )\n",
      "(with-organism (:org-id '|ECOLI|) (protein-or-rna-containers-of '|YHBN-MONOMER| nil ))\n",
      "[[u'|OPPC-MONOMER|', u'|CPLX0-3970|', u'|ABC-22-CPLX|'], [u'|YHBN-MONOMER|', u'|CPLX0-7992|']]\n"
     ]
    }
   ],
   "source": [
    "\"\"\"\n",
    "protein\n",
    "An instance of the class |Proteins|. \n",
    "exclude-self?\n",
    "Optional If true, then protein will not be included in the return value. \n",
    "\"\"\"\n",
    "\n",
    "lst = []\n",
    "for protein in complexes:\n",
    "    lst.append(ecoli.protein_or_rna_containers_of(protein = protein))\n",
    "print(lst[-10:])\n",
    "\n",
    "lst = []\n",
    "for protein in proteins:\n",
    "    lst.append(ecoli.protein_or_rna_containers_of(protein = protein))\n",
    "print(lst[-10:])"
   ]
  },
  {
   "cell_type": "code",
   "execution_count": 8,
   "metadata": {},
   "outputs": [
    {
     "name": "stdout",
     "output_type": "stream",
     "text": [
      "homomultimeric-containers-of\n",
      "(homomultimeric-containers-of '|CPLX0-7660| nil )\n",
      "(with-organism (:org-id '|ECOLI|) (homomultimeric-containers-of '|CPLX0-7660| nil ))\n",
      "homomultimeric-containers-of\n",
      "(homomultimeric-containers-of '|CPLX0-8247| nil )\n",
      "(with-organism (:org-id '|ECOLI|) (homomultimeric-containers-of '|CPLX0-8247| nil ))\n",
      "[[u'|CPLX0-7660|'], [u'|CPLX0-8247|']]\n",
      "homomultimeric-containers-of\n",
      "(homomultimeric-containers-of '|OPPC-MONOMER| nil )\n",
      "(with-organism (:org-id '|ECOLI|) (homomultimeric-containers-of '|OPPC-MONOMER| nil ))\n",
      "homomultimeric-containers-of\n",
      "(homomultimeric-containers-of '|YHBN-MONOMER| nil )\n",
      "(with-organism (:org-id '|ECOLI|) (homomultimeric-containers-of '|YHBN-MONOMER| nil ))\n",
      "[[u'|OPPC-MONOMER|'], [u'|YHBN-MONOMER|']]\n"
     ]
    }
   ],
   "source": [
    "\"\"\"\n",
    "protein\n",
    "An instance of the class |Proteins|. \n",
    "exclude-self?\n",
    "Optional If true, then protein will not be included in the return value. \n",
    "\"\"\"\n",
    "\n",
    "lst = []\n",
    "for protein in complexes:\n",
    "    lst.append(ecoli.homomultimeric_containers_of(protein = protein))\n",
    "print(lst[-10:])\n",
    "\n",
    "lst = []\n",
    "for protein in proteins:\n",
    "    lst.append(ecoli.homomultimeric_containers_of(protein = protein))\n",
    "print(lst[-10:])"
   ]
  },
  {
   "cell_type": "code",
   "execution_count": 9,
   "metadata": {},
   "outputs": [
    {
     "name": "stdout",
     "output_type": "stream",
     "text": [
      "polypeptide-or-homomultimer-p\n",
      "(polypeptide-or-homomultimer-p '|CPLX0-7660| )\n",
      "(with-organism (:org-id '|ECOLI|) (polypeptide-or-homomultimer-p '|CPLX0-7660| ))\n",
      "polypeptide-or-homomultimer-p\n",
      "(polypeptide-or-homomultimer-p '|CPLX0-8247| )\n",
      "(with-organism (:org-id '|ECOLI|) (polypeptide-or-homomultimer-p '|CPLX0-8247| ))\n",
      "[True, True]\n",
      "polypeptide-or-homomultimer-p\n",
      "(polypeptide-or-homomultimer-p '|OPPC-MONOMER| )\n",
      "(with-organism (:org-id '|ECOLI|) (polypeptide-or-homomultimer-p '|OPPC-MONOMER| ))\n",
      "polypeptide-or-homomultimer-p\n",
      "(polypeptide-or-homomultimer-p '|YHBN-MONOMER| )\n",
      "(with-organism (:org-id '|ECOLI|) (polypeptide-or-homomultimer-p '|YHBN-MONOMER| ))\n",
      "[True, True]\n"
     ]
    }
   ],
   "source": [
    "lst = []\n",
    "for protein in complexes:\n",
    "    lst.append(ecoli.polypeptide_or_homomultimer_p(protein = protein))\n",
    "print(lst[-10:])\n",
    "\n",
    "lst = []\n",
    "for protein in proteins:\n",
    "    lst.append(ecoli.polypeptide_or_homomultimer_p(protein = protein))\n",
    "print(lst[-10:])"
   ]
  },
  {
   "cell_type": "code",
   "execution_count": 10,
   "metadata": {},
   "outputs": [
    {
     "name": "stdout",
     "output_type": "stream",
     "text": [
      "unmodified-form\n",
      "(unmodified-form '|CPLX0-7660| )\n",
      "(with-organism (:org-id '|ECOLI|) (unmodified-form '|CPLX0-7660| ))\n",
      "unmodified-form\n",
      "(unmodified-form '|CPLX0-8247| )\n",
      "(with-organism (:org-id '|ECOLI|) (unmodified-form '|CPLX0-8247| ))\n",
      "[u'|CPLX0-7660|', u'|CPLX0-8247|']\n",
      "unmodified-form\n",
      "(unmodified-form '|OPPC-MONOMER| )\n",
      "(with-organism (:org-id '|ECOLI|) (unmodified-form '|OPPC-MONOMER| ))\n",
      "unmodified-form\n",
      "(unmodified-form '|YHBN-MONOMER| )\n",
      "(with-organism (:org-id '|ECOLI|) (unmodified-form '|YHBN-MONOMER| ))\n",
      "[u'|OPPC-MONOMER|', u'|YHBN-MONOMER|']\n"
     ]
    }
   ],
   "source": [
    "lst = []\n",
    "for protein in complexes:\n",
    "    lst.append(ecoli.unmodified_form(protein = protein))\n",
    "print(lst[-10:])\n",
    "\n",
    "lst = []\n",
    "for protein in proteins:\n",
    "    lst.append(ecoli.unmodified_form(protein = protein))\n",
    "print(lst[-10:])"
   ]
  },
  {
   "cell_type": "code",
   "execution_count": 11,
   "metadata": {},
   "outputs": [
    {
     "name": "stdout",
     "output_type": "stream",
     "text": [
      "unmodified-or-unbound-form\n",
      "(unmodified-or-unbound-form '|CPLX0-7660| )\n",
      "(with-organism (:org-id '|ECOLI|) (unmodified-or-unbound-form '|CPLX0-7660| ))\n",
      "unmodified-or-unbound-form\n",
      "(unmodified-or-unbound-form '|CPLX0-8247| )\n",
      "(with-organism (:org-id '|ECOLI|) (unmodified-or-unbound-form '|CPLX0-8247| ))\n",
      "[u'|CPLX0-7660|', u'|CPLX0-8247|']\n",
      "unmodified-or-unbound-form\n",
      "(unmodified-or-unbound-form '|OPPC-MONOMER| )\n",
      "(with-organism (:org-id '|ECOLI|) (unmodified-or-unbound-form '|OPPC-MONOMER| ))\n",
      "unmodified-or-unbound-form\n",
      "(unmodified-or-unbound-form '|YHBN-MONOMER| )\n",
      "(with-organism (:org-id '|ECOLI|) (unmodified-or-unbound-form '|YHBN-MONOMER| ))\n",
      "[u'|OPPC-MONOMER|', u'|YHBN-MONOMER|']\n"
     ]
    }
   ],
   "source": [
    "lst = []\n",
    "for protein in complexes:\n",
    "    lst.append(ecoli.unmodified_or_unbound_form(protein = protein))\n",
    "print(lst[-10:])\n",
    "\n",
    "lst = []\n",
    "for protein in proteins:\n",
    "    lst.append(ecoli.unmodified_or_unbound_form(protein = protein))\n",
    "print(lst[-10:])"
   ]
  },
  {
   "cell_type": "code",
   "execution_count": 12,
   "metadata": {},
   "outputs": [
    {
     "name": "stdout",
     "output_type": "stream",
     "text": [
      "reduce-modified-proteins\n",
      "(reduce-modified-proteins '(|CPLX0-7660|) :debind? t)\n",
      "(with-organism (:org-id '|ECOLI|) (reduce-modified-proteins '(|CPLX0-7660|) :debind? t))\n",
      "reduce-modified-proteins\n",
      "(reduce-modified-proteins '(|CPLX0-8247|) :debind? t)\n",
      "(with-organism (:org-id '|ECOLI|) (reduce-modified-proteins '(|CPLX0-8247|) :debind? t))\n",
      "[[u'|CPLX0-7660|'], [u'|CPLX0-8247|']]\n",
      "reduce-modified-proteins\n",
      "(reduce-modified-proteins '(|OPPC-MONOMER|) )\n",
      "(with-organism (:org-id '|ECOLI|) (reduce-modified-proteins '(|OPPC-MONOMER|) ))\n",
      "reduce-modified-proteins\n",
      "(reduce-modified-proteins '(|YHBN-MONOMER|) )\n",
      "(with-organism (:org-id '|ECOLI|) (reduce-modified-proteins '(|YHBN-MONOMER|) ))\n",
      "[[u'|OPPC-MONOMER|'], [u'|YHBN-MONOMER|']]\n"
     ]
    }
   ],
   "source": [
    "\"\"\"\n",
    "prots\n",
    "A list of instances of the class |Proteins|. \n",
    "debind?\n",
    "Keyword, Optional When non-nil, the proteins are further simplified by obtaining \n",
    "the unbound form of the protein, if it is bound to a small molecule. \n",
    "\"\"\"\n",
    "\n",
    "lst = []\n",
    "for protein in complexes:\n",
    "    lst.append(ecoli.reduce_modified_proteins(prots = [protein], debind = True))\n",
    "print(lst[-10:])\n",
    "\n",
    "lst = []\n",
    "for protein in proteins:\n",
    "    lst.append(ecoli.reduce_modified_proteins(prots = [protein]))\n",
    "print(lst[-10:])"
   ]
  },
  {
   "cell_type": "code",
   "execution_count": 13,
   "metadata": {},
   "outputs": [
    {
     "name": "stdout",
     "output_type": "stream",
     "text": [
      "all-direct-forms-of-protein\n",
      "(all-direct-forms-of-protein '|CPLX0-7660| )\n",
      "(with-organism (:org-id '|ECOLI|) (all-direct-forms-of-protein '|CPLX0-7660| ))\n",
      "all-direct-forms-of-protein\n",
      "(all-direct-forms-of-protein '|CPLX0-8247| )\n",
      "(with-organism (:org-id '|ECOLI|) (all-direct-forms-of-protein '|CPLX0-8247| ))\n",
      "[[u'|G6106-MONOMER|', u'|CPLX0-7660|'], [u'|URAA-MONOMER|', u'|CPLX0-8247|']]\n",
      "all-direct-forms-of-protein\n",
      "(all-direct-forms-of-protein '|OPPC-MONOMER| )\n",
      "(with-organism (:org-id '|ECOLI|) (all-direct-forms-of-protein '|OPPC-MONOMER| ))\n",
      "all-direct-forms-of-protein\n",
      "(all-direct-forms-of-protein '|YHBN-MONOMER| )\n",
      "(with-organism (:org-id '|ECOLI|) (all-direct-forms-of-protein '|YHBN-MONOMER| ))\n",
      "[[u'|OPPC-MONOMER|', u'|CPLX0-3970|', u'|ABC-22-CPLX|'], [u'|YHBN-MONOMER|', u'|CPLX0-7992|']]\n"
     ]
    }
   ],
   "source": [
    "lst = []\n",
    "for protein in complexes:\n",
    "    lst.append(ecoli.all_direct_forms_of_protein(protein = protein))\n",
    "print(lst[-10:])\n",
    "\n",
    "lst = []\n",
    "for protein in proteins:\n",
    "    lst.append(ecoli.all_direct_forms_of_protein(protein = protein))\n",
    "print(lst[-10:])"
   ]
  },
  {
   "cell_type": "code",
   "execution_count": 14,
   "metadata": {},
   "outputs": [
    {
     "name": "stdout",
     "output_type": "stream",
     "text": [
      "all-forms-of-protein\n",
      "(all-forms-of-protein '|CPLX0-7660| )\n",
      "(with-organism (:org-id '|ECOLI|) (all-forms-of-protein '|CPLX0-7660| ))\n",
      "all-forms-of-protein\n",
      "(all-forms-of-protein '|CPLX0-8247| )\n",
      "(with-organism (:org-id '|ECOLI|) (all-forms-of-protein '|CPLX0-8247| ))\n",
      "[[u'|G6106-MONOMER|', u'|CPLX0-7660|'], [u'|URAA-MONOMER|', u'|CPLX0-8247|']]\n",
      "all-forms-of-protein\n",
      "(all-forms-of-protein '|OPPC-MONOMER| )\n",
      "(with-organism (:org-id '|ECOLI|) (all-forms-of-protein '|OPPC-MONOMER| ))\n",
      "all-forms-of-protein\n",
      "(all-forms-of-protein '|YHBN-MONOMER| )\n",
      "(with-organism (:org-id '|ECOLI|) (all-forms-of-protein '|YHBN-MONOMER| ))\n",
      "[[u'|OPPC-MONOMER|', u'|CPLX0-3970|', u'|ABC-22-CPLX|'], [u'|YHBN-MONOMER|', u'|CPLX0-7992|']]\n"
     ]
    }
   ],
   "source": [
    "lst = []\n",
    "for protein in complexes:\n",
    "    lst.append(ecoli.all_forms_of_protein(protein = protein))\n",
    "print(lst[-10:])\n",
    "\n",
    "lst = []\n",
    "for protein in proteins:\n",
    "    lst.append(ecoli.all_forms_of_protein(protein = protein))\n",
    "print(lst[-10:])"
   ]
  },
  {
   "cell_type": "code",
   "execution_count": 15,
   "metadata": {},
   "outputs": [
    {
     "name": "stdout",
     "output_type": "stream",
     "text": [
      "modified-forms\n",
      "(modified-forms '|CPLX0-7660| t t )\n",
      "(with-organism (:org-id '|ECOLI|) (modified-forms '|CPLX0-7660| t t ))\n",
      "modified-forms\n",
      "(modified-forms '|CPLX0-8247| t t )\n",
      "(with-organism (:org-id '|ECOLI|) (modified-forms '|CPLX0-8247| t t ))\n",
      "[[], []]\n",
      "modified-forms\n",
      "(modified-forms '|OPPC-MONOMER| nil nil )\n",
      "(with-organism (:org-id '|ECOLI|) (modified-forms '|OPPC-MONOMER| nil nil ))\n",
      "modified-forms\n",
      "(modified-forms '|YHBN-MONOMER| nil nil )\n",
      "(with-organism (:org-id '|ECOLI|) (modified-forms '|YHBN-MONOMER| nil nil ))\n",
      "[[u'|OPPC-MONOMER|'], [u'|YHBN-MONOMER|']]\n"
     ]
    }
   ],
   "source": [
    "lst = []\n",
    "for protein in complexes:\n",
    "    lst.append(ecoli.modified_forms(protein = protein, all_variants = True, exclude_self= True))\n",
    "print(lst[-10:])\n",
    "\n",
    "lst = []\n",
    "for protein in proteins:\n",
    "    lst.append(ecoli.modified_forms(protein = protein))\n",
    "print(lst[-10:])"
   ]
  },
  {
   "cell_type": "code",
   "execution_count": 16,
   "metadata": {},
   "outputs": [
    {
     "name": "stdout",
     "output_type": "stream",
     "text": [
      "modified-and-unmodified-forms\n",
      "(modified-and-unmodified-forms '|CPLX0-7660| )\n",
      "(with-organism (:org-id '|ECOLI|) (modified-and-unmodified-forms '|CPLX0-7660| ))\n",
      "modified-and-unmodified-forms\n",
      "(modified-and-unmodified-forms '|CPLX0-8247| )\n",
      "(with-organism (:org-id '|ECOLI|) (modified-and-unmodified-forms '|CPLX0-8247| ))\n",
      "[[u'|CPLX0-7660|'], [u'|CPLX0-8247|']]\n",
      "modified-and-unmodified-forms\n",
      "(modified-and-unmodified-forms '|OPPC-MONOMER| )\n",
      "(with-organism (:org-id '|ECOLI|) (modified-and-unmodified-forms '|OPPC-MONOMER| ))\n",
      "modified-and-unmodified-forms\n",
      "(modified-and-unmodified-forms '|YHBN-MONOMER| )\n",
      "(with-organism (:org-id '|ECOLI|) (modified-and-unmodified-forms '|YHBN-MONOMER| ))\n",
      "[[u'|OPPC-MONOMER|'], [u'|YHBN-MONOMER|']]\n"
     ]
    }
   ],
   "source": [
    "lst = []\n",
    "for protein in complexes:\n",
    "    lst.append(ecoli.modified_and_unmodified_forms(protein = protein))\n",
    "print(lst[-10:])\n",
    "\n",
    "lst = []\n",
    "for protein in proteins:\n",
    "    lst.append(ecoli.modified_and_unmodified_forms(protein = protein))\n",
    "print(lst[-10:])"
   ]
  },
  {
   "cell_type": "code",
   "execution_count": 17,
   "metadata": {},
   "outputs": [
    {
     "name": "stdout",
     "output_type": "stream",
     "text": [
      "modified-containers\n",
      "(modified-containers '|CPLX0-7660| )\n",
      "(with-organism (:org-id '|ECOLI|) (modified-containers '|CPLX0-7660| ))\n",
      "modified-containers\n",
      "(modified-containers '|CPLX0-8247| )\n",
      "(with-organism (:org-id '|ECOLI|) (modified-containers '|CPLX0-8247| ))\n",
      "[[u'|CPLX0-7660|'], [u'|CPLX0-8247|']]\n",
      "modified-containers\n",
      "(modified-containers '|OPPC-MONOMER| )\n",
      "(with-organism (:org-id '|ECOLI|) (modified-containers '|OPPC-MONOMER| ))\n",
      "modified-containers\n",
      "(modified-containers '|YHBN-MONOMER| )\n",
      "(with-organism (:org-id '|ECOLI|) (modified-containers '|YHBN-MONOMER| ))\n",
      "[[u'|OPPC-MONOMER|', u'|CPLX0-3970|', u'|ABC-22-CPLX|'], [u'|YHBN-MONOMER|', u'|CPLX0-7992|']]\n"
     ]
    }
   ],
   "source": [
    "lst = []\n",
    "for protein in complexes:\n",
    "    lst.append(ecoli.modified_containers(protein = protein))\n",
    "print(lst[-10:])\n",
    "\n",
    "lst = []\n",
    "for protein in proteins:\n",
    "    lst.append(ecoli.modified_containers(protein = protein))\n",
    "print(lst[-10:])"
   ]
  },
  {
   "cell_type": "code",
   "execution_count": 18,
   "metadata": {},
   "outputs": [
    {
     "name": "stdout",
     "output_type": "stream",
     "text": [
      "top-containers\n",
      "(top-containers '|CPLX0-7660| )\n",
      "(with-organism (:org-id '|ECOLI|) (top-containers '|CPLX0-7660| ))\n",
      "top-containers\n",
      "(top-containers '|CPLX0-8247| )\n",
      "(with-organism (:org-id '|ECOLI|) (top-containers '|CPLX0-8247| ))\n",
      "[[u'|CPLX0-7660|'], [u'|CPLX0-8247|']]\n",
      "top-containers\n",
      "(top-containers '|OPPC-MONOMER| )\n",
      "(with-organism (:org-id '|ECOLI|) (top-containers '|OPPC-MONOMER| ))\n",
      "top-containers\n",
      "(top-containers '|YHBN-MONOMER| )\n",
      "(with-organism (:org-id '|ECOLI|) (top-containers '|YHBN-MONOMER| ))\n",
      "[[u'|CPLX0-3970|', u'|ABC-22-CPLX|'], [u'|CPLX0-7992|']]\n"
     ]
    }
   ],
   "source": [
    "lst = []\n",
    "for protein in complexes:\n",
    "    lst.append(ecoli.top_containers(protein = protein))\n",
    "print(lst[-10:])\n",
    "\n",
    "lst = []\n",
    "for protein in proteins:\n",
    "    lst.append(ecoli.top_containers(protein = protein))\n",
    "print(lst[-10:])"
   ]
  },
  {
   "cell_type": "code",
   "execution_count": 19,
   "metadata": {},
   "outputs": [
    {
     "name": "stdout",
     "output_type": "stream",
     "text": [
      "small-molecule-cplxes-of-prot\n",
      "(small-molecule-cplxes-of-prot '|CPLX0-7660| )\n",
      "(with-organism (:org-id '|ECOLI|) (small-molecule-cplxes-of-prot '|CPLX0-7660| ))\n",
      "small-molecule-cplxes-of-prot\n",
      "(small-molecule-cplxes-of-prot '|CPLX0-8247| )\n",
      "(with-organism (:org-id '|ECOLI|) (small-molecule-cplxes-of-prot '|CPLX0-8247| ))\n",
      "[[], []]\n",
      "small-molecule-cplxes-of-prot\n",
      "(small-molecule-cplxes-of-prot '|OPPC-MONOMER| )\n",
      "(with-organism (:org-id '|ECOLI|) (small-molecule-cplxes-of-prot '|OPPC-MONOMER| ))\n",
      "small-molecule-cplxes-of-prot\n",
      "(small-molecule-cplxes-of-prot '|YHBN-MONOMER| )\n",
      "(with-organism (:org-id '|ECOLI|) (small-molecule-cplxes-of-prot '|YHBN-MONOMER| ))\n",
      "[[], []]\n"
     ]
    }
   ],
   "source": [
    "lst = []\n",
    "for protein in complexes:\n",
    "    lst.append(ecoli.small_molecule_cplxes_of_prot(protein = protein))\n",
    "print(lst[-10:])\n",
    "\n",
    "lst = []\n",
    "for protein in proteins:\n",
    "    lst.append(ecoli.small_molecule_cplxes_of_prot(protein = protein))\n",
    "print(lst[-10:])"
   ]
  },
  {
   "cell_type": "code",
   "execution_count": 20,
   "metadata": {},
   "outputs": [
    {
     "name": "stdout",
     "output_type": "stream",
     "text": [
      "genes-of-protein\n",
      "(genes-of-protein '|CPLX0-7660| )\n",
      "(with-organism (:org-id '|ECOLI|) (genes-of-protein '|CPLX0-7660| ))\n",
      "genes-of-protein\n",
      "(genes-of-protein '|CPLX0-8247| )\n",
      "(with-organism (:org-id '|ECOLI|) (genes-of-protein '|CPLX0-8247| ))\n",
      "[[u'|G6106|'], [u'|EG12129|']]\n",
      "genes-of-protein\n",
      "(genes-of-protein '|OPPC-MONOMER| )\n",
      "(with-organism (:org-id '|ECOLI|) (genes-of-protein '|OPPC-MONOMER| ))\n",
      "genes-of-protein\n",
      "(genes-of-protein '|YHBN-MONOMER| )\n",
      "(with-organism (:org-id '|ECOLI|) (genes-of-protein '|YHBN-MONOMER| ))\n",
      "[[u'|EG10676|'], [u'|G7665|']]\n"
     ]
    }
   ],
   "source": [
    "lst = []\n",
    "for protein in complexes:\n",
    "    lst.append(ecoli.genes_of_protein(protein = protein))\n",
    "print(lst[-10:])\n",
    "\n",
    "lst = []\n",
    "for protein in proteins:\n",
    "    lst.append(ecoli.genes_of_protein(protein = protein))\n",
    "print(lst[-10:])"
   ]
  },
  {
   "cell_type": "code",
   "execution_count": 21,
   "metadata": {},
   "outputs": [
    {
     "name": "stdout",
     "output_type": "stream",
     "text": [
      "genes-of-proteins\n",
      "(genes-of-proteins '(|CPLX0-7660|) )\n",
      "(with-organism (:org-id '|ECOLI|) (genes-of-proteins '(|CPLX0-7660|) ))\n",
      "genes-of-proteins\n",
      "(genes-of-proteins '(|CPLX0-8247|) )\n",
      "(with-organism (:org-id '|ECOLI|) (genes-of-proteins '(|CPLX0-8247|) ))\n",
      "[[u'|G6106|'], [u'|EG12129|']]\n",
      "genes-of-proteins\n",
      "(genes-of-proteins '(|OPPC-MONOMER|) )\n",
      "(with-organism (:org-id '|ECOLI|) (genes-of-proteins '(|OPPC-MONOMER|) ))\n",
      "genes-of-proteins\n",
      "(genes-of-proteins '(|YHBN-MONOMER|) )\n",
      "(with-organism (:org-id '|ECOLI|) (genes-of-proteins '(|YHBN-MONOMER|) ))\n",
      "[[u'|EG10676|'], [u'|G7665|']]\n"
     ]
    }
   ],
   "source": [
    "lst = []\n",
    "for protein in complexes:\n",
    "    lst.append(ecoli.genes_of_proteins(prots = protein))\n",
    "print(lst[-10:])\n",
    "\n",
    "lst = []\n",
    "for protein in proteins:\n",
    "    lst.append(ecoli.genes_of_proteins(prots = protein))\n",
    "print(lst[-10:])"
   ]
  },
  {
   "cell_type": "code",
   "execution_count": 22,
   "metadata": {},
   "outputs": [
    {
     "name": "stdout",
     "output_type": "stream",
     "text": [
      "reactions-of-enzyme\n",
      "(reactions-of-enzyme '|CPLX0-7660| :include-subreactions? t)\n",
      "(with-organism (:org-id '|ECOLI|) (reactions-of-enzyme '|CPLX0-7660| :include-subreactions? t))\n",
      "reactions-of-enzyme\n",
      "(reactions-of-enzyme '|CPLX0-8247| :include-subreactions? t)\n",
      "(with-organism (:org-id '|ECOLI|) (reactions-of-enzyme '|CPLX0-8247| :include-subreactions? t))\n",
      "[[u'|RXN0-4301|'], [u'|TRANS-RXN-132|']]\n",
      "reactions-of-enzyme\n",
      "(reactions-of-enzyme '|OPPC-MONOMER| )\n",
      "(with-organism (:org-id '|ECOLI|) (reactions-of-enzyme '|OPPC-MONOMER| ))\n",
      "reactions-of-enzyme\n",
      "(reactions-of-enzyme '|YHBN-MONOMER| )\n",
      "(with-organism (:org-id '|ECOLI|) (reactions-of-enzyme '|YHBN-MONOMER| ))\n",
      "[[], []]\n"
     ]
    }
   ],
   "source": [
    "\"\"\"\n",
    "protein\n",
    "An instance of the class |Proteins|. \n",
    "kb\n",
    "Keyword, Optional The KB object of the KB in which to find the associated \n",
    "reactions. Defaults to the current PGDB. \n",
    "include-specific-forms?\n",
    "Keyword, Optional When true, specific forms of associated generic reactions are \n",
    "also returned. Default value is true. \n",
    "\"\"\"\n",
    "\n",
    "lst = []\n",
    "for protein in complexes:\n",
    "    lst.append(ecoli.reactions_of_enzyme(protein = protein, include_subreactions = True))\n",
    "print(lst[-10:])\n",
    "\n",
    "lst = []\n",
    "for protein in proteins:\n",
    "    lst.append(ecoli.reactions_of_enzyme(protein = protein))\n",
    "print(lst[-10:])"
   ]
  },
  {
   "cell_type": "code",
   "execution_count": 23,
   "metadata": {},
   "outputs": [
    {
     "name": "stdout",
     "output_type": "stream",
     "text": [
      "species-of-protein\n",
      "(species-of-protein '|CPLX0-7660| )\n",
      "(with-organism (:org-id '|ECOLI|) (species-of-protein '|CPLX0-7660| ))\n",
      "species-of-protein\n",
      "(species-of-protein '|CPLX0-8247| )\n",
      "(with-organism (:org-id '|ECOLI|) (species-of-protein '|CPLX0-8247| ))\n",
      "[[u'|ECOLI|'], [u'|ECOLI|']]\n",
      "species-of-protein\n",
      "(species-of-protein '|OPPC-MONOMER| )\n",
      "(with-organism (:org-id '|ECOLI|) (species-of-protein '|OPPC-MONOMER| ))\n",
      "species-of-protein\n",
      "(species-of-protein '|YHBN-MONOMER| )\n",
      "(with-organism (:org-id '|ECOLI|) (species-of-protein '|YHBN-MONOMER| ))\n",
      "[[u'|ECOLI|'], [u'|ECOLI|']]\n"
     ]
    }
   ],
   "source": [
    "lst = []\n",
    "for protein in complexes:\n",
    "    lst.append(ecoli.species_of_protein(protein = protein))\n",
    "print(lst[-10:])\n",
    "\n",
    "lst = []\n",
    "for protein in proteins:\n",
    "    lst.append(ecoli.species_of_protein(protein = protein))\n",
    "print(lst[-10:])"
   ]
  },
  {
   "cell_type": "code",
   "execution_count": 24,
   "metadata": {},
   "outputs": [
    {
     "name": "stdout",
     "output_type": "stream",
     "text": [
      "enzyme-p\n",
      "(enzyme-p '|CPLX0-7660| :any )\n",
      "(with-organism (:org-id '|ECOLI|) (enzyme-p '|CPLX0-7660| :any ))\n",
      "enzyme-p\n",
      "(enzyme-p '|CPLX0-8247| :any )\n",
      "(with-organism (:org-id '|ECOLI|) (enzyme-p '|CPLX0-8247| :any ))\n",
      "[True, True]\n",
      "enzyme-p\n",
      "(enzyme-p '|OPPC-MONOMER| :non-transport-non-pathway )\n",
      "(with-organism (:org-id '|ECOLI|) (enzyme-p '|OPPC-MONOMER| :non-transport-non-pathway ))\n",
      "enzyme-p\n",
      "(enzyme-p '|YHBN-MONOMER| :non-transport-non-pathway )\n",
      "(with-organism (:org-id '|ECOLI|) (enzyme-p '|YHBN-MONOMER| :non-transport-non-pathway ))\n",
      "[False, False]\n"
     ]
    }
   ],
   "source": [
    "\"\"\"\n",
    "type\n",
    "Optional Can take on one of the following values to select more precisely what \n",
    "is meant by an “enzyme”:\n",
    "\n",
    ":any\n",
    "Any protein that catalyzes a reaction is considered an enzyme. \n",
    ":chemical-change\n",
    "If the reactants and products of the catalyzed reactin differ, and not just by \n",
    "their cellular location, then the protein is considered an enzyme. \n",
    ":small-molecule\n",
    "If the reactants of the catalyzed reaction differ and are small molecules, then \n",
    "the protein is considered an enzyme. \n",
    ":transport\n",
    "If the protein catalyzes a transport reaction. \n",
    ":non-transport\n",
    "If the protein only catalyzes non-transport reactions. \n",
    "\"\"\"\n",
    "\n",
    "lst = []\n",
    "for protein in complexes:\n",
    "    lst.append(ecoli.enzyme_p(protein = protein, type_of_reactions = 'any'))\n",
    "print(lst[-10:])\n",
    "\n",
    "lst = []\n",
    "for protein in proteins:\n",
    "    lst.append(ecoli.enzyme_p(protein = protein, type_of_reactions = 'non-transport-non-pathway'))\n",
    "print(lst[-10:])"
   ]
  },
  {
   "cell_type": "code",
   "execution_count": 25,
   "metadata": {},
   "outputs": [
    {
     "name": "stdout",
     "output_type": "stream",
     "text": [
      "leader-peptide?\n",
      "(leader-peptide? '|CPLX0-7660| )\n",
      "(with-organism (:org-id '|ECOLI|) (leader-peptide? '|CPLX0-7660| ))\n"
     ]
    }
   ],
   "source": [
    "try:\n",
    "    lst = []\n",
    "    for protein in complexes:\n",
    "        lst.append(ecoli.leader_peptide_p(protein = protein))\n",
    "    print(lst[-10:])\n",
    "\n",
    "    lst = []\n",
    "    for protein in proteins:\n",
    "        lst.append(ecoli.leader_peptide_p(protein = protein))\n",
    "    print(lst[-10:])\n",
    "except:\n",
    "    pass"
   ]
  },
  {
   "cell_type": "code",
   "execution_count": 26,
   "metadata": {},
   "outputs": [
    {
     "name": "stdout",
     "output_type": "stream",
     "text": [
      "protein-p\n",
      "(protein-p '|CPLX0-7660| )\n",
      "(with-organism (:org-id '|ECOLI|) (protein-p '|CPLX0-7660| ))\n",
      "protein-p\n",
      "(protein-p '|CPLX0-8247| )\n",
      "(with-organism (:org-id '|ECOLI|) (protein-p '|CPLX0-8247| ))\n",
      "[u'|Proteins|', u'|Proteins|']\n",
      "protein-p\n",
      "(protein-p '|OPPC-MONOMER| )\n",
      "(with-organism (:org-id '|ECOLI|) (protein-p '|OPPC-MONOMER| ))\n",
      "protein-p\n",
      "(protein-p '|YHBN-MONOMER| )\n",
      "(with-organism (:org-id '|ECOLI|) (protein-p '|YHBN-MONOMER| ))\n",
      "[u'|Proteins|', u'|Proteins|']\n"
     ]
    }
   ],
   "source": [
    "lst = []\n",
    "for protein in complexes:\n",
    "    lst.append(ecoli.protein_p(protein))\n",
    "print(lst[-10:])\n",
    "\n",
    "lst = []\n",
    "for protein in proteins:\n",
    "    lst.append(ecoli.protein_p(protein))\n",
    "print(lst[-10:])"
   ]
  },
  {
   "cell_type": "code",
   "execution_count": 27,
   "metadata": {},
   "outputs": [
    {
     "name": "stdout",
     "output_type": "stream",
     "text": [
      "complex-p\n",
      "(complex-p '|CPLX0-7660| )\n",
      "(with-organism (:org-id '|ECOLI|) (complex-p '|CPLX0-7660| ))\n",
      "complex-p\n",
      "(complex-p '|CPLX0-8247| )\n",
      "(with-organism (:org-id '|ECOLI|) (complex-p '|CPLX0-8247| ))\n",
      "[u'|Protein-Complexes|', u'|Protein-Complexes|']\n",
      "complex-p\n",
      "(complex-p '|OPPC-MONOMER| )\n",
      "(with-organism (:org-id '|ECOLI|) (complex-p '|OPPC-MONOMER| ))\n",
      "complex-p\n",
      "(complex-p '|YHBN-MONOMER| )\n",
      "(with-organism (:org-id '|ECOLI|) (complex-p '|YHBN-MONOMER| ))\n",
      "[False, False]\n"
     ]
    }
   ],
   "source": [
    "lst = []\n",
    "for protein in complexes:\n",
    "    lst.append(ecoli.complex_p(protein))\n",
    "print(lst[-10:])\n",
    "\n",
    "lst = []\n",
    "for protein in proteins:\n",
    "    lst.append(ecoli.complex_p(protein))\n",
    "print(lst[-10:])"
   ]
  },
  {
   "cell_type": "code",
   "execution_count": 28,
   "metadata": {},
   "outputs": [
    {
     "name": "stdout",
     "output_type": "stream",
     "text": [
      "reactions-of-protein\n",
      "(reactions-of-protein '|CPLX0-7660| nil t )\n",
      "(with-organism (:org-id '|ECOLI|) (reactions-of-protein '|CPLX0-7660| nil t ))\n",
      "reactions-of-protein\n",
      "(reactions-of-protein '|CPLX0-8247| nil t )\n",
      "(with-organism (:org-id '|ECOLI|) (reactions-of-protein '|CPLX0-8247| nil t ))\n",
      "[[u'|RXN0-4301|'], [u'|TRANS-RXN-132|']]\n",
      "reactions-of-protein\n",
      "(reactions-of-protein '|OPPC-MONOMER| t nil )\n",
      "(with-organism (:org-id '|ECOLI|) (reactions-of-protein '|OPPC-MONOMER| t nil ))\n",
      "reactions-of-protein\n",
      "(reactions-of-protein '|YHBN-MONOMER| t nil )\n",
      "(with-organism (:org-id '|ECOLI|) (reactions-of-protein '|YHBN-MONOMER| t nil ))\n",
      "[[], []]\n"
     ]
    }
   ],
   "source": [
    "\"\"\"\n",
    "p\n",
    "An instance of the class |Proteins|. \n",
    "check-protein-components?\n",
    "Optional If true, check all components of this protein for catalyzed reactions. \n",
    "Defaults to true. \n",
    "check-protein-containers?\n",
    "Optional If true, check the containers and modified forms of the protein for \n",
    "catalyzed reactions. \n",
    "\"\"\"\n",
    "\n",
    "lst = []\n",
    "for protein in complexes:\n",
    "    lst.append(ecoli.reactions_of_protein(protein = protein, check_protein_containers = True))\n",
    "print(lst[-10:])\n",
    "\n",
    "lst = []\n",
    "for protein in proteins:\n",
    "    lst.append(ecoli.reactions_of_protein(protein = protein, check_protein_components = True))\n",
    "print(lst[-10:])"
   ]
  },
  {
   "cell_type": "code",
   "execution_count": 29,
   "metadata": {},
   "outputs": [
    {
     "name": "stdout",
     "output_type": "stream",
     "text": [
      "protein-in-compartment-p\n",
      "(protein-in-compartment-p '|CPLX0-7660| 'CCO-CYTOSOL )\n",
      "(with-organism (:org-id '|ECOLI|) (protein-in-compartment-p '|CPLX0-7660| 'CCO-CYTOSOL ))\n",
      "protein-in-compartment-p\n",
      "(protein-in-compartment-p '|CPLX0-8247| 'CCO-CYTOSOL )\n",
      "(with-organism (:org-id '|ECOLI|) (protein-in-compartment-p '|CPLX0-8247| 'CCO-CYTOSOL ))\n",
      "[False, False]\n",
      "protein-in-compartment-p\n",
      "(protein-in-compartment-p '|OPPC-MONOMER| '(CCO-CYTOSOL CCO-MEMBRANE) )\n",
      "(with-organism (:org-id '|ECOLI|) (protein-in-compartment-p '|OPPC-MONOMER| '(CCO-CYTOSOL CCO-MEMBRANE) ))\n",
      "protein-in-compartment-p\n",
      "(protein-in-compartment-p '|YHBN-MONOMER| '(CCO-CYTOSOL CCO-MEMBRANE) )\n",
      "(with-organism (:org-id '|ECOLI|) (protein-in-compartment-p '|YHBN-MONOMER| '(CCO-CYTOSOL CCO-MEMBRANE) ))\n",
      "[u'|CCI-CYTOSOL-GN|', False]\n"
     ]
    }
   ],
   "source": [
    "\"\"\"\n",
    "rxn\n",
    "An instance of the class |Reactions|. \n",
    "compartments\n",
    "A list of cellular compartments, as defined in the Cellular Components Ontology. \n",
    "See frame 'CCO. \n",
    "default-ok?\n",
    "Keyword, Optional If true, then we return true if the reaction has no associated \n",
    "compartment information, or one of its associated locations is a super-class of \n",
    "one of the members of the compartments argument. \n",
    "pwy\n",
    "Keyword, Optional If supplied, the search for associated enzymes of the argument \n",
    "rxn is limited to the given child of |Pathways|. \n",
    "loose?\n",
    "Keyword, Optional If true, then the compartments 'CCO‑CYTOPLASM and 'CCO‑CYTOSOL \n",
    "are treated as being the same compartment. \n",
    "\"\"\"\n",
    "\n",
    "lst = []\n",
    "for protein in complexes:\n",
    "    lst.append(ecoli.protein_in_compartment_p(rxn = protein, compartments = 'CCO-CYTOSOL'))\n",
    "print(lst[-10:])\n",
    "\n",
    "lst = []\n",
    "for protein in proteins:\n",
    "    lst.append(ecoli.protein_in_compartment_p(rxn = protein, compartments = ['CCO-CYTOSOL', 'CCO-MEMBRANE']))\n",
    "print(lst[-10:])"
   ]
  },
  {
   "cell_type": "code",
   "execution_count": 30,
   "metadata": {},
   "outputs": [
    {
     "name": "stdout",
     "output_type": "stream",
     "text": [
      "all-transporters-across\n",
      "(all-transporters-across  :membranes :all)\n",
      "(with-organism (:org-id '|ECOLI|) (all-transporters-across  :membranes :all))\n",
      "[u'|MTR-MONOMER|', u'|G7942-MONOMER|', u'|NANT-MONOMER|', u'|B1006-MONOMER|', u'|YDHE-MONOMER|', u'|YDEA-MONOMER|', u'|PITA-MONOMER|', u'|YEIM-MONOMER|', u'|BCR-MONOMER|', u'|YGFO-MONOMER|']\n"
     ]
    }
   ],
   "source": [
    "\"\"\"\n",
    "membranes\n",
    "Keyword Either :all or a list of instances of the class. Defaults to :all \n",
    "'CCO‑MEMBRANE. \n",
    "method\n",
    "Either :location or :reaction‑compartments. :location will check the 'locations \n",
    "slot, while :reaction‑compartments will examine the compartments of reaction \n",
    "substrates. Default value is :location. \n",
    "\"\"\"\n",
    "\n",
    "lst = ecoli.all_transporters_across(membranes = 'all')\n",
    "print(lst[-10:])"
   ]
  },
  {
   "cell_type": "code",
   "execution_count": 31,
   "metadata": {},
   "outputs": [
    {
     "name": "stdout",
     "output_type": "stream",
     "text": [
      "autocatalytic-reactions-of-enzyme\n",
      "(autocatalytic-reactions-of-enzyme '|CPLX0-7660| )\n",
      "(with-organism (:org-id '|ECOLI|) (autocatalytic-reactions-of-enzyme '|CPLX0-7660| ))\n",
      "autocatalytic-reactions-of-enzyme\n",
      "(autocatalytic-reactions-of-enzyme '|CPLX0-8247| )\n",
      "(with-organism (:org-id '|ECOLI|) (autocatalytic-reactions-of-enzyme '|CPLX0-8247| ))\n",
      "[[], []]\n",
      "autocatalytic-reactions-of-enzyme\n",
      "(autocatalytic-reactions-of-enzyme '|OPPC-MONOMER| )\n",
      "(with-organism (:org-id '|ECOLI|) (autocatalytic-reactions-of-enzyme '|OPPC-MONOMER| ))\n",
      "autocatalytic-reactions-of-enzyme\n",
      "(autocatalytic-reactions-of-enzyme '|YHBN-MONOMER| )\n",
      "(with-organism (:org-id '|ECOLI|) (autocatalytic-reactions-of-enzyme '|YHBN-MONOMER| ))\n",
      "[[], []]\n"
     ]
    }
   ],
   "source": [
    "lst = []\n",
    "for protein in complexes:\n",
    "    lst.append(ecoli.autocatalytic_reactions_of_enzyme(protein))\n",
    "print(lst[-10:])\n",
    "\n",
    "lst = []\n",
    "for protein in proteins:\n",
    "    lst.append(ecoli.autocatalytic_reactions_of_enzyme(protein))\n",
    "print(lst[-10:])"
   ]
  },
  {
   "cell_type": "code",
   "execution_count": null,
   "metadata": {},
   "outputs": [],
   "source": []
  }
 ],
 "metadata": {
  "kernelspec": {
   "display_name": "Python 2",
   "language": "python",
   "name": "python2"
  },
  "language_info": {
   "codemirror_mode": {
    "name": "ipython",
    "version": 2
   },
   "file_extension": ".py",
   "mimetype": "text/x-python",
   "name": "python",
   "nbconvert_exporter": "python",
   "pygments_lexer": "ipython2",
   "version": "2.7.15rc1"
  }
 },
 "nbformat": 4,
 "nbformat_minor": 2
}
