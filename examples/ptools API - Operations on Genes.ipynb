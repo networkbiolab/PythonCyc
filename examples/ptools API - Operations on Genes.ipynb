{
 "cells": [
  {
   "cell_type": "code",
   "execution_count": 1,
   "metadata": {},
   "outputs": [
    {
     "data": {
      "text/plain": [
       "0"
      ]
     },
     "execution_count": 1,
     "metadata": {},
     "output_type": "execute_result"
    }
   ],
   "source": [
    "#to run the script, you need to start pathway tools form the command line \n",
    "# using the -lisp -python options. Example (from the pathway tools github repository)\n",
    "import os\n",
    "# os.system('nohup /opt/pathway-tools/pathway-tools -lisp -python &')\n",
    "os.system('nohup /opt/pathway-tools/pathway-tools -lisp -python-local-only &') # added cybersecurity\n",
    "os.system('nohup /shared/D1/opt/pathway-tools/pathway-tools -lisp -python-local-only &') # added cybersecurity"
   ]
  },
  {
   "cell_type": "code",
   "execution_count": 2,
   "metadata": {},
   "outputs": [
    {
     "data": {
      "text/plain": [
       "['/home/glucksfall/Dropbox/modding-pythoncyc/PythonCyc']"
      ]
     },
     "execution_count": 2,
     "metadata": {},
     "output_type": "execute_result"
    }
   ],
   "source": [
    "# modify sys.path to recognize local pythoncyc\n",
    "import os\n",
    "import sys\n",
    "module_path = os.path.abspath(os.path.join('./PythonCyc/'))\n",
    "sys.path = [module_path]\n",
    "\n",
    "sys.path"
   ]
  },
  {
   "cell_type": "code",
   "execution_count": 3,
   "metadata": {},
   "outputs": [
    {
     "name": "stdout",
     "output_type": "stream",
     "text": [
      "[u'|META|', u'|ECOLI|']\n",
      "class-name-p\n",
      "(class-name-p \"genes\" )\n",
      "(with-organism (:org-id '|ECOLI|) (class-name-p \"genes\" ))\n",
      "get-frame-object\n",
      "(get-frame-object '|Genes| )\n",
      "(with-organism (:org-id '|ECOLI|) (get-frame-object '|Genes| ))\n",
      "get-class\n",
      "(get-class |Genes| )\n",
      "(with-organism (:org-id '|ECOLI|) (get-class |Genes| ))\n"
     ]
    }
   ],
   "source": [
    "# remove pyc files\n",
    "!rm ./PythonCyc/pythoncyc/*pyc\n",
    "\n",
    "import pythoncyc\n",
    "all_orgids = pythoncyc.all_orgids()\n",
    "print all_orgids\n",
    "\n",
    "meta = pythoncyc.select_organism(u'|META|')\n",
    "ecoli = pythoncyc.select_organism(u'|ECOLI|')\n",
    "genes = [x.frameid for x in ecoli.genes.instances][0:2]"
   ]
  },
  {
   "cell_type": "code",
   "execution_count": 4,
   "metadata": {},
   "outputs": [
    {
     "name": "stdout",
     "output_type": "stream",
     "text": [
      "gene-p\n",
      "(gene-p '|EG11414| )\n",
      "(with-organism (:org-id '|ECOLI|) (gene-p '|EG11414| ))\n",
      "gene-p\n",
      "(gene-p '|EG11127| )\n",
      "(with-organism (:org-id '|ECOLI|) (gene-p '|EG11127| ))\n",
      "[u'|Genes|', u'|Genes|']\n"
     ]
    }
   ],
   "source": [
    "lst = []\n",
    "for gene in genes:\n",
    "    lst.append(ecoli.gene_p(gene))\n",
    "print(lst[-10:])"
   ]
  },
  {
   "cell_type": "code",
   "execution_count": 5,
   "metadata": {},
   "outputs": [
    {
     "name": "stdout",
     "output_type": "stream",
     "text": [
      "enzymes-of-gene\n",
      "(enzymes-of-gene '|EG11414| )\n",
      "(with-organism (:org-id '|ECOLI|) (enzymes-of-gene '|EG11414| ))\n",
      "enzymes-of-gene\n",
      "(enzymes-of-gene '|EG11127| )\n",
      "(with-organism (:org-id '|ECOLI|) (enzymes-of-gene '|EG11127| ))\n",
      "[[], []]\n"
     ]
    }
   ],
   "source": [
    "lst = []\n",
    "for gene in genes:\n",
    "    lst.append(ecoli.enzymes_of_gene(gene))\n",
    "print(lst[-10:])"
   ]
  },
  {
   "cell_type": "code",
   "execution_count": 6,
   "metadata": {},
   "outputs": [
    {
     "name": "stdout",
     "output_type": "stream",
     "text": [
      "all-products-of-gene\n",
      "(all-products-of-gene '|EG11414| )\n",
      "(with-organism (:org-id '|ECOLI|) (all-products-of-gene '|EG11414| ))\n",
      "all-products-of-gene\n",
      "(all-products-of-gene '|EG11127| )\n",
      "(with-organism (:org-id '|ECOLI|) (all-products-of-gene '|EG11127| ))\n",
      "[[u'|EG11414-MONOMER|', u'|CPLX0-7910|', u'|CPLX0-3803|'], [u'|EG11127-MONOMER|']]\n"
     ]
    }
   ],
   "source": [
    "lst = []\n",
    "for gene in genes:\n",
    "    lst.append(ecoli.all_products_of_gene(gene))\n",
    "print(lst[-10:])"
   ]
  },
  {
   "cell_type": "code",
   "execution_count": 7,
   "metadata": {},
   "outputs": [
    {
     "name": "stdout",
     "output_type": "stream",
     "text": [
      "reactions-of-gene\n",
      "(reactions-of-gene '|EG11414| )\n",
      "(with-organism (:org-id '|ECOLI|) (reactions-of-gene '|EG11414| ))\n",
      "reactions-of-gene\n",
      "(reactions-of-gene '|EG11127| )\n",
      "(with-organism (:org-id '|ECOLI|) (reactions-of-gene '|EG11127| ))\n",
      "[[], []]\n"
     ]
    }
   ],
   "source": [
    "lst = []\n",
    "for gene in genes:\n",
    "    lst.append(ecoli.reactions_of_gene(gene))\n",
    "print(lst[-10:])"
   ]
  },
  {
   "cell_type": "code",
   "execution_count": 8,
   "metadata": {},
   "outputs": [
    {
     "name": "stdout",
     "output_type": "stream",
     "text": [
      "pathways-of-gene\n",
      "(pathways-of-gene '|EG11414| :include-super-pwys? t :include-gene-prod-as-substrate? t)\n",
      "(with-organism (:org-id '|ECOLI|) (pathways-of-gene '|EG11414| :include-super-pwys? t :include-gene-prod-as-substrate? t))\n",
      "pathways-of-gene\n",
      "(pathways-of-gene '|EG11127| :include-super-pwys? t :include-gene-prod-as-substrate? t)\n",
      "(with-organism (:org-id '|ECOLI|) (pathways-of-gene '|EG11127| :include-super-pwys? t :include-gene-prod-as-substrate? t))\n",
      "[[], []]\n"
     ]
    }
   ],
   "source": [
    "lst = []\n",
    "for gene in genes:\n",
    "    lst.append(ecoli.pathways_of_gene(gene, True, True))\n",
    "print(lst[-10:])"
   ]
  },
  {
   "cell_type": "code",
   "execution_count": 9,
   "metadata": {},
   "outputs": [
    {
     "name": "stdout",
     "output_type": "stream",
     "text": [
      "chromosome-of-gene\n",
      "(chromosome-of-gene '|EG11414| )\n",
      "(with-organism (:org-id '|ECOLI|) (chromosome-of-gene '|EG11414| ))\n",
      "chromosome-of-gene\n",
      "(chromosome-of-gene '|EG11127| )\n",
      "(with-organism (:org-id '|ECOLI|) (chromosome-of-gene '|EG11127| ))\n",
      "[u'|COLI-K12|', u'|COLI-K12|']\n"
     ]
    }
   ],
   "source": [
    "lst = []\n",
    "for gene in genes:\n",
    "    lst.append(ecoli.chromosome_of_gene(gene))\n",
    "print(lst[-10:])"
   ]
  },
  {
   "cell_type": "code",
   "execution_count": 10,
   "metadata": {},
   "outputs": [
    {
     "name": "stdout",
     "output_type": "stream",
     "text": [
      "unmodified-gene-product\n",
      "(unmodified-gene-product '|EG11414| )\n",
      "(with-organism (:org-id '|ECOLI|) (unmodified-gene-product '|EG11414| ))\n",
      "unmodified-gene-product\n",
      "(unmodified-gene-product '|EG11127| )\n",
      "(with-organism (:org-id '|ECOLI|) (unmodified-gene-product '|EG11127| ))\n",
      "[u'|EG11414-MONOMER|', u'|EG11127-MONOMER|']\n"
     ]
    }
   ],
   "source": [
    "lst = []\n",
    "for gene in genes:\n",
    "    lst.append(ecoli.unmodified_gene_product(gene))\n",
    "print(lst[-10:])"
   ]
  },
  {
   "cell_type": "code",
   "execution_count": 11,
   "metadata": {},
   "outputs": [
    {
     "name": "stdout",
     "output_type": "stream",
     "text": [
      "unmodified-gene-products\n",
      "(unmodified-gene-products '|EG11414| )\n",
      "(with-organism (:org-id '|ECOLI|) (unmodified-gene-products '|EG11414| ))\n",
      "unmodified-gene-products\n",
      "(unmodified-gene-products '|EG11127| )\n",
      "(with-organism (:org-id '|ECOLI|) (unmodified-gene-products '|EG11127| ))\n",
      "[[u'|EG11414-MONOMER|'], [u'|EG11127-MONOMER|']]\n"
     ]
    }
   ],
   "source": [
    "lst = []\n",
    "for gene in genes:\n",
    "    lst.append(ecoli.unmodified_gene_products(gene = gene))\n",
    "print(lst[-10:])"
   ]
  },
  {
   "cell_type": "code",
   "execution_count": 12,
   "metadata": {},
   "outputs": [
    {
     "name": "stdout",
     "output_type": "stream",
     "text": [
      "next-gene-on-replicon\n",
      "(next-gene-on-replicon '|EG11414| )\n",
      "(with-organism (:org-id '|ECOLI|) (next-gene-on-replicon '|EG11414| ))\n",
      "next-gene-on-replicon\n",
      "(next-gene-on-replicon '|EG11127| )\n",
      "(with-organism (:org-id '|ECOLI|) (next-gene-on-replicon '|EG11127| ))\n",
      "[u'|EG10850|', u'|EG11024|']\n"
     ]
    }
   ],
   "source": [
    "lst = []\n",
    "for gene in genes:\n",
    "    lst.append(ecoli.next_gene_on_replicon(gene = gene))\n",
    "print(lst[-10:])"
   ]
  },
  {
   "cell_type": "code",
   "execution_count": 13,
   "metadata": {},
   "outputs": [
    {
     "name": "stdout",
     "output_type": "stream",
     "text": [
      "previous-gene-on-replicon\n",
      "(previous-gene-on-replicon '|EG11414| )\n",
      "(with-organism (:org-id '|ECOLI|) (previous-gene-on-replicon '|EG11414| ))\n",
      "previous-gene-on-replicon\n",
      "(previous-gene-on-replicon '|EG11127| )\n",
      "(with-organism (:org-id '|ECOLI|) (previous-gene-on-replicon '|EG11127| ))\n",
      "[u'|G7950|', u'|EG11126|']\n"
     ]
    }
   ],
   "source": [
    "lst = []\n",
    "for gene in genes:\n",
    "    lst.append(ecoli.previous_gene_on_replicon(gene = gene))\n",
    "print(lst[-10:])"
   ]
  },
  {
   "cell_type": "code",
   "execution_count": 14,
   "metadata": {},
   "outputs": [
    {
     "name": "stdout",
     "output_type": "stream",
     "text": [
      "genes are the same.\n",
      "adjacent-genes?\n",
      "(adjacent-genes? '|EG11414| '|EG11127| )\n",
      "(with-organism (:org-id '|ECOLI|) (adjacent-genes? '|EG11414| '|EG11127| ))\n",
      "adjacent-genes?\n",
      "(adjacent-genes? '|EG11127| '|EG11414| )\n",
      "(with-organism (:org-id '|ECOLI|) (adjacent-genes? '|EG11127| '|EG11414| ))\n",
      "genes are the same.\n",
      "[None, False, False, None]\n"
     ]
    }
   ],
   "source": [
    "lst = []\n",
    "for gene1 in genes:\n",
    "    for gene2 in genes:\n",
    "        lst.append(ecoli.adjacent_genes_p(gene1, gene2))\n",
    "print(lst[-10:])"
   ]
  },
  {
   "cell_type": "code",
   "execution_count": 15,
   "metadata": {},
   "outputs": [
    {
     "name": "stdout",
     "output_type": "stream",
     "text": [
      "genes are the same.\n",
      "neighboring-genes-p\n",
      "(neighboring-genes-p '|EG11414| '|EG11127| 10 )\n",
      "(with-organism (:org-id '|ECOLI|) (neighboring-genes-p '|EG11414| '|EG11127| 10 ))\n",
      "neighboring-genes-p\n",
      "(neighboring-genes-p '|EG11127| '|EG11414| 10 )\n",
      "(with-organism (:org-id '|ECOLI|) (neighboring-genes-p '|EG11127| '|EG11414| 10 ))\n",
      "genes are the same.\n",
      "[None, False, False, None]\n"
     ]
    }
   ],
   "source": [
    "lst = []\n",
    "for gene1 in genes:\n",
    "    for gene2 in genes:\n",
    "        lst.append(ecoli.neighboring_genes_p(gene1, gene2))\n",
    "print(lst[-10:])"
   ]
  },
  {
   "cell_type": "code",
   "execution_count": 16,
   "metadata": {},
   "outputs": [
    {
     "name": "stdout",
     "output_type": "stream",
     "text": [
      "gene-clusters\n",
      "(gene-clusters '(|EG11414| |EG11127|) 4000 )\n",
      "(with-organism (:org-id '|ECOLI|) (gene-clusters '(|EG11414| |EG11127|) 4000 ))\n"
     ]
    },
    {
     "data": {
      "text/plain": [
       "{u'|EG11127|': [u'|EG11414|']}"
      ]
     },
     "execution_count": 16,
     "metadata": {},
     "output_type": "execute_result"
    }
   ],
   "source": [
    "ecoli.gene_clusters(genes, 4000)"
   ]
  },
  {
   "cell_type": "code",
   "execution_count": 17,
   "metadata": {},
   "outputs": [
    {
     "name": "stdout",
     "output_type": "stream",
     "text": [
      "rna-coding-gene?\n",
      "(rna-coding-gene? '|EG11414| )\n",
      "(with-organism (:org-id '|ECOLI|) (rna-coding-gene? '|EG11414| ))\n"
     ]
    }
   ],
   "source": [
    "try:\n",
    "    lst = []\n",
    "    for gene in genes:\n",
    "        lst.append(ecoli.rna_coding_gene(gene=gene))\n",
    "    print(lst[-10:])\n",
    "except:\n",
    "    pass"
   ]
  },
  {
   "cell_type": "code",
   "execution_count": 18,
   "metadata": {},
   "outputs": [
    {
     "name": "stdout",
     "output_type": "stream",
     "text": [
      "protein-coding-gene?\n",
      "(protein-coding-gene? '|EG11414| )\n",
      "(with-organism (:org-id '|ECOLI|) (protein-coding-gene? '|EG11414| ))\n"
     ]
    }
   ],
   "source": [
    "try:\n",
    "    lst = []\n",
    "    for gene in genes:\n",
    "        lst.append(ecoli.protein_coding_gene(gene=gene))\n",
    "    print(lst[-10:])\n",
    "except:\n",
    "    pass"
   ]
  },
  {
   "cell_type": "code",
   "execution_count": 19,
   "metadata": {},
   "outputs": [
    {
     "name": "stdout",
     "output_type": "stream",
     "text": [
      "pseudo-gene-p\n",
      "(pseudo-gene-p '|EG11414| )\n",
      "(with-organism (:org-id '|ECOLI|) (pseudo-gene-p '|EG11414| ))\n",
      "pseudo-gene-p\n",
      "(pseudo-gene-p '|EG11127| )\n",
      "(with-organism (:org-id '|ECOLI|) (pseudo-gene-p '|EG11127| ))\n",
      "[False, False]\n"
     ]
    }
   ],
   "source": [
    "lst = []\n",
    "for gene in genes:\n",
    "    lst.append(ecoli.pseudo_gene_p(gene=gene))\n",
    "print(lst[-10:])"
   ]
  },
  {
   "cell_type": "code",
   "execution_count": 20,
   "metadata": {},
   "outputs": [
    {
     "name": "stdout",
     "output_type": "stream",
     "text": [
      "phantom-gene-p\n",
      "(phantom-gene-p '|EG11414| )\n",
      "(with-organism (:org-id '|ECOLI|) (phantom-gene-p '|EG11414| ))\n",
      "phantom-gene-p\n",
      "(phantom-gene-p '|EG11127| )\n",
      "(with-organism (:org-id '|ECOLI|) (phantom-gene-p '|EG11127| ))\n",
      "[False, False]\n"
     ]
    }
   ],
   "source": [
    "lst = []\n",
    "for gene in genes:\n",
    "    lst.append(ecoli.phantom_gene_p(gene=gene))\n",
    "print(lst[-10:])"
   ]
  },
  {
   "cell_type": "code",
   "execution_count": 21,
   "metadata": {},
   "outputs": [
    {
     "name": "stdout",
     "output_type": "stream",
     "text": [
      "dna-binding-site-p\n",
      "(dna-binding-site-p '|EG11414| )\n",
      "(with-organism (:org-id '|ECOLI|) (dna-binding-site-p '|EG11414| ))\n",
      "dna-binding-site-p\n",
      "(dna-binding-site-p '|EG11127| )\n",
      "(with-organism (:org-id '|ECOLI|) (dna-binding-site-p '|EG11127| ))\n",
      "[False, False]\n"
     ]
    }
   ],
   "source": [
    "lst = []\n",
    "for gene in genes:\n",
    "    lst.append(ecoli.dna_binding_site_p(gene=gene))\n",
    "print(lst[-10:])"
   ]
  },
  {
   "cell_type": "code",
   "execution_count": 22,
   "metadata": {},
   "outputs": [
    {
     "name": "stdout",
     "output_type": "stream",
     "text": [
      "terminatorp\n",
      "(terminatorp '|EG11414| )\n",
      "(with-organism (:org-id '|ECOLI|) (terminatorp '|EG11414| ))\n",
      "terminatorp\n",
      "(terminatorp '|EG11127| )\n",
      "(with-organism (:org-id '|ECOLI|) (terminatorp '|EG11127| ))\n",
      "[False, False]\n"
     ]
    }
   ],
   "source": [
    "lst = []\n",
    "for gene in genes:\n",
    "    lst.append(ecoli.terminator_p(gene=gene))\n",
    "print(lst[-10:])"
   ]
  },
  {
   "cell_type": "code",
   "execution_count": 23,
   "metadata": {},
   "outputs": [
    {
     "name": "stdout",
     "output_type": "stream",
     "text": [
      "operon-of-gene\n",
      "(operon-of-gene '|EG11414| )\n",
      "(with-organism (:org-id '|ECOLI|) (operon-of-gene '|EG11414| ))\n",
      "operon-of-gene\n",
      "(operon-of-gene '|EG11127| )\n",
      "(with-organism (:org-id '|ECOLI|) (operon-of-gene '|EG11127| ))\n",
      "[[u'|TU0-14216|'], [u'|TU0-36408|', u'|TU0-36411|', u'|TU0-13193|']]\n"
     ]
    }
   ],
   "source": [
    "lst = []\n",
    "for gene in genes:\n",
    "    lst.append(ecoli.operon_of_gene(gene=gene))\n",
    "print(lst[-10:])"
   ]
  },
  {
   "cell_type": "code",
   "execution_count": 24,
   "metadata": {},
   "outputs": [
    {
     "name": "stdout",
     "output_type": "stream",
     "text": [
      "genes-in-same-operon\n",
      "(genes-in-same-operon '|EG11414| )\n",
      "(with-organism (:org-id '|ECOLI|) (genes-in-same-operon '|EG11414| ))\n",
      "genes-in-same-operon\n",
      "(genes-in-same-operon '|EG11127| )\n",
      "(with-organism (:org-id '|ECOLI|) (genes-in-same-operon '|EG11127| ))\n",
      "[[u'|EG12115|', u'|EG10850|', u'|EG11414|'], [u'|EG11125|', u'|EG11126|', u'|EG11127|']]\n"
     ]
    }
   ],
   "source": [
    "lst = []\n",
    "for gene in genes:\n",
    "    lst.append(ecoli.genes_in_same_operon(gene=gene))\n",
    "print(lst[-10:])"
   ]
  },
  {
   "cell_type": "code",
   "execution_count": 25,
   "metadata": {},
   "outputs": [
    {
     "name": "stdout",
     "output_type": "stream",
     "text": [
      "gene-transcription-units\n",
      "(gene-transcription-units '|EG11414| )\n",
      "(with-organism (:org-id '|ECOLI|) (gene-transcription-units '|EG11414| ))\n",
      "gene-transcription-units\n",
      "(gene-transcription-units '|EG11127| )\n",
      "(with-organism (:org-id '|ECOLI|) (gene-transcription-units '|EG11127| ))\n",
      "[[u'|TU0-14216|'], [u'|TU0-36408|', u'|TU0-13193|']]\n"
     ]
    }
   ],
   "source": [
    "lst = []\n",
    "for gene in genes:\n",
    "    lst.append(ecoli.gene_transcription_units(gene=gene))\n",
    "print(lst[-10:])"
   ]
  },
  {
   "cell_type": "code",
   "execution_count": 26,
   "metadata": {},
   "outputs": [
    {
     "name": "stdout",
     "output_type": "stream",
     "text": [
      "cotranscribed-genes\n",
      "(cotranscribed-genes '|EG11414| )\n",
      "(with-organism (:org-id '|ECOLI|) (cotranscribed-genes '|EG11414| ))\n",
      "cotranscribed-genes\n",
      "(cotranscribed-genes '|EG11127| )\n",
      "(with-organism (:org-id '|ECOLI|) (cotranscribed-genes '|EG11127| ))\n",
      "[[u'|EG12115|', u'|EG10850|'], [u'|EG11125|', u'|EG11126|']]\n"
     ]
    }
   ],
   "source": [
    "lst = []\n",
    "for gene in genes:\n",
    "    lst.append(ecoli.cotranscribed_genes(gene=gene))\n",
    "print(lst[-10:])"
   ]
  },
  {
   "cell_type": "code",
   "execution_count": 27,
   "metadata": {},
   "outputs": [
    {
     "name": "stdout",
     "output_type": "stream",
     "text": [
      "terminators-affecting-gene\n",
      "(terminators-affecting-gene '|EG11414| )\n",
      "(with-organism (:org-id '|ECOLI|) (terminators-affecting-gene '|EG11414| ))\n",
      "terminators-affecting-gene\n",
      "(terminators-affecting-gene '|EG11127| )\n",
      "(with-organism (:org-id '|ECOLI|) (terminators-affecting-gene '|EG11127| ))\n",
      "[[], []]\n"
     ]
    }
   ],
   "source": [
    "lst = []\n",
    "for gene in genes:\n",
    "    lst.append(ecoli.terminators_affecting_gene(gene=gene))\n",
    "print(lst[-10:])"
   ]
  },
  {
   "cell_type": "code",
   "execution_count": 28,
   "metadata": {},
   "outputs": [
    {
     "name": "stdout",
     "output_type": "stream",
     "text": [
      "chromosome-of-object\n",
      "(chromosome-of-object '|EG11414| )\n",
      "(with-organism (:org-id '|ECOLI|) (chromosome-of-object '|EG11414| ))\n",
      "chromosome-of-object\n",
      "(chromosome-of-object '|EG11127| )\n",
      "(with-organism (:org-id '|ECOLI|) (chromosome-of-object '|EG11127| ))\n",
      "[u'|COLI-K12|', u'|COLI-K12|']\n"
     ]
    }
   ],
   "source": [
    "lst = []\n",
    "for gene in genes:\n",
    "    lst.append(ecoli.chromosome_of_object(gene))\n",
    "print(lst[-10:])"
   ]
  },
  {
   "cell_type": "code",
   "execution_count": null,
   "metadata": {},
   "outputs": [],
   "source": []
  }
 ],
 "metadata": {
  "kernelspec": {
   "display_name": "Python 2",
   "language": "python",
   "name": "python2"
  },
  "language_info": {
   "codemirror_mode": {
    "name": "ipython",
    "version": 2
   },
   "file_extension": ".py",
   "mimetype": "text/x-python",
   "name": "python",
   "nbconvert_exporter": "python",
   "pygments_lexer": "ipython2",
   "version": "2.7.15rc1"
  }
 },
 "nbformat": 4,
 "nbformat_minor": 2
}
