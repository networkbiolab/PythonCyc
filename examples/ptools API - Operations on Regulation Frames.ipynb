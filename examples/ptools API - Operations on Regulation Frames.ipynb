{
 "cells": [
  {
   "cell_type": "code",
   "execution_count": 1,
   "metadata": {},
   "outputs": [
    {
     "data": {
      "text/plain": [
       "0"
      ]
     },
     "execution_count": 1,
     "metadata": {},
     "output_type": "execute_result"
    }
   ],
   "source": [
    "#to run the script, you need to start pathway tools form the command line \n",
    "# using the -lisp -python options. Example (from the pathway tools github repository)\n",
    "import os\n",
    "# os.system('nohup /opt/pathway-tools/pathway-tools -lisp -python &')\n",
    "os.system('nohup /opt/pathway-tools/pathway-tools -lisp -python-local-only &') # added cybersecurity\n",
    "os.system('nohup /shared/D1/opt/pathway-tools/pathway-tools -lisp -python-local-only &') # added cybersecurity"
   ]
  },
  {
   "cell_type": "code",
   "execution_count": 2,
   "metadata": {},
   "outputs": [
    {
     "data": {
      "text/plain": [
       "['/home/glucksfall/Dropbox/modding-pythoncyc/PythonCyc']"
      ]
     },
     "execution_count": 2,
     "metadata": {},
     "output_type": "execute_result"
    }
   ],
   "source": [
    "# modify sys.path to recognize local pythoncyc\n",
    "import os\n",
    "import sys\n",
    "module_path = os.path.abspath(os.path.join('./PythonCyc/'))\n",
    "sys.path = [module_path]\n",
    "\n",
    "sys.path"
   ]
  },
  {
   "cell_type": "code",
   "execution_count": 3,
   "metadata": {},
   "outputs": [
    {
     "name": "stdout",
     "output_type": "stream",
     "text": [
      "rm: cannot remove './PythonCyc/pythoncyc/*pyc': No such file or directory\n",
      "[u'|META|', u'|ECOLI|']\n",
      "class-name-p\n",
      "(class-name-p \"regulation\" )\n",
      "(with-organism (:org-id '|ECOLI|) (class-name-p \"regulation\" ))\n",
      "get-frame-object\n",
      "(get-frame-object '|Regulation| )\n",
      "(with-organism (:org-id '|ECOLI|) (get-frame-object '|Regulation| ))\n",
      "get-class\n",
      "(get-class |Regulation| )\n",
      "(with-organism (:org-id '|ECOLI|) (get-class |Regulation| ))\n",
      "class-name-p\n",
      "(class-name-p \"genes\" )\n",
      "(with-organism (:org-id '|ECOLI|) (class-name-p \"genes\" ))\n",
      "get-frame-object\n",
      "(get-frame-object '|Genes| )\n",
      "(with-organism (:org-id '|ECOLI|) (get-frame-object '|Genes| ))\n",
      "get-class\n",
      "(get-class |Genes| )\n",
      "(with-organism (:org-id '|ECOLI|) (get-class |Genes| ))\n",
      "class-name-p\n",
      "(class-name-p \"proteins\" )\n",
      "(with-organism (:org-id '|ECOLI|) (class-name-p \"proteins\" ))\n",
      "get-frame-object\n",
      "(get-frame-object '|Proteins| )\n",
      "(with-organism (:org-id '|ECOLI|) (get-frame-object '|Proteins| ))\n",
      "get-class\n",
      "(get-class |Proteins| )\n",
      "(with-organism (:org-id '|ECOLI|) (get-class |Proteins| ))\n",
      "class-name-p\n",
      "(class-name-p \"transcription_units\" )\n",
      "(with-organism (:org-id '|ECOLI|) (class-name-p \"transcription_units\" ))\n",
      "get-frame-object\n",
      "(get-frame-object '|Transcription-Units| )\n",
      "(with-organism (:org-id '|ECOLI|) (get-frame-object '|Transcription-Units| ))\n",
      "get-class\n",
      "(get-class |Transcription-Units| )\n",
      "(with-organism (:org-id '|ECOLI|) (get-class |Transcription-Units| ))\n",
      "class-name-p\n",
      "(class-name-p \"DNA_Binding_Sites\" )\n",
      "(with-organism (:org-id '|ECOLI|) (class-name-p \"DNA_Binding_Sites\" ))\n",
      "get-frame-object\n",
      "(get-frame-object '|DNA-Binding-Sites| )\n",
      "(with-organism (:org-id '|ECOLI|) (get-frame-object '|DNA-Binding-Sites| ))\n",
      "get-class\n",
      "(get-class |DNA-Binding-Sites| )\n",
      "(with-organism (:org-id '|ECOLI|) (get-class |DNA-Binding-Sites| ))\n",
      "class-name-p\n",
      "(class-name-p \"mRNA_Binding_Sites\" )\n",
      "(with-organism (:org-id '|ECOLI|) (class-name-p \"mRNA_Binding_Sites\" ))\n",
      "get-frame-object\n",
      "(get-frame-object '|mRNA-Binding-Sites| )\n",
      "(with-organism (:org-id '|ECOLI|) (get-frame-object '|mRNA-Binding-Sites| ))\n",
      "get-class\n",
      "(get-class |mRNA-Binding-Sites| )\n",
      "(with-organism (:org-id '|ECOLI|) (get-class |mRNA-Binding-Sites| ))\n",
      "class-name-p\n",
      "(class-name-p \"Terminators\" )\n",
      "(with-organism (:org-id '|ECOLI|) (class-name-p \"Terminators\" ))\n",
      "get-frame-object\n",
      "(get-frame-object '|Terminators| )\n",
      "(with-organism (:org-id '|ECOLI|) (get-frame-object '|Terminators| ))\n",
      "get-class\n",
      "(get-class |Terminators| )\n",
      "(with-organism (:org-id '|ECOLI|) (get-class |Terminators| ))\n",
      "class-name-p\n",
      "(class-name-p \"Promoters\" )\n",
      "(with-organism (:org-id '|ECOLI|) (class-name-p \"Promoters\" ))\n",
      "get-frame-object\n",
      "(get-frame-object '|Promoters| )\n",
      "(with-organism (:org-id '|ECOLI|) (get-frame-object '|Promoters| ))\n",
      "get-class\n",
      "(get-class |Promoters| )\n",
      "(with-organism (:org-id '|ECOLI|) (get-class |Promoters| ))\n"
     ]
    }
   ],
   "source": [
    "# remove pyc files\n",
    "!rm ./PythonCyc/pythoncyc/*pyc\n",
    "\n",
    "import pythoncyc\n",
    "all_orgids = pythoncyc.all_orgids()\n",
    "print all_orgids\n",
    "\n",
    "meta = pythoncyc.select_organism(u'|META|')\n",
    "ecoli = pythoncyc.select_organism(u'|ECOLI|')\n",
    "\n",
    "regs = [x.frameid for x in ecoli.regulation.instances][0:2]\n",
    "genes = [x.frameid for x in ecoli.genes.instances][0:2]\n",
    "proteins = [x.frameid for x in ecoli.proteins.instances][0:2]\n",
    "tus = [x.frameid for x in ecoli.transcription_units.instances][0:2]\n",
    "dna_sites = [x.frameid for x in ecoli.DNA_Binding_Sites.instances][0:2]\n",
    "mrna_sites = [x.frameid for x in ecoli.mRNA_Binding_Sites.instances][0:2]\n",
    "terminators = [x.frameid for x in ecoli.Terminators.instances][0:2]\n",
    "promoters = [x.frameid for x in ecoli.Promoters.instances][0:2]"
   ]
  },
  {
   "cell_type": "code",
   "execution_count": 4,
   "metadata": {},
   "outputs": [
    {
     "name": "stdout",
     "output_type": "stream",
     "text": [
      "activation-p\n",
      "(activation-p '|REG0-5116| )\n",
      "(with-organism (:org-id '|ECOLI|) (activation-p '|REG0-5116| ))\n",
      "activation-p\n",
      "(activation-p '|REG0-5024| )\n",
      "(with-organism (:org-id '|ECOLI|) (activation-p '|REG0-5024| ))\n",
      "[True, False]\n"
     ]
    }
   ],
   "source": [
    "lst = []\n",
    "for reg in regs:\n",
    "    lst.append(ecoli.activation_p(reg))\n",
    "print(lst[-10:])"
   ]
  },
  {
   "cell_type": "code",
   "execution_count": 5,
   "metadata": {},
   "outputs": [
    {
     "name": "stdout",
     "output_type": "stream",
     "text": [
      "inhibition-p\n",
      "(inhibition-p '|REG0-5116| )\n",
      "(with-organism (:org-id '|ECOLI|) (inhibition-p '|REG0-5116| ))\n",
      "inhibition-p\n",
      "(inhibition-p '|REG0-5024| )\n",
      "(with-organism (:org-id '|ECOLI|) (inhibition-p '|REG0-5024| ))\n",
      "[False, True]\n"
     ]
    }
   ],
   "source": [
    "lst = []\n",
    "for reg in regs:\n",
    "    lst.append(ecoli.inhibition_p(reg))\n",
    "print(lst[-10:])"
   ]
  },
  {
   "cell_type": "code",
   "execution_count": 6,
   "metadata": {},
   "outputs": [
    {
     "name": "stdout",
     "output_type": "stream",
     "text": [
      "direct-regulators\n",
      "(direct-regulators '|EG11414| )\n",
      "(with-organism (:org-id '|ECOLI|) (direct-regulators '|EG11414| ))\n",
      "direct-regulators\n",
      "(direct-regulators '|EG11127| )\n",
      "(with-organism (:org-id '|ECOLI|) (direct-regulators '|EG11127| ))\n",
      "[[], []]\n"
     ]
    }
   ],
   "source": [
    "lst = []\n",
    "for gene in genes:\n",
    "    lst.append(ecoli.direct_regulators(gene))\n",
    "print(lst[-10:])"
   ]
  },
  {
   "cell_type": "code",
   "execution_count": 7,
   "metadata": {},
   "outputs": [
    {
     "name": "stdout",
     "output_type": "stream",
     "text": [
      "direct-activators\n",
      "(direct-activators '|EG11414| )\n",
      "(with-organism (:org-id '|ECOLI|) (direct-activators '|EG11414| ))\n",
      "direct-activators\n",
      "(direct-activators '|EG11127| )\n",
      "(with-organism (:org-id '|ECOLI|) (direct-activators '|EG11127| ))\n",
      "[[], []]\n"
     ]
    }
   ],
   "source": [
    "lst = []\n",
    "for gene in genes:\n",
    "    lst.append(ecoli.direct_activators(gene))\n",
    "print(lst[-10:])"
   ]
  },
  {
   "cell_type": "code",
   "execution_count": 8,
   "metadata": {},
   "outputs": [
    {
     "name": "stdout",
     "output_type": "stream",
     "text": [
      "direct-inhibitors\n",
      "(direct-inhibitors '|EG11414| )\n",
      "(with-organism (:org-id '|ECOLI|) (direct-inhibitors '|EG11414| ))\n",
      "direct-inhibitors\n",
      "(direct-inhibitors '|EG11127| )\n",
      "(with-organism (:org-id '|ECOLI|) (direct-inhibitors '|EG11127| ))\n",
      "[[], []]\n"
     ]
    }
   ],
   "source": [
    "lst = []\n",
    "for gene in genes:\n",
    "    lst.append(ecoli.direct_inhibitors(gene))\n",
    "print(lst[-10:])"
   ]
  },
  {
   "cell_type": "code",
   "execution_count": 9,
   "metadata": {},
   "outputs": [
    {
     "name": "stdout",
     "output_type": "stream",
     "text": [
      "transcription-factor?\n",
      "(transcription-factor? '|OPPC-MONOMER| )\n",
      "(with-organism (:org-id '|ECOLI|) (transcription-factor? '|OPPC-MONOMER| ))\n"
     ]
    }
   ],
   "source": [
    "try:\n",
    "    lst = []\n",
    "    for protein in proteins:\n",
    "        lst.append(ecoli.transcription_factor_p(protein))\n",
    "    print(lst[-10:])\n",
    "except:\n",
    "    pass"
   ]
  },
  {
   "cell_type": "code",
   "execution_count": 10,
   "metadata": {},
   "outputs": [
    {
     "name": "stdout",
     "output_type": "stream",
     "text": [
      "regulator-of-type?\n",
      "(regulator-of-type? '|OPPC-MONOMER| :activator )\n",
      "(with-organism (:org-id '|ECOLI|) (regulator-of-type? '|OPPC-MONOMER| :activator ))\n"
     ]
    }
   ],
   "source": [
    "try:\n",
    "    lst = []\n",
    "    for protein in proteins:\n",
    "        lst.append(ecoli.regulator_of_type(protein, class_name = ':activator'))\n",
    "    print(lst[-10:])\n",
    "except:\n",
    "    pass"
   ]
  },
  {
   "cell_type": "code",
   "execution_count": 11,
   "metadata": {},
   "outputs": [
    {
     "name": "stdout",
     "output_type": "stream",
     "text": [
      "regulon-of-protein\n",
      "(regulon-of-protein '|OPPC-MONOMER| )\n",
      "(with-organism (:org-id '|ECOLI|) (regulon-of-protein '|OPPC-MONOMER| ))\n",
      "regulon-of-protein\n",
      "(regulon-of-protein '|YHBN-MONOMER| )\n",
      "(with-organism (:org-id '|ECOLI|) (regulon-of-protein '|YHBN-MONOMER| ))\n",
      "[[], []]\n"
     ]
    }
   ],
   "source": [
    "lst = []\n",
    "for protein in proteins:\n",
    "    lst.append(ecoli.regulon_of_protein(protein))\n",
    "print(lst[-10:])"
   ]
  },
  {
   "cell_type": "code",
   "execution_count": 12,
   "metadata": {},
   "outputs": [
    {
     "name": "stdout",
     "output_type": "stream",
     "text": [
      "regulation-frame-transcription-units\n",
      "(regulation-frame-transcription-units '|REG0-5116| )\n",
      "(with-organism (:org-id '|ECOLI|) (regulation-frame-transcription-units '|REG0-5116| ))\n",
      "regulation-frame-transcription-units\n",
      "(regulation-frame-transcription-units '|REG0-5024| )\n",
      "(with-organism (:org-id '|ECOLI|) (regulation-frame-transcription-units '|REG0-5024| ))\n",
      "[[u'|TU162|'], [u'|TU461|']]\n"
     ]
    }
   ],
   "source": [
    "lst = []\n",
    "for reg in regs:\n",
    "    lst.append(ecoli.regulation_frame_transcription_units(reg))\n",
    "print(lst[-10:])"
   ]
  },
  {
   "cell_type": "code",
   "execution_count": 13,
   "metadata": {},
   "outputs": [
    {
     "name": "stdout",
     "output_type": "stream",
     "text": [
      "transcription-unit-regulation-frames\n",
      "(transcription-unit-regulation-frames '|TU0-8814| )\n",
      "(with-organism (:org-id '|ECOLI|) (transcription-unit-regulation-frames '|TU0-8814| ))\n",
      "transcription-unit-regulation-frames\n",
      "(transcription-unit-regulation-frames '|TU0-8340| )\n",
      "(with-organism (:org-id '|ECOLI|) (transcription-unit-regulation-frames '|TU0-8340| ))\n",
      "[[], [u'|REG0-11053|', u'|REG0-11052|']]\n"
     ]
    }
   ],
   "source": [
    "lst = []\n",
    "for tu in tus:\n",
    "    lst.append(ecoli.transcription_unit_regulation_frames(tu))\n",
    "print(lst[-10:])"
   ]
  },
  {
   "cell_type": "code",
   "execution_count": 14,
   "metadata": {},
   "outputs": [
    {
     "name": "stdout",
     "output_type": "stream",
     "text": [
      "transcription-unit-activation-frames\n",
      "(transcription-unit-activation-frames '|TU0-8814| )\n",
      "(with-organism (:org-id '|ECOLI|) (transcription-unit-activation-frames '|TU0-8814| ))\n",
      "transcription-unit-activation-frames\n",
      "(transcription-unit-activation-frames '|TU0-8340| )\n",
      "(with-organism (:org-id '|ECOLI|) (transcription-unit-activation-frames '|TU0-8340| ))\n",
      "[[], []]\n"
     ]
    }
   ],
   "source": [
    "lst = []\n",
    "for tu in tus:\n",
    "    lst.append(ecoli.transcription_unit_activation_frames(tu))\n",
    "print(lst[-10:])"
   ]
  },
  {
   "cell_type": "code",
   "execution_count": 15,
   "metadata": {},
   "outputs": [
    {
     "name": "stdout",
     "output_type": "stream",
     "text": [
      "transcription-unit-inhibition-frames\n",
      "(transcription-unit-inhibition-frames '|TU0-8814| )\n",
      "(with-organism (:org-id '|ECOLI|) (transcription-unit-inhibition-frames '|TU0-8814| ))\n",
      "transcription-unit-inhibition-frames\n",
      "(transcription-unit-inhibition-frames '|TU0-8340| )\n",
      "(with-organism (:org-id '|ECOLI|) (transcription-unit-inhibition-frames '|TU0-8340| ))\n",
      "[[], [u'|REG0-11053|', u'|REG0-11052|']]\n"
     ]
    }
   ],
   "source": [
    "lst = []\n",
    "for tu in tus:\n",
    "    lst.append(ecoli.transcription_unit_inhibition_frames(tu))\n",
    "print(lst[-10:])"
   ]
  },
  {
   "cell_type": "code",
   "execution_count": 16,
   "metadata": {},
   "outputs": [
    {
     "name": "stdout",
     "output_type": "stream",
     "text": [
      "transcription-units-of-protein\n",
      "(transcription-units-of-protein '|OPPC-MONOMER| )\n",
      "(with-organism (:org-id '|ECOLI|) (transcription-units-of-protein '|OPPC-MONOMER| ))\n",
      "transcription-units-of-protein\n",
      "(transcription-units-of-protein '|YHBN-MONOMER| )\n",
      "(with-organism (:org-id '|ECOLI|) (transcription-units-of-protein '|YHBN-MONOMER| ))\n",
      "[[], []]\n"
     ]
    }
   ],
   "source": [
    "lst = []\n",
    "for protein in proteins:\n",
    "    lst.append(ecoli.transcription_units_of_protein(protein))\n",
    "print(lst[-10:])"
   ]
  },
  {
   "cell_type": "code",
   "execution_count": 17,
   "metadata": {},
   "outputs": [
    {
     "name": "stdout",
     "output_type": "stream",
     "text": [
      "genes-regulated-by-protein\n",
      "(genes-regulated-by-protein '|OPPC-MONOMER| )\n",
      "(with-organism (:org-id '|ECOLI|) (genes-regulated-by-protein '|OPPC-MONOMER| ))\n",
      "genes-regulated-by-protein\n",
      "(genes-regulated-by-protein '|YHBN-MONOMER| )\n",
      "(with-organism (:org-id '|ECOLI|) (genes-regulated-by-protein '|YHBN-MONOMER| ))\n",
      "[[], []]\n"
     ]
    }
   ],
   "source": [
    "lst = []\n",
    "for protein in proteins:\n",
    "    lst.append(ecoli.genes_regulated_by_protein(protein))\n",
    "print(lst[-10:])"
   ]
  },
  {
   "cell_type": "code",
   "execution_count": 18,
   "metadata": {},
   "outputs": [
    {
     "name": "stdout",
     "output_type": "stream",
     "text": [
      "DNA-binding-sites-of-protein\n",
      "(DNA-binding-sites-of-protein '|OPPC-MONOMER| :all-forms? t)\n",
      "(with-organism (:org-id '|ECOLI|) (DNA-binding-sites-of-protein '|OPPC-MONOMER| :all-forms? t))\n",
      "DNA-binding-sites-of-protein\n",
      "(DNA-binding-sites-of-protein '|YHBN-MONOMER| :all-forms? t)\n",
      "(with-organism (:org-id '|ECOLI|) (DNA-binding-sites-of-protein '|YHBN-MONOMER| :all-forms? t))\n",
      "[[], []]\n"
     ]
    }
   ],
   "source": [
    "lst = []\n",
    "for protein in proteins:\n",
    "    lst.append(ecoli.DNA_binding_sites_of_protein(protein, all_forms = True))\n",
    "print(lst[-10:])"
   ]
  },
  {
   "cell_type": "code",
   "execution_count": 19,
   "metadata": {},
   "outputs": [
    {
     "name": "stdout",
     "output_type": "stream",
     "text": [
      "regulator-proteins-of-transcription-unit\n",
      "(regulator-proteins-of-transcription-unit '|TU0-8814| )\n",
      "(with-organism (:org-id '|ECOLI|) (regulator-proteins-of-transcription-unit '|TU0-8814| ))\n",
      "regulator-proteins-of-transcription-unit\n",
      "(regulator-proteins-of-transcription-unit '|TU0-8340| )\n",
      "(with-organism (:org-id '|ECOLI|) (regulator-proteins-of-transcription-unit '|TU0-8340| ))\n",
      "[[], [u'|PD01379|']]\n"
     ]
    }
   ],
   "source": [
    "lst = []\n",
    "for tu in tus:\n",
    "    lst.append(ecoli.regulator_proteins_of_transcription_unit(tu))\n",
    "print(lst[-10:])"
   ]
  },
  {
   "cell_type": "code",
   "execution_count": 20,
   "metadata": {},
   "outputs": [
    {
     "name": "stdout",
     "output_type": "stream",
     "text": [
      "transcription-factor-ligands\n",
      "(transcription-factor-ligands '|OPPC-MONOMER| ::both )\n",
      "(with-organism (:org-id '|ECOLI|) (transcription-factor-ligands '|OPPC-MONOMER| ::both ))\n"
     ]
    }
   ],
   "source": [
    "try:\n",
    "    lst = []\n",
    "    for protein in proteins:\n",
    "        lst.append(ecoli.transcription_factor_ligands(protein, u':both'))\n",
    "    print(lst[-10:])\n",
    "except:\n",
    "    pass"
   ]
  },
  {
   "cell_type": "code",
   "execution_count": 21,
   "metadata": {},
   "outputs": [
    {
     "name": "stdout",
     "output_type": "stream",
     "text": [
      "transcription-factor-active-forms\n",
      "(transcription-factor-active-forms '|OPPC-MONOMER| )\n",
      "(with-organism (:org-id '|ECOLI|) (transcription-factor-active-forms '|OPPC-MONOMER| ))\n",
      "transcription-factor-active-forms\n",
      "(transcription-factor-active-forms '|YHBN-MONOMER| )\n",
      "(with-organism (:org-id '|ECOLI|) (transcription-factor-active-forms '|YHBN-MONOMER| ))\n",
      "[[], []]\n"
     ]
    }
   ],
   "source": [
    "lst = []\n",
    "for protein in proteins:\n",
    "    lst.append(ecoli.transcription_factor_active_forms(protein))\n",
    "print(lst[-10:])"
   ]
  },
  {
   "cell_type": "code",
   "execution_count": 22,
   "metadata": {},
   "outputs": [
    {
     "name": "stdout",
     "output_type": "stream",
     "text": [
      "genes-regulating-gene\n",
      "(genes-regulating-gene '|EG11414| )\n",
      "(with-organism (:org-id '|ECOLI|) (genes-regulating-gene '|EG11414| ))\n",
      "genes-regulating-gene\n",
      "(genes-regulating-gene '|EG11127| )\n",
      "(with-organism (:org-id '|ECOLI|) (genes-regulating-gene '|EG11127| ))\n",
      "[[], [u'|G6761|', u'|EG10457|']]\n"
     ]
    }
   ],
   "source": [
    "lst = []\n",
    "for gene in genes:\n",
    "    lst.append(ecoli.genes_regulating_gene(gene))\n",
    "print(lst[-10:])"
   ]
  },
  {
   "cell_type": "code",
   "execution_count": 23,
   "metadata": {},
   "outputs": [
    {
     "name": "stdout",
     "output_type": "stream",
     "text": [
      "genes-regulated-by-gene\n",
      "(genes-regulated-by-gene '|EG11414| )\n",
      "(with-organism (:org-id '|ECOLI|) (genes-regulated-by-gene '|EG11414| ))\n",
      "genes-regulated-by-gene\n",
      "(genes-regulated-by-gene '|EG11127| )\n",
      "(with-organism (:org-id '|ECOLI|) (genes-regulated-by-gene '|EG11127| ))\n",
      "[[], []]\n"
     ]
    }
   ],
   "source": [
    "lst = []\n",
    "for gene in genes:\n",
    "    lst.append(ecoli.genes_regulated_by_gene(gene))\n",
    "print(lst[-10:])"
   ]
  },
  {
   "cell_type": "code",
   "execution_count": 24,
   "metadata": {},
   "outputs": [
    {
     "name": "stdout",
     "output_type": "stream",
     "text": [
      "regulators-of-gene\n",
      "(regulators-of-gene '|EG11414| :by-function? t)\n",
      "(with-organism (:org-id '|ECOLI|) (regulators-of-gene '|EG11414| :by-function? t))\n",
      "regulators-of-gene\n",
      "(regulators-of-gene '|EG11127| :by-function? t)\n",
      "(with-organism (:org-id '|ECOLI|) (regulators-of-gene '|EG11127| :by-function? t))\n",
      "[[None, None, None], [[u'|G6761-MONOMER|'], [u'|PD00288|'], None]]\n"
     ]
    }
   ],
   "source": [
    "lst = []\n",
    "for gene in genes:\n",
    "    lst.append(ecoli.regulators_of_gene_transcription(gene, by_function = True))\n",
    "print(lst[-10:])"
   ]
  },
  {
   "cell_type": "code",
   "execution_count": 25,
   "metadata": {},
   "outputs": [
    {
     "name": "stdout",
     "output_type": "stream",
     "text": [
      "transcription-unit-activators\n",
      "(transcription-unit-activators '|TU0-8814| )\n",
      "(with-organism (:org-id '|ECOLI|) (transcription-unit-activators '|TU0-8814| ))\n",
      "transcription-unit-activators\n",
      "(transcription-unit-activators '|TU0-8340| )\n",
      "(with-organism (:org-id '|ECOLI|) (transcription-unit-activators '|TU0-8340| ))\n",
      "[[], []]\n"
     ]
    }
   ],
   "source": [
    "lst = []\n",
    "for tu in tus:\n",
    "    lst.append(ecoli.transcription_unit_activators(tu))\n",
    "print(lst[-10:])"
   ]
  },
  {
   "cell_type": "code",
   "execution_count": 26,
   "metadata": {},
   "outputs": [
    {
     "name": "stdout",
     "output_type": "stream",
     "text": [
      "transcription-unit-inhibitors\n",
      "(transcription-unit-inhibitors '|TU0-8814| )\n",
      "(with-organism (:org-id '|ECOLI|) (transcription-unit-inhibitors '|TU0-8814| ))\n",
      "transcription-unit-inhibitors\n",
      "(transcription-unit-inhibitors '|TU0-8340| )\n",
      "(with-organism (:org-id '|ECOLI|) (transcription-unit-inhibitors '|TU0-8340| ))\n",
      "[[], [u'|PD01379|']]\n"
     ]
    }
   ],
   "source": [
    "lst = []\n",
    "for tu in tus:\n",
    "    lst.append(ecoli.transcription_unit_inhibitors(tu))\n",
    "print(lst[-10:])"
   ]
  },
  {
   "cell_type": "code",
   "execution_count": 27,
   "metadata": {},
   "outputs": [
    {
     "name": "stdout",
     "output_type": "stream",
     "text": [
      "regulators-of-operon-transcription\n",
      "(regulators-of-operon-transcription '(|TU0-8814|) t )\n",
      "(with-organism (:org-id '|ECOLI|) (regulators-of-operon-transcription '(|TU0-8814|) t ))\n",
      "regulators-of-operon-transcription\n",
      "(regulators-of-operon-transcription '(|TU0-8340|) t )\n",
      "(with-organism (:org-id '|ECOLI|) (regulators-of-operon-transcription '(|TU0-8340|) t ))\n",
      "[[None, None, None], [None, [u'|PD01379|'], None]]\n"
     ]
    }
   ],
   "source": [
    "lst = []\n",
    "for tu in tus:\n",
    "    lst.append(ecoli.regulators_of_operon_transcription(tu, by_function = True))\n",
    "print(lst[-10:])"
   ]
  },
  {
   "cell_type": "code",
   "execution_count": 28,
   "metadata": {},
   "outputs": [
    {
     "name": "stdout",
     "output_type": "stream",
     "text": [
      "transcription-unit-promoter\n",
      "(transcription-unit-promoter '|TU0-8814| )\n",
      "(with-organism (:org-id '|ECOLI|) (transcription-unit-promoter '|TU0-8814| ))\n",
      "transcription-unit-promoter\n",
      "(transcription-unit-promoter '|TU0-8340| )\n",
      "(with-organism (:org-id '|ECOLI|) (transcription-unit-promoter '|TU0-8340| ))\n",
      "[None, u'|PM0-8720|']\n"
     ]
    }
   ],
   "source": [
    "lst = []\n",
    "for tu in tus:\n",
    "    lst.append(ecoli.transcription_unit_promoter(tu))\n",
    "print(lst[-10:])"
   ]
  },
  {
   "cell_type": "code",
   "execution_count": 29,
   "metadata": {},
   "outputs": [
    {
     "name": "stdout",
     "output_type": "stream",
     "text": [
      "transcription-unit-genes\n",
      "(transcription-unit-genes '|TU0-8814| )\n",
      "(with-organism (:org-id '|ECOLI|) (transcription-unit-genes '|TU0-8814| ))\n",
      "transcription-unit-genes\n",
      "(transcription-unit-genes '|TU0-8340| )\n",
      "(with-organism (:org-id '|ECOLI|) (transcription-unit-genes '|TU0-8340| ))\n",
      "[[u'|G6954|'], [u'|EG11346|']]\n"
     ]
    }
   ],
   "source": [
    "lst = []\n",
    "for tu in tus:\n",
    "    lst.append(ecoli.transcription_unit_genes(tu))\n",
    "print(lst[-10:])"
   ]
  },
  {
   "cell_type": "code",
   "execution_count": 30,
   "metadata": {},
   "outputs": [
    {
     "name": "stdout",
     "output_type": "stream",
     "text": [
      "transcription-unit-first-gene\n",
      "(transcription-unit-first-gene '|TU0-8814| )\n",
      "(with-organism (:org-id '|ECOLI|) (transcription-unit-first-gene '|TU0-8814| ))\n",
      "transcription-unit-first-gene\n",
      "(transcription-unit-first-gene '|TU0-8340| )\n",
      "(with-organism (:org-id '|ECOLI|) (transcription-unit-first-gene '|TU0-8340| ))\n",
      "[u'|G6954|', u'|EG11346|']\n"
     ]
    }
   ],
   "source": [
    "lst = []\n",
    "for tu in tus:\n",
    "    lst.append(ecoli.transcription_unit_first_gene(tu))\n",
    "print(lst[-10:])"
   ]
  },
  {
   "cell_type": "code",
   "execution_count": 31,
   "metadata": {},
   "outputs": [
    {
     "name": "stdout",
     "output_type": "stream",
     "text": [
      "transcription-unit-binding-sites\n",
      "(transcription-unit-binding-sites '|TU0-8814| )\n",
      "(with-organism (:org-id '|ECOLI|) (transcription-unit-binding-sites '|TU0-8814| ))\n",
      "transcription-unit-binding-sites\n",
      "(transcription-unit-binding-sites '|TU0-8340| )\n",
      "(with-organism (:org-id '|ECOLI|) (transcription-unit-binding-sites '|TU0-8340| ))\n",
      "[[], [u'|BS0-8048|', u'|BS0-8047|']]\n"
     ]
    }
   ],
   "source": [
    "lst = []\n",
    "for tu in tus:\n",
    "    lst.append(ecoli.transcription_unit_binding_sites(tu))\n",
    "print(lst[-10:])"
   ]
  },
  {
   "cell_type": "code",
   "execution_count": 32,
   "metadata": {},
   "outputs": [
    {
     "name": "stdout",
     "output_type": "stream",
     "text": [
      "transcription-unit-transcription-factors\n",
      "(transcription-unit-transcription-factors '|TU0-8814| )\n",
      "(with-organism (:org-id '|ECOLI|) (transcription-unit-transcription-factors '|TU0-8814| ))\n",
      "transcription-unit-transcription-factors\n",
      "(transcription-unit-transcription-factors '|TU0-8340| )\n",
      "(with-organism (:org-id '|ECOLI|) (transcription-unit-transcription-factors '|TU0-8340| ))\n",
      "[[], [u'|PD01379|']]\n"
     ]
    }
   ],
   "source": [
    "lst = []\n",
    "for tu in tus:\n",
    "    lst.append(ecoli.transcription_unit_transcription_factors(tu))\n",
    "print(lst[-10:])"
   ]
  },
  {
   "cell_type": "code",
   "execution_count": 33,
   "metadata": {},
   "outputs": [
    {
     "name": "stdout",
     "output_type": "stream",
     "text": [
      "transcription-unit-mrna-binding-sites\n",
      "(transcription-unit-mrna-binding-sites '|TU0-8814| )\n",
      "(with-organism (:org-id '|ECOLI|) (transcription-unit-mrna-binding-sites '|TU0-8814| ))\n",
      "transcription-unit-mrna-binding-sites\n",
      "(transcription-unit-mrna-binding-sites '|TU0-8340| )\n",
      "(with-organism (:org-id '|ECOLI|) (transcription-unit-mrna-binding-sites '|TU0-8340| ))\n",
      "[[], []]\n"
     ]
    }
   ],
   "source": [
    "lst = []\n",
    "for tu in tus:\n",
    "    lst.append(ecoli.transcription_unit_mrna_binding_sites(tu))\n",
    "print(lst[-10:])"
   ]
  },
  {
   "cell_type": "code",
   "execution_count": 34,
   "metadata": {},
   "outputs": [
    {
     "name": "stdout",
     "output_type": "stream",
     "text": [
      "chromosome-of-operon\n",
      "(chromosome-of-operon '|TU0-8814| )\n",
      "(with-organism (:org-id '|ECOLI|) (chromosome-of-operon '|TU0-8814| ))\n",
      "chromosome-of-operon\n",
      "(chromosome-of-operon '|TU0-8340| )\n",
      "(with-organism (:org-id '|ECOLI|) (chromosome-of-operon '|TU0-8340| ))\n",
      "[u'|COLI-K12|', u'|COLI-K12|']\n"
     ]
    }
   ],
   "source": [
    "lst = []\n",
    "for tu in tus:\n",
    "    lst.append(ecoli.chromosome_of_operon(tu))\n",
    "print(lst[-10:])"
   ]
  },
  {
   "cell_type": "code",
   "execution_count": 35,
   "metadata": {},
   "outputs": [
    {
     "name": "stdout",
     "output_type": "stream",
     "text": [
      "binding-sites-affecting-gene\n",
      "(binding-sites-affecting-gene '|EG11414| )\n",
      "(with-organism (:org-id '|ECOLI|) (binding-sites-affecting-gene '|EG11414| ))\n",
      "binding-sites-affecting-gene\n",
      "(binding-sites-affecting-gene '|EG11127| )\n",
      "(with-organism (:org-id '|ECOLI|) (binding-sites-affecting-gene '|EG11127| ))\n",
      "[[], [u'|BS0-7937|', u'|BS0-7936|', u'|BS0-7935|', u'|BS0-7225|']]\n"
     ]
    }
   ],
   "source": [
    "lst = []\n",
    "for gene in genes:\n",
    "    lst.append(ecoli.binding_sites_affecting_gene(gene))\n",
    "print(lst[-10:])"
   ]
  },
  {
   "cell_type": "code",
   "execution_count": 36,
   "metadata": {},
   "outputs": [
    {
     "name": "stdout",
     "output_type": "stream",
     "text": [
      "binding-site->regulators\n",
      "(binding-site->regulators '|EG11414| )\n",
      "(with-organism (:org-id '|ECOLI|) (binding-site->regulators '|EG11414| ))\n",
      "binding-site->regulators\n",
      "(binding-site->regulators '|EG11127| )\n",
      "(with-organism (:org-id '|ECOLI|) (binding-site->regulators '|EG11127| ))\n",
      "[[], []]\n"
     ]
    }
   ],
   "source": [
    "lst = []\n",
    "for gene in genes:\n",
    "    lst.append(ecoli.binding_site_to_regulators(gene))\n",
    "print(lst[-10:])"
   ]
  },
  {
   "cell_type": "code",
   "execution_count": 37,
   "metadata": {},
   "outputs": [
    {
     "name": "stdout",
     "output_type": "stream",
     "text": [
      "binding-site->regulators\n",
      "(binding-site->regulators '|BS0-1683| )\n",
      "(with-organism (:org-id '|ECOLI|) (binding-site->regulators '|BS0-1683| ))\n",
      "binding-site->regulators\n",
      "(binding-site->regulators '|BS0-8256| )\n",
      "(with-organism (:org-id '|ECOLI|) (binding-site->regulators '|BS0-8256| ))\n",
      "[[u'|PHOSPHO-PHOB|'], [u'|CPLX0-7639|']]\n"
     ]
    }
   ],
   "source": [
    "lst = []\n",
    "for dna_site in dna_sites:\n",
    "    lst.append(ecoli.binding_site_to_regulators(dna_site))\n",
    "print(lst[-10:])"
   ]
  },
  {
   "cell_type": "code",
   "execution_count": 38,
   "metadata": {},
   "outputs": [
    {
     "name": "stdout",
     "output_type": "stream",
     "text": [
      "transcription-units-of-promoter\n",
      "(transcription-units-of-promoter '|PM0-10506| )\n",
      "(with-organism (:org-id '|ECOLI|) (transcription-units-of-promoter '|PM0-10506| ))\n",
      "transcription-units-of-promoter\n",
      "(transcription-units-of-promoter '|PM0-10035| )\n",
      "(with-organism (:org-id '|ECOLI|) (transcription-units-of-promoter '|PM0-10035| ))\n",
      "[[u'|TU0-13975|'], [u'|TU0-8636|']]\n"
     ]
    }
   ],
   "source": [
    "lst = []\n",
    "for promoter in promoters:\n",
    "    lst.append(ecoli.transcription_units_of_promoter(promoter))\n",
    "print(lst[-10:])"
   ]
  },
  {
   "cell_type": "code",
   "execution_count": 39,
   "metadata": {},
   "outputs": [
    {
     "name": "stdout",
     "output_type": "stream",
     "text": [
      "promoter-binding-sites\n",
      "(promoter-binding-sites '|PM0-10506| )\n",
      "(with-organism (:org-id '|ECOLI|) (promoter-binding-sites '|PM0-10506| ))\n",
      "promoter-binding-sites\n",
      "(promoter-binding-sites '|PM0-10035| )\n",
      "(with-organism (:org-id '|ECOLI|) (promoter-binding-sites '|PM0-10035| ))\n",
      "[[], []]\n"
     ]
    }
   ],
   "source": [
    "lst = []\n",
    "for promoter in promoters:\n",
    "    lst.append(ecoli.promoter_binding_sites(promoter))\n",
    "print(lst[-10:])"
   ]
  },
  {
   "cell_type": "code",
   "execution_count": 40,
   "metadata": {},
   "outputs": [
    {
     "name": "stdout",
     "output_type": "stream",
     "text": [
      "transcription-unit-terminators\n",
      "(transcription-unit-terminators '|TU0-8814| )\n",
      "(with-organism (:org-id '|ECOLI|) (transcription-unit-terminators '|TU0-8814| ))\n",
      "transcription-unit-terminators\n",
      "(transcription-unit-terminators '|TU0-8340| )\n",
      "(with-organism (:org-id '|ECOLI|) (transcription-unit-terminators '|TU0-8340| ))\n",
      "[[], []]\n"
     ]
    }
   ],
   "source": [
    "lst = []\n",
    "for tu in tus:\n",
    "    lst.append(ecoli.transcription_unit_terminators(tu))\n",
    "print(lst[-10:])"
   ]
  },
  {
   "cell_type": "code",
   "execution_count": 41,
   "metadata": {},
   "outputs": [
    {
     "name": "stdout",
     "output_type": "stream",
     "text": [
      "containing-tus\n",
      "(containing-tus '|TU0-8814| )\n",
      "(with-organism (:org-id '|ECOLI|) (containing-tus '|TU0-8814| ))\n",
      "containing-tus\n",
      "(containing-tus '|TU0-8340| )\n",
      "(with-organism (:org-id '|ECOLI|) (containing-tus '|TU0-8340| ))\n",
      "[[u'|TU0-8814|'], [u'|TU0-8340|']]\n",
      "containing-tus\n",
      "(containing-tus '|RBS0-212| )\n",
      "(with-organism (:org-id '|ECOLI|) (containing-tus '|RBS0-212| ))\n",
      "containing-tus\n",
      "(containing-tus '|RBS0-96| )\n",
      "(with-organism (:org-id '|ECOLI|) (containing-tus '|RBS0-96| ))\n",
      "[[u'|TU0-42642|', u'|TU0-42640|', u'|TU0-42638|', u'|TU0-42636|', u'|TU281|', u'|TU00342|'], [u'|TU00392|']]\n",
      "containing-tus\n",
      "(containing-tus '|BS0-1683| )\n",
      "(with-organism (:org-id '|ECOLI|) (containing-tus '|BS0-1683| ))\n",
      "containing-tus\n",
      "(containing-tus '|BS0-8256| )\n",
      "(with-organism (:org-id '|ECOLI|) (containing-tus '|BS0-8256| ))\n",
      "[[u'|TU0-2021|'], [u'|TU0-13514|']]\n",
      "containing-tus\n",
      "(containing-tus '|PM0-10506| )\n",
      "(with-organism (:org-id '|ECOLI|) (containing-tus '|PM0-10506| ))\n",
      "containing-tus\n",
      "(containing-tus '|PM0-10035| )\n",
      "(with-organism (:org-id '|ECOLI|) (containing-tus '|PM0-10035| ))\n",
      "[[u'|TU0-13975|'], [u'|TU0-8636|']]\n",
      "containing-tus\n",
      "(containing-tus '|EG11414| )\n",
      "(with-organism (:org-id '|ECOLI|) (containing-tus '|EG11414| ))\n",
      "containing-tus\n",
      "(containing-tus '|EG11127| )\n",
      "(with-organism (:org-id '|ECOLI|) (containing-tus '|EG11127| ))\n",
      "[[u'|TU0-14216|'], [u'|TU0-36408|', u'|TU0-13193|']]\n",
      "containing-tus\n",
      "(containing-tus '|TERM1| )\n",
      "(with-organism (:org-id '|ECOLI|) (containing-tus '|TERM1| ))\n",
      "containing-tus\n",
      "(containing-tus '|TERM0881| )\n",
      "(with-organism (:org-id '|ECOLI|) (containing-tus '|TERM0881| ))\n",
      "[[u'|TU-8390|', u'|TU-8389|'], [u'|TU00091|']]\n"
     ]
    }
   ],
   "source": [
    "lst = []\n",
    "for tu in tus:\n",
    "    lst.append(ecoli.containing_tus(tu))\n",
    "print(lst[-10:])\n",
    "\n",
    "lst = []\n",
    "for tu in mrna_sites:\n",
    "    lst.append(ecoli.containing_tus(tu))\n",
    "print(lst[-10:])\n",
    "\n",
    "lst = []\n",
    "for tu in dna_sites:\n",
    "    lst.append(ecoli.containing_tus(tu))\n",
    "print(lst[-10:])\n",
    "\n",
    "lst = []\n",
    "for tu in promoters:\n",
    "    lst.append(ecoli.containing_tus(tu))\n",
    "print(lst[-10:])\n",
    "\n",
    "lst = []\n",
    "for tu in genes:\n",
    "    lst.append(ecoli.containing_tus(tu))\n",
    "print(lst[-10:])\n",
    "\n",
    "lst = []\n",
    "for tu in terminators:\n",
    "    lst.append(ecoli.containing_tus(tu))\n",
    "print(lst[-10:])"
   ]
  },
  {
   "cell_type": "code",
   "execution_count": 42,
   "metadata": {},
   "outputs": [
    {
     "name": "stdout",
     "output_type": "stream",
     "text": [
      "containing-chromosome\n",
      "(containing-chromosome '|TU0-8814| )\n",
      "(with-organism (:org-id '|ECOLI|) (containing-chromosome '|TU0-8814| ))\n",
      "containing-chromosome\n",
      "(containing-chromosome '|TU0-8340| )\n",
      "(with-organism (:org-id '|ECOLI|) (containing-chromosome '|TU0-8340| ))\n",
      "[u'|COLI-K12|', u'|COLI-K12|']\n",
      "containing-chromosome\n",
      "(containing-chromosome '|RBS0-212| )\n",
      "(with-organism (:org-id '|ECOLI|) (containing-chromosome '|RBS0-212| ))\n",
      "containing-chromosome\n",
      "(containing-chromosome '|RBS0-96| )\n",
      "(with-organism (:org-id '|ECOLI|) (containing-chromosome '|RBS0-96| ))\n",
      "[u'|COLI-K12|', u'|COLI-K12|']\n",
      "containing-chromosome\n",
      "(containing-chromosome '|BS0-1683| )\n",
      "(with-organism (:org-id '|ECOLI|) (containing-chromosome '|BS0-1683| ))\n",
      "containing-chromosome\n",
      "(containing-chromosome '|BS0-8256| )\n",
      "(with-organism (:org-id '|ECOLI|) (containing-chromosome '|BS0-8256| ))\n",
      "[u'|COLI-K12|', u'|COLI-K12|']\n",
      "containing-chromosome\n",
      "(containing-chromosome '|PM0-10506| )\n",
      "(with-organism (:org-id '|ECOLI|) (containing-chromosome '|PM0-10506| ))\n",
      "containing-chromosome\n",
      "(containing-chromosome '|PM0-10035| )\n",
      "(with-organism (:org-id '|ECOLI|) (containing-chromosome '|PM0-10035| ))\n",
      "[u'|COLI-K12|', u'|COLI-K12|']\n",
      "containing-chromosome\n",
      "(containing-chromosome '|EG11414| )\n",
      "(with-organism (:org-id '|ECOLI|) (containing-chromosome '|EG11414| ))\n",
      "containing-chromosome\n",
      "(containing-chromosome '|EG11127| )\n",
      "(with-organism (:org-id '|ECOLI|) (containing-chromosome '|EG11127| ))\n",
      "[u'|COLI-K12|', u'|COLI-K12|']\n",
      "containing-chromosome\n",
      "(containing-chromosome '|TERM1| )\n",
      "(with-organism (:org-id '|ECOLI|) (containing-chromosome '|TERM1| ))\n",
      "containing-chromosome\n",
      "(containing-chromosome '|TERM0881| )\n",
      "(with-organism (:org-id '|ECOLI|) (containing-chromosome '|TERM0881| ))\n",
      "[u'|COLI-K12|', u'|COLI-K12|']\n"
     ]
    }
   ],
   "source": [
    "lst = []\n",
    "for tu in tus:\n",
    "    lst.append(ecoli.containing_chromosome(tu))\n",
    "print(lst[-10:])\n",
    "\n",
    "lst = []\n",
    "for tu in mrna_sites:\n",
    "    lst.append(ecoli.containing_chromosome(tu))\n",
    "print(lst[-10:])\n",
    "\n",
    "lst = []\n",
    "for tu in dna_sites:\n",
    "    lst.append(ecoli.containing_chromosome(tu))\n",
    "print(lst[-10:])\n",
    "\n",
    "lst = []\n",
    "for tu in promoters:\n",
    "    lst.append(ecoli.containing_chromosome(tu))\n",
    "print(lst[-10:])\n",
    "\n",
    "lst = []\n",
    "for tu in genes:\n",
    "    lst.append(ecoli.containing_chromosome(tu))\n",
    "print(lst[-10:])\n",
    "\n",
    "lst = []\n",
    "for tu in terminators:\n",
    "    lst.append(ecoli.containing_chromosome(tu))\n",
    "print(lst[-10:])"
   ]
  },
  {
   "cell_type": "code",
   "execution_count": 43,
   "metadata": {},
   "outputs": [
    {
     "name": "stdout",
     "output_type": "stream",
     "text": [
      "binding-site-promoters\n",
      "(binding-site-promoters '|BS0-1683| )\n",
      "(with-organism (:org-id '|ECOLI|) (binding-site-promoters '|BS0-1683| ))\n",
      "binding-site-promoters\n",
      "(binding-site-promoters '|BS0-8256| )\n",
      "(with-organism (:org-id '|ECOLI|) (binding-site-promoters '|BS0-8256| ))\n",
      "[[u'|PM0-2201|'], [u'|PM0-9620|']]\n"
     ]
    }
   ],
   "source": [
    "lst = []\n",
    "for dna_site in dna_sites:\n",
    "    lst.append(ecoli.binding_site_promoters(dna_site))\n",
    "print(lst[-10:])"
   ]
  },
  {
   "cell_type": "code",
   "execution_count": 44,
   "metadata": {},
   "outputs": [
    {
     "name": "stdout",
     "output_type": "stream",
     "text": [
      "transcription-unit-all-components\n",
      "(transcription-unit-all-components '|TU0-8814| )\n",
      "(with-organism (:org-id '|ECOLI|) (transcription-unit-all-components '|TU0-8814| ))\n",
      "transcription-unit-all-components\n",
      "(transcription-unit-all-components '|TU0-8340| )\n",
      "(with-organism (:org-id '|ECOLI|) (transcription-unit-all-components '|TU0-8340| ))\n",
      "[[u'|G6954|'], [u'|PM0-8720|', u'|EG11346|', u'|BS0-8048|', u'|BS0-8047|']]\n"
     ]
    }
   ],
   "source": [
    "lst = []\n",
    "for tu in tus:\n",
    "    lst.append(ecoli.transcription_unit_all_components(tu))\n",
    "print(lst[-10:])"
   ]
  },
  {
   "cell_type": "code",
   "execution_count": 45,
   "metadata": {},
   "outputs": [
    {
     "name": "stdout",
     "output_type": "stream",
     "text": [
      "binding-site-transcription-units\n",
      "(binding-site-transcription-units '|BS0-1683| )\n",
      "(with-organism (:org-id '|ECOLI|) (binding-site-transcription-units '|BS0-1683| ))\n",
      "binding-site-transcription-units\n",
      "(binding-site-transcription-units '|BS0-8256| )\n",
      "(with-organism (:org-id '|ECOLI|) (binding-site-transcription-units '|BS0-8256| ))\n",
      "[[u'|TU0-2021|'], [u'|TU0-13514|']]\n",
      "binding-site-transcription-units\n",
      "(binding-site-transcription-units '|RBS0-212| )\n",
      "(with-organism (:org-id '|ECOLI|) (binding-site-transcription-units '|RBS0-212| ))\n",
      "binding-site-transcription-units\n",
      "(binding-site-transcription-units '|RBS0-96| )\n",
      "(with-organism (:org-id '|ECOLI|) (binding-site-transcription-units '|RBS0-96| ))\n",
      "[[u'|TU0-42642|', u'|TU0-42640|', u'|TU0-42638|', u'|TU0-42636|', u'|TU281|', u'|TU00342|'], [u'|TU00392|']]\n"
     ]
    }
   ],
   "source": [
    "lst = []\n",
    "for dna_site in dna_sites:\n",
    "    lst.append(ecoli.binding_site_transcription_units(dna_site))\n",
    "print(lst[-10:])\n",
    "\n",
    "lst = []\n",
    "for mrna_site in mrna_sites:\n",
    "    lst.append(ecoli.binding_site_transcription_units(mrna_site))\n",
    "print(lst[-10:])"
   ]
  },
  {
   "cell_type": "code",
   "execution_count": null,
   "metadata": {},
   "outputs": [],
   "source": []
  }
 ],
 "metadata": {
  "kernelspec": {
   "display_name": "Python 2",
   "language": "python",
   "name": "python2"
  },
  "language_info": {
   "codemirror_mode": {
    "name": "ipython",
    "version": 2
   },
   "file_extension": ".py",
   "mimetype": "text/x-python",
   "name": "python",
   "nbconvert_exporter": "python",
   "pygments_lexer": "ipython2",
   "version": "2.7.15rc1"
  }
 },
 "nbformat": 4,
 "nbformat_minor": 2
}
