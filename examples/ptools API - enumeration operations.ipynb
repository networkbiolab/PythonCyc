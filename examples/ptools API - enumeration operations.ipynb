{
 "cells": [
  {
   "cell_type": "code",
   "execution_count": 1,
   "metadata": {},
   "outputs": [],
   "source": [
    "#to run the script, you need to start pathway tools form the command line \n",
    "# using the -lisp -python options. Example (from the pathway tools github repository)\n",
    "import os\n",
    "# os.system('nohup /opt/pathway-tools/pathway-tools -lisp -python &')\n",
    "import socket\n",
    "hostname = socket.gethostname()\n",
    "if hostname == \"spica\":\n",
    "    os.system('nohup /opt/pathway-tools/pathway-tools -lisp -python-local-only &') # added cybersecurity\n",
    "else:\n",
    "    os.system('nohup /shared/D1/opt/pathway-tools/pathway-tools -lisp -python-local-only &') # added cybersecurity"
   ]
  },
  {
   "cell_type": "code",
   "execution_count": 2,
   "metadata": {},
   "outputs": [
    {
     "data": {
      "text/plain": [
       "['',\n",
       " '/usr/lib/python2.7',\n",
       " '/usr/lib/python2.7/plat-x86_64-linux-gnu',\n",
       " '/usr/lib/python2.7/lib-tk',\n",
       " '/usr/lib/python2.7/lib-old',\n",
       " '/usr/lib/python2.7/lib-dynload',\n",
       " '/usr/local/lib/python2.7/dist-packages',\n",
       " '/usr/lib/python2.7/dist-packages',\n",
       " '/usr/lib/python2.7/dist-packages/gtk-2.0',\n",
       " '/usr/local/lib/python2.7/dist-packages/IPython/extensions',\n",
       " '/home/glucksfall/.ipython',\n",
       " '/shared/D1/opt/github-repositories/PythonCyc.networkbiolab']"
      ]
     },
     "execution_count": 2,
     "metadata": {},
     "output_type": "execute_result"
    }
   ],
   "source": [
    "# modify sys.path to recognize local pythoncyc\n",
    "import os\n",
    "import sys\n",
    "if hostname == \"spica\":\n",
    "    path = '/opt/github-repositories'\n",
    "else:\n",
    "    path = '/shared/D1/opt/github-repositories'\n",
    "module_path = os.path.abspath(os.path.join(path + '/PythonCyc.networkbiolab/'))\n",
    "sys.path.append(module_path)\n",
    "\n",
    "sys.path"
   ]
  },
  {
   "cell_type": "code",
   "execution_count": 3,
   "metadata": {},
   "outputs": [
    {
     "name": "stdout",
     "output_type": "stream",
     "text": [
      "[u'|META|', u'|ECOLI|']\n"
     ]
    }
   ],
   "source": [
    "import pythoncyc\n",
    "all_orgids = pythoncyc.all_orgids()\n",
    "print all_orgids\n",
    "\n",
    "meta = pythoncyc.select_organism(u'|META|')\n",
    "ecoli = pythoncyc.select_organism(u'|ECOLI|')"
   ]
  },
  {
   "cell_type": "code",
   "execution_count": 4,
   "metadata": {},
   "outputs": [
    {
     "data": {
      "text/plain": [
       "[u'|PWY0-1347|',\n",
       " u'|PWY-6690|',\n",
       " u'|PWY0-1348|',\n",
       " u'|PWY-5162|',\n",
       " u'|PWY0-1352|',\n",
       " u'|PWY0-1355|',\n",
       " u'|2PHENDEG-PWY|',\n",
       " u'|PWY0-1465|',\n",
       " u'|TRESYN-PWY|',\n",
       " u'|PANTO-PWY|']"
      ]
     },
     "execution_count": 4,
     "metadata": {},
     "output_type": "execute_result"
    }
   ],
   "source": [
    "\"\"\"\n",
    "selector\n",
    "Optional Selects whether all pathways, or just small-molecule metabolism base \n",
    "pathways. Can take either a symbol of :all or :small‑molecule. Defaults to \n",
    "<code>:all</code>. \n",
    "base?\n",
    "Optional If this argument evaluates to true, only includes base pathways. \n",
    "Otherwise, all pathways, including superpathways, will be returned. \n",
    "\"\"\"\n",
    "\n",
    "ecoli.all_pathways(selector = 'all', base = True)[0:10]\n",
    "ecoli.all_pathways(selector = 'small-molecule', base = True)[0:10]"
   ]
  },
  {
   "cell_type": "code",
   "execution_count": 5,
   "metadata": {},
   "outputs": [
    {
     "data": {
      "text/plain": [
       "[u'|RXN-17635|',\n",
       " u'|RXN-6268|',\n",
       " u'|RXN-7282|',\n",
       " u'|RXN-10720|',\n",
       " u'|RXN-12870|',\n",
       " u'|RXN-14515|',\n",
       " u'|RXN-13460|',\n",
       " u'|RXN-14808|',\n",
       " u'|RXN-18819|',\n",
       " u'|RXN-15121|']"
      ]
     },
     "execution_count": 5,
     "metadata": {},
     "output_type": "execute_result"
    }
   ],
   "source": [
    "\"\"\"\n",
    "type\n",
    "Optional The type of reaction to return. Defaults to :metab‑smm. The possible \n",
    "values are:\n",
    "\n",
    ":all\n",
    "All reactions. \n",
    ":metab-pathways\n",
    "All reactions found within metabolic pathways. Includes reactions that are \n",
    "pathway holes. May include a handfull of reactions whose substrates are \n",
    "macromolecules, e.g., ACP. Excludes transport reactions. \n",
    ":metab-smm\n",
    "All reactions of small molecule metabolism, whether or not they are present in a \n",
    "pathway. Subsumes :metab‑pathways. \n",
    ":metab-all\n",
    "All enzyme-catalyzed reactions. Subsumes :metab‑smm. \n",
    ":enzyme\n",
    "All enzyme-catalyzed reactions (i.e., instances of either EC-Reactions class or \n",
    "Unclassified-Reactions class). \n",
    ":transport\n",
    "All transport reactions. \n",
    ":small-molecule\n",
    "All reactions whose substrates are all small molecules, as opposed to \n",
    "macromolecules. Excludes transport reactions. \n",
    ":protein-small-molecule-reaction\n",
    "One of the substrates of the reaction is a macromolecule, and one of the \n",
    "substrates of the reaction is a small molecule. \n",
    ":protein-reaction\n",
    "All substrates of the reaction are proteins. \n",
    ":trna-reaction\n",
    "One of the substrates of the reaction is a tRNA. \n",
    ":spontaneous\n",
    "Spontaneous reactions. \n",
    ":non-spontaneous\n",
    "Non-spontaneous reactions that are likely to be enzyme catalyzed. Some reactions \n",
    "will be returned for type :non‑spontaneous that will not be returned by \n",
    ":enzyme. \n",
    "\"\"\"\n",
    "\n",
    "ecoli.all_rxns(type_of_reactions = 'all')[0:10]\n",
    "ecoli.all_rxns(type_of_reactions = 'metab-pathways')[0:10]\n",
    "ecoli.all_rxns(type_of_reactions = 'metab-smm')[0:10]\n",
    "ecoli.all_rxns(type_of_reactions = 'metab-all')[0:10]\n",
    "ecoli.all_rxns(type_of_reactions = 'transport')[0:10]\n",
    "ecoli.all_rxns(type_of_reactions = 'small-molecule')[0:10]\n",
    "ecoli.all_rxns(type_of_reactions = 'protein-small-molecule-reaction')[0:10]\n",
    "ecoli.all_rxns(type_of_reactions = 'protein-reaction')[0:10]\n",
    "ecoli.all_rxns(type_of_reactions = 'trna-reaction')[0:10]\n",
    "ecoli.all_rxns(type_of_reactions = 'spontaneous')[0:10]"
   ]
  },
  {
   "cell_type": "code",
   "execution_count": 14,
   "metadata": {},
   "outputs": [
    {
     "name": "stdout",
     "output_type": "stream",
     "text": [
      "[u'|RXN-17635|']\n"
     ]
    },
    {
     "ename": "PythonCycError",
     "evalue": "Error: the argument must a string or a PFrame, but given |RXN-17635|.",
     "output_type": "error",
     "traceback": [
      "\u001b[0;31m\u001b[0m",
      "\u001b[0;31mPythonCycError\u001b[0mTraceback (most recent call last)",
      "\u001b[0;32m<ipython-input-14-f299f0406fa1>\u001b[0m in \u001b[0;36m<module>\u001b[0;34m()\u001b[0m\n\u001b[1;32m      4\u001b[0m \"\"\"\n\u001b[1;32m      5\u001b[0m \u001b[0;32mprint\u001b[0m\u001b[0;34m(\u001b[0m\u001b[0mecoli\u001b[0m\u001b[0;34m.\u001b[0m\u001b[0mall_rxns\u001b[0m\u001b[0;34m(\u001b[0m\u001b[0mtype_of_reactions\u001b[0m \u001b[0;34m=\u001b[0m \u001b[0;34m'spontaneous'\u001b[0m\u001b[0;34m)\u001b[0m\u001b[0;34m[\u001b[0m\u001b[0;36m0\u001b[0m\u001b[0;34m:\u001b[0m\u001b[0;36m1\u001b[0m\u001b[0;34m]\u001b[0m\u001b[0;34m)\u001b[0m\u001b[0;34m\u001b[0m\u001b[0m\n\u001b[0;32m----> 6\u001b[0;31m \u001b[0mecoli\u001b[0m\u001b[0;34m.\u001b[0m\u001b[0mall_substrates\u001b[0m\u001b[0;34m(\u001b[0m\u001b[0;34mu'|RXN-17635|'\u001b[0m\u001b[0;34m)\u001b[0m\u001b[0;31m#rxns = ecoli.all_rxns(type_of_reactions = 'spontaneous')[0:1][0])\u001b[0m\u001b[0;34m\u001b[0m\u001b[0m\n\u001b[0m",
      "\u001b[0;32m/shared/D1/opt/github-repositories/PythonCyc.networkbiolab/pythoncyc/PGDB.pyc\u001b[0m in \u001b[0;36mall_substrates\u001b[0;34m(self, rxns)\u001b[0m\n\u001b[1;32m    754\u001b[0m                         \u001b[0;32mas\u001b[0m \u001b[0mthe\u001b[0m \u001b[0mleft\u001b[0m \u001b[0;32mand\u001b[0m \u001b[0mright\u001b[0m \u001b[0mslots\u001b[0m \u001b[0mof\u001b[0m \u001b[0ma\u001b[0m \u001b[0mreaction\u001b[0m \u001b[0mframe\u001b[0m \u001b[0mcan\u001b[0m \u001b[0mcontain\u001b[0m \u001b[0mstrings\u001b[0m\u001b[0;34m.\u001b[0m\u001b[0;34m\u001b[0m\u001b[0m\n\u001b[1;32m    755\u001b[0m \t\t\"\"\"\n\u001b[0;32m--> 756\u001b[0;31m                 \u001b[0;32mreturn\u001b[0m \u001b[0mself\u001b[0m\u001b[0;34m.\u001b[0m\u001b[0msendPgdbFnCallList\u001b[0m\u001b[0;34m(\u001b[0m\u001b[0;34m'all-substrates'\u001b[0m\u001b[0;34m,\u001b[0m \u001b[0mmay_be_frameid\u001b[0m\u001b[0;34m(\u001b[0m\u001b[0mrxns\u001b[0m\u001b[0;34m)\u001b[0m\u001b[0;34m)\u001b[0m\u001b[0;34m\u001b[0m\u001b[0m\n\u001b[0m\u001b[1;32m    757\u001b[0m \u001b[0;34m\u001b[0m\u001b[0m\n\u001b[1;32m    758\u001b[0m         \u001b[0;32mdef\u001b[0m \u001b[0mall_cofactors\u001b[0m\u001b[0;34m(\u001b[0m\u001b[0mself\u001b[0m\u001b[0;34m)\u001b[0m\u001b[0;34m:\u001b[0m\u001b[0;34m\u001b[0m\u001b[0m\n",
      "\u001b[0;32m/shared/D1/opt/github-repositories/PythonCyc.networkbiolab/pythoncyc/PGDB.pyc\u001b[0m in \u001b[0;36mmay_be_frameid\u001b[0;34m(obj)\u001b[0m\n\u001b[1;32m     55\u001b[0m                 \u001b[0;32mreturn\u001b[0m \u001b[0mSymbol\u001b[0m\u001b[0;34m(\u001b[0m\u001b[0mobj\u001b[0m\u001b[0;34m)\u001b[0m\u001b[0;34m\u001b[0m\u001b[0m\n\u001b[1;32m     56\u001b[0m         \u001b[0;32melse\u001b[0m\u001b[0;34m:\u001b[0m\u001b[0;34m\u001b[0m\u001b[0m\n\u001b[0;32m---> 57\u001b[0;31m                 \u001b[0;32mraise\u001b[0m \u001b[0mPythonCycError\u001b[0m\u001b[0;34m(\u001b[0m\u001b[0;34m'Error: the argument must a string or a PFrame, but given {0}.'\u001b[0m\u001b[0;34m.\u001b[0m\u001b[0mformat\u001b[0m\u001b[0;34m(\u001b[0m\u001b[0mobj\u001b[0m\u001b[0;34m)\u001b[0m\u001b[0;34m)\u001b[0m\u001b[0;34m\u001b[0m\u001b[0m\n\u001b[0m\u001b[1;32m     58\u001b[0m \u001b[0;34m\u001b[0m\u001b[0m\n\u001b[1;32m     59\u001b[0m \u001b[0;32mdef\u001b[0m \u001b[0mmkey\u001b[0m\u001b[0;34m(\u001b[0m\u001b[0mobj\u001b[0m\u001b[0;34m)\u001b[0m\u001b[0;34m:\u001b[0m\u001b[0;34m\u001b[0m\u001b[0m\n",
      "\u001b[0;31mPythonCycError\u001b[0m: Error: the argument must a string or a PFrame, but given |RXN-17635|."
     ]
    }
   ],
   "source": [
    "\"\"\"\n",
    "rxns\n",
    "A list of reaction frames. \n",
    "\"\"\"\n",
    "print(ecoli.all_rxns(type_of_reactions = 'spontaneous')[0:1])\n",
    "ecoli.all_substrates(u'|RXN-17635|')#rxns = ecoli.all_rxns(type_of_reactions = 'spontaneous')[0:1][0])"
   ]
  },
  {
   "cell_type": "code",
   "execution_count": null,
   "metadata": {},
   "outputs": [],
   "source": [
    "ecoli.all_cofactors()[0:10]"
   ]
  },
  {
   "cell_type": "code",
   "execution_count": null,
   "metadata": {},
   "outputs": [],
   "source": [
    "ecoli.all_modulators()[0:10]"
   ]
  },
  {
   "cell_type": "code",
   "execution_count": null,
   "metadata": {},
   "outputs": [],
   "source": [
    "\"\"\"\n",
    "from-compartment\n",
    "Keyword, Optional The compartment that the chemical is coming from (see Cellular \n",
    "Component Ontology). \n",
    "to-compartment\n",
    "Keyword, Optional The compartment that the chemical is going to (see Cellular \n",
    "Component Ontology). \n",
    "show-compartment\n",
    "Keyword, Optional Show the form of the compound as it is present in the \n",
    "specified compartment (see Cellular Component Ontology), if the compound is \n",
    "modified during transport. \n",
    "primary-only?\n",
    "Keyword, Optional If true, filter out common transport compounds, such as \n",
    "protons and Na+. \n",
    "\"\"\"\n",
    "\n",
    "ecoli.all_transported_chemicals()[0:10]\n",
    "ecoli.all_transported_chemicals(primary_only = True)[0:10]\n",
    "ecoli.all_transported_chemicals(from_compartment = u'|CCO-CYTOSOL|')[0:10]\n",
    "ecoli.all_transported_chemicals(to_compartment = u'|CCO-CYTOSOL|')[0:10]\n",
    "ecoli.all_transported_chemicals(show_compartment = 'cell')[0:10] # not valid argument"
   ]
  },
  {
   "cell_type": "code",
   "execution_count": null,
   "metadata": {},
   "outputs": [],
   "source": [
    "\"\"\"\n",
    "filter\n",
    "Keyword The type of protein complexes to return. The argument must be one of the \n",
    "following values:\n",
    "\n",
    ":all or t\n",
    "Return all protein complexes. \n",
    ":hetero\n",
    "Return all heteromultimers. \n",
    ":homo\n",
    "Return all homomultimers. \n",
    "\"\"\"\n",
    "\n",
    "ecoli.all_protein_complexes(filter = 'all')[0:10]\n",
    "ecoli.all_protein_complexes(filter = 'hetero')[0:10]\n",
    "ecoli.all_protein_complexes(filter = 'homo')[0:10]\n",
    "ecoli.all_protein_complexes()[0:10]"
   ]
  },
  {
   "cell_type": "code",
   "execution_count": null,
   "metadata": {},
   "outputs": [],
   "source": [
    "\"\"\"\n",
    "Side-Effects\n",
    "\n",
    "allow-modified-forms?\n",
    "Keyword, Optional A boolean value. If true, modified and unmodified forms of the \n",
    "protein are returned. If false, then only unmodified forms of the proteins are \n",
    "returned. The default value is t.\n",
    "\"\"\"\n",
    "\n",
    "ecoli.all_transcription_factors()[0:10]\n",
    "ecoli.all_transcription_factors(allow_modified_forms = True)[0:10]"
   ]
  },
  {
   "cell_type": "code",
   "execution_count": null,
   "metadata": {},
   "outputs": [],
   "source": [
    "\"\"\"\n",
    "class\n",
    "Keyword, Optional The class |Regulation| or a subclass. It defaults to \n",
    "|Regulation‑of‑Transcription‑Initiation|. \n",
    "allow-modified forms?\n",
    "Keyword, Optional A boolean value. If true, modified and unmodified forms of the \n",
    "protein are returned. If false, then only unmodified forms of the proteins are \n",
    "returned. The default value is t.\n",
    "\"\"\"\n",
    "\n",
    "ecoli.all_genetic_regulation_proteins(class_name = u'|Regulation|', allow_modified_forms = False)[0:10]"
   ]
  },
  {
   "cell_type": "code",
   "execution_count": null,
   "metadata": {},
   "outputs": [],
   "source": [
    "ecoli.all_sigma_factors()"
   ]
  },
  {
   "cell_type": "code",
   "execution_count": null,
   "metadata": {},
   "outputs": [],
   "source": [
    "ecoli.all_operons()[0:10]"
   ]
  },
  {
   "cell_type": "code",
   "execution_count": null,
   "metadata": {},
   "outputs": [],
   "source": [
    "\"\"\"\n",
    "rxns\n",
    "Keyword, Optional A list of instances of the class |Reactions|. Defaults to the \n",
    "result of (all‑rxns :enzyme).\n",
    "\"\"\"\n",
    "\n",
    "ecoli.rxns_w_isozymes(rxns = ecoli.all_rxns(':enzyme'))[0:10]\n",
    "ecoli.rxns_w_isozymes()[0:10]"
   ]
  },
  {
   "cell_type": "code",
   "execution_count": null,
   "metadata": {},
   "outputs": [],
   "source": [
    "\"\"\"\n",
    "rxns\n",
    "Keyword, Optional A list of instances of the class |Reactions|. Defaults to the \n",
    "result of (all‑rxns :enzyme).\n",
    "\"\"\"\n",
    "\n",
    "ecoli.rxns_catalyzed_by_complex(rxns = ecoli.all_rxns(':enzyme'))[0:10]\n",
    "ecoli.rxns_catalyzed_by_complex()[0:10]"
   ]
  },
  {
   "cell_type": "code",
   "execution_count": null,
   "metadata": {},
   "outputs": [],
   "source": [
    "\"\"\"\n",
    "type\n",
    "Keyword, Optional A type as taken from the argument to #'enzyme?. Defaults to \n",
    ":chemical‑change.\n",
    "\n",
    ">> type\n",
    "Optional Can take on one of the following values to select more precisely what \n",
    "is meant by an “enzyme”:\n",
    "\n",
    ":any\n",
    "Any protein that catalyzes a reaction is considered an enzyme. \n",
    ":chemical-change\n",
    "If the reactants and products of the catalyzed reactin differ, and not just by \n",
    "their cellular location, then the protein is considered an enzyme. \n",
    ":small-molecule\n",
    "If the reactants of the catalyzed reaction differ and are small molecules, then \n",
    "the protein is considered an enzyme. \n",
    ":transport\n",
    "If the protein catalyzes a transport reaction. \n",
    ":non-transport\n",
    "If the protein only catalyzes non-transport reactions. \n",
    "\"\"\"\n",
    "\n",
    "ecoli.all_enzymes()[0:10]\n",
    "ecoli.all_enzymes(type = ':any')[0:10]\n",
    "ecoli.all_enzymes(type = ':chemical-change')[0:10]\n",
    "ecoli.all_enzymes(type = ':small-molecule')[0:10]\n",
    "ecoli.all_enzymes(type = ':transport')[0:10]\n",
    "ecoli.all_enzymes(type = ':non-transport')[0:10]"
   ]
  },
  {
   "cell_type": "code",
   "execution_count": null,
   "metadata": {},
   "outputs": [],
   "source": [
    "ecoli.all_transporters()[0:10]"
   ]
  },
  {
   "cell_type": "code",
   "execution_count": null,
   "metadata": {},
   "outputs": [],
   "source": []
  }
 ],
 "metadata": {
  "kernelspec": {
   "display_name": "Python 2",
   "language": "python",
   "name": "python2"
  },
  "language_info": {
   "codemirror_mode": {
    "name": "ipython",
    "version": 2
   },
   "file_extension": ".py",
   "mimetype": "text/x-python",
   "name": "python",
   "nbconvert_exporter": "python",
   "pygments_lexer": "ipython2",
   "version": "2.7.15rc1"
  }
 },
 "nbformat": 4,
 "nbformat_minor": 2
}
