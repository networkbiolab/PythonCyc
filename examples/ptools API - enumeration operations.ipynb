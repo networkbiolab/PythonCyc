{
 "cells": [
  {
   "cell_type": "code",
   "execution_count": 1,
   "metadata": {},
   "outputs": [
    {
     "data": {
      "text/plain": [
       "0"
      ]
     },
     "execution_count": 1,
     "metadata": {},
     "output_type": "execute_result"
    }
   ],
   "source": [
    "#to run the script, you need to start pathway tools form the command line \n",
    "# using the -lisp -python options. Example (from the pathway tools github repository)\n",
    "import os\n",
    "# os.system('nohup /opt/pathway-tools/pathway-tools -lisp -python &')\n",
    "os.system('nohup /opt/pathway-tools/pathway-tools -lisp -python-local-only &') # added cybersecurity\n",
    "os.system('nohup /shared/D1/opt/pathway-tools/pathway-tools -lisp -python-local-only &') # added cybersecurity"
   ]
  },
  {
   "cell_type": "code",
   "execution_count": 2,
   "metadata": {},
   "outputs": [
    {
     "data": {
      "text/plain": [
       "['/home/glucksfall/Dropbox/modding-pythoncyc/PythonCyc']"
      ]
     },
     "execution_count": 2,
     "metadata": {},
     "output_type": "execute_result"
    }
   ],
   "source": [
    "# modify sys.path to recognize local pythoncyc\n",
    "import os\n",
    "import sys\n",
    "module_path = os.path.abspath(os.path.join('./PythonCyc/'))\n",
    "sys.path = [module_path]\n",
    "\n",
    "sys.path"
   ]
  },
  {
   "cell_type": "code",
   "execution_count": 3,
   "metadata": {},
   "outputs": [
    {
     "name": "stdout",
     "output_type": "stream",
     "text": [
      "[u'|META|', u'|ECOLI|']\n"
     ]
    }
   ],
   "source": [
    "# remove pyc files\n",
    "!rm ./PythonCyc/pythoncyc/*pyc\n",
    "\n",
    "import pythoncyc\n",
    "all_orgids = pythoncyc.all_orgids()\n",
    "print all_orgids\n",
    "\n",
    "meta = pythoncyc.select_organism(u'|META|')\n",
    "ecoli = pythoncyc.select_organism(u'|ECOLI|')"
   ]
  },
  {
   "cell_type": "code",
   "execution_count": 4,
   "metadata": {},
   "outputs": [
    {
     "name": "stdout",
     "output_type": "stream",
     "text": [
      "all-pathways\n",
      "(all-pathways ::all t )\n",
      "(with-organism (:org-id '|ECOLI|) (all-pathways ::all t ))\n",
      "all-pathways\n",
      "(all-pathways ::small-molecule t )\n",
      "(with-organism (:org-id '|ECOLI|) (all-pathways ::small-molecule t ))\n"
     ]
    },
    {
     "data": {
      "text/plain": [
       "[u'|PWY0-1347|',\n",
       " u'|PWY-6690|',\n",
       " u'|PWY0-1348|',\n",
       " u'|PWY-5162|',\n",
       " u'|PWY0-1352|',\n",
       " u'|PWY0-1355|',\n",
       " u'|2PHENDEG-PWY|',\n",
       " u'|PWY0-1465|',\n",
       " u'|TRESYN-PWY|',\n",
       " u'|PANTO-PWY|']"
      ]
     },
     "execution_count": 4,
     "metadata": {},
     "output_type": "execute_result"
    }
   ],
   "source": [
    "\"\"\"\n",
    "selector\n",
    "Optional Selects whether all pathways, or just small-molecule metabolism base \n",
    "pathways. Can take either a symbol of :all or :small‑molecule. Defaults to \n",
    "<code>:all</code>. \n",
    "base?\n",
    "Optional If this argument evaluates to true, only includes base pathways. \n",
    "Otherwise, all pathways, including superpathways, will be returned. \n",
    "\"\"\"\n",
    "\n",
    "ecoli.all_pathways(selector = u':all', base = True)[0:10]\n",
    "ecoli.all_pathways(selector = u':small-molecule', base = True)[0:10]"
   ]
  },
  {
   "cell_type": "code",
   "execution_count": 5,
   "metadata": {},
   "outputs": [
    {
     "name": "stdout",
     "output_type": "stream",
     "text": [
      "all-rxns\n",
      "(all-rxns ::all )\n",
      "(with-organism (:org-id '|ECOLI|) (all-rxns ::all ))\n",
      "all-rxns\n",
      "(all-rxns ::metab-pathways )\n",
      "(with-organism (:org-id '|ECOLI|) (all-rxns ::metab-pathways ))\n",
      "all-rxns\n",
      "(all-rxns ::metab-smm )\n",
      "(with-organism (:org-id '|ECOLI|) (all-rxns ::metab-smm ))\n",
      "all-rxns\n",
      "(all-rxns ::metab-all )\n",
      "(with-organism (:org-id '|ECOLI|) (all-rxns ::metab-all ))\n",
      "all-rxns\n",
      "(all-rxns ::transport )\n",
      "(with-organism (:org-id '|ECOLI|) (all-rxns ::transport ))\n",
      "all-rxns\n",
      "(all-rxns ::small-molecule )\n",
      "(with-organism (:org-id '|ECOLI|) (all-rxns ::small-molecule ))\n",
      "all-rxns\n",
      "(all-rxns ::protein-small-molecule-reaction )\n",
      "(with-organism (:org-id '|ECOLI|) (all-rxns ::protein-small-molecule-reaction ))\n",
      "all-rxns\n",
      "(all-rxns ::protein-reaction )\n",
      "(with-organism (:org-id '|ECOLI|) (all-rxns ::protein-reaction ))\n",
      "all-rxns\n",
      "(all-rxns ::trna-reaction )\n",
      "(with-organism (:org-id '|ECOLI|) (all-rxns ::trna-reaction ))\n",
      "all-rxns\n",
      "(all-rxns ::spontaneous )\n",
      "(with-organism (:org-id '|ECOLI|) (all-rxns ::spontaneous ))\n"
     ]
    },
    {
     "data": {
      "text/plain": [
       "[u'|RXN-17635|',\n",
       " u'|RXN-6268|',\n",
       " u'|RXN-7282|',\n",
       " u'|RXN-10720|',\n",
       " u'|RXN-12870|',\n",
       " u'|RXN-14515|',\n",
       " u'|RXN-13460|',\n",
       " u'|RXN-14808|',\n",
       " u'|RXN-18819|',\n",
       " u'|RXN-15121|']"
      ]
     },
     "execution_count": 5,
     "metadata": {},
     "output_type": "execute_result"
    }
   ],
   "source": [
    "\"\"\"\n",
    "type\n",
    "Optional The type of reaction to return. Defaults to :metab‑smm. The possible \n",
    "values are:\n",
    "\n",
    ":all\n",
    "All reactions. \n",
    ":metab-pathways\n",
    "All reactions found within metabolic pathways. Includes reactions that are \n",
    "pathway holes. May include a handfull of reactions whose substrates are \n",
    "macromolecules, e.g., ACP. Excludes transport reactions. \n",
    ":metab-smm\n",
    "All reactions of small molecule metabolism, whether or not they are present in a \n",
    "pathway. Subsumes :metab‑pathways. \n",
    ":metab-all\n",
    "All enzyme-catalyzed reactions. Subsumes :metab‑smm. \n",
    ":enzyme\n",
    "All enzyme-catalyzed reactions (i.e., instances of either EC-Reactions class or \n",
    "Unclassified-Reactions class). \n",
    ":transport\n",
    "All transport reactions. \n",
    ":small-molecule\n",
    "All reactions whose substrates are all small molecules, as opposed to \n",
    "macromolecules. Excludes transport reactions. \n",
    ":protein-small-molecule-reaction\n",
    "One of the substrates of the reaction is a macromolecule, and one of the \n",
    "substrates of the reaction is a small molecule. \n",
    ":protein-reaction\n",
    "All substrates of the reaction are proteins. \n",
    ":trna-reaction\n",
    "One of the substrates of the reaction is a tRNA. \n",
    ":spontaneous\n",
    "Spontaneous reactions. \n",
    ":non-spontaneous\n",
    "Non-spontaneous reactions that are likely to be enzyme catalyzed. Some reactions \n",
    "will be returned for type :non‑spontaneous that will not be returned by \n",
    ":enzyme. \n",
    "\"\"\"\n",
    "\n",
    "ecoli.all_rxns(type = ':all')[0:10]\n",
    "ecoli.all_rxns(type = ':metab-pathways')[0:10]\n",
    "ecoli.all_rxns(type = ':metab-smm')[0:10]\n",
    "ecoli.all_rxns(type = ':metab-all')[0:10]\n",
    "ecoli.all_rxns(type = ':transport')[0:10]\n",
    "ecoli.all_rxns(type = ':small-molecule')[0:10]\n",
    "ecoli.all_rxns(type = ':protein-small-molecule-reaction')[0:10]\n",
    "ecoli.all_rxns(type = ':protein-reaction')[0:10]\n",
    "ecoli.all_rxns(type = ':trna-reaction')[0:10]\n",
    "ecoli.all_rxns(type = ':spontaneous')[0:10]"
   ]
  },
  {
   "cell_type": "code",
   "execution_count": 6,
   "metadata": {},
   "outputs": [
    {
     "name": "stdout",
     "output_type": "stream",
     "text": [
      "all-rxns\n",
      "(all-rxns ::spontaneous )\n",
      "(with-organism (:org-id '|ECOLI|) (all-rxns ::spontaneous ))\n",
      "all-substrates\n",
      "(all-substrates '(|RXN-17635|) )\n",
      "(with-organism (:org-id '|ECOLI|) (all-substrates '(|RXN-17635|) ))\n"
     ]
    },
    {
     "data": {
      "text/plain": [
       "[u'|Protein-Arginine-Aminocarbinol|',\n",
       " u'|PROTON|',\n",
       " u'|Protein-Arginine-Imidazolidine|']"
      ]
     },
     "execution_count": 6,
     "metadata": {},
     "output_type": "execute_result"
    }
   ],
   "source": [
    "\"\"\"\n",
    "rxns\n",
    "A list of reaction frames. \n",
    "\"\"\"\n",
    "\n",
    "ecoli.all_substrates(rxns = ecoli.all_rxns(type = ':spontaneous')[0:1])"
   ]
  },
  {
   "cell_type": "code",
   "execution_count": 7,
   "metadata": {},
   "outputs": [
    {
     "name": "stdout",
     "output_type": "stream",
     "text": [
      "all-cofactors\n",
      "(all-cofactors  )\n",
      "(with-organism (:org-id '|ECOLI|) (all-cofactors  ))\n"
     ]
    },
    {
     "data": {
      "text/plain": [
       "[u'|DIPYRROMETHANE|',\n",
       " u'|GTP|',\n",
       " u'|UBIQUINONE-8|',\n",
       " u'|AMMONIUM|',\n",
       " u'|LYS|',\n",
       " u'|HEME_O|',\n",
       " u'|CPD-18260|',\n",
       " u'|PQQ|',\n",
       " u'|SIROHEME|',\n",
       " u'|Mo-molybdopterin-cofactor|']"
      ]
     },
     "execution_count": 7,
     "metadata": {},
     "output_type": "execute_result"
    }
   ],
   "source": [
    "ecoli.all_cofactors()[0:10]"
   ]
  },
  {
   "cell_type": "code",
   "execution_count": 8,
   "metadata": {},
   "outputs": [
    {
     "name": "stdout",
     "output_type": "stream",
     "text": [
      "all-modulators\n",
      "(all-modulators  )\n",
      "(with-organism (:org-id '|ECOLI|) (all-modulators  ))\n"
     ]
    },
    {
     "data": {
      "text/plain": [
       "[u'|DEOXY-RIBOSE-1P|',\n",
       " u'|CPD0-1546|',\n",
       " u'|CPD0-1545|',\n",
       " u'|NACL|',\n",
       " u'|Gramicidins|',\n",
       " u'|CPD0-1633|',\n",
       " u'|G7642-MONOMER|',\n",
       " u'|CPD-9229|',\n",
       " u'|PENICILLIN|',\n",
       " u'|CPD0-2358|']"
      ]
     },
     "execution_count": 8,
     "metadata": {},
     "output_type": "execute_result"
    }
   ],
   "source": [
    "ecoli.all_modulators()[0:10]"
   ]
  },
  {
   "cell_type": "code",
   "execution_count": 9,
   "metadata": {},
   "outputs": [
    {
     "name": "stdout",
     "output_type": "stream",
     "text": [
      "all-transported-chemicals\n",
      "(all-transported-chemicals  :primary-only? nil)\n",
      "(with-organism (:org-id '|ECOLI|) (all-transported-chemicals  :primary-only? nil))\n",
      "all-transported-chemicals\n",
      "(all-transported-chemicals  :primary-only? t)\n",
      "(with-organism (:org-id '|ECOLI|) (all-transported-chemicals  :primary-only? t))\n",
      "all-transported-chemicals\n",
      "(all-transported-chemicals  :primary-only? nil :from-compartment '|CCO-CYTOSOL|)\n",
      "(with-organism (:org-id '|ECOLI|) (all-transported-chemicals  :primary-only? nil :from-compartment '|CCO-CYTOSOL|))\n",
      "all-transported-chemicals\n",
      "(all-transported-chemicals  :primary-only? nil :to-compartment '|CCO-CYTOSOL|)\n",
      "(with-organism (:org-id '|ECOLI|) (all-transported-chemicals  :primary-only? nil :to-compartment '|CCO-CYTOSOL|))\n",
      "all-transported-chemicals\n",
      "(all-transported-chemicals  :primary-only? nil :show-compartment 'cell)\n",
      "(with-organism (:org-id '|ECOLI|) (all-transported-chemicals  :primary-only? nil :show-compartment 'cell))\n"
     ]
    },
    {
     "data": {
      "text/plain": [
       "[u'|LI+|',\n",
       " u'|MELIBIOSE|',\n",
       " u'|D-GALACTURONATE|',\n",
       " u'|PROTON|',\n",
       " u'|CPD0-2241|',\n",
       " u'|GUANINE|',\n",
       " u'|Nucleosides|',\n",
       " u'|CPD-20888|',\n",
       " u'|XANTHINE|',\n",
       " u'|N-ACETYL-D-MANNOSAMINE-6P|']"
      ]
     },
     "execution_count": 9,
     "metadata": {},
     "output_type": "execute_result"
    }
   ],
   "source": [
    "\"\"\"\n",
    "from-compartment\n",
    "Keyword, Optional The compartment that the chemical is coming from (see Cellular \n",
    "Component Ontology). \n",
    "to-compartment\n",
    "Keyword, Optional The compartment that the chemical is going to (see Cellular \n",
    "Component Ontology). \n",
    "show-compartment\n",
    "Keyword, Optional Show the form of the compound as it is present in the \n",
    "specified compartment (see Cellular Component Ontology), if the compound is \n",
    "modified during transport. \n",
    "primary-only?\n",
    "Keyword, Optional If true, filter out common transport compounds, such as \n",
    "protons and Na+. \n",
    "\"\"\"\n",
    "\n",
    "ecoli.all_transported_chemicals()[0:10]\n",
    "ecoli.all_transported_chemicals(primary_only = True)[0:10]\n",
    "ecoli.all_transported_chemicals(from_compartment = u'|CCO-CYTOSOL|')[0:10]\n",
    "ecoli.all_transported_chemicals(to_compartment = u'|CCO-CYTOSOL|')[0:10]\n",
    "ecoli.all_transported_chemicals(show_compartment = 'cell')[0:10] # not valid argument"
   ]
  },
  {
   "cell_type": "code",
   "execution_count": 10,
   "metadata": {},
   "outputs": [
    {
     "name": "stdout",
     "output_type": "stream",
     "text": [
      "all-protein-complexes\n",
      "(all-protein-complexes  :filter :all)\n",
      "(with-organism (:org-id '|ECOLI|) (all-protein-complexes  :filter :all))\n",
      "all-protein-complexes\n",
      "(all-protein-complexes  :filter :hetero)\n",
      "(with-organism (:org-id '|ECOLI|) (all-protein-complexes  :filter :hetero))\n",
      "all-protein-complexes\n",
      "(all-protein-complexes  :filter :homo)\n",
      "(with-organism (:org-id '|ECOLI|) (all-protein-complexes  :filter :homo))\n",
      "all-protein-complexes\n",
      "(all-protein-complexes  :filter :all)\n",
      "(with-organism (:org-id '|ECOLI|) (all-protein-complexes  :filter :all))\n"
     ]
    },
    {
     "data": {
      "text/plain": [
       "[u'|CPLX0-7660|',\n",
       " u'|CPLX0-8247|',\n",
       " u'|CPLX0-3102|',\n",
       " u'|ACETYL-COA-CARBOXYLTRANSFER-CPLX|',\n",
       " u'|CPLX0-7|',\n",
       " u'|TRANS-CPLX-204|',\n",
       " u'|FLAGELLAR-MOTOR-COMPLEX|',\n",
       " u'|1-PFK|',\n",
       " u'|CPLX0-8125|',\n",
       " u'|CPLX0-7687|']"
      ]
     },
     "execution_count": 10,
     "metadata": {},
     "output_type": "execute_result"
    }
   ],
   "source": [
    "\"\"\"\n",
    "filter\n",
    "Keyword The type of protein complexes to return. The argument must be one of the \n",
    "following values:\n",
    "\n",
    ":all or t\n",
    "Return all protein complexes. \n",
    ":hetero\n",
    "Return all heteromultimers. \n",
    ":homo\n",
    "Return all homomultimers. \n",
    "\"\"\"\n",
    "\n",
    "ecoli.all_protein_complexes(filter = 'all')[0:10]\n",
    "ecoli.all_protein_complexes(filter = 'hetero')[0:10]\n",
    "ecoli.all_protein_complexes(filter = 'homo')[0:10]\n",
    "ecoli.all_protein_complexes()[0:10]"
   ]
  },
  {
   "cell_type": "code",
   "execution_count": 11,
   "metadata": {},
   "outputs": [
    {
     "name": "stdout",
     "output_type": "stream",
     "text": [
      "all-transcription-factors\n",
      "(all-transcription-factors  :allow-modified-forms? t)\n",
      "(with-organism (:org-id '|ECOLI|) (all-transcription-factors  :allow-modified-forms? t))\n",
      "all-transcription-factors\n",
      "(all-transcription-factors  :allow-modified-forms? t)\n",
      "(with-organism (:org-id '|ECOLI|) (all-transcription-factors  :allow-modified-forms? t))\n"
     ]
    },
    {
     "data": {
      "text/plain": [
       "[u'|G6165-MONOMER|',\n",
       " u'|PHOSPHO-NARP|',\n",
       " u'|G6882-MONOMER|',\n",
       " u'|MONOMER0-1|',\n",
       " u'|G7947-MONOMER|',\n",
       " u'|G6175-MONOMER|',\n",
       " u'|EG11554-MONOMER|',\n",
       " u'|PD01196|',\n",
       " u'|EG10087-MONOMER|',\n",
       " u'|EG10226-MONOMER|']"
      ]
     },
     "execution_count": 11,
     "metadata": {},
     "output_type": "execute_result"
    }
   ],
   "source": [
    "\"\"\"\n",
    "Side-Effects\n",
    "\n",
    "allow-modified-forms?\n",
    "Keyword, Optional A boolean value. If true, modified and unmodified forms of the \n",
    "protein are returned. If false, then only unmodified forms of the proteins are \n",
    "returned. The default value is t.\n",
    "\"\"\"\n",
    "\n",
    "ecoli.all_transcription_factors()[0:10]\n",
    "ecoli.all_transcription_factors(allow_modified_forms = True)[0:10]"
   ]
  },
  {
   "cell_type": "code",
   "execution_count": 12,
   "metadata": {},
   "outputs": [
    {
     "name": "stdout",
     "output_type": "stream",
     "text": [
      "all-genetic-regulation-proteins\n",
      "(all-genetic-regulation-proteins  :class '|Regulation| :allow-modified-forms? nil)\n",
      "(with-organism (:org-id '|ECOLI|) (all-genetic-regulation-proteins  :class '|Regulation| :allow-modified-forms? nil))\n"
     ]
    },
    {
     "data": {
      "text/plain": [
       "[u'|G6165-MONOMER|',\n",
       " u'|NARP-MONOMER|',\n",
       " u'|TAR-CPLX|',\n",
       " u'|G6882-MONOMER|',\n",
       " u'|EG11140-MONOMER|',\n",
       " u'|EG10881-MONOMER|',\n",
       " u'|G7947-MONOMER|',\n",
       " u'|G6175-MONOMER|',\n",
       " u'|EG12111-MONOMER|',\n",
       " u'|EG11554-MONOMER|']"
      ]
     },
     "execution_count": 12,
     "metadata": {},
     "output_type": "execute_result"
    }
   ],
   "source": [
    "\"\"\"\n",
    "class\n",
    "Keyword, Optional The class |Regulation| or a subclass. It defaults to \n",
    "|Regulation‑of‑Transcription‑Initiation|. \n",
    "allow-modified forms?\n",
    "Keyword, Optional A boolean value. If true, modified and unmodified forms of the \n",
    "protein are returned. If false, then only unmodified forms of the proteins are \n",
    "returned. The default value is t.\n",
    "\"\"\"\n",
    "\n",
    "ecoli.all_genetic_regulation_proteins(class_name = u'|Regulation|', allow_modified_forms = False)[0:10]"
   ]
  },
  {
   "cell_type": "code",
   "execution_count": 13,
   "metadata": {},
   "outputs": [
    {
     "name": "stdout",
     "output_type": "stream",
     "text": [
      "all-sigma-factors\n",
      "(all-sigma-factors  )\n",
      "(with-organism (:org-id '|ECOLI|) (all-sigma-factors  ))\n"
     ]
    },
    {
     "data": {
      "text/plain": [
       "[u'|EG11355-MONOMER|',\n",
       " u'|RPOE-MONOMER|',\n",
       " u'|RPOD-MONOMER|',\n",
       " u'|RPON-MONOMER|',\n",
       " u'|PD00440|',\n",
       " u'|RPOS-MONOMER|',\n",
       " u'|RPOH-MONOMER|']"
      ]
     },
     "execution_count": 13,
     "metadata": {},
     "output_type": "execute_result"
    }
   ],
   "source": [
    "ecoli.all_sigma_factors()"
   ]
  },
  {
   "cell_type": "code",
   "execution_count": 14,
   "metadata": {},
   "outputs": [
    {
     "name": "stdout",
     "output_type": "stream",
     "text": [
      "all-operons\n",
      "(all-operons  )\n",
      "(with-organism (:org-id '|ECOLI|) (all-operons  ))\n"
     ]
    },
    {
     "data": {
      "text/plain": [
       "[[u'|TU0-8814|'],\n",
       " [u'|TU0-8710|'],\n",
       " [u'|TU0-13847|'],\n",
       " [u'|TU0-13769|'],\n",
       " [u'|TU0-13667|'],\n",
       " [u'|TU00321|'],\n",
       " [u'|TU0-13385|'],\n",
       " [u'|TU00223|'],\n",
       " [u'|TU0-14243|'],\n",
       " [u'|TU0-14168|']]"
      ]
     },
     "execution_count": 14,
     "metadata": {},
     "output_type": "execute_result"
    }
   ],
   "source": [
    "ecoli.all_operons()[0:10]"
   ]
  },
  {
   "cell_type": "code",
   "execution_count": 15,
   "metadata": {},
   "outputs": [
    {
     "name": "stdout",
     "output_type": "stream",
     "text": [
      "all-rxns\n",
      "(all-rxns ::enzyme )\n",
      "(with-organism (:org-id '|ECOLI|) (all-rxns ::enzyme ))\n",
      "rxns-w-isozymes\n",
      "(rxns-w-isozymes  :rxns '(|DCYSDESULF-RXN| |RXN-11837| |RXN-14142| |DIHYDROOROTATE-DEHYDROGENASE-RXN| |RXN-12402| |RXN0-5285| |GLUCOSE-1-PHOSPHAT-RXN| |INOSINE-NUCLEOSIDASE-RXN| |RXN0-6509| |RXN0-6575| |RXN0-7167| |GLYCOGENSYN-RXN| |PUTTRANSAM-RXN| |2.7.10.1-RXN| |5.99.1.2-RXN| |1.5.1.34-RXN| |DHDOGALDOL-RXN| |RXN-19777| |RXN0-1661| |RXN0-6975| |RXN0-5364| |RXN-12073| |RXN-14285| |RXN-18999| |RXN-17780| |GLUTRACE-RXN| |KETOACYLCOATHIOL-RXN| |3.1.13.5-RXN| |QUINOPRIBOTRANS-RXN| |RXN0-6734| |RXN0-7251| |RXN-11635| |DIHYDROXYMETVALDEHYDRAT-RXN| |3-HYDROXBUTYRYL-COA-DEHYDRATASE-RXN| |ACETOOHBUTREDUCTOISOM-RXN| |RXN0-5418| |RXN-2962| |RXN0-2161| |GLCNACPTRANS-RXN| |RXN-17796| |RXN-12508| |RXN-14478| |RXN-12816| |RIBOFLAVINSYNREDUC-RXN| |GLYCPDIESTER-RXN| |LTAA-RXN| |RXN0-6541| |DTMPKI-RXN| |RXN0-6980| |RXN0-961| |DALADEHYDROG-RXN| |GMP-SYN-NH3-RXN| |RXN0-6272| |3.1.22.4-RXN| |ACYLPHOSPHATASE-RXN| |2.1.1.79-RXN| |RXN-17920| |RXN0-2661| |RXN0-6998| |RXN-19381| |F16BDEPHOS-RXN| |GSPAMID-RXN| |MALTODEXGLUCOSID-RXN| |3.2.1.17-RXN| |FCLREDUCT-RXN| |RXN0-7007| |SERINE--TRNA-LIGASE-RXN| |RXN-11842| |RXN0-6459| |3.2.2.23-RXN| |AICARSYN-RXN| |RXN-18092| |FORMATEDEHYDROG-RXN| |RXN-7968| |RXN-18376| |RXN-8344| |RXN0-303| |GLUTAMIDOTRANS-RXN| |RXN-11484| |RXN-11396| |RXN-13202| |GALACTOACETYLTRAN-RXN| |H2PTEROATESYNTH-RXN| |METHYLMALONYL-COA-EPIM-RXN| |RXN0-6710| |RXN0-6506| |RXN0-7066| |SUCCINYLDIAMINOPIMTRANS-RXN| |FUCPALDOL-RXN| |GUANYLCYC-RXN| |1.5.1.20-RXN| |3.4.21.83-RXN| |ALLANTOINASE-RXN| |NADH-DEHYDROG-A-RXN| |2.7.7.8-RXN| |RXN-13403| |RXN-8992| |RXN0-3542| |RXN0-6485| |RXN0-703| |RXN-11633| |RXN-14073| |RXN0-4701| |GKI-RXN| |HOMSUCTRAN-RXN| |NADPYROPHOSPHAT-RXN| |1.1.1.39-RXN| |3.4.19.12-RXN| |RXN0-6532| |RXN0-7104| |THIAZOLSYN3-RXN| |RXN-12195| |2.1.1.77-RXN| |4.2.99.18-RXN| |ANTHRANSYN-RXN| |RXN-18709| |RXN-8675| |RXN-19362| |RXN0-1241| |RXN0-4121| |GLYCDEH-RXN| |RXN-11841| |RXN-14181| |RXN-15297| |RXN-11596| |RXN-14025| |CITLY-RXN| |GLURS-RXN| |ISOCHORSYN-RXN| |NUCLEOTIDE-PYROPHOSPHATASE-RXN| |RXN0-6948| |RXN0-6708| |RXN0-7187| |GDP-GLUCOSIDASE-RXN| |HOMOCYSMET-RXN| |2.7.7.60-RXN| |6PGLUCONOLACT-RXN| |ASPARTATE--TRNA-LIGASE-RXN| |3-PHOSPHOGLYCERATE-PHOSPHATASE-RXN| |RXN-19920| |RXN0-1863| |RXN0-5001| |RXN0-6526| |RXN0-7092| |RXN-14361| |RXN-15744| |GLYC3PDEHYDROGBIOSYN-RXN| |L-GLN-FRUCT-6-P-AMINOTRANS-RXN| |OXAMATE-CARBAMOYLTRANSFERASE-RXN| |2-OCTAPRENYL-METHOXY-BENZOQ-METH-RXN| |3PGAREARR-RXN| |RXN0-6945| |RXN0-7275| |TRYPSYN-RXN| |RXN-12587| |3-OCTAPRENYL-4-OHBENZOATE-DECARBOX-RXN| |ACETYLGLUTKIN-RXN| |BIS5-ADENOSYL-TRIPHOSPHATASE-RXN| |RXN-19312| |RXN-9951| |RXN-3641| |RXN0-2361| |RXN0-5074| |GLYOXIII-RXN| |RXN-12583| |RXN-14483| |RXN-16286| |RXN-11836| |RXN-14139| |GLYOXII-RXN| |LYSDECARBOX-RXN| |PGLYCDEHYDROG-RXN| |RXN-13158| |RXN0-6985| |RXN0-6984| |RXN0-985| |UDPNACETYLGLUCOSAMENOLPYRTRANS-RXN| |GLUCOSAMINE-KINASE-RXN| |INOSINATE-NUCLEOSIDASE-RXN| |3.1.26.4-RXN| |ADENODEAMIN-RXN| |CHORISMATE-SYNTHASE-RXN| |3.1.26.5-RXN| |RXN-7632| |RXN0-2787| |RXN0-5127| |RXN0-6566| |RXN0-7166| |RXN-12886| |RXN-14524| |RXN-16689| |RXN-7682| |GTP-CYCLOHYDRO-II-RXN| |MANNONOXIDOREDUCT-RXN| |PHOSMANMUT-RXN| |2.7.1.148-RXN| |5.4.2.10-RXN| |RXN0-7013| |SIROHEME-FERROCHELAT-RXN| |VALINE--TRNA-LIGASE-RXN| |RXN-12895| |3.4.11.9-RXN| |ALADEHYDCHLORO-RXN| |CYSTEINE--TRNA-LIGASE-RXN| |RXN-19776| |RXN0-1603| |RXN0-310| |RXN0-5195| |GTPPYPHOSKIN-RXN| |RXN-13853| |RXN-17008| |RXN-12072| |RXN-14284| |HISTALDEHYD-RXN| |MHPELY-RXN| |PPENTOMUT-RXN| |RXN0-7014| |RXN0-7075| |SULFATE-ADENYLYLTRANS-RXN| |DARABKIN-RXN| |GLUTKIN-RXN| |KDUD-RXN| |3.4.23.43-RXN| |ALTRO-OXIDOREDUCT-RXN| |RXN0-5227| |3.4.13.18-RXN| |RXN-9310| |RXN0-363| |RXN-17630| |RXN0-6733| |RXN-17928| |RXN0-7250| |RXN-14112| |RXN-15125| |PRTRANS-RXN| |RXN-8506| |RXN-17910| |HYPOXANPRIBOSYLTRAN-RXN| |NANK-RXN| |DETHIOBIOTIN-SYN-RXN| |3-DEHYDROQUINATE-SYNTHASE-RXN| |ACETOLACTSYN-RXN| |RXN0-7122| |THREDEHYD-RXN| |RXN0-5311| |SUCCINATE-DEHYDROGENASE-UBIQUINONE-RXN| |RXN-13854| |5-FORMYL-THF-CYCLO-LIGASE-RXN| |ARGDECARBOX-RXN| |RXN-17775| |RXN0-2101| |RXN0-1382| |RXN0-4261| |PYRUVATEDECARB-RXN| |HISTAMINOTRANS-RXN| |RXN-14251| |RXN-15313| |DIHYDROFOLATESYNTH-RXN| |RXN-12480| |RXN-14477| |KDGALDOL-RXN| |OCTAPRENYL-METHYL-METHOXY-BENZOQ-OH-RXN| |RXN0-5408| |RXN0-7078| |RXN0-7229| |TRE6PHYDRO-RXN| |RXN-17791| |GLYCOPHOSPHORYL-RXN| |LIPIDXSYNTHESIS-RXN| |ACETALD-DEHYDROG-RXN| |ASPDECARBOX-RXN| |RHAMNULPALDOL-RXN| |3.4.24.55-RXN| |RXN0-2001| |RXN0-5040| |DTDPDEHYDRHAMEPIM-RXN| |RXN0-6979| |RXN0-901| |RXN-14393| |RXN-15889| |RXN0-5515| |RXN-9311| |LACTALDDEHYDROG-RXN| |PANTEPADENYLYLTRAN-RXN| |RXN-17905| |3.1.21.7-RXN| |ACYLCOASYN-RXN| |RXN0-7291| |TYROSINE--TRNA-LIGASE-RXN| |RXN0-5388| |RXN-14113| |ACNEULY-RXN| |BTUR2-RXN| |ERYTH4PDEHYDROG-RXN| |RXN-7253| |RXN0-2625| |RXN0-2584| |RXN0-5107| |RXN0-6389| |IGPSYN-RXN| |RXN-16456| |RXN-14514| |LYXK-RXN| |UNDECAPRENYL-DIPHOSPHATASE-RXN| |RXN0-7139| |RXNMETA-12671| |CITSYN-RXN| |GSDEADENYLATION-RXN| |MALTODEG-RXN| |ADENPRIBOSYLTRAN-RXN| |RXN0-5144| |5-NUCLEOTID-RXN| |RXN0-2941| |RXN0-7002| |GLUTAMATESYN-RXN| |SELENOCYSTEINE-LYASE-RXN| |RXN-14569| |PHOSPHASERSYN-RXN| |RXN0-1401| |MERCAPYSTRANS-RXN| |XYLISOM-RXN| |3.2.2.21-RXN| |AGMATIN-RXN| |SPERMIDINESYN-RXN| |CYTIDEAM2-RXN| |RXN-14255| |ALCOHOL-DEHYDROG-GENERIC-RXN| |RXN0-5209| |RXN0-7049| |RXN-8342| |RXN0-7124| |RXN0-302| |RXN0-3221| |RXN-17307| |RXN0-1130| |KDO-8PPHOSPHAT-RXN| |PREPHENATEDEHYDRAT-RXN| |N-ACETYLGLUTPREDUCT-RXN| |DCUS-RXN| |RXN0-7230| |TAGAALDOL-RXN| |RXN0-5240| |DSBDC-RXN| |H2PTERIDINEPYROPHOSPHOKIN-RXN| |METHYLISOCITRATE-LYASE-RXN| |AMINEPHEN-RXN| |RXN-17634| |ACETATE--COA-LIGASE-RXN| |RXN0-384| |PTAALT-RXN| |RXN0-7048| |RXN0-705| |SUCCINATE-SEMIALDEHYDE-DEHYDROGENASE-RXN| |DHBDEHYD-RXN| |RXN0-7096| |RXN0-2022| |NICONUCADENYLYLTRAN-RXN| |RXN0-5363| |3.4.21.53-RXN| |ALLANTOATE-DEIMINASE-RXN| |RXN-17779| |RXN0-7310| |RXN-14394| |ARGSUCCINSYN-RXN| |QUINOLINATE-SYNTHA-RXN| |RXN-8991| |RXN0-3521| |RXN0-4342| |DIHYDROXYISOVALDEHYDRAT-RXN| |LACTALDREDUCT-RXN| |RXN0-5414| |DSBD-RXN| |RXN-14065| |RXN-15119| |OHMETPYRKIN-RXN| |RXN-17795| |PFLDEACTIV-RXN| |RXN0-7298| |TRIOSEPISOMERIZATION-RXN| |RIBOFLAVINSYNDEAM-RXN| |RXN0-7094| |HOMOSERKIN-RXN| |NADPH-DEHYDROGENASE-FLAVIN-RXN| |BADH-RXN| |DTDPKIN-RXN| |RXN0-1137| |ACONITATE-DELTA-ISOMERASE-RXN| |RXN0-5061| |RXN0-6271| |RXN0-7103| |THI-P-SYN-RXN| |RXN-16000| |RXN-17919| |RXN0-2601| |PEPCARBOX-RXN| |4.2.1.99-RXN| |AMYLOMALT-RXN| |UDP-NACMURALGLDAPAALIG-RXN| |F16ALDOLASE-RXN| |RXN-14505| |CARNDETRU-RXN| |RXN0-6446| |RXN0-7003| |RXN0-1081| |RXN0-4022| |RXN0-5118| |ADPREDUCT-RXN| |MALATE-DEH-RXN| |RXN-16650| |RXN-18258| |CHEBTAPD-RXN| |RXN-14161| |RXN-15296| |PHENPRODIOLDEHYDROG-RXN| |RXN-11475| |DEPHOSICITDEHASE-RXN| |R601-RXN| |RXNMETA-12672| |URIDINE-NUCLEOSIDASE-RXN| |GALACTARDEHYDRA-RXN| |GDPREDUCT-RXN| |ISOCHORMAT-RXN| |NUCLEOSIDE-DIPHOSPHATASE-RXN| |COBINPGUANYLYLTRANS-RXN| |RXN0-6502| |MYRISTOYLACYLTRAN-RXN| |ADENYL-KIN-RXN| |RXN0-5183| |1.2.99.7-RXN| |PROTEIN-KINASE-RXN| |RXN0-7173| |RXN-16910| |RXN-18739| |RXN-10658| |RXN0-2942| |PHOSPHOGLYCERATE-PHOSPHATASE-RXN| |RXN-11602| |RXN-12473| |6PFRUCTPHOS-RXN| |ASPARTASE-RXN| |YIAE2-RXN| |GDPPYPHOSKIN-RXN| |RXN-16381| |RXN-14570| |D-PPENTOMUT-RXN| |RXN0-6531| |RXN-17355| |RXN0-1862| |RXN0-4961| |RXN0-5216| |2.1.1.72-RXN| |RXN-19340| |METBALT-RXN| |RXN-17393| |RXN-19343| |RXN-5741| |RXN-14325| |RXN-15743| |PROLINE--TRNA-LIGASE-RXN| |RXN-11840| |RXN-9533| |DEOXYADENPHOSPHOR-RXN| |GLUCUROISOM-RXN| |RXN-9660| |L-ASPARTATE-OXID-RXN| |OXALYL-COA-DECARBOXYLASE-RXN| |RXN0-5292| |RXN0-6677| |RXN0-1144| |ALCOHOL-DEHYDROG-RXN| |RXN-17701| |2.7.7.13-RXN| |RXN0-5098| |RXN0-7272| |TRNA-URACIL-5--METHYLTRANSFERASE-RXN| |PYRIDOXINE-4-DEHYDROGENASE-RXN| |RXN-19919| |RXN0-6435| |RXN0-3241| |DIAMACTRANS-RXN| |RXN-12107| |RXN0-6547| |ACETYLESTERASE-RXN| |BETAGALACTOSID-RXN| |RXN0-5387| |GLY3KIN-RXN| |RXN0-745| |RXN-17783| |RXN0-6944| |UDPHYDROXYMYRGLUCOSAMNACETYLTRANS-RXN| |RXN0-2301| |RXN0-5073| |R170-RXN| |3-NUCLEOTID-RXN| |1.3.1.9-RXN| |N-ACETYLTRANSFER-RXN| |DLACTDEHYDROGNAD-RXN| |2.7.3.9-RXN| |RXN-14481| |RXN-16281| |RXN0-5435| |ARCB-RXN| |TAGAKIN-RXN| |RXN-17799| |GLYOXI-RXN| |CHEBTSRD-RXN| |LXULRU5P-RXN| |PGLUCONDEHYDRAT-RXN| |RIBOSYLHOMOCYSTEINASE-RXN| |RXN0-6983| |ENOYL-ACP-REDUCT-NADPH-RXN| |AMINOBUTDEHYDROG-RXN| |DUTP-PYROP-RXN| |3.1.26.3-RXN| |NARLX-RXN| |RXN0-984| |UDPMANNACADEHYDROG-RXN| |RXN0-6359| |RXN-7609| |PYRUFLAVREDUCT-RXN| |RXN0-385| |RXN-17935| |RXN-10661| |ADENINE-DEAMINASE-RXN| |CHEYDEPHOS-RXN| |GTP-CYCLOHYDRO-I-RXN| |RXN-14107| |RXN0-7012| |RXN-17014| |RXN0-275| |RXN0-5126| |FMNREDUCT-RXN| |3.4.11.4-RXN| |RXN-17474| |NICOTINAMID-RXN| |RXN0-6462| |RXN-19445| |RXN-14523| |RXN0-5260| |RXN-16688| |1.1.1.127-RXN| |RXN-1381| |RXN-8629| |THRESYN-RXN| |RXN-18435| |HEMN-RXN| |RXN-9537| |MANNONDEHYDRAT-RXN| |PHOSGLYPHOS-RXN| |RXN-11576| |RXN0-7074| |RXN-9663| |ARYLAMINE-N-ACETYLTRANSFERASE-RXN| |GALACTONOLACTONASE-RXN| |3.4.21.92-RXN| |RXN0-2141| |SHIKIMATE-KINASE-RXN| |URUR-RXN| |RXN0-6512| |RXN-9087| |RXN0-5204| |RXN0-4361| |1PFRUCTPHOSN-RXN| |RXN-14091| |RXN0-6705| |AKBLIG-RXN| |CYSTATHIONINE-BETA-LYASE-RXN| |RXN0-7195| |RXN-11193| |RXN-11638| |RXN0-7119| |RXN0-748| |RXN0-308| |RXN0-5192| |GLUC1PADENYLTRANS-RXN| |4OHBENZOATE-OCTAPRENYLTRANSFER-RXN| |UHPB-RXN| |RXN0-6554| |ORNCARBAMTRANSFER-RXN| |RXN0-6549| |RXN0-1342| |1.8.1.4-RXN| |RXN-16998| |2.3.1.157-RXN| |RXN-14249| |3-HYDROXYDECANOYL-ACP-DEHYDR-RXN| |TRIPHOSPHATASE-RXN| |RXN-19472| |ISPH2-RXN| |CHERTARM-RXN| |MHPCHYDROL-RXN| |PORPHOBILSYNTH-RXN| |RXN-11845| |RXN0-7227| |EVGA-RXN| |RXN-12893| |BAES-RXN| |GLUTAMINE--TRNA-LIGASE-RXN| |ACECOATRANS-RXN| |HYDH-RXN| |SUGAR-PHOSPHATASE-RXN| |DARABISOM-RXN| |RXN0-6720| |RXN0-1941| |NITRATE-REDUCTASE-CYTOCHROME-RXN| |2.7.9.3-RXN| |RXN-14382| |RIBONUCLEOSIDE-DIP-REDUCTI-RXN| |ALPHAGALACTOSID-RXN| |RXN0-5226| |RXN-19924| |L-RHAMNONATE-DEHYDRATASE-RXN| |RXN-11476| |PEPCARBOXYKIN-RXN| |RXN-12198| |RXN0-7285| |RXN-14498| |RXN0-361| |GLYCEROL-2-PHOSPHATASE-RXN| |ACID-PHOSPHATASE-RXN| |RXN-17017| |UDP-NACMURALGLDAPLIG-RXN| |RXN0-6952| |RXN0-2441| |RXN-9514| |PRPPSYN-RXN| |3.1.11.2-RXN| |RXN-9550| |CATAL-RXN| |RXN-5822| |LYXISOM-RXN| |RXN-9789| |NANE-RXN| |DEPHOSPHOCOAKIN-RXN| |RXN-12618| |RXN66-526| |RXN0-2145| |RXN0-5120| |GLYRIBONUCSYN-RXN| |ADENPHOSPHOR-RXN| |RXN0-5401| |THIOSULFATE-SULFURTRANSFERASE-RXN| |RXN0-5306| |RXN0-6988| |RXN0-2921| |RXN0-7198| |RXN-16659| |3.1.27.6-RXN| |RXN-14552| |RXN0-947| |ARCBTRANS-RXN| |RXN-17754| |RXN-7913| |MANNPISOM-RXN| |1.8.4.14-RXN| |PHENYLALANINE--TRNA-LIGASE-RXN| |RXN-13072| |SPERMACTRAN-RXN| |3-OXOACYL-ACP-SYNTH-RXN| |RXN0-4223| |PYRROLINECARBREDUCT-RXN| |GUANOSINE-DIPHOSPHATASE-RXN| |ALARACECAT-RXN| |3.4.11.1-RXN| |URIDINEKIN-RXN| |RXN0-7021| |RXN0-3201| |BASR-RXN| |RXN-15312| |DIHYDROFOLATEREDUCT-RXN| |3.4.13.22-RXN| |FERREDOXIN--NAD+-REDUCTASE-RXN| |CPM-KDOSYNTH-RXN| |RXN-8642| |N-ACETYLGLUCOSAMINE-KINASE-RXN| |MALONYL-ACPDECARBOX-RXN| |O-SUCCINYLBENZOATE-COA-SYN-RXN| |RXN0-5407| |RXN-13990| |SUPEROX-DISMUT-RXN| |NRIPHOS-RXN| |ASNSYNB-RXN| |RXN0-5184| |HISTIDINE--TRNA-LIGASE-RXN| |AMINEOXID-RXN| |RSTA-RXN| |TRANSENOYLCOARED-RXN| |RXN-17790| |RXN0-383| |RXN-11479| |RXN-16937| |3.5.1.88-RXN| |RXN-15131| |RXN-15510| |ASPCARBTRANS-RXN| |RHAMNULOKIN-RXN| |NARX-RXN| |RXN-17020| |PMPOXI-RXN| |RXN-14116| |THREONINE-ALDOLASE-RXN| |RXN-17897| |RXN0-5039| |RXN0-5268| |DSERDEAM-RXN| |IMP-DEHYDROG-RXN| |ARGSUCCINLYA-RXN| |RXN-19619| |DADPKIN-RXN| |RXN0-7143| |RXN0-4341| |RXN-9520| |RXN-15881| |RXN0-5510| |5.1.3.20-RXN| |RXN-9557| |RXN0-5217| |RXN0-1441| |OHMETHYLBILANESYN-RXN| |RXN0-1132| |PABASYN-RXN| |RXN-17900| |RXN-14261| |TREHALOSEPHOSPHA-RXN| |RXN0-5513| |RXN-17472| |KDOTRANS-RXN| |ATPPHOSPHORIBOSYLTRANS-RXN| |RXN0-7039| |TSA-REDUCT-RXN| |RXN0-7238| |RXN0-5057| |RXN0-724| |2.6.1.82-RXN| |PROPIONATE--COA-LIGASE-RXN| |ACETOACETATE-DECARBOXYLASE-RXN| |RXN-15952| |THIAZOLSYN2-RXN| |BRANCHED-CHAINAMINOTRANSFERVAL-RXN| |ENTMULTI-RXN| |RXN0-2042| |PDXJ-RXN| |2.1.1.63-RXN| |DEOXYGLUCONOKIN-RXN| |UDP-NACMURALA-GLU-LIG-RXN| |4.2.1.61-RXN| |RXN0-5103| |RXN-8001| |RXN0-6388| |LCYSDESULF-RXN| |CARDIOLIPSYN-RXN| |BIOTINLIG-RXN| |RXN0-5294| |RXN0-7309| |RXN0-5116| |CITTRANS-RXN| |RXN-16424| |ACONITATEHYDR-RXN| |RXN-16649| |RXN-17724| |RXN0-2605| |PHENDEHYD-RXN| |MCPTAP-RXN| |PGPPHOSPHA-RXN| |RXN-11326| |RXN-14510| |UREIDOGLYCOLATE-LYASE-RXN| |PHOBR-RXN| |PYRIDOXKIN-RXN| |MALATE-DEHYDROGENASE-NADP+-RXN| |COBINAMIDEKIN-RXN| |RXN-10654| |UGD-RXN| |FUCISOM-RXN| |S-FORMYLGLUTATHIONE-HYDROLASE-RXN| |RXN0-5182| |RXN-11482| |DIAMINOPIMDECARB-RXN| |ADENYLOSUCCINATE-SYNTHASE-RXN| |RXN-16909| |RXN-17023| |CITRATE-PRO-3S-LYASE-THIOLESTERASE-RXN| |RXN0-6484| |RXN0-2945| |PHOSPHOGLUCMUT-RXN| |RXN-18584| |ISOCITDEH-RXN| |RXN0-5390| |RXN-14712| |YIAE1-RXN| |RXN-19949| |RXN0-5141| |1.1.1.283-RXN| |METHGLYSYN-RXN| |D--TARTRATE-DEHYDRATASE-RXN| |RXN-9527| |RXN-17784| |SUCCCOASYN-RXN| |RXN0-5214| |RXN-9655| |RXN-16701| |RXN-18708| |ALDEHYDE-DEHYDROGENASE-NADP+-RXN| |RXN-17392| |RXN0-1138| |R303-RXN| |RXN0-3281| |PRODISULFREDUCT-RXN| |RXN0-321| |PHOSPHASERDECARB-RXN| |RXN-11593| |DEHYDDEOXPHOSGALACT-ALDOL-RXN| |RXN0-7095| |DMBPPRIBOSYLTRANS-RXN| |NAD-KIN-RXN| |RXN0-5291| |RXN0-7297| |XANTHOSINEPHOSPHORY-RXN| |GCVMULTI-RXN| |TDPFUCACTRANS-RXN| |RXN-17700| |TORT-RXN| |RXN0-5437| |AMINOPROPDEHYDROG-RXN| |PYRAZIN-RXN| |2.3.1.180-RXN| |CYTIDEAM-RXN| |RXN0-6525| |RXN0-3921| |DIACYLGLYKIN-RXN| |ACYLGPEACYLTRANS-RXN| |RXN-17809| |RXN-15210| |RXN0-5383| |CHEBDEP-RXN| |RXN0-5208| |2-OCTAPRENYL-6-OHPHENOL-METHY-RXN| |NMNAMIDOHYDRO-RXN| |RXN-17782| |RIBOSYLNICOTINAMIDE-KINASE-RXN| |THYKI-RXN| |R165-RXN| |GCVT-RXN| |RXN-17011| |RXN-19311| |ASNSYNA-RXN| |DIOHBUTANONEPSYN-RXN| |MCPTSR-RXN| |RXN-17663| |DXPREDISOM-RXN| |RXN0-4581| |RXN0-5433| |PRAISOM-RXN| |RXN-11835| |RXN-15513| |RXN-17798| |RXN-10657| |RXN0-6366| |OROPRIBTRANS-RXN| |RIBOPHOSPHAT-RXN| |RXN-15915| |DCTP-PYROPHOSPHATASE-RXN| |GLUCOSAMINE-6-P-DEAMIN-RXN| |TRNA-GUANINE-N7--METHYLTRANSFERASE-RXN| |DURIDKI-RXN| |RXN-17354| |RXN-17936| |BASS-RXN| |RXN0-6277| |RXN-18678| |RXN0-5234| |RXN0-6565| |RXN-16009| |RXN-17931| |RXN-20000| |RXN-11109| |PEPSYNTH-RXN| |RXN-10819| |RXN-9532| |2.7.1.121-RXN| |UDPGLCNACEPIM-RXN| |FCLEPIM-RXN| |RXN-9659| |FOLYLPOLYGLUTAMATESYNTH-RXN| |CDPDIGLYSYN-RXN| |RXN-10940| |RXN0-1141| |PSEUDOURIDINE-KINASE-RXN| |RXN-19775| |RXN0-5122| |FHLMULTI-RXN| |RXN0-5055| |RXN0-6478| |RXN-16664| |RXN0-6461| |RXN0-6546| |DHBAMPLIG-RXN| |RXN-12071| |PHENYLSERINE-ALDOLASE-RXN| |RXN0-7108| |1.1.1.168-RXN| |UROGENDECARBOX-RXN| |RXN-11574| |RXN0-5361| |GLUTDEHYD-RXN| |CREC-RXN| |GALACTONDEHYDRAT-RXN| |1-ACYLGLYCEROL-3-P-ACYLTRANSFER-RXN| |RXN-18549| |RXN0-5186| |RXN0-6510| |2.7.13.1-RXN| |RXN-17778| |RXN0-6732| |1.8.4.4-RXN| |ARCA-RXN| |RXN-11578| |PNP-RXN| |RXN-19004| |CHEBTRGD-RXN| |QUERCETIN-23-DIOXYGENASE-RXN| |3-DEHYDROQUINATE-DEHYDRATASE-RXN| |DALADALALIG-RXN| |RXN-11637| |ENOYL-ACP-REDUCT-NADH-RXN| |GALACTURIDYLYLTRANS-RXN| |GLU6PDEHYDROG-RXN| |GSADENYLATION-RXN| |DIHYDROURACIL-DEHYDROGENASE-NAD+-RXN| |RXN-17489| |RXN0-6542| |NARLQ-RXN| |RXN0-6515| |PROPKIN-RXN| |2.3.1.118-RXN| |PYFLAVOXRE-RXN| |RXN0-5413| |RXN-12458| |DEOXYINOPHOSPHOR-RXN| |RXN-19407| |RXN-10660| |1TRANSKETO-RXN| |RXN0-5297| |RXN-11843| |RXN-13039| |RXN-17794| |GLYCOLATEDEHYDRO-RXN| |RXN-17726| |GLUTAMIN-RXN| |RXN-17013| |RXN-19024| |PYRIMSYN3-RXN| |RXN0-6717| |RXN-17363| |RIBOFLAVINKIN-RXN| |RXN0-6978| |DIAMTRANSAM-RXN| |2.7.8.25-RXN| |RXN-19366| |RXN-11776| |RXN0-5393| |RXN-19922| |RXN-7716| |DTDPGLUCOSEPP-RXN| |3.1.21.3-RXN| |RXN-17786| |RXN-12197| |RXN-9536| |GLUC1PURIDYLTRANS-RXN| |R524-RXN| |GLYCEROL-1-PHOSPHATASE-RXN| |RXN-9662| |RXN0-6259| |RXN-6622| |DNA-CYTOSINE-5--METHYLTRANSFERASE-RXN| |RXN0-6950| |RXN0-20| |RXN0-6550| |RXN0-5461| |3.1.11.1-RXN| |RXN0-5194| |RXN-17918| |RXN-17847| |RXN-5647| |RXN0-6445| |2.4.1.230-RXN| |RIBULP3EPIM-RXN| |RXN-12611| |RXN0-6561| |RXN-10040| |GSAAMINOTRANS-RXN| |ENOYL-COA-DELTA-ISOM-RXN| |GLYOXYLATE-REDUCTASE-NADP+-RXN| |RXN0-7192| |RXN-19474| |RXN0-6368| |RXN0-6987| |RXN0-747| |EXOPOLYPHOSPHATASE-RXN| |RXN0-7001| |RXN-17954| |3.1.27.5-RXN| |UDPREDUCT-RXN| |RXN-11860| |RXN-17960| |1.7.2.3-RXN| |RXN0-6444| |3.2.2.10-RXN| |RXN-11152| |RXN-12896| |2OXOGLUTDECARB-RXN| |GLUTAMINESYN-RXN| |FORMYLTHFGLUSYNTH-RXN| |GUANINE-DEAMINASE-RXN| |BAER-RXN| |RXN0-6451| |RXN-8340| |RXN0-6480| |RXN0-7020| |CHERTAPM-RXN| |1.1.1.251-RXN| |3.4.13.21-RXN| |ENVZ-RXN| |RXN-18241| |RXN0-6491| |RXN-13418| |RXN-18586| |RXN-8632| |HYDG-RXN| |2.8.1.6-RXN| |RXN-11588| |RXN-13859| |NARPX-RXN| |RXN-19778| |H2NTPEPIM-RXN| |GALPMUT-RXN| |HISTCYCLOHYD-RXN| |REDUCEDFE-S-RXN| |RXN-19953| |RXN0-6521| |RXN0-7079| |RXN-11474| |GABATRANSAM-RXN| |RXN0-7046| |2-ISOPROPYLMALATESYN-RXN| |3.4.24.70-RXN| |RXN-14391| |RXN-12274| |RXN-19026| |RXN-17016| |RXN0-6494| |RXN-13179| |3.4.21.107-RXN| |RXN-14115| |RXN-17824| |GLYCEROL-KIN-RXN| |GLUCOKIN-RXN| |IMIDPHOSDEHYD-RXN| |RXN-19473| |1.13.11.16-RXN| |RXN-8974| |RXN0-6556| |RXN0-7141| |RXN-8668| |RXN0-6957| |2.5.1.19-RXN| |5-OXOPROLINASE-ATP-HYDROLYSING-RXN| |RXN-9540| |RXN-18738| |RXN0-7123| |RXN-14064| |RXN-1961| |RXN0-1402| |RXN-9788| |3.1.11.6-RXN| |RXN-11866| |RXN-14260| |RXN0-2144| |RXN-11601| |HOMOSERDEHYDROG-RXN| |GLUTATHIONE-REDUCT-NADPH-RXN| |KDO-8PSYNTH-RXN| |RXN0-5231| |RXN-5921| |RXN0-6725| |RXN0-7235| |RXN0-6464| |GDPMANMANHYDRO-RXN| |2OXOGLUTARATEDEH-RXN| |ACETATEKIN-RXN| |RXN0-6718| |RXN-12752| |RXN-19988| |RXN0-2023| |RXN0-7197| |RXN0-6529| |4.1.2.28-RXN| |RXN-12353| |RXN0-802| |GMKALT-RXN| |GLYCOGEN-BRANCH-RXN| |LCARNCOALIG-RXN| |URITRANS-RXN| |2.1.1.34-RXN| |RXN0-1001| |RXN0-6974| |RXN0-7304| |1.8.4.13-RXN| |RXN0-6990| |3.1.13.3-RXN| |ACONITATEDEHYDR-RXN| |3-OXOACYL-ACP-SYNTH-BASE-RXN| |RXN-14160| |RXN-6201| |RXN0-2604| |BAROMP-RXN| |3.1.3.68-RXN| |RXN-14509| |CHERTSRM-RXN| |RXN-11839| |IPPISOM-RXN| |GMP-SYN-GLUT-RXN| |MALATE-DEHYDROGENASE-ACCEPTOR-RXN| |RXN-7931| |RXN0-6994| |S-ADENMETSYN-RXN| |NRIIPHOS-RXN| |RXN0-7170| |3.2.1.14-RXN| |ADENYLATECYC-RXN| |RIBONUCLEOSIDE-TRIP-REDUCT-RXN| |RXN-15294| |RXN-13141| |RXN0-7294| |RXN-7967| |RXN0-2943| |RXN-11478| |RXN0-6676| |RXN0-6501| |6-PHOSPHO-BETA-GLUCOSIDASE-RXN| |RXN-13182| |RXN-15509| |GUANOSINEKIN-RXN| |CPXR-RXN| |GUANYL-KIN-RXN| |METHENYLTHFCYCLOHYDRO-RXN| |RXN-17019| |2.7.7.1-RXN| |RXN0-7293| |RXN0-1861| |RXN0-7024| |SUCCARGDIHYDRO-RXN| |RXN-19618| |RXN0-7022| |PHOP-RXN| |3.4.17.8-RXN| |ALCOHOL-DEHYDROGENASE-NADPORNOP+-RXN| |RXN-9518| |RXN-19854| |URIDYLREM-RXN| |RXN-8667| |RXN0-3261| |RXN-9556| |3.4.13.9-RXN| |RXN0-6519| |RXN-14023| |RXN-982| |RXN-12104| |KETOGLUTREDUCT-RXN| |RXN0-7284| |HISTPRATPHYD-RXN| |NACGLCTRANS-RXN| |RXN0-2721| |RXN-8645| |RXN0-7090| |TARTRATE-DEHYDROGENASE-RXN| |RXN0-5468| |GLUTSEMIALDEHYDROG-RXN| |RXN0-7270| |325-BISPHOSPHATE-NUCLEOTIDASE-RXN| |AMINOCYL-TRNA-HYDROLASE-RXN| |RXN0-6499| |RXN-14002| |RXN-9772| |RXN0-3901| |RXN0-723| |RXN0-6941| |ACETYL-COA-ACETYLTRANSFER-RXN| |RXN-14136| |RXN-15147| |TDCEACT1-RXN| |HISTIDPHOS-RXN| |INORGPYROPHOSPHAT-RXN| |NICOTINATEPRIBOSYLTRANS-RXN| |1.97.1.4-A-RXN| |3-ISOPROPYLMALISOM-RXN| |RXN0-2281| |RXN0-7165| |THTOREDUCT-RXN| |3.1.4.14-RXN| |RXN0-7081| |5.3.4.1-RXN| |ARYLSULFAT-RXN| |4.2.1.59-RXN| |RXN-3521| |RXN-14480| |RXN0-1602| |RXN0-4401| |BIOTIN-CARBOXYL-RXN| |3.5.2.17-RXN| |RXN-14283| |RXN-15358| |CITRYLY-RXN| |LUMAZINESYN-RXN| |KDPGALDOL-RXN| |ORNDECARBOX-RXN| |RXN0-7249| |TRNA-CYTIDYLYLTRANSFERASE-RXN| |MCPMETEST-RXN| |GLYOHMETRANS-RXN| |RXN0-963| |ACETOLACTREDUCTOISOM-RXN| |BARA-RXN| |PHOBCREC-RXN| |RXN-14124| |RXN-16003| |RXN-10462| |RXN0-6982| |ADDALT-RXN| |RXN-14473| |PEPDEPHOS-RXN| |RXN-11481| |IMPCYCLOHYDROLASE-RXN| |LIPIDADISACCHARIDESYNTH-RXN| |UDPACYLGLCNACDEACETYL-RXN| |RXN-15512| |3.1.26.12-RXN| |RXN0-271| |RXN0-884| |CDPDIGLYPYPHOSPHA-RXN| |RXN-17022| |RXN0-7154| |ACYLCOADEHYDROG-RXN| |RXN0-5121| |RXN-18434| |RXN-7607| |RXN-14522| |RXN0-2621| |RXN-16660| |RXN-19780| |5.3.1.17-RXN| |RXN-14513| |RXN-9524| |MANNKIN-RXN| |MALTACETYLTRAN-RXN| |URKI-RXN| |RXN-9590| |RXN0-1461| |SEDOBISALDOL-RXN| |CPXA-RXN| |RXN0-1134| |GST-RXN| |SHIKIMATE-5-DEHYDROGENASE-RXN| |ADPSUGPPHOSPHAT-RXN| |RXN0-5185| |RXN0-312| |RXN-14281| |RXN0-301| |RXN-16938| |RXN0-5522| |RXN0-7010| |AIRS-RXN| |PNKIN-RXN| |RXN0-6507| |KDOTRANS2-RXN| |METHYLENETHFDEHYDROG-NADP-RXN| |DAHPSYN-RXN| |RXN0-7084| |3.4.11.2-RXN| |RXN0-305| |SUCCGLUDESUCC-RXN| |RXN0-7271| |RXN0-7239| |ALKAPHOSPHA-RXN| |RXN-17473| |THIOREDOXIN-RXN| |RXN-8460| |RXN-15740| |RXN0-3461| |PROPIONYL-COA-CARBOXY-RXN| |2.3.1.179-RXN| |ACETOACETYL-COA-TRANSFER-RXN| |RXN-15041| |DEOXYGUANPHOSPHOR-RXN| |ACP-S-ACETYLTRANSFER-RXN| |METHYLTHIOADENOSINE-NUCLEOSIDASE-RXN| |NADH-DEHYDROGENASE-QUINONE-RXN| |RXN0-5295| |CHEBDEAMID-RXN| |RXN0-2044| |THI-P-KIN-RXN| |RXN-17725| |HEMEOSYN-RXN| |SUCCSEMIALDDEHYDROG-RXN| |AMPSYN-RXN| |PYRIMSYN1-RXN| |GCVP-RXN| |RXN0-3962| |DIAMINOPIMEPIM-RXN| |MCPTRG-RXN| |RXN0-7068| |ALPHA-AMYL-RXN| |RXN-15293| |RXN0-5391| |PHOSICITDEHASE-RXN| |RXN0-5256| |LEUCINE--TRNA-LIGASE-RXN| |NUCLEOSIDE-DIP-KIN-RXN| |RXN-17785| |RXN-10656| |3.4.21.89-RXN| |RXN0-3601| |THYMIDYLATESYN-RXN| |R4-RXN| |RXN-15891| |RXN0-742| |ASPARAGINE--TRNA-LIGASE-RXN| |DMK-RXN| |RXN-17127| |RXN-9025| |RXN0-4841| |RXN0-5455| |RXN-18605| |ACSERLY-RXN| |RXN-15607| |RXN-17846| |RXN-19952| |RXN-14090| |ENTG-RXN| |NAG6PDEACET-RXN| |OXALODECARB-RXN| |RIBOSYLPYRIMIDINE-NUCLEOSIDASE-RXN| |RXN-9531| |RXN0-2606| |TRNA-S-TRANSFERASE-RXN| |DXS-RXN| |RXN-9658| |HYDROXYLAMINE-REDUCTASE-RXN| |THIOESTER-RXN| |BETA-PHOSPHOGLUCOMUTASE-RXN| |RXN0-6367| |RXN0-1140| |RXN-14511| |RXN0-5065| |RXN-17944| |RXN0-4942| |RXN0-7115| |ARCB717-RXN| |RXN-1623| |RXN-11135| |RXN0-6385| |MALIC-NADP-RXN| |PGLUCISOM-RXN| |FORMYLTHFDEFORMYL-RXN| |RXN0-6533| |4.3.1.17-RXN| |RXN0-4222| |UDPMANACATRANS-RXN| |RXN0-6479| |RXN0-7105| |SAICARSYN-RXN| |CHD-RXN| |1.1.1.215-RXN| |RXN0-7303| |RXN0-1321| |RXN-15299| |RXN0-5125| |RXN-18550| |ADENYLYLSULFKIN-RXN| |RXN-16687| |RXN-11586| |2.3.1.49-RXN| |RXN-14196| |O-SUCCINYLBENZOATE-COA-LIG-RXN| |PHOSACETYLTRANS-RXN| |GALACTUROISOM-RXN| |ALTARCA-RXN| |RXN0-299| |URPHOS-RXN| |RXN0-6518| |CHEBTARD-RXN| |ISOLEUCINE--TRNA-LIGASE-RXN| |TRANSALDOL-RXN| |CYCPHOSDIESTER-RXN| |2-DEHYDROPANTOATE-REDUCT-RXN| |DISULFOXRED-RXN| |RXN0-5190| |RXN-19025| |GLUTAREDOXIN-RXN| |RXN0-7219| |ASPARTATEKIN-RXN| |RXN-16997| |RXN-11791| |MYRPALMTRAN-RXN| |METHIONINE--TRNA-LIGASE-RXN| |POLYPHOSPHATE-KINASE-RXN| |GLUCARDEHYDRA-RXN| |PROTEIN-TYROSINE-PHOSPHATASE-RXN| |7KAPSYN-RXN| |RXN0-5038| |DARABALDOL-RXN| |RXN0-6555| |RXN-10659| |SUCCDIAMINOPIMDESUCC-RXN| |RXN0-5225| |2.4.1.78-RXN| |RXN-17012| |RXN0-1922| |RXN-15878| |RXN-17495| |RXN-19573| |RXN-17362| |PRPPAMIDOTRANS-RXN| |RXN-11865| |RXN-19342| |RXN-14379| |P-PANTOCYSLIG-RXN| |DEOXYRIBOSE-P-ALD-RXN| |GLUTATHIONE-PEROXIDASE-RXN| |RXN0-3364| |RXN0-6722| |RXN-9535| |L-LACTDEHYDROGFMN-RXN| |TRYPTOPHAN-RXN| |2.9.1.1-RXN| |RXN-9661| |RXN-14992| |PYRROLINECARBDEHYDROG-RXN| |RXN-19954| |RXN0-1147| |RXN0-7283| |BRANCHED-CHAINAMINOTRANSFERLEU-RXN| |DIHYDRODIPICSYN-RXN| |RXN-12275| |RXN0-5177| |NAD-SYNTH-GLN-RXN| |RXN0-5402| |GLYCINE--TRNA-LIGASE-RXN| |RXN0-6442| |ACETYLORNTRANSAM-RXN| |RXN0-5101| |RXN-17789| |RXN0-6973| |RXN0-6560| |RXN0-5266| |TETHYDPICSUCC-RXN| |RHAMNISOM-RXN| |3.1.13.1-RXN| |RXN0-7169| |RXN0-2382| |RXN-16420| |DNA-LIGASE-NAD+-RXN| |RXN0-746| |RXN0-5330| |AMP-DEPHOSPHORYLATION-RXN| |RXN0-5509| |UDPNACETYLGLUCOSAMACYLTRANS-RXN| |PGLYCEROLTRANSII-RXN| |GMP-REDUCT-RXN| |1.7.2.2-RXN| |RXN0-3922| |RNTRACTIV-RXN| |RXN0-6992| |2.7.7.61-RXN| |LYSOPHOSPHOLIPASE-RXN| |UDPSUGARHYDRO-RXN| |ENTF-RXN| |3.1.3.74-RXN| |ATOC-RXN| |RXN-19020| |RXN-15216| |RXN0-6382| |RXN-7948| |CHER-RXN| |RXN1-42| |CHORPYRLY-RXN| |RXN-13142| |HOLO-ACP-SYNTH-RXN| |NMNNUCLEOSID-RXN| |RXN-11319| |GUANPRIBOSYLTRAN-RXN| |NARPQ-RXN| |ADENOSYLHOMOCYSTEINE-NUCLEOSIDASE-RXN| |RXN0-5131| |FUC4NACTRANS-RXN| |RXN0-7023| |RCSC-RXN| |THYM-PHOSPH-RXN| |RXN0-6483| |3.4.15.5-RXN| |RXN-11361| |RXN0-280| |RXN-16691| |1.1.1.274-RXN| |RXN-8654| |RXN-14381| |ASPAMINOTRANS-RXN| |PHOSPHAGLYPSYN-RXN| |RXN-18707| |RXN-14014| |RXN-17015| |RXN-14534| |XANPRIBOSYLTRAN-RXN| |RXN-11592| |HISTOLDEHYD-RXN| |RXN-17823| |RXN0-4621| |CYTDEAM-RXN| |GARTRANSFORMYL2-RXN| |RXN0-7083| |RXN-8655| |MANNPDEHYDROG-RXN| |RXN0-5200| |RXN0-6524| |3.6.1.41-RXN| |RXN-9539| |RXN-15578| |RXN-17010| |2-OCTAPRENYL-6-METHOXYPHENOL-HYDROX-RXN| |RXN-9597| |RXN-9787| |SORBITOL-6-PHOSPHATASE-RXN| |PPPGPPHYDRO-RXN| |RXN-19256| |RXN-14126| |RXN0-2142| |OROTPDECARB-RXN| |DCTP-DEAM-RXN| |RXN-11834| |INOPHOSPHOR-RXN| |RXN0-5211| |ALANINE-AMINOTRANSFERASE-RXN| |RXN0-5229| |RXN0-7160| |RXN0-7196| |TRNA-NUCLEOTIDYLTRANSFERASE-RXN| |RXN-17632| |RXN0-6564| |5.3.3.14-RXN| |RXN0-801| |RXN0-3182| |PSERTRANSAMPYR-RXN| |2.6.1.7-RXN| |RXN0-1483| |UHPC-RXN| |BETA-GLUCURONID-RXN| |DGTPTRIPHYDRO-RXN| |RXN-19737| |RXN-14282| |1.8.4.12-RXN| |RXN0-5359| |RXN-12070| |KDPD-RXN| |3-OXOACYL-ACP-REDUCT-RXN| |RXN0-5062| |RXN-17777| |GLUTDECARBOX-RXN| |RXN0-7248| |CHERTRGM-RXN| |MMUM-RXN| |QOR-RXN| |RXN0-6731| |ACETOINDEHYDROG-A-RXN| |RXN-16165| |DIHYDROOROT-RXN| |3-CH3-2-OXOBUTANOATE-OH-CH3-XFER-RXN| |RXN0-2061| |LAUROYLACYLTRAN-RXN| |SULFOCYS-RXN| |RXN0-3501| |RXN0-5410| |RXN-2425| |RXN-14461| |NRIDEPHOS-RXN| |PEPTIDYLPROLYL-ISOMERASE-RXN| |RXN-17793| |RXN-12445| |LEUCYLTRANSFERASE-RXN| |RIBONUCLEOSIDE-DIP-REDUCTII-RXN| |AMACETOXID-RXN| |RIBOFLAVIN-SYN-RXN| |GLYCOLALDREDUCT-RXN| |RXN0-743| |RXN-11477| |UDPGLUCEPIM-RXN| |DTDPGLUCDEHYDRAT-RXN| |RXN0-6977| |ACYL-COA-HYDROLASE-RXN| |RXN-14499| |RXN0-382| |RXN0-6256| |3.1.21.2-RXN| |RXN0-262| |RXN-17018| |CDPKIN-RXN| |RXN-17916| |RXN-14512| |RXN-19617| |RXN-15129| |MALSYN-RXN| |RXN-9516| |RXN0-5123| |ETHAMLY-RXN| |GPPSYN-RXN| |SAMDECARB-RXN| |RXN-9555| |NARQ-RXN| |RXN-17652| |RXN0-6427| |RXN0-7000| |ADOMET-DMK-METHYLTRANSFER-RXN| |RXN-9790| |RXN-16665| |3.2.1.52-RXN| |RXN0-300| |RXN0-267| |THREONINE--TRNA-LIGASE-RXN| |RXN0-5419| |PHOQ-RXN| |METHIONYL-TRNA-FORMYLTRANSFERASE-RXN| |RXN0-6495| |ARGININE-N-SUCCINYLTRANSFERASE-RXN| |FUMHYDR-RXN| |H2NEOPTERINP3PYROPHOSPHOHYDRO-RXN| |SUCCGLUALDDEHYD-RXN| |RXN0-722| |RXN0-6369| |UROGENIIISYN-RXN| |RXN0-6493| |RXN0-7040| |ALDOSE1EPIM-RXN| |RXN0-949| |RXN0-4301| |1.11.1.15-RXN| |3.4.21.105-RXN| |RXN0-3381| |1.8.4.8-RXN| |CROBETREDUCT-RXN| |RXN-18737| |3.1.3.16-RXN| |RXN-11600| |RXN-14047| |NAD-SYNTH-NH3-RXN| |4.2.1.58-RXN| |RXN0-5187| |GDPMANDEHYDRA-RXN| |HOMOCYSTEINE-S-METHYLTRANSFERASE-RXN| |TETRAACYLDISACC4KIN-RXN| |CITC-RXN| |OHBUTYRYL-COA-EPIM-RXN| |RXN0-6528| |RXN0-7101| |AMP-NUCLEOSID-RXN| |FLAVONADPREDUCT-RXN| |RXN-16995| |2-OXOPENT-4-ENOATE-HYDRATASE-RXN| |4-NITROPHENYLPHOSPHATASE-RXN| |RXN0-3942| |MALONYL-COA-ACP-TRANSACYL-RXN| |TREHALOSE6PSYN-RXN| |RXN-15292| |PALMITOTRANS-RXN| |PNPOXI-RXN| |RXN-11838| |RXN-14143| |NQOR-RXN| |RSTB-RXN| |ATPASE-RXN| |GLUCOSE-6-PHOSPHATASE-RXN| |INOSINEKIN-RXN| |THYMIDYLATE-5-PHOSPHATASE-RXN| |RXN-11480| |DAPASYN-RXN| |RXN0-6576| |RXN0-7168| |ASPARAGHYD-RXN| |RXN-15511| |RXN0-5052| |2.7.13.2-RXN| |5.99.1.3-RXN| |RXN0-4641| |RXN-17021| |RXN0-5223| |RXN-19793| |RXN0-1842| |RXN-15581| |RXN-17943| |RXN-15943| |RXN-12093| |RXN-14286| |OXALOACETATE-TAUTOMERASE-RXN| |RXN-19774| |RXN-17490| |GLUTRNAREDUCT-RXN| |KETOBUTFORMLY-RXN| |TRNA-PSEUDOURIDINE-SYNTHASE-I-RXN| |RXN-9523| |PANTOTHENATE-KIN-RXN| |RXN0-6938| |RXN0-7253| |BETA-LACTAMASE-RXN| |RXN-9558| |PROTOHEMEFERROCHELAT-RXN| |3-ISOPROPYLMALDEHYDROG-RXN| |ACETOOHBUTSYN-RXN| |RXN0-5063| |RXN0-1133| |UDP-NACMUR-ALA-LIG-RXN| |RXN0-2201| |RXN-16225| |RXN0-307| |DEOXYNUCLEOTIDE-3-PHOSPHATASE-RXN| |RXN-14479| |PEROXID-RXN| |RXN0-5514| |CARBOXYLESTERASE-RXN| |GLYOCARBOLIG-RXN| |LTARTDEHYDRA-RXN| |UDPKIN-RXN| |RXN0-6503| |RXN0-5298| |RXN0-6981| |RXN0-962| |CELLULOSE-SYNTHASE-UDP-FORMING-RXN| |RXN0-7047| |RXN0-5114| |3.1.26.11-RXN| |ADCLY-RXN| |RXN0-5124| |RXN0-7268| |RXN-17745| |RXN-7605| |RXN0-268| |RXN-16685| |THIOREDOXIN-REDUCT-NADPH-RXN| |RXN-14521| |PHOR-RXN| |2.3.1.128-RXN| |RXN-16001| |PYRNUTRANSHYDROGEN-RXN| |GSPSYN-RXN| |MANNITOL-1-PHOSPHATASE-RXN| |UROPORIIIMETHYLTRANSA-RXN| |URACIL-PRIBOSYLTRANS-RXN| |RXN0-7008| |SERINE-O-ACETTRAN-RXN| |CTPSYN-RXN| |CDPREDUCT-RXN| |DIENOYLCOAREDUCT-RXN| |3.4.11.18-RXN| |AICARTRANSFORM-RXN| |RXN0-5189| |CREB-RXN| |COBALAMIN5PSYN-RXN| |RXN-8348| |RXN0-304| |RXN-16996| |GAMMA-GLUTAMYLTRANSFERASE-RXN| |RXN0-5395| |RXN-13548| |POLYNUCLEOTIDE-ADENYLYLTRANSFERASE-RXN| |MCPTAR-RXN| |RXN0-5181| |HCAMULTI-RXN| |METHYLMALONYL-COA-MUT-RXN| |DARAB5PISOM-RXN| |RXN-10655| |RXN-17787| |RXN0-7067| |SUCCORNTRANSAM-RXN| |RXN0-5224| |RXN-11483| |3.4.21.87-RXN| |ALLOSE-KINASE-RXN| |RXN-17493| |RXN-15890| |R621-RXN| |RXN-8999| |RXN0-3543| |PROTOPORGENOXI-RXN| |RXN-17024| |PHOSPHOENOLPYRUVATE-PHOSPHATASE-RXN| |DIMESULFREDUCT-RXN| |RXN-14074| |RXN-15122| |DEOXYRIBODIPYRIMIDINE-PHOTOLYASE-RXN| |RXN-18604| |DNA-DIRECTED-DNA-POLYMERASE-RXN| |HYDGLUTSYN-RXN| |NAG1P-URIDYLTRANS-RXN| |RXN0-5304| |RXN-19950| |XYLULOKIN-RXN| |RXN0-6373| |RXN0-7114| |THIKIN-RXN| |RXN-9528| |RXN0-5462| |4.3.1.15-RXN| |ARABISOM-RXN| |PYROXALTRANSAM-RXN| |RXN-9657| |CYTIKIN-RXN| |RXN0-1281| |RXN0-4181| |DIHYDLIPACETRANS-RXN| |RXN0-1139| |RXN-17848| |RXN-14188| |RXN-15298| |RXN0-5398| |RXN0-3341| |RXN0-5213| |ISOCIT-CLEAV-RXN| |O-SUCCHOMOSERLYASE-RXN| |RXN-17788| |RXN0-7299| |RIBULPEPIM-RXN| |RXN0-7188| |TRANS-RXN0-623| |RFFTRANS-RXN| |RXN-17391| |7-ALPHA-HYDROXYSTEROID-DEH-RXN| |ASPARTATE-SEMIALDEHYDE-DEHYDROGENASE-RXN| |DNA-DIRECTED-RNA-POLYMERASE-RXN| |2.3.1.41-RXN| |RXN-13163| |ENOYL-COA-HYDRAT-RXN| |RXN0-1882| |RXN0-5021| |RXN0-5507| |PRIBFAICARPISOM-RXN| |RXN-14363| |RXN-15761| |RXN0-6371| |L-IDONATE-2-DEHYDROGENASE-RXN| |P-PANTOCYSDECARB-RXN| |RNA-3-PHOSPHATE-CYCLASE-RXN| |DEHYDDEOXGALACTKIN-RXN| |RXN0-7280| |TRYPTOPHAN--TRNA-LIGASE-RXN| |ENTDB-RXN| |RXN-17955| |ACETYLORNDEACET-RXN| |BRANCHED-CHAINAMINOTRANSFERILEU-RXN| |RXN0-6381| |RXN0-5289| |RXN0-2381| |RXN0-5100| |RXN-17956| |RXN-17961| |RXN-14497| |RXN-16312| |RXN-17962| |LYSINE--TRNA-LIGASE-RXN| |PGLYCEROLTRANSI-RXN| |RXN-11313| |RXN-11277| |RXN0-986| |UDPNACETYLMURAMATEDEHYDROG-RXN| |FRUCTOKINASE-RXN| |PYRAMKIN-RXN| |ADENOSINE-NUCLEOSIDASE-RXN| |CHORISMATEMUT-RXN| |RXN0-6482| |RXN0-5264| |FPPSYN-RXN| |RXN0-279| |RXN0-5129| |1.1.1.271-RXN| |DHHB-METHYLTRANSFER-RXN| |RXN-14525| |RXN-16690| |RXN-18703| |PYRUVDEH-RXN| |RXN0-6481| |MANNOSE-ISOMERASE-RXN| |PHOSNACMURPENTATRANS-RXN| |RXN-11591| |RXN0-5375| |SORB6PDEHYDROG-RXN| |VALINE-PYRUVATE-AMINOTRANSFER-RXN| |GART-RXN| |1.1.1.264-RXN| |ALANINE--TRNA-LIGASE-RXN| |CYSTEINE-AMINOTRANSFERASE-RXN| |RXN0-6523| |RXN-17781| |RXN0-313| |RXN0-5199| |2-METHYLCITRATE-SYNTHASE-RXN| |RXN-18702| |RXN-17009| |RXN-19253| |R15-RXN| |MHPHYDROXY-RXN| |PPGPPSYN-RXN| |RXN-11833| |RXN-11589| |SULFITE-REDUCT-RXN| |DCDPKIN-RXN| |GLUCONOKIN-RXN| |RXN-12588| |DIMETHUROPORDEHYDROG-RXN| |ALTRODEHYDRAT-RXN| |RXN0-5228| |RXN0-6563| |GAPOXNPHOSPHN-RXN| |RXN0-3741| |2.6.1.57-RXN| |RXN-12894| |RXN0-5422| |PSERTRANSAM-RXN| |RXN-19630| |CARBPSYN-RXN| |RXN0-6522| |NAPHTHOATE-SYN-RXN| |DGDPKIN-RXN| |RXN-12002| |RXN-17797| |THREODEHYD-RXN| |RXN0-5329| |GLUTCYSLIG-RXN| |2-METHYLCITRATE-DEHYDRATASE-RXN| |ARGININE--TRNA-LIGASE-RXN| |RXN-17776| |RXN0-6727| |RIBOKIN-RXN| |RXN0-4281| |PYRUVFORMLY-RXN| |2TRANSKETO-RXN| |RXN-19249| |RXN-15341| |DIHYDRONEOPTERIN-MONO-P-DEPHOS-RXN| |RXN-2043| |DUDPKIN-RXN| |OHACYL-COA-DEHYDROG-RXN| |RXN0-5409| |RXN-12444| |RXN-11832| |TREHALA-RXN| |RXN-17792| |GLYCOLALD-DEHYDROG-RXN| |RXN0-7231| |RXN0-6274| |DLACTDEHYDROGFAD-RXN| |ATP-PYROPHOSPHATASE-RXN| |RIB5PISOM-RXN| |RXN0-6976| |GLUCONATE-5-DEHYDROGENASE-RXN| |RXN0-5051| |DTDPDEHYRHAMREDUCT-RXN| |3.1.21.1-RXN| |RXN-17930| |RXN0-6254| |RXN-6321| |RXN0-6511| |RXN0-6562| |PANTOATE-BETA-ALANINE-LIG-RXN| |RXN-10814| |RXN-11496| |TYROSINE-AMINOTRANSFERASE-RXN| |GPH-RXN| |2.5.1.64-RXN| |CARBOXYLATE-REDUCTASE-RXN| |ERYTHRON4PDEHYDROG-RXN| |RXN0-6999| |FADSYN-RXN| |RXN0-5108| |3.2.1.21-RXN| |RXN-19629| |RXN-16457| |RXN-18093| |RXN-8073| |RXN-10856| |URA-PHOSPH-RXN| |RXN-11397| |RXN-11867| |COBALADENOSYLTRANS-RXN| |FUCULOKIN-RXN| |H2NEOPTERINALDOL-RXN| |FGAMSYN-RXN| |RXN0-5146| |RXN0-6487| |RXN0-704| |GLUTATHIONE-SYN-RXN| |RXN-16788| |1.1.1.83-RXN| |3.4.21.102-RXN| |RXN0-6460| |PHOSPHOAMIDASE-RXN| |RXN-18710| |RXN-8770| |RXN0-6726| |XYLONATE-DEHYDRATASE-RXN| |RXN-11598| |RXN-14026| |RXN-18388| |CYTIDINEKIN-RXN| |GDPKIN-RXN| |HOMOCYSMETB12-RXN| |2PGADEHYDRAT-RXN| |RXN0-5210| |RXN0-6527| |RXN0-7100| |RXN-11573| |RXN-17330| |2-OCTAPRENYLPHENOL-HYDROX-RXN| |4-HYDROXYBUTYRATE-DEHYDROGENASE-RXN| |RXN-19998| |PREPHENATEDEHYDROG-RXN| |RXN-9952| |GALACTOKIN-RXN|))\n",
      "(with-organism (:org-id '|ECOLI|) (rxns-w-isozymes  :rxns '(|DCYSDESULF-RXN| |RXN-11837| |RXN-14142| |DIHYDROOROTATE-DEHYDROGENASE-RXN| |RXN-12402| |RXN0-5285| |GLUCOSE-1-PHOSPHAT-RXN| |INOSINE-NUCLEOSIDASE-RXN| |RXN0-6509| |RXN0-6575| |RXN0-7167| |GLYCOGENSYN-RXN| |PUTTRANSAM-RXN| |2.7.10.1-RXN| |5.99.1.2-RXN| |1.5.1.34-RXN| |DHDOGALDOL-RXN| |RXN-19777| |RXN0-1661| |RXN0-6975| |RXN0-5364| |RXN-12073| |RXN-14285| |RXN-18999| |RXN-17780| |GLUTRACE-RXN| |KETOACYLCOATHIOL-RXN| |3.1.13.5-RXN| |QUINOPRIBOTRANS-RXN| |RXN0-6734| |RXN0-7251| |RXN-11635| |DIHYDROXYMETVALDEHYDRAT-RXN| |3-HYDROXBUTYRYL-COA-DEHYDRATASE-RXN| |ACETOOHBUTREDUCTOISOM-RXN| |RXN0-5418| |RXN-2962| |RXN0-2161| |GLCNACPTRANS-RXN| |RXN-17796| |RXN-12508| |RXN-14478| |RXN-12816| |RIBOFLAVINSYNREDUC-RXN| |GLYCPDIESTER-RXN| |LTAA-RXN| |RXN0-6541| |DTMPKI-RXN| |RXN0-6980| |RXN0-961| |DALADEHYDROG-RXN| |GMP-SYN-NH3-RXN| |RXN0-6272| |3.1.22.4-RXN| |ACYLPHOSPHATASE-RXN| |2.1.1.79-RXN| |RXN-17920| |RXN0-2661| |RXN0-6998| |RXN-19381| |F16BDEPHOS-RXN| |GSPAMID-RXN| |MALTODEXGLUCOSID-RXN| |3.2.1.17-RXN| |FCLREDUCT-RXN| |RXN0-7007| |SERINE--TRNA-LIGASE-RXN| |RXN-11842| |RXN0-6459| |3.2.2.23-RXN| |AICARSYN-RXN| |RXN-18092| |FORMATEDEHYDROG-RXN| |RXN-7968| |RXN-18376| |RXN-8344| |RXN0-303| |GLUTAMIDOTRANS-RXN| |RXN-11484| |RXN-11396| |RXN-13202| |GALACTOACETYLTRAN-RXN| |H2PTEROATESYNTH-RXN| |METHYLMALONYL-COA-EPIM-RXN| |RXN0-6710| |RXN0-6506| |RXN0-7066| |SUCCINYLDIAMINOPIMTRANS-RXN| |FUCPALDOL-RXN| |GUANYLCYC-RXN| |1.5.1.20-RXN| |3.4.21.83-RXN| |ALLANTOINASE-RXN| |NADH-DEHYDROG-A-RXN| |2.7.7.8-RXN| |RXN-13403| |RXN-8992| |RXN0-3542| |RXN0-6485| |RXN0-703| |RXN-11633| |RXN-14073| |RXN0-4701| |GKI-RXN| |HOMSUCTRAN-RXN| |NADPYROPHOSPHAT-RXN| |1.1.1.39-RXN| |3.4.19.12-RXN| |RXN0-6532| |RXN0-7104| |THIAZOLSYN3-RXN| |RXN-12195| |2.1.1.77-RXN| |4.2.99.18-RXN| |ANTHRANSYN-RXN| |RXN-18709| |RXN-8675| |RXN-19362| |RXN0-1241| |RXN0-4121| |GLYCDEH-RXN| |RXN-11841| |RXN-14181| |RXN-15297| |RXN-11596| |RXN-14025| |CITLY-RXN| |GLURS-RXN| |ISOCHORSYN-RXN| |NUCLEOTIDE-PYROPHOSPHATASE-RXN| |RXN0-6948| |RXN0-6708| |RXN0-7187| |GDP-GLUCOSIDASE-RXN| |HOMOCYSMET-RXN| |2.7.7.60-RXN| |6PGLUCONOLACT-RXN| |ASPARTATE--TRNA-LIGASE-RXN| |3-PHOSPHOGLYCERATE-PHOSPHATASE-RXN| |RXN-19920| |RXN0-1863| |RXN0-5001| |RXN0-6526| |RXN0-7092| |RXN-14361| |RXN-15744| |GLYC3PDEHYDROGBIOSYN-RXN| |L-GLN-FRUCT-6-P-AMINOTRANS-RXN| |OXAMATE-CARBAMOYLTRANSFERASE-RXN| |2-OCTAPRENYL-METHOXY-BENZOQ-METH-RXN| |3PGAREARR-RXN| |RXN0-6945| |RXN0-7275| |TRYPSYN-RXN| |RXN-12587| |3-OCTAPRENYL-4-OHBENZOATE-DECARBOX-RXN| |ACETYLGLUTKIN-RXN| |BIS5-ADENOSYL-TRIPHOSPHATASE-RXN| |RXN-19312| |RXN-9951| |RXN-3641| |RXN0-2361| |RXN0-5074| |GLYOXIII-RXN| |RXN-12583| |RXN-14483| |RXN-16286| |RXN-11836| |RXN-14139| |GLYOXII-RXN| |LYSDECARBOX-RXN| |PGLYCDEHYDROG-RXN| |RXN-13158| |RXN0-6985| |RXN0-6984| |RXN0-985| |UDPNACETYLGLUCOSAMENOLPYRTRANS-RXN| |GLUCOSAMINE-KINASE-RXN| |INOSINATE-NUCLEOSIDASE-RXN| |3.1.26.4-RXN| |ADENODEAMIN-RXN| |CHORISMATE-SYNTHASE-RXN| |3.1.26.5-RXN| |RXN-7632| |RXN0-2787| |RXN0-5127| |RXN0-6566| |RXN0-7166| |RXN-12886| |RXN-14524| |RXN-16689| |RXN-7682| |GTP-CYCLOHYDRO-II-RXN| |MANNONOXIDOREDUCT-RXN| |PHOSMANMUT-RXN| |2.7.1.148-RXN| |5.4.2.10-RXN| |RXN0-7013| |SIROHEME-FERROCHELAT-RXN| |VALINE--TRNA-LIGASE-RXN| |RXN-12895| |3.4.11.9-RXN| |ALADEHYDCHLORO-RXN| |CYSTEINE--TRNA-LIGASE-RXN| |RXN-19776| |RXN0-1603| |RXN0-310| |RXN0-5195| |GTPPYPHOSKIN-RXN| |RXN-13853| |RXN-17008| |RXN-12072| |RXN-14284| |HISTALDEHYD-RXN| |MHPELY-RXN| |PPENTOMUT-RXN| |RXN0-7014| |RXN0-7075| |SULFATE-ADENYLYLTRANS-RXN| |DARABKIN-RXN| |GLUTKIN-RXN| |KDUD-RXN| |3.4.23.43-RXN| |ALTRO-OXIDOREDUCT-RXN| |RXN0-5227| |3.4.13.18-RXN| |RXN-9310| |RXN0-363| |RXN-17630| |RXN0-6733| |RXN-17928| |RXN0-7250| |RXN-14112| |RXN-15125| |PRTRANS-RXN| |RXN-8506| |RXN-17910| |HYPOXANPRIBOSYLTRAN-RXN| |NANK-RXN| |DETHIOBIOTIN-SYN-RXN| |3-DEHYDROQUINATE-SYNTHASE-RXN| |ACETOLACTSYN-RXN| |RXN0-7122| |THREDEHYD-RXN| |RXN0-5311| |SUCCINATE-DEHYDROGENASE-UBIQUINONE-RXN| |RXN-13854| |5-FORMYL-THF-CYCLO-LIGASE-RXN| |ARGDECARBOX-RXN| |RXN-17775| |RXN0-2101| |RXN0-1382| |RXN0-4261| |PYRUVATEDECARB-RXN| |HISTAMINOTRANS-RXN| |RXN-14251| |RXN-15313| |DIHYDROFOLATESYNTH-RXN| |RXN-12480| |RXN-14477| |KDGALDOL-RXN| |OCTAPRENYL-METHYL-METHOXY-BENZOQ-OH-RXN| |RXN0-5408| |RXN0-7078| |RXN0-7229| |TRE6PHYDRO-RXN| |RXN-17791| |GLYCOPHOSPHORYL-RXN| |LIPIDXSYNTHESIS-RXN| |ACETALD-DEHYDROG-RXN| |ASPDECARBOX-RXN| |RHAMNULPALDOL-RXN| |3.4.24.55-RXN| |RXN0-2001| |RXN0-5040| |DTDPDEHYDRHAMEPIM-RXN| |RXN0-6979| |RXN0-901| |RXN-14393| |RXN-15889| |RXN0-5515| |RXN-9311| |LACTALDDEHYDROG-RXN| |PANTEPADENYLYLTRAN-RXN| |RXN-17905| |3.1.21.7-RXN| |ACYLCOASYN-RXN| |RXN0-7291| |TYROSINE--TRNA-LIGASE-RXN| |RXN0-5388| |RXN-14113| |ACNEULY-RXN| |BTUR2-RXN| |ERYTH4PDEHYDROG-RXN| |RXN-7253| |RXN0-2625| |RXN0-2584| |RXN0-5107| |RXN0-6389| |IGPSYN-RXN| |RXN-16456| |RXN-14514| |LYXK-RXN| |UNDECAPRENYL-DIPHOSPHATASE-RXN| |RXN0-7139| |RXNMETA-12671| |CITSYN-RXN| |GSDEADENYLATION-RXN| |MALTODEG-RXN| |ADENPRIBOSYLTRAN-RXN| |RXN0-5144| |5-NUCLEOTID-RXN| |RXN0-2941| |RXN0-7002| |GLUTAMATESYN-RXN| |SELENOCYSTEINE-LYASE-RXN| |RXN-14569| |PHOSPHASERSYN-RXN| |RXN0-1401| |MERCAPYSTRANS-RXN| |XYLISOM-RXN| |3.2.2.21-RXN| |AGMATIN-RXN| |SPERMIDINESYN-RXN| |CYTIDEAM2-RXN| |RXN-14255| |ALCOHOL-DEHYDROG-GENERIC-RXN| |RXN0-5209| |RXN0-7049| |RXN-8342| |RXN0-7124| |RXN0-302| |RXN0-3221| |RXN-17307| |RXN0-1130| |KDO-8PPHOSPHAT-RXN| |PREPHENATEDEHYDRAT-RXN| |N-ACETYLGLUTPREDUCT-RXN| |DCUS-RXN| |RXN0-7230| |TAGAALDOL-RXN| |RXN0-5240| |DSBDC-RXN| |H2PTERIDINEPYROPHOSPHOKIN-RXN| |METHYLISOCITRATE-LYASE-RXN| |AMINEPHEN-RXN| |RXN-17634| |ACETATE--COA-LIGASE-RXN| |RXN0-384| |PTAALT-RXN| |RXN0-7048| |RXN0-705| |SUCCINATE-SEMIALDEHYDE-DEHYDROGENASE-RXN| |DHBDEHYD-RXN| |RXN0-7096| |RXN0-2022| |NICONUCADENYLYLTRAN-RXN| |RXN0-5363| |3.4.21.53-RXN| |ALLANTOATE-DEIMINASE-RXN| |RXN-17779| |RXN0-7310| |RXN-14394| |ARGSUCCINSYN-RXN| |QUINOLINATE-SYNTHA-RXN| |RXN-8991| |RXN0-3521| |RXN0-4342| |DIHYDROXYISOVALDEHYDRAT-RXN| |LACTALDREDUCT-RXN| |RXN0-5414| |DSBD-RXN| |RXN-14065| |RXN-15119| |OHMETPYRKIN-RXN| |RXN-17795| |PFLDEACTIV-RXN| |RXN0-7298| |TRIOSEPISOMERIZATION-RXN| |RIBOFLAVINSYNDEAM-RXN| |RXN0-7094| |HOMOSERKIN-RXN| |NADPH-DEHYDROGENASE-FLAVIN-RXN| |BADH-RXN| |DTDPKIN-RXN| |RXN0-1137| |ACONITATE-DELTA-ISOMERASE-RXN| |RXN0-5061| |RXN0-6271| |RXN0-7103| |THI-P-SYN-RXN| |RXN-16000| |RXN-17919| |RXN0-2601| |PEPCARBOX-RXN| |4.2.1.99-RXN| |AMYLOMALT-RXN| |UDP-NACMURALGLDAPAALIG-RXN| |F16ALDOLASE-RXN| |RXN-14505| |CARNDETRU-RXN| |RXN0-6446| |RXN0-7003| |RXN0-1081| |RXN0-4022| |RXN0-5118| |ADPREDUCT-RXN| |MALATE-DEH-RXN| |RXN-16650| |RXN-18258| |CHEBTAPD-RXN| |RXN-14161| |RXN-15296| |PHENPRODIOLDEHYDROG-RXN| |RXN-11475| |DEPHOSICITDEHASE-RXN| |R601-RXN| |RXNMETA-12672| |URIDINE-NUCLEOSIDASE-RXN| |GALACTARDEHYDRA-RXN| |GDPREDUCT-RXN| |ISOCHORMAT-RXN| |NUCLEOSIDE-DIPHOSPHATASE-RXN| |COBINPGUANYLYLTRANS-RXN| |RXN0-6502| |MYRISTOYLACYLTRAN-RXN| |ADENYL-KIN-RXN| |RXN0-5183| |1.2.99.7-RXN| |PROTEIN-KINASE-RXN| |RXN0-7173| |RXN-16910| |RXN-18739| |RXN-10658| |RXN0-2942| |PHOSPHOGLYCERATE-PHOSPHATASE-RXN| |RXN-11602| |RXN-12473| |6PFRUCTPHOS-RXN| |ASPARTASE-RXN| |YIAE2-RXN| |GDPPYPHOSKIN-RXN| |RXN-16381| |RXN-14570| |D-PPENTOMUT-RXN| |RXN0-6531| |RXN-17355| |RXN0-1862| |RXN0-4961| |RXN0-5216| |2.1.1.72-RXN| |RXN-19340| |METBALT-RXN| |RXN-17393| |RXN-19343| |RXN-5741| |RXN-14325| |RXN-15743| |PROLINE--TRNA-LIGASE-RXN| |RXN-11840| |RXN-9533| |DEOXYADENPHOSPHOR-RXN| |GLUCUROISOM-RXN| |RXN-9660| |L-ASPARTATE-OXID-RXN| |OXALYL-COA-DECARBOXYLASE-RXN| |RXN0-5292| |RXN0-6677| |RXN0-1144| |ALCOHOL-DEHYDROG-RXN| |RXN-17701| |2.7.7.13-RXN| |RXN0-5098| |RXN0-7272| |TRNA-URACIL-5--METHYLTRANSFERASE-RXN| |PYRIDOXINE-4-DEHYDROGENASE-RXN| |RXN-19919| |RXN0-6435| |RXN0-3241| |DIAMACTRANS-RXN| |RXN-12107| |RXN0-6547| |ACETYLESTERASE-RXN| |BETAGALACTOSID-RXN| |RXN0-5387| |GLY3KIN-RXN| |RXN0-745| |RXN-17783| |RXN0-6944| |UDPHYDROXYMYRGLUCOSAMNACETYLTRANS-RXN| |RXN0-2301| |RXN0-5073| |R170-RXN| |3-NUCLEOTID-RXN| |1.3.1.9-RXN| |N-ACETYLTRANSFER-RXN| |DLACTDEHYDROGNAD-RXN| |2.7.3.9-RXN| |RXN-14481| |RXN-16281| |RXN0-5435| |ARCB-RXN| |TAGAKIN-RXN| |RXN-17799| |GLYOXI-RXN| |CHEBTSRD-RXN| |LXULRU5P-RXN| |PGLUCONDEHYDRAT-RXN| |RIBOSYLHOMOCYSTEINASE-RXN| |RXN0-6983| |ENOYL-ACP-REDUCT-NADPH-RXN| |AMINOBUTDEHYDROG-RXN| |DUTP-PYROP-RXN| |3.1.26.3-RXN| |NARLX-RXN| |RXN0-984| |UDPMANNACADEHYDROG-RXN| |RXN0-6359| |RXN-7609| |PYRUFLAVREDUCT-RXN| |RXN0-385| |RXN-17935| |RXN-10661| |ADENINE-DEAMINASE-RXN| |CHEYDEPHOS-RXN| |GTP-CYCLOHYDRO-I-RXN| |RXN-14107| |RXN0-7012| |RXN-17014| |RXN0-275| |RXN0-5126| |FMNREDUCT-RXN| |3.4.11.4-RXN| |RXN-17474| |NICOTINAMID-RXN| |RXN0-6462| |RXN-19445| |RXN-14523| |RXN0-5260| |RXN-16688| |1.1.1.127-RXN| |RXN-1381| |RXN-8629| |THRESYN-RXN| |RXN-18435| |HEMN-RXN| |RXN-9537| |MANNONDEHYDRAT-RXN| |PHOSGLYPHOS-RXN| |RXN-11576| |RXN0-7074| |RXN-9663| |ARYLAMINE-N-ACETYLTRANSFERASE-RXN| |GALACTONOLACTONASE-RXN| |3.4.21.92-RXN| |RXN0-2141| |SHIKIMATE-KINASE-RXN| |URUR-RXN| |RXN0-6512| |RXN-9087| |RXN0-5204| |RXN0-4361| |1PFRUCTPHOSN-RXN| |RXN-14091| |RXN0-6705| |AKBLIG-RXN| |CYSTATHIONINE-BETA-LYASE-RXN| |RXN0-7195| |RXN-11193| |RXN-11638| |RXN0-7119| |RXN0-748| |RXN0-308| |RXN0-5192| |GLUC1PADENYLTRANS-RXN| |4OHBENZOATE-OCTAPRENYLTRANSFER-RXN| |UHPB-RXN| |RXN0-6554| |ORNCARBAMTRANSFER-RXN| |RXN0-6549| |RXN0-1342| |1.8.1.4-RXN| |RXN-16998| |2.3.1.157-RXN| |RXN-14249| |3-HYDROXYDECANOYL-ACP-DEHYDR-RXN| |TRIPHOSPHATASE-RXN| |RXN-19472| |ISPH2-RXN| |CHERTARM-RXN| |MHPCHYDROL-RXN| |PORPHOBILSYNTH-RXN| |RXN-11845| |RXN0-7227| |EVGA-RXN| |RXN-12893| |BAES-RXN| |GLUTAMINE--TRNA-LIGASE-RXN| |ACECOATRANS-RXN| |HYDH-RXN| |SUGAR-PHOSPHATASE-RXN| |DARABISOM-RXN| |RXN0-6720| |RXN0-1941| |NITRATE-REDUCTASE-CYTOCHROME-RXN| |2.7.9.3-RXN| |RXN-14382| |RIBONUCLEOSIDE-DIP-REDUCTI-RXN| |ALPHAGALACTOSID-RXN| |RXN0-5226| |RXN-19924| |L-RHAMNONATE-DEHYDRATASE-RXN| |RXN-11476| |PEPCARBOXYKIN-RXN| |RXN-12198| |RXN0-7285| |RXN-14498| |RXN0-361| |GLYCEROL-2-PHOSPHATASE-RXN| |ACID-PHOSPHATASE-RXN| |RXN-17017| |UDP-NACMURALGLDAPLIG-RXN| |RXN0-6952| |RXN0-2441| |RXN-9514| |PRPPSYN-RXN| |3.1.11.2-RXN| |RXN-9550| |CATAL-RXN| |RXN-5822| |LYXISOM-RXN| |RXN-9789| |NANE-RXN| |DEPHOSPHOCOAKIN-RXN| |RXN-12618| |RXN66-526| |RXN0-2145| |RXN0-5120| |GLYRIBONUCSYN-RXN| |ADENPHOSPHOR-RXN| |RXN0-5401| |THIOSULFATE-SULFURTRANSFERASE-RXN| |RXN0-5306| |RXN0-6988| |RXN0-2921| |RXN0-7198| |RXN-16659| |3.1.27.6-RXN| |RXN-14552| |RXN0-947| |ARCBTRANS-RXN| |RXN-17754| |RXN-7913| |MANNPISOM-RXN| |1.8.4.14-RXN| |PHENYLALANINE--TRNA-LIGASE-RXN| |RXN-13072| |SPERMACTRAN-RXN| |3-OXOACYL-ACP-SYNTH-RXN| |RXN0-4223| |PYRROLINECARBREDUCT-RXN| |GUANOSINE-DIPHOSPHATASE-RXN| |ALARACECAT-RXN| |3.4.11.1-RXN| |URIDINEKIN-RXN| |RXN0-7021| |RXN0-3201| |BASR-RXN| |RXN-15312| |DIHYDROFOLATEREDUCT-RXN| |3.4.13.22-RXN| |FERREDOXIN--NAD+-REDUCTASE-RXN| |CPM-KDOSYNTH-RXN| |RXN-8642| |N-ACETYLGLUCOSAMINE-KINASE-RXN| |MALONYL-ACPDECARBOX-RXN| |O-SUCCINYLBENZOATE-COA-SYN-RXN| |RXN0-5407| |RXN-13990| |SUPEROX-DISMUT-RXN| |NRIPHOS-RXN| |ASNSYNB-RXN| |RXN0-5184| |HISTIDINE--TRNA-LIGASE-RXN| |AMINEOXID-RXN| |RSTA-RXN| |TRANSENOYLCOARED-RXN| |RXN-17790| |RXN0-383| |RXN-11479| |RXN-16937| |3.5.1.88-RXN| |RXN-15131| |RXN-15510| |ASPCARBTRANS-RXN| |RHAMNULOKIN-RXN| |NARX-RXN| |RXN-17020| |PMPOXI-RXN| |RXN-14116| |THREONINE-ALDOLASE-RXN| |RXN-17897| |RXN0-5039| |RXN0-5268| |DSERDEAM-RXN| |IMP-DEHYDROG-RXN| |ARGSUCCINLYA-RXN| |RXN-19619| |DADPKIN-RXN| |RXN0-7143| |RXN0-4341| |RXN-9520| |RXN-15881| |RXN0-5510| |5.1.3.20-RXN| |RXN-9557| |RXN0-5217| |RXN0-1441| |OHMETHYLBILANESYN-RXN| |RXN0-1132| |PABASYN-RXN| |RXN-17900| |RXN-14261| |TREHALOSEPHOSPHA-RXN| |RXN0-5513| |RXN-17472| |KDOTRANS-RXN| |ATPPHOSPHORIBOSYLTRANS-RXN| |RXN0-7039| |TSA-REDUCT-RXN| |RXN0-7238| |RXN0-5057| |RXN0-724| |2.6.1.82-RXN| |PROPIONATE--COA-LIGASE-RXN| |ACETOACETATE-DECARBOXYLASE-RXN| |RXN-15952| |THIAZOLSYN2-RXN| |BRANCHED-CHAINAMINOTRANSFERVAL-RXN| |ENTMULTI-RXN| |RXN0-2042| |PDXJ-RXN| |2.1.1.63-RXN| |DEOXYGLUCONOKIN-RXN| |UDP-NACMURALA-GLU-LIG-RXN| |4.2.1.61-RXN| |RXN0-5103| |RXN-8001| |RXN0-6388| |LCYSDESULF-RXN| |CARDIOLIPSYN-RXN| |BIOTINLIG-RXN| |RXN0-5294| |RXN0-7309| |RXN0-5116| |CITTRANS-RXN| |RXN-16424| |ACONITATEHYDR-RXN| |RXN-16649| |RXN-17724| |RXN0-2605| |PHENDEHYD-RXN| |MCPTAP-RXN| |PGPPHOSPHA-RXN| |RXN-11326| |RXN-14510| |UREIDOGLYCOLATE-LYASE-RXN| |PHOBR-RXN| |PYRIDOXKIN-RXN| |MALATE-DEHYDROGENASE-NADP+-RXN| |COBINAMIDEKIN-RXN| |RXN-10654| |UGD-RXN| |FUCISOM-RXN| |S-FORMYLGLUTATHIONE-HYDROLASE-RXN| |RXN0-5182| |RXN-11482| |DIAMINOPIMDECARB-RXN| |ADENYLOSUCCINATE-SYNTHASE-RXN| |RXN-16909| |RXN-17023| |CITRATE-PRO-3S-LYASE-THIOLESTERASE-RXN| |RXN0-6484| |RXN0-2945| |PHOSPHOGLUCMUT-RXN| |RXN-18584| |ISOCITDEH-RXN| |RXN0-5390| |RXN-14712| |YIAE1-RXN| |RXN-19949| |RXN0-5141| |1.1.1.283-RXN| |METHGLYSYN-RXN| |D--TARTRATE-DEHYDRATASE-RXN| |RXN-9527| |RXN-17784| |SUCCCOASYN-RXN| |RXN0-5214| |RXN-9655| |RXN-16701| |RXN-18708| |ALDEHYDE-DEHYDROGENASE-NADP+-RXN| |RXN-17392| |RXN0-1138| |R303-RXN| |RXN0-3281| |PRODISULFREDUCT-RXN| |RXN0-321| |PHOSPHASERDECARB-RXN| |RXN-11593| |DEHYDDEOXPHOSGALACT-ALDOL-RXN| |RXN0-7095| |DMBPPRIBOSYLTRANS-RXN| |NAD-KIN-RXN| |RXN0-5291| |RXN0-7297| |XANTHOSINEPHOSPHORY-RXN| |GCVMULTI-RXN| |TDPFUCACTRANS-RXN| |RXN-17700| |TORT-RXN| |RXN0-5437| |AMINOPROPDEHYDROG-RXN| |PYRAZIN-RXN| |2.3.1.180-RXN| |CYTIDEAM-RXN| |RXN0-6525| |RXN0-3921| |DIACYLGLYKIN-RXN| |ACYLGPEACYLTRANS-RXN| |RXN-17809| |RXN-15210| |RXN0-5383| |CHEBDEP-RXN| |RXN0-5208| |2-OCTAPRENYL-6-OHPHENOL-METHY-RXN| |NMNAMIDOHYDRO-RXN| |RXN-17782| |RIBOSYLNICOTINAMIDE-KINASE-RXN| |THYKI-RXN| |R165-RXN| |GCVT-RXN| |RXN-17011| |RXN-19311| |ASNSYNA-RXN| |DIOHBUTANONEPSYN-RXN| |MCPTSR-RXN| |RXN-17663| |DXPREDISOM-RXN| |RXN0-4581| |RXN0-5433| |PRAISOM-RXN| |RXN-11835| |RXN-15513| |RXN-17798| |RXN-10657| |RXN0-6366| |OROPRIBTRANS-RXN| |RIBOPHOSPHAT-RXN| |RXN-15915| |DCTP-PYROPHOSPHATASE-RXN| |GLUCOSAMINE-6-P-DEAMIN-RXN| |TRNA-GUANINE-N7--METHYLTRANSFERASE-RXN| |DURIDKI-RXN| |RXN-17354| |RXN-17936| |BASS-RXN| |RXN0-6277| |RXN-18678| |RXN0-5234| |RXN0-6565| |RXN-16009| |RXN-17931| |RXN-20000| |RXN-11109| |PEPSYNTH-RXN| |RXN-10819| |RXN-9532| |2.7.1.121-RXN| |UDPGLCNACEPIM-RXN| |FCLEPIM-RXN| |RXN-9659| |FOLYLPOLYGLUTAMATESYNTH-RXN| |CDPDIGLYSYN-RXN| |RXN-10940| |RXN0-1141| |PSEUDOURIDINE-KINASE-RXN| |RXN-19775| |RXN0-5122| |FHLMULTI-RXN| |RXN0-5055| |RXN0-6478| |RXN-16664| |RXN0-6461| |RXN0-6546| |DHBAMPLIG-RXN| |RXN-12071| |PHENYLSERINE-ALDOLASE-RXN| |RXN0-7108| |1.1.1.168-RXN| |UROGENDECARBOX-RXN| |RXN-11574| |RXN0-5361| |GLUTDEHYD-RXN| |CREC-RXN| |GALACTONDEHYDRAT-RXN| |1-ACYLGLYCEROL-3-P-ACYLTRANSFER-RXN| |RXN-18549| |RXN0-5186| |RXN0-6510| |2.7.13.1-RXN| |RXN-17778| |RXN0-6732| |1.8.4.4-RXN| |ARCA-RXN| |RXN-11578| |PNP-RXN| |RXN-19004| |CHEBTRGD-RXN| |QUERCETIN-23-DIOXYGENASE-RXN| |3-DEHYDROQUINATE-DEHYDRATASE-RXN| |DALADALALIG-RXN| |RXN-11637| |ENOYL-ACP-REDUCT-NADH-RXN| |GALACTURIDYLYLTRANS-RXN| |GLU6PDEHYDROG-RXN| |GSADENYLATION-RXN| |DIHYDROURACIL-DEHYDROGENASE-NAD+-RXN| |RXN-17489| |RXN0-6542| |NARLQ-RXN| |RXN0-6515| |PROPKIN-RXN| |2.3.1.118-RXN| |PYFLAVOXRE-RXN| |RXN0-5413| |RXN-12458| |DEOXYINOPHOSPHOR-RXN| |RXN-19407| |RXN-10660| |1TRANSKETO-RXN| |RXN0-5297| |RXN-11843| |RXN-13039| |RXN-17794| |GLYCOLATEDEHYDRO-RXN| |RXN-17726| |GLUTAMIN-RXN| |RXN-17013| |RXN-19024| |PYRIMSYN3-RXN| |RXN0-6717| |RXN-17363| |RIBOFLAVINKIN-RXN| |RXN0-6978| |DIAMTRANSAM-RXN| |2.7.8.25-RXN| |RXN-19366| |RXN-11776| |RXN0-5393| |RXN-19922| |RXN-7716| |DTDPGLUCOSEPP-RXN| |3.1.21.3-RXN| |RXN-17786| |RXN-12197| |RXN-9536| |GLUC1PURIDYLTRANS-RXN| |R524-RXN| |GLYCEROL-1-PHOSPHATASE-RXN| |RXN-9662| |RXN0-6259| |RXN-6622| |DNA-CYTOSINE-5--METHYLTRANSFERASE-RXN| |RXN0-6950| |RXN0-20| |RXN0-6550| |RXN0-5461| |3.1.11.1-RXN| |RXN0-5194| |RXN-17918| |RXN-17847| |RXN-5647| |RXN0-6445| |2.4.1.230-RXN| |RIBULP3EPIM-RXN| |RXN-12611| |RXN0-6561| |RXN-10040| |GSAAMINOTRANS-RXN| |ENOYL-COA-DELTA-ISOM-RXN| |GLYOXYLATE-REDUCTASE-NADP+-RXN| |RXN0-7192| |RXN-19474| |RXN0-6368| |RXN0-6987| |RXN0-747| |EXOPOLYPHOSPHATASE-RXN| |RXN0-7001| |RXN-17954| |3.1.27.5-RXN| |UDPREDUCT-RXN| |RXN-11860| |RXN-17960| |1.7.2.3-RXN| |RXN0-6444| |3.2.2.10-RXN| |RXN-11152| |RXN-12896| |2OXOGLUTDECARB-RXN| |GLUTAMINESYN-RXN| |FORMYLTHFGLUSYNTH-RXN| |GUANINE-DEAMINASE-RXN| |BAER-RXN| |RXN0-6451| |RXN-8340| |RXN0-6480| |RXN0-7020| |CHERTAPM-RXN| |1.1.1.251-RXN| |3.4.13.21-RXN| |ENVZ-RXN| |RXN-18241| |RXN0-6491| |RXN-13418| |RXN-18586| |RXN-8632| |HYDG-RXN| |2.8.1.6-RXN| |RXN-11588| |RXN-13859| |NARPX-RXN| |RXN-19778| |H2NTPEPIM-RXN| |GALPMUT-RXN| |HISTCYCLOHYD-RXN| |REDUCEDFE-S-RXN| |RXN-19953| |RXN0-6521| |RXN0-7079| |RXN-11474| |GABATRANSAM-RXN| |RXN0-7046| |2-ISOPROPYLMALATESYN-RXN| |3.4.24.70-RXN| |RXN-14391| |RXN-12274| |RXN-19026| |RXN-17016| |RXN0-6494| |RXN-13179| |3.4.21.107-RXN| |RXN-14115| |RXN-17824| |GLYCEROL-KIN-RXN| |GLUCOKIN-RXN| |IMIDPHOSDEHYD-RXN| |RXN-19473| |1.13.11.16-RXN| |RXN-8974| |RXN0-6556| |RXN0-7141| |RXN-8668| |RXN0-6957| |2.5.1.19-RXN| |5-OXOPROLINASE-ATP-HYDROLYSING-RXN| |RXN-9540| |RXN-18738| |RXN0-7123| |RXN-14064| |RXN-1961| |RXN0-1402| |RXN-9788| |3.1.11.6-RXN| |RXN-11866| |RXN-14260| |RXN0-2144| |RXN-11601| |HOMOSERDEHYDROG-RXN| |GLUTATHIONE-REDUCT-NADPH-RXN| |KDO-8PSYNTH-RXN| |RXN0-5231| |RXN-5921| |RXN0-6725| |RXN0-7235| |RXN0-6464| |GDPMANMANHYDRO-RXN| |2OXOGLUTARATEDEH-RXN| |ACETATEKIN-RXN| |RXN0-6718| |RXN-12752| |RXN-19988| |RXN0-2023| |RXN0-7197| |RXN0-6529| |4.1.2.28-RXN| |RXN-12353| |RXN0-802| |GMKALT-RXN| |GLYCOGEN-BRANCH-RXN| |LCARNCOALIG-RXN| |URITRANS-RXN| |2.1.1.34-RXN| |RXN0-1001| |RXN0-6974| |RXN0-7304| |1.8.4.13-RXN| |RXN0-6990| |3.1.13.3-RXN| |ACONITATEDEHYDR-RXN| |3-OXOACYL-ACP-SYNTH-BASE-RXN| |RXN-14160| |RXN-6201| |RXN0-2604| |BAROMP-RXN| |3.1.3.68-RXN| |RXN-14509| |CHERTSRM-RXN| |RXN-11839| |IPPISOM-RXN| |GMP-SYN-GLUT-RXN| |MALATE-DEHYDROGENASE-ACCEPTOR-RXN| |RXN-7931| |RXN0-6994| |S-ADENMETSYN-RXN| |NRIIPHOS-RXN| |RXN0-7170| |3.2.1.14-RXN| |ADENYLATECYC-RXN| |RIBONUCLEOSIDE-TRIP-REDUCT-RXN| |RXN-15294| |RXN-13141| |RXN0-7294| |RXN-7967| |RXN0-2943| |RXN-11478| |RXN0-6676| |RXN0-6501| |6-PHOSPHO-BETA-GLUCOSIDASE-RXN| |RXN-13182| |RXN-15509| |GUANOSINEKIN-RXN| |CPXR-RXN| |GUANYL-KIN-RXN| |METHENYLTHFCYCLOHYDRO-RXN| |RXN-17019| |2.7.7.1-RXN| |RXN0-7293| |RXN0-1861| |RXN0-7024| |SUCCARGDIHYDRO-RXN| |RXN-19618| |RXN0-7022| |PHOP-RXN| |3.4.17.8-RXN| |ALCOHOL-DEHYDROGENASE-NADPORNOP+-RXN| |RXN-9518| |RXN-19854| |URIDYLREM-RXN| |RXN-8667| |RXN0-3261| |RXN-9556| |3.4.13.9-RXN| |RXN0-6519| |RXN-14023| |RXN-982| |RXN-12104| |KETOGLUTREDUCT-RXN| |RXN0-7284| |HISTPRATPHYD-RXN| |NACGLCTRANS-RXN| |RXN0-2721| |RXN-8645| |RXN0-7090| |TARTRATE-DEHYDROGENASE-RXN| |RXN0-5468| |GLUTSEMIALDEHYDROG-RXN| |RXN0-7270| |325-BISPHOSPHATE-NUCLEOTIDASE-RXN| |AMINOCYL-TRNA-HYDROLASE-RXN| |RXN0-6499| |RXN-14002| |RXN-9772| |RXN0-3901| |RXN0-723| |RXN0-6941| |ACETYL-COA-ACETYLTRANSFER-RXN| |RXN-14136| |RXN-15147| |TDCEACT1-RXN| |HISTIDPHOS-RXN| |INORGPYROPHOSPHAT-RXN| |NICOTINATEPRIBOSYLTRANS-RXN| |1.97.1.4-A-RXN| |3-ISOPROPYLMALISOM-RXN| |RXN0-2281| |RXN0-7165| |THTOREDUCT-RXN| |3.1.4.14-RXN| |RXN0-7081| |5.3.4.1-RXN| |ARYLSULFAT-RXN| |4.2.1.59-RXN| |RXN-3521| |RXN-14480| |RXN0-1602| |RXN0-4401| |BIOTIN-CARBOXYL-RXN| |3.5.2.17-RXN| |RXN-14283| |RXN-15358| |CITRYLY-RXN| |LUMAZINESYN-RXN| |KDPGALDOL-RXN| |ORNDECARBOX-RXN| |RXN0-7249| |TRNA-CYTIDYLYLTRANSFERASE-RXN| |MCPMETEST-RXN| |GLYOHMETRANS-RXN| |RXN0-963| |ACETOLACTREDUCTOISOM-RXN| |BARA-RXN| |PHOBCREC-RXN| |RXN-14124| |RXN-16003| |RXN-10462| |RXN0-6982| |ADDALT-RXN| |RXN-14473| |PEPDEPHOS-RXN| |RXN-11481| |IMPCYCLOHYDROLASE-RXN| |LIPIDADISACCHARIDESYNTH-RXN| |UDPACYLGLCNACDEACETYL-RXN| |RXN-15512| |3.1.26.12-RXN| |RXN0-271| |RXN0-884| |CDPDIGLYPYPHOSPHA-RXN| |RXN-17022| |RXN0-7154| |ACYLCOADEHYDROG-RXN| |RXN0-5121| |RXN-18434| |RXN-7607| |RXN-14522| |RXN0-2621| |RXN-16660| |RXN-19780| |5.3.1.17-RXN| |RXN-14513| |RXN-9524| |MANNKIN-RXN| |MALTACETYLTRAN-RXN| |URKI-RXN| |RXN-9590| |RXN0-1461| |SEDOBISALDOL-RXN| |CPXA-RXN| |RXN0-1134| |GST-RXN| |SHIKIMATE-5-DEHYDROGENASE-RXN| |ADPSUGPPHOSPHAT-RXN| |RXN0-5185| |RXN0-312| |RXN-14281| |RXN0-301| |RXN-16938| |RXN0-5522| |RXN0-7010| |AIRS-RXN| |PNKIN-RXN| |RXN0-6507| |KDOTRANS2-RXN| |METHYLENETHFDEHYDROG-NADP-RXN| |DAHPSYN-RXN| |RXN0-7084| |3.4.11.2-RXN| |RXN0-305| |SUCCGLUDESUCC-RXN| |RXN0-7271| |RXN0-7239| |ALKAPHOSPHA-RXN| |RXN-17473| |THIOREDOXIN-RXN| |RXN-8460| |RXN-15740| |RXN0-3461| |PROPIONYL-COA-CARBOXY-RXN| |2.3.1.179-RXN| |ACETOACETYL-COA-TRANSFER-RXN| |RXN-15041| |DEOXYGUANPHOSPHOR-RXN| |ACP-S-ACETYLTRANSFER-RXN| |METHYLTHIOADENOSINE-NUCLEOSIDASE-RXN| |NADH-DEHYDROGENASE-QUINONE-RXN| |RXN0-5295| |CHEBDEAMID-RXN| |RXN0-2044| |THI-P-KIN-RXN| |RXN-17725| |HEMEOSYN-RXN| |SUCCSEMIALDDEHYDROG-RXN| |AMPSYN-RXN| |PYRIMSYN1-RXN| |GCVP-RXN| |RXN0-3962| |DIAMINOPIMEPIM-RXN| |MCPTRG-RXN| |RXN0-7068| |ALPHA-AMYL-RXN| |RXN-15293| |RXN0-5391| |PHOSICITDEHASE-RXN| |RXN0-5256| |LEUCINE--TRNA-LIGASE-RXN| |NUCLEOSIDE-DIP-KIN-RXN| |RXN-17785| |RXN-10656| |3.4.21.89-RXN| |RXN0-3601| |THYMIDYLATESYN-RXN| |R4-RXN| |RXN-15891| |RXN0-742| |ASPARAGINE--TRNA-LIGASE-RXN| |DMK-RXN| |RXN-17127| |RXN-9025| |RXN0-4841| |RXN0-5455| |RXN-18605| |ACSERLY-RXN| |RXN-15607| |RXN-17846| |RXN-19952| |RXN-14090| |ENTG-RXN| |NAG6PDEACET-RXN| |OXALODECARB-RXN| |RIBOSYLPYRIMIDINE-NUCLEOSIDASE-RXN| |RXN-9531| |RXN0-2606| |TRNA-S-TRANSFERASE-RXN| |DXS-RXN| |RXN-9658| |HYDROXYLAMINE-REDUCTASE-RXN| |THIOESTER-RXN| |BETA-PHOSPHOGLUCOMUTASE-RXN| |RXN0-6367| |RXN0-1140| |RXN-14511| |RXN0-5065| |RXN-17944| |RXN0-4942| |RXN0-7115| |ARCB717-RXN| |RXN-1623| |RXN-11135| |RXN0-6385| |MALIC-NADP-RXN| |PGLUCISOM-RXN| |FORMYLTHFDEFORMYL-RXN| |RXN0-6533| |4.3.1.17-RXN| |RXN0-4222| |UDPMANACATRANS-RXN| |RXN0-6479| |RXN0-7105| |SAICARSYN-RXN| |CHD-RXN| |1.1.1.215-RXN| |RXN0-7303| |RXN0-1321| |RXN-15299| |RXN0-5125| |RXN-18550| |ADENYLYLSULFKIN-RXN| |RXN-16687| |RXN-11586| |2.3.1.49-RXN| |RXN-14196| |O-SUCCINYLBENZOATE-COA-LIG-RXN| |PHOSACETYLTRANS-RXN| |GALACTUROISOM-RXN| |ALTARCA-RXN| |RXN0-299| |URPHOS-RXN| |RXN0-6518| |CHEBTARD-RXN| |ISOLEUCINE--TRNA-LIGASE-RXN| |TRANSALDOL-RXN| |CYCPHOSDIESTER-RXN| |2-DEHYDROPANTOATE-REDUCT-RXN| |DISULFOXRED-RXN| |RXN0-5190| |RXN-19025| |GLUTAREDOXIN-RXN| |RXN0-7219| |ASPARTATEKIN-RXN| |RXN-16997| |RXN-11791| |MYRPALMTRAN-RXN| |METHIONINE--TRNA-LIGASE-RXN| |POLYPHOSPHATE-KINASE-RXN| |GLUCARDEHYDRA-RXN| |PROTEIN-TYROSINE-PHOSPHATASE-RXN| |7KAPSYN-RXN| |RXN0-5038| |DARABALDOL-RXN| |RXN0-6555| |RXN-10659| |SUCCDIAMINOPIMDESUCC-RXN| |RXN0-5225| |2.4.1.78-RXN| |RXN-17012| |RXN0-1922| |RXN-15878| |RXN-17495| |RXN-19573| |RXN-17362| |PRPPAMIDOTRANS-RXN| |RXN-11865| |RXN-19342| |RXN-14379| |P-PANTOCYSLIG-RXN| |DEOXYRIBOSE-P-ALD-RXN| |GLUTATHIONE-PEROXIDASE-RXN| |RXN0-3364| |RXN0-6722| |RXN-9535| |L-LACTDEHYDROGFMN-RXN| |TRYPTOPHAN-RXN| |2.9.1.1-RXN| |RXN-9661| |RXN-14992| |PYRROLINECARBDEHYDROG-RXN| |RXN-19954| |RXN0-1147| |RXN0-7283| |BRANCHED-CHAINAMINOTRANSFERLEU-RXN| |DIHYDRODIPICSYN-RXN| |RXN-12275| |RXN0-5177| |NAD-SYNTH-GLN-RXN| |RXN0-5402| |GLYCINE--TRNA-LIGASE-RXN| |RXN0-6442| |ACETYLORNTRANSAM-RXN| |RXN0-5101| |RXN-17789| |RXN0-6973| |RXN0-6560| |RXN0-5266| |TETHYDPICSUCC-RXN| |RHAMNISOM-RXN| |3.1.13.1-RXN| |RXN0-7169| |RXN0-2382| |RXN-16420| |DNA-LIGASE-NAD+-RXN| |RXN0-746| |RXN0-5330| |AMP-DEPHOSPHORYLATION-RXN| |RXN0-5509| |UDPNACETYLGLUCOSAMACYLTRANS-RXN| |PGLYCEROLTRANSII-RXN| |GMP-REDUCT-RXN| |1.7.2.2-RXN| |RXN0-3922| |RNTRACTIV-RXN| |RXN0-6992| |2.7.7.61-RXN| |LYSOPHOSPHOLIPASE-RXN| |UDPSUGARHYDRO-RXN| |ENTF-RXN| |3.1.3.74-RXN| |ATOC-RXN| |RXN-19020| |RXN-15216| |RXN0-6382| |RXN-7948| |CHER-RXN| |RXN1-42| |CHORPYRLY-RXN| |RXN-13142| |HOLO-ACP-SYNTH-RXN| |NMNNUCLEOSID-RXN| |RXN-11319| |GUANPRIBOSYLTRAN-RXN| |NARPQ-RXN| |ADENOSYLHOMOCYSTEINE-NUCLEOSIDASE-RXN| |RXN0-5131| |FUC4NACTRANS-RXN| |RXN0-7023| |RCSC-RXN| |THYM-PHOSPH-RXN| |RXN0-6483| |3.4.15.5-RXN| |RXN-11361| |RXN0-280| |RXN-16691| |1.1.1.274-RXN| |RXN-8654| |RXN-14381| |ASPAMINOTRANS-RXN| |PHOSPHAGLYPSYN-RXN| |RXN-18707| |RXN-14014| |RXN-17015| |RXN-14534| |XANPRIBOSYLTRAN-RXN| |RXN-11592| |HISTOLDEHYD-RXN| |RXN-17823| |RXN0-4621| |CYTDEAM-RXN| |GARTRANSFORMYL2-RXN| |RXN0-7083| |RXN-8655| |MANNPDEHYDROG-RXN| |RXN0-5200| |RXN0-6524| |3.6.1.41-RXN| |RXN-9539| |RXN-15578| |RXN-17010| |2-OCTAPRENYL-6-METHOXYPHENOL-HYDROX-RXN| |RXN-9597| |RXN-9787| |SORBITOL-6-PHOSPHATASE-RXN| |PPPGPPHYDRO-RXN| |RXN-19256| |RXN-14126| |RXN0-2142| |OROTPDECARB-RXN| |DCTP-DEAM-RXN| |RXN-11834| |INOPHOSPHOR-RXN| |RXN0-5211| |ALANINE-AMINOTRANSFERASE-RXN| |RXN0-5229| |RXN0-7160| |RXN0-7196| |TRNA-NUCLEOTIDYLTRANSFERASE-RXN| |RXN-17632| |RXN0-6564| |5.3.3.14-RXN| |RXN0-801| |RXN0-3182| |PSERTRANSAMPYR-RXN| |2.6.1.7-RXN| |RXN0-1483| |UHPC-RXN| |BETA-GLUCURONID-RXN| |DGTPTRIPHYDRO-RXN| |RXN-19737| |RXN-14282| |1.8.4.12-RXN| |RXN0-5359| |RXN-12070| |KDPD-RXN| |3-OXOACYL-ACP-REDUCT-RXN| |RXN0-5062| |RXN-17777| |GLUTDECARBOX-RXN| |RXN0-7248| |CHERTRGM-RXN| |MMUM-RXN| |QOR-RXN| |RXN0-6731| |ACETOINDEHYDROG-A-RXN| |RXN-16165| |DIHYDROOROT-RXN| |3-CH3-2-OXOBUTANOATE-OH-CH3-XFER-RXN| |RXN0-2061| |LAUROYLACYLTRAN-RXN| |SULFOCYS-RXN| |RXN0-3501| |RXN0-5410| |RXN-2425| |RXN-14461| |NRIDEPHOS-RXN| |PEPTIDYLPROLYL-ISOMERASE-RXN| |RXN-17793| |RXN-12445| |LEUCYLTRANSFERASE-RXN| |RIBONUCLEOSIDE-DIP-REDUCTII-RXN| |AMACETOXID-RXN| |RIBOFLAVIN-SYN-RXN| |GLYCOLALDREDUCT-RXN| |RXN0-743| |RXN-11477| |UDPGLUCEPIM-RXN| |DTDPGLUCDEHYDRAT-RXN| |RXN0-6977| |ACYL-COA-HYDROLASE-RXN| |RXN-14499| |RXN0-382| |RXN0-6256| |3.1.21.2-RXN| |RXN0-262| |RXN-17018| |CDPKIN-RXN| |RXN-17916| |RXN-14512| |RXN-19617| |RXN-15129| |MALSYN-RXN| |RXN-9516| |RXN0-5123| |ETHAMLY-RXN| |GPPSYN-RXN| |SAMDECARB-RXN| |RXN-9555| |NARQ-RXN| |RXN-17652| |RXN0-6427| |RXN0-7000| |ADOMET-DMK-METHYLTRANSFER-RXN| |RXN-9790| |RXN-16665| |3.2.1.52-RXN| |RXN0-300| |RXN0-267| |THREONINE--TRNA-LIGASE-RXN| |RXN0-5419| |PHOQ-RXN| |METHIONYL-TRNA-FORMYLTRANSFERASE-RXN| |RXN0-6495| |ARGININE-N-SUCCINYLTRANSFERASE-RXN| |FUMHYDR-RXN| |H2NEOPTERINP3PYROPHOSPHOHYDRO-RXN| |SUCCGLUALDDEHYD-RXN| |RXN0-722| |RXN0-6369| |UROGENIIISYN-RXN| |RXN0-6493| |RXN0-7040| |ALDOSE1EPIM-RXN| |RXN0-949| |RXN0-4301| |1.11.1.15-RXN| |3.4.21.105-RXN| |RXN0-3381| |1.8.4.8-RXN| |CROBETREDUCT-RXN| |RXN-18737| |3.1.3.16-RXN| |RXN-11600| |RXN-14047| |NAD-SYNTH-NH3-RXN| |4.2.1.58-RXN| |RXN0-5187| |GDPMANDEHYDRA-RXN| |HOMOCYSTEINE-S-METHYLTRANSFERASE-RXN| |TETRAACYLDISACC4KIN-RXN| |CITC-RXN| |OHBUTYRYL-COA-EPIM-RXN| |RXN0-6528| |RXN0-7101| |AMP-NUCLEOSID-RXN| |FLAVONADPREDUCT-RXN| |RXN-16995| |2-OXOPENT-4-ENOATE-HYDRATASE-RXN| |4-NITROPHENYLPHOSPHATASE-RXN| |RXN0-3942| |MALONYL-COA-ACP-TRANSACYL-RXN| |TREHALOSE6PSYN-RXN| |RXN-15292| |PALMITOTRANS-RXN| |PNPOXI-RXN| |RXN-11838| |RXN-14143| |NQOR-RXN| |RSTB-RXN| |ATPASE-RXN| |GLUCOSE-6-PHOSPHATASE-RXN| |INOSINEKIN-RXN| |THYMIDYLATE-5-PHOSPHATASE-RXN| |RXN-11480| |DAPASYN-RXN| |RXN0-6576| |RXN0-7168| |ASPARAGHYD-RXN| |RXN-15511| |RXN0-5052| |2.7.13.2-RXN| |5.99.1.3-RXN| |RXN0-4641| |RXN-17021| |RXN0-5223| |RXN-19793| |RXN0-1842| |RXN-15581| |RXN-17943| |RXN-15943| |RXN-12093| |RXN-14286| |OXALOACETATE-TAUTOMERASE-RXN| |RXN-19774| |RXN-17490| |GLUTRNAREDUCT-RXN| |KETOBUTFORMLY-RXN| |TRNA-PSEUDOURIDINE-SYNTHASE-I-RXN| |RXN-9523| |PANTOTHENATE-KIN-RXN| |RXN0-6938| |RXN0-7253| |BETA-LACTAMASE-RXN| |RXN-9558| |PROTOHEMEFERROCHELAT-RXN| |3-ISOPROPYLMALDEHYDROG-RXN| |ACETOOHBUTSYN-RXN| |RXN0-5063| |RXN0-1133| |UDP-NACMUR-ALA-LIG-RXN| |RXN0-2201| |RXN-16225| |RXN0-307| |DEOXYNUCLEOTIDE-3-PHOSPHATASE-RXN| |RXN-14479| |PEROXID-RXN| |RXN0-5514| |CARBOXYLESTERASE-RXN| |GLYOCARBOLIG-RXN| |LTARTDEHYDRA-RXN| |UDPKIN-RXN| |RXN0-6503| |RXN0-5298| |RXN0-6981| |RXN0-962| |CELLULOSE-SYNTHASE-UDP-FORMING-RXN| |RXN0-7047| |RXN0-5114| |3.1.26.11-RXN| |ADCLY-RXN| |RXN0-5124| |RXN0-7268| |RXN-17745| |RXN-7605| |RXN0-268| |RXN-16685| |THIOREDOXIN-REDUCT-NADPH-RXN| |RXN-14521| |PHOR-RXN| |2.3.1.128-RXN| |RXN-16001| |PYRNUTRANSHYDROGEN-RXN| |GSPSYN-RXN| |MANNITOL-1-PHOSPHATASE-RXN| |UROPORIIIMETHYLTRANSA-RXN| |URACIL-PRIBOSYLTRANS-RXN| |RXN0-7008| |SERINE-O-ACETTRAN-RXN| |CTPSYN-RXN| |CDPREDUCT-RXN| |DIENOYLCOAREDUCT-RXN| |3.4.11.18-RXN| |AICARTRANSFORM-RXN| |RXN0-5189| |CREB-RXN| |COBALAMIN5PSYN-RXN| |RXN-8348| |RXN0-304| |RXN-16996| |GAMMA-GLUTAMYLTRANSFERASE-RXN| |RXN0-5395| |RXN-13548| |POLYNUCLEOTIDE-ADENYLYLTRANSFERASE-RXN| |MCPTAR-RXN| |RXN0-5181| |HCAMULTI-RXN| |METHYLMALONYL-COA-MUT-RXN| |DARAB5PISOM-RXN| |RXN-10655| |RXN-17787| |RXN0-7067| |SUCCORNTRANSAM-RXN| |RXN0-5224| |RXN-11483| |3.4.21.87-RXN| |ALLOSE-KINASE-RXN| |RXN-17493| |RXN-15890| |R621-RXN| |RXN-8999| |RXN0-3543| |PROTOPORGENOXI-RXN| |RXN-17024| |PHOSPHOENOLPYRUVATE-PHOSPHATASE-RXN| |DIMESULFREDUCT-RXN| |RXN-14074| |RXN-15122| |DEOXYRIBODIPYRIMIDINE-PHOTOLYASE-RXN| |RXN-18604| |DNA-DIRECTED-DNA-POLYMERASE-RXN| |HYDGLUTSYN-RXN| |NAG1P-URIDYLTRANS-RXN| |RXN0-5304| |RXN-19950| |XYLULOKIN-RXN| |RXN0-6373| |RXN0-7114| |THIKIN-RXN| |RXN-9528| |RXN0-5462| |4.3.1.15-RXN| |ARABISOM-RXN| |PYROXALTRANSAM-RXN| |RXN-9657| |CYTIKIN-RXN| |RXN0-1281| |RXN0-4181| |DIHYDLIPACETRANS-RXN| |RXN0-1139| |RXN-17848| |RXN-14188| |RXN-15298| |RXN0-5398| |RXN0-3341| |RXN0-5213| |ISOCIT-CLEAV-RXN| |O-SUCCHOMOSERLYASE-RXN| |RXN-17788| |RXN0-7299| |RIBULPEPIM-RXN| |RXN0-7188| |TRANS-RXN0-623| |RFFTRANS-RXN| |RXN-17391| |7-ALPHA-HYDROXYSTEROID-DEH-RXN| |ASPARTATE-SEMIALDEHYDE-DEHYDROGENASE-RXN| |DNA-DIRECTED-RNA-POLYMERASE-RXN| |2.3.1.41-RXN| |RXN-13163| |ENOYL-COA-HYDRAT-RXN| |RXN0-1882| |RXN0-5021| |RXN0-5507| |PRIBFAICARPISOM-RXN| |RXN-14363| |RXN-15761| |RXN0-6371| |L-IDONATE-2-DEHYDROGENASE-RXN| |P-PANTOCYSDECARB-RXN| |RNA-3-PHOSPHATE-CYCLASE-RXN| |DEHYDDEOXGALACTKIN-RXN| |RXN0-7280| |TRYPTOPHAN--TRNA-LIGASE-RXN| |ENTDB-RXN| |RXN-17955| |ACETYLORNDEACET-RXN| |BRANCHED-CHAINAMINOTRANSFERILEU-RXN| |RXN0-6381| |RXN0-5289| |RXN0-2381| |RXN0-5100| |RXN-17956| |RXN-17961| |RXN-14497| |RXN-16312| |RXN-17962| |LYSINE--TRNA-LIGASE-RXN| |PGLYCEROLTRANSI-RXN| |RXN-11313| |RXN-11277| |RXN0-986| |UDPNACETYLMURAMATEDEHYDROG-RXN| |FRUCTOKINASE-RXN| |PYRAMKIN-RXN| |ADENOSINE-NUCLEOSIDASE-RXN| |CHORISMATEMUT-RXN| |RXN0-6482| |RXN0-5264| |FPPSYN-RXN| |RXN0-279| |RXN0-5129| |1.1.1.271-RXN| |DHHB-METHYLTRANSFER-RXN| |RXN-14525| |RXN-16690| |RXN-18703| |PYRUVDEH-RXN| |RXN0-6481| |MANNOSE-ISOMERASE-RXN| |PHOSNACMURPENTATRANS-RXN| |RXN-11591| |RXN0-5375| |SORB6PDEHYDROG-RXN| |VALINE-PYRUVATE-AMINOTRANSFER-RXN| |GART-RXN| |1.1.1.264-RXN| |ALANINE--TRNA-LIGASE-RXN| |CYSTEINE-AMINOTRANSFERASE-RXN| |RXN0-6523| |RXN-17781| |RXN0-313| |RXN0-5199| |2-METHYLCITRATE-SYNTHASE-RXN| |RXN-18702| |RXN-17009| |RXN-19253| |R15-RXN| |MHPHYDROXY-RXN| |PPGPPSYN-RXN| |RXN-11833| |RXN-11589| |SULFITE-REDUCT-RXN| |DCDPKIN-RXN| |GLUCONOKIN-RXN| |RXN-12588| |DIMETHUROPORDEHYDROG-RXN| |ALTRODEHYDRAT-RXN| |RXN0-5228| |RXN0-6563| |GAPOXNPHOSPHN-RXN| |RXN0-3741| |2.6.1.57-RXN| |RXN-12894| |RXN0-5422| |PSERTRANSAM-RXN| |RXN-19630| |CARBPSYN-RXN| |RXN0-6522| |NAPHTHOATE-SYN-RXN| |DGDPKIN-RXN| |RXN-12002| |RXN-17797| |THREODEHYD-RXN| |RXN0-5329| |GLUTCYSLIG-RXN| |2-METHYLCITRATE-DEHYDRATASE-RXN| |ARGININE--TRNA-LIGASE-RXN| |RXN-17776| |RXN0-6727| |RIBOKIN-RXN| |RXN0-4281| |PYRUVFORMLY-RXN| |2TRANSKETO-RXN| |RXN-19249| |RXN-15341| |DIHYDRONEOPTERIN-MONO-P-DEPHOS-RXN| |RXN-2043| |DUDPKIN-RXN| |OHACYL-COA-DEHYDROG-RXN| |RXN0-5409| |RXN-12444| |RXN-11832| |TREHALA-RXN| |RXN-17792| |GLYCOLALD-DEHYDROG-RXN| |RXN0-7231| |RXN0-6274| |DLACTDEHYDROGFAD-RXN| |ATP-PYROPHOSPHATASE-RXN| |RIB5PISOM-RXN| |RXN0-6976| |GLUCONATE-5-DEHYDROGENASE-RXN| |RXN0-5051| |DTDPDEHYRHAMREDUCT-RXN| |3.1.21.1-RXN| |RXN-17930| |RXN0-6254| |RXN-6321| |RXN0-6511| |RXN0-6562| |PANTOATE-BETA-ALANINE-LIG-RXN| |RXN-10814| |RXN-11496| |TYROSINE-AMINOTRANSFERASE-RXN| |GPH-RXN| |2.5.1.64-RXN| |CARBOXYLATE-REDUCTASE-RXN| |ERYTHRON4PDEHYDROG-RXN| |RXN0-6999| |FADSYN-RXN| |RXN0-5108| |3.2.1.21-RXN| |RXN-19629| |RXN-16457| |RXN-18093| |RXN-8073| |RXN-10856| |URA-PHOSPH-RXN| |RXN-11397| |RXN-11867| |COBALADENOSYLTRANS-RXN| |FUCULOKIN-RXN| |H2NEOPTERINALDOL-RXN| |FGAMSYN-RXN| |RXN0-5146| |RXN0-6487| |RXN0-704| |GLUTATHIONE-SYN-RXN| |RXN-16788| |1.1.1.83-RXN| |3.4.21.102-RXN| |RXN0-6460| |PHOSPHOAMIDASE-RXN| |RXN-18710| |RXN-8770| |RXN0-6726| |XYLONATE-DEHYDRATASE-RXN| |RXN-11598| |RXN-14026| |RXN-18388| |CYTIDINEKIN-RXN| |GDPKIN-RXN| |HOMOCYSMETB12-RXN| |2PGADEHYDRAT-RXN| |RXN0-5210| |RXN0-6527| |RXN0-7100| |RXN-11573| |RXN-17330| |2-OCTAPRENYLPHENOL-HYDROX-RXN| |4-HYDROXYBUTYRATE-DEHYDROGENASE-RXN| |RXN-19998| |PREPHENATEDEHYDROG-RXN| |RXN-9952| |GALACTOKIN-RXN|)))\n"
     ]
    },
    {
     "name": "stdout",
     "output_type": "stream",
     "text": [
      "rxns-w-isozymes\n",
      "(rxns-w-isozymes  )\n",
      "(with-organism (:org-id '|ECOLI|) (rxns-w-isozymes  ))\n"
     ]
    },
    {
     "data": {
      "text/plain": [
       "[u'|RXN-14142|',\n",
       " u'|GLUCOSE-1-PHOSPHAT-RXN|',\n",
       " u'|2.7.10.1-RXN|',\n",
       " u'|5.99.1.2-RXN|',\n",
       " u'|1.5.1.34-RXN|',\n",
       " u'|RXN-17780|',\n",
       " u'|KETOACYLCOATHIOL-RXN|',\n",
       " u'|RXN0-7251|',\n",
       " u'|GLYCPDIESTER-RXN|',\n",
       " u'|LTAA-RXN|']"
      ]
     },
     "execution_count": 15,
     "metadata": {},
     "output_type": "execute_result"
    }
   ],
   "source": [
    "\"\"\"\n",
    "rxns\n",
    "Keyword, Optional A list of instances of the class |Reactions|. Defaults to the \n",
    "result of (all‑rxns :enzyme).\n",
    "\"\"\"\n",
    "\n",
    "ecoli.rxns_w_isozymes(rxns = ecoli.all_rxns(':enzyme'))[0:10]\n",
    "ecoli.rxns_w_isozymes()[0:10]"
   ]
  },
  {
   "cell_type": "code",
   "execution_count": 16,
   "metadata": {},
   "outputs": [
    {
     "name": "stdout",
     "output_type": "stream",
     "text": [
      "all-rxns\n",
      "(all-rxns ::enzyme )\n",
      "(with-organism (:org-id '|ECOLI|) (all-rxns ::enzyme ))\n",
      "rxns-catalyzed-by-complex\n",
      "(rxns-catalyzed-by-complex  :rxns '(|DCYSDESULF-RXN| |RXN-11837| |RXN-14142| |DIHYDROOROTATE-DEHYDROGENASE-RXN| |RXN-12402| |RXN0-5285| |GLUCOSE-1-PHOSPHAT-RXN| |INOSINE-NUCLEOSIDASE-RXN| |RXN0-6509| |RXN0-6575| |RXN0-7167| |GLYCOGENSYN-RXN| |PUTTRANSAM-RXN| |2.7.10.1-RXN| |5.99.1.2-RXN| |1.5.1.34-RXN| |DHDOGALDOL-RXN| |RXN-19777| |RXN0-1661| |RXN0-6975| |RXN0-5364| |RXN-12073| |RXN-14285| |RXN-18999| |RXN-17780| |GLUTRACE-RXN| |KETOACYLCOATHIOL-RXN| |3.1.13.5-RXN| |QUINOPRIBOTRANS-RXN| |RXN0-6734| |RXN0-7251| |RXN-11635| |DIHYDROXYMETVALDEHYDRAT-RXN| |3-HYDROXBUTYRYL-COA-DEHYDRATASE-RXN| |ACETOOHBUTREDUCTOISOM-RXN| |RXN0-5418| |RXN-2962| |RXN0-2161| |GLCNACPTRANS-RXN| |RXN-17796| |RXN-12508| |RXN-14478| |RXN-12816| |RIBOFLAVINSYNREDUC-RXN| |GLYCPDIESTER-RXN| |LTAA-RXN| |RXN0-6541| |DTMPKI-RXN| |RXN0-6980| |RXN0-961| |DALADEHYDROG-RXN| |GMP-SYN-NH3-RXN| |RXN0-6272| |3.1.22.4-RXN| |ACYLPHOSPHATASE-RXN| |2.1.1.79-RXN| |RXN-17920| |RXN0-2661| |RXN0-6998| |RXN-19381| |F16BDEPHOS-RXN| |GSPAMID-RXN| |MALTODEXGLUCOSID-RXN| |3.2.1.17-RXN| |FCLREDUCT-RXN| |RXN0-7007| |SERINE--TRNA-LIGASE-RXN| |RXN-11842| |RXN0-6459| |3.2.2.23-RXN| |AICARSYN-RXN| |RXN-18092| |FORMATEDEHYDROG-RXN| |RXN-7968| |RXN-18376| |RXN-8344| |RXN0-303| |GLUTAMIDOTRANS-RXN| |RXN-11484| |RXN-11396| |RXN-13202| |GALACTOACETYLTRAN-RXN| |H2PTEROATESYNTH-RXN| |METHYLMALONYL-COA-EPIM-RXN| |RXN0-6710| |RXN0-6506| |RXN0-7066| |SUCCINYLDIAMINOPIMTRANS-RXN| |FUCPALDOL-RXN| |GUANYLCYC-RXN| |1.5.1.20-RXN| |3.4.21.83-RXN| |ALLANTOINASE-RXN| |NADH-DEHYDROG-A-RXN| |2.7.7.8-RXN| |RXN-13403| |RXN-8992| |RXN0-3542| |RXN0-6485| |RXN0-703| |RXN-11633| |RXN-14073| |RXN0-4701| |GKI-RXN| |HOMSUCTRAN-RXN| |NADPYROPHOSPHAT-RXN| |1.1.1.39-RXN| |3.4.19.12-RXN| |RXN0-6532| |RXN0-7104| |THIAZOLSYN3-RXN| |RXN-12195| |2.1.1.77-RXN| |4.2.99.18-RXN| |ANTHRANSYN-RXN| |RXN-18709| |RXN-8675| |RXN-19362| |RXN0-1241| |RXN0-4121| |GLYCDEH-RXN| |RXN-11841| |RXN-14181| |RXN-15297| |RXN-11596| |RXN-14025| |CITLY-RXN| |GLURS-RXN| |ISOCHORSYN-RXN| |NUCLEOTIDE-PYROPHOSPHATASE-RXN| |RXN0-6948| |RXN0-6708| |RXN0-7187| |GDP-GLUCOSIDASE-RXN| |HOMOCYSMET-RXN| |2.7.7.60-RXN| |6PGLUCONOLACT-RXN| |ASPARTATE--TRNA-LIGASE-RXN| |3-PHOSPHOGLYCERATE-PHOSPHATASE-RXN| |RXN-19920| |RXN0-1863| |RXN0-5001| |RXN0-6526| |RXN0-7092| |RXN-14361| |RXN-15744| |GLYC3PDEHYDROGBIOSYN-RXN| |L-GLN-FRUCT-6-P-AMINOTRANS-RXN| |OXAMATE-CARBAMOYLTRANSFERASE-RXN| |2-OCTAPRENYL-METHOXY-BENZOQ-METH-RXN| |3PGAREARR-RXN| |RXN0-6945| |RXN0-7275| |TRYPSYN-RXN| |RXN-12587| |3-OCTAPRENYL-4-OHBENZOATE-DECARBOX-RXN| |ACETYLGLUTKIN-RXN| |BIS5-ADENOSYL-TRIPHOSPHATASE-RXN| |RXN-19312| |RXN-9951| |RXN-3641| |RXN0-2361| |RXN0-5074| |GLYOXIII-RXN| |RXN-12583| |RXN-14483| |RXN-16286| |RXN-11836| |RXN-14139| |GLYOXII-RXN| |LYSDECARBOX-RXN| |PGLYCDEHYDROG-RXN| |RXN-13158| |RXN0-6985| |RXN0-6984| |RXN0-985| |UDPNACETYLGLUCOSAMENOLPYRTRANS-RXN| |GLUCOSAMINE-KINASE-RXN| |INOSINATE-NUCLEOSIDASE-RXN| |3.1.26.4-RXN| |ADENODEAMIN-RXN| |CHORISMATE-SYNTHASE-RXN| |3.1.26.5-RXN| |RXN-7632| |RXN0-2787| |RXN0-5127| |RXN0-6566| |RXN0-7166| |RXN-12886| |RXN-14524| |RXN-16689| |RXN-7682| |GTP-CYCLOHYDRO-II-RXN| |MANNONOXIDOREDUCT-RXN| |PHOSMANMUT-RXN| |2.7.1.148-RXN| |5.4.2.10-RXN| |RXN0-7013| |SIROHEME-FERROCHELAT-RXN| |VALINE--TRNA-LIGASE-RXN| |RXN-12895| |3.4.11.9-RXN| |ALADEHYDCHLORO-RXN| |CYSTEINE--TRNA-LIGASE-RXN| |RXN-19776| |RXN0-1603| |RXN0-310| |RXN0-5195| |GTPPYPHOSKIN-RXN| |RXN-13853| |RXN-17008| |RXN-12072| |RXN-14284| |HISTALDEHYD-RXN| |MHPELY-RXN| |PPENTOMUT-RXN| |RXN0-7014| |RXN0-7075| |SULFATE-ADENYLYLTRANS-RXN| |DARABKIN-RXN| |GLUTKIN-RXN| |KDUD-RXN| |3.4.23.43-RXN| |ALTRO-OXIDOREDUCT-RXN| |RXN0-5227| |3.4.13.18-RXN| |RXN-9310| |RXN0-363| |RXN-17630| |RXN0-6733| |RXN-17928| |RXN0-7250| |RXN-14112| |RXN-15125| |PRTRANS-RXN| |RXN-8506| |RXN-17910| |HYPOXANPRIBOSYLTRAN-RXN| |NANK-RXN| |DETHIOBIOTIN-SYN-RXN| |3-DEHYDROQUINATE-SYNTHASE-RXN| |ACETOLACTSYN-RXN| |RXN0-7122| |THREDEHYD-RXN| |RXN0-5311| |SUCCINATE-DEHYDROGENASE-UBIQUINONE-RXN| |RXN-13854| |5-FORMYL-THF-CYCLO-LIGASE-RXN| |ARGDECARBOX-RXN| |RXN-17775| |RXN0-2101| |RXN0-1382| |RXN0-4261| |PYRUVATEDECARB-RXN| |HISTAMINOTRANS-RXN| |RXN-14251| |RXN-15313| |DIHYDROFOLATESYNTH-RXN| |RXN-12480| |RXN-14477| |KDGALDOL-RXN| |OCTAPRENYL-METHYL-METHOXY-BENZOQ-OH-RXN| |RXN0-5408| |RXN0-7078| |RXN0-7229| |TRE6PHYDRO-RXN| |RXN-17791| |GLYCOPHOSPHORYL-RXN| |LIPIDXSYNTHESIS-RXN| |ACETALD-DEHYDROG-RXN| |ASPDECARBOX-RXN| |RHAMNULPALDOL-RXN| |3.4.24.55-RXN| |RXN0-2001| |RXN0-5040| |DTDPDEHYDRHAMEPIM-RXN| |RXN0-6979| |RXN0-901| |RXN-14393| |RXN-15889| |RXN0-5515| |RXN-9311| |LACTALDDEHYDROG-RXN| |PANTEPADENYLYLTRAN-RXN| |RXN-17905| |3.1.21.7-RXN| |ACYLCOASYN-RXN| |RXN0-7291| |TYROSINE--TRNA-LIGASE-RXN| |RXN0-5388| |RXN-14113| |ACNEULY-RXN| |BTUR2-RXN| |ERYTH4PDEHYDROG-RXN| |RXN-7253| |RXN0-2625| |RXN0-2584| |RXN0-5107| |RXN0-6389| |IGPSYN-RXN| |RXN-16456| |RXN-14514| |LYXK-RXN| |UNDECAPRENYL-DIPHOSPHATASE-RXN| |RXN0-7139| |RXNMETA-12671| |CITSYN-RXN| |GSDEADENYLATION-RXN| |MALTODEG-RXN| |ADENPRIBOSYLTRAN-RXN| |RXN0-5144| |5-NUCLEOTID-RXN| |RXN0-2941| |RXN0-7002| |GLUTAMATESYN-RXN| |SELENOCYSTEINE-LYASE-RXN| |RXN-14569| |PHOSPHASERSYN-RXN| |RXN0-1401| |MERCAPYSTRANS-RXN| |XYLISOM-RXN| |3.2.2.21-RXN| |AGMATIN-RXN| |SPERMIDINESYN-RXN| |CYTIDEAM2-RXN| |RXN-14255| |ALCOHOL-DEHYDROG-GENERIC-RXN| |RXN0-5209| |RXN0-7049| |RXN-8342| |RXN0-7124| |RXN0-302| |RXN0-3221| |RXN-17307| |RXN0-1130| |KDO-8PPHOSPHAT-RXN| |PREPHENATEDEHYDRAT-RXN| |N-ACETYLGLUTPREDUCT-RXN| |DCUS-RXN| |RXN0-7230| |TAGAALDOL-RXN| |RXN0-5240| |DSBDC-RXN| |H2PTERIDINEPYROPHOSPHOKIN-RXN| |METHYLISOCITRATE-LYASE-RXN| |AMINEPHEN-RXN| |RXN-17634| |ACETATE--COA-LIGASE-RXN| |RXN0-384| |PTAALT-RXN| |RXN0-7048| |RXN0-705| |SUCCINATE-SEMIALDEHYDE-DEHYDROGENASE-RXN| |DHBDEHYD-RXN| |RXN0-7096| |RXN0-2022| |NICONUCADENYLYLTRAN-RXN| |RXN0-5363| |3.4.21.53-RXN| |ALLANTOATE-DEIMINASE-RXN| |RXN-17779| |RXN0-7310| |RXN-14394| |ARGSUCCINSYN-RXN| |QUINOLINATE-SYNTHA-RXN| |RXN-8991| |RXN0-3521| |RXN0-4342| |DIHYDROXYISOVALDEHYDRAT-RXN| |LACTALDREDUCT-RXN| |RXN0-5414| |DSBD-RXN| |RXN-14065| |RXN-15119| |OHMETPYRKIN-RXN| |RXN-17795| |PFLDEACTIV-RXN| |RXN0-7298| |TRIOSEPISOMERIZATION-RXN| |RIBOFLAVINSYNDEAM-RXN| |RXN0-7094| |HOMOSERKIN-RXN| |NADPH-DEHYDROGENASE-FLAVIN-RXN| |BADH-RXN| |DTDPKIN-RXN| |RXN0-1137| |ACONITATE-DELTA-ISOMERASE-RXN| |RXN0-5061| |RXN0-6271| |RXN0-7103| |THI-P-SYN-RXN| |RXN-16000| |RXN-17919| |RXN0-2601| |PEPCARBOX-RXN| |4.2.1.99-RXN| |AMYLOMALT-RXN| |UDP-NACMURALGLDAPAALIG-RXN| |F16ALDOLASE-RXN| |RXN-14505| |CARNDETRU-RXN| |RXN0-6446| |RXN0-7003| |RXN0-1081| |RXN0-4022| |RXN0-5118| |ADPREDUCT-RXN| |MALATE-DEH-RXN| |RXN-16650| |RXN-18258| |CHEBTAPD-RXN| |RXN-14161| |RXN-15296| |PHENPRODIOLDEHYDROG-RXN| |RXN-11475| |DEPHOSICITDEHASE-RXN| |R601-RXN| |RXNMETA-12672| |URIDINE-NUCLEOSIDASE-RXN| |GALACTARDEHYDRA-RXN| |GDPREDUCT-RXN| |ISOCHORMAT-RXN| |NUCLEOSIDE-DIPHOSPHATASE-RXN| |COBINPGUANYLYLTRANS-RXN| |RXN0-6502| |MYRISTOYLACYLTRAN-RXN| |ADENYL-KIN-RXN| |RXN0-5183| |1.2.99.7-RXN| |PROTEIN-KINASE-RXN| |RXN0-7173| |RXN-16910| |RXN-18739| |RXN-10658| |RXN0-2942| |PHOSPHOGLYCERATE-PHOSPHATASE-RXN| |RXN-11602| |RXN-12473| |6PFRUCTPHOS-RXN| |ASPARTASE-RXN| |YIAE2-RXN| |GDPPYPHOSKIN-RXN| |RXN-16381| |RXN-14570| |D-PPENTOMUT-RXN| |RXN0-6531| |RXN-17355| |RXN0-1862| |RXN0-4961| |RXN0-5216| |2.1.1.72-RXN| |RXN-19340| |METBALT-RXN| |RXN-17393| |RXN-19343| |RXN-5741| |RXN-14325| |RXN-15743| |PROLINE--TRNA-LIGASE-RXN| |RXN-11840| |RXN-9533| |DEOXYADENPHOSPHOR-RXN| |GLUCUROISOM-RXN| |RXN-9660| |L-ASPARTATE-OXID-RXN| |OXALYL-COA-DECARBOXYLASE-RXN| |RXN0-5292| |RXN0-6677| |RXN0-1144| |ALCOHOL-DEHYDROG-RXN| |RXN-17701| |2.7.7.13-RXN| |RXN0-5098| |RXN0-7272| |TRNA-URACIL-5--METHYLTRANSFERASE-RXN| |PYRIDOXINE-4-DEHYDROGENASE-RXN| |RXN-19919| |RXN0-6435| |RXN0-3241| |DIAMACTRANS-RXN| |RXN-12107| |RXN0-6547| |ACETYLESTERASE-RXN| |BETAGALACTOSID-RXN| |RXN0-5387| |GLY3KIN-RXN| |RXN0-745| |RXN-17783| |RXN0-6944| |UDPHYDROXYMYRGLUCOSAMNACETYLTRANS-RXN| |RXN0-2301| |RXN0-5073| |R170-RXN| |3-NUCLEOTID-RXN| |1.3.1.9-RXN| |N-ACETYLTRANSFER-RXN| |DLACTDEHYDROGNAD-RXN| |2.7.3.9-RXN| |RXN-14481| |RXN-16281| |RXN0-5435| |ARCB-RXN| |TAGAKIN-RXN| |RXN-17799| |GLYOXI-RXN| |CHEBTSRD-RXN| |LXULRU5P-RXN| |PGLUCONDEHYDRAT-RXN| |RIBOSYLHOMOCYSTEINASE-RXN| |RXN0-6983| |ENOYL-ACP-REDUCT-NADPH-RXN| |AMINOBUTDEHYDROG-RXN| |DUTP-PYROP-RXN| |3.1.26.3-RXN| |NARLX-RXN| |RXN0-984| |UDPMANNACADEHYDROG-RXN| |RXN0-6359| |RXN-7609| |PYRUFLAVREDUCT-RXN| |RXN0-385| |RXN-17935| |RXN-10661| |ADENINE-DEAMINASE-RXN| |CHEYDEPHOS-RXN| |GTP-CYCLOHYDRO-I-RXN| |RXN-14107| |RXN0-7012| |RXN-17014| |RXN0-275| |RXN0-5126| |FMNREDUCT-RXN| |3.4.11.4-RXN| |RXN-17474| |NICOTINAMID-RXN| |RXN0-6462| |RXN-19445| |RXN-14523| |RXN0-5260| |RXN-16688| |1.1.1.127-RXN| |RXN-1381| |RXN-8629| |THRESYN-RXN| |RXN-18435| |HEMN-RXN| |RXN-9537| |MANNONDEHYDRAT-RXN| |PHOSGLYPHOS-RXN| |RXN-11576| |RXN0-7074| |RXN-9663| |ARYLAMINE-N-ACETYLTRANSFERASE-RXN| |GALACTONOLACTONASE-RXN| |3.4.21.92-RXN| |RXN0-2141| |SHIKIMATE-KINASE-RXN| |URUR-RXN| |RXN0-6512| |RXN-9087| |RXN0-5204| |RXN0-4361| |1PFRUCTPHOSN-RXN| |RXN-14091| |RXN0-6705| |AKBLIG-RXN| |CYSTATHIONINE-BETA-LYASE-RXN| |RXN0-7195| |RXN-11193| |RXN-11638| |RXN0-7119| |RXN0-748| |RXN0-308| |RXN0-5192| |GLUC1PADENYLTRANS-RXN| |4OHBENZOATE-OCTAPRENYLTRANSFER-RXN| |UHPB-RXN| |RXN0-6554| |ORNCARBAMTRANSFER-RXN| |RXN0-6549| |RXN0-1342| |1.8.1.4-RXN| |RXN-16998| |2.3.1.157-RXN| |RXN-14249| |3-HYDROXYDECANOYL-ACP-DEHYDR-RXN| |TRIPHOSPHATASE-RXN| |RXN-19472| |ISPH2-RXN| |CHERTARM-RXN| |MHPCHYDROL-RXN| |PORPHOBILSYNTH-RXN| |RXN-11845| |RXN0-7227| |EVGA-RXN| |RXN-12893| |BAES-RXN| |GLUTAMINE--TRNA-LIGASE-RXN| |ACECOATRANS-RXN| |HYDH-RXN| |SUGAR-PHOSPHATASE-RXN| |DARABISOM-RXN| |RXN0-6720| |RXN0-1941| |NITRATE-REDUCTASE-CYTOCHROME-RXN| |2.7.9.3-RXN| |RXN-14382| |RIBONUCLEOSIDE-DIP-REDUCTI-RXN| |ALPHAGALACTOSID-RXN| |RXN0-5226| |RXN-19924| |L-RHAMNONATE-DEHYDRATASE-RXN| |RXN-11476| |PEPCARBOXYKIN-RXN| |RXN-12198| |RXN0-7285| |RXN-14498| |RXN0-361| |GLYCEROL-2-PHOSPHATASE-RXN| |ACID-PHOSPHATASE-RXN| |RXN-17017| |UDP-NACMURALGLDAPLIG-RXN| |RXN0-6952| |RXN0-2441| |RXN-9514| |PRPPSYN-RXN| |3.1.11.2-RXN| |RXN-9550| |CATAL-RXN| |RXN-5822| |LYXISOM-RXN| |RXN-9789| |NANE-RXN| |DEPHOSPHOCOAKIN-RXN| |RXN-12618| |RXN66-526| |RXN0-2145| |RXN0-5120| |GLYRIBONUCSYN-RXN| |ADENPHOSPHOR-RXN| |RXN0-5401| |THIOSULFATE-SULFURTRANSFERASE-RXN| |RXN0-5306| |RXN0-6988| |RXN0-2921| |RXN0-7198| |RXN-16659| |3.1.27.6-RXN| |RXN-14552| |RXN0-947| |ARCBTRANS-RXN| |RXN-17754| |RXN-7913| |MANNPISOM-RXN| |1.8.4.14-RXN| |PHENYLALANINE--TRNA-LIGASE-RXN| |RXN-13072| |SPERMACTRAN-RXN| |3-OXOACYL-ACP-SYNTH-RXN| |RXN0-4223| |PYRROLINECARBREDUCT-RXN| |GUANOSINE-DIPHOSPHATASE-RXN| |ALARACECAT-RXN| |3.4.11.1-RXN| |URIDINEKIN-RXN| |RXN0-7021| |RXN0-3201| |BASR-RXN| |RXN-15312| |DIHYDROFOLATEREDUCT-RXN| |3.4.13.22-RXN| |FERREDOXIN--NAD+-REDUCTASE-RXN| |CPM-KDOSYNTH-RXN| |RXN-8642| |N-ACETYLGLUCOSAMINE-KINASE-RXN| |MALONYL-ACPDECARBOX-RXN| |O-SUCCINYLBENZOATE-COA-SYN-RXN| |RXN0-5407| |RXN-13990| |SUPEROX-DISMUT-RXN| |NRIPHOS-RXN| |ASNSYNB-RXN| |RXN0-5184| |HISTIDINE--TRNA-LIGASE-RXN| |AMINEOXID-RXN| |RSTA-RXN| |TRANSENOYLCOARED-RXN| |RXN-17790| |RXN0-383| |RXN-11479| |RXN-16937| |3.5.1.88-RXN| |RXN-15131| |RXN-15510| |ASPCARBTRANS-RXN| |RHAMNULOKIN-RXN| |NARX-RXN| |RXN-17020| |PMPOXI-RXN| |RXN-14116| |THREONINE-ALDOLASE-RXN| |RXN-17897| |RXN0-5039| |RXN0-5268| |DSERDEAM-RXN| |IMP-DEHYDROG-RXN| |ARGSUCCINLYA-RXN| |RXN-19619| |DADPKIN-RXN| |RXN0-7143| |RXN0-4341| |RXN-9520| |RXN-15881| |RXN0-5510| |5.1.3.20-RXN| |RXN-9557| |RXN0-5217| |RXN0-1441| |OHMETHYLBILANESYN-RXN| |RXN0-1132| |PABASYN-RXN| |RXN-17900| |RXN-14261| |TREHALOSEPHOSPHA-RXN| |RXN0-5513| |RXN-17472| |KDOTRANS-RXN| |ATPPHOSPHORIBOSYLTRANS-RXN| |RXN0-7039| |TSA-REDUCT-RXN| |RXN0-7238| |RXN0-5057| |RXN0-724| |2.6.1.82-RXN| |PROPIONATE--COA-LIGASE-RXN| |ACETOACETATE-DECARBOXYLASE-RXN| |RXN-15952| |THIAZOLSYN2-RXN| |BRANCHED-CHAINAMINOTRANSFERVAL-RXN| |ENTMULTI-RXN| |RXN0-2042| |PDXJ-RXN| |2.1.1.63-RXN| |DEOXYGLUCONOKIN-RXN| |UDP-NACMURALA-GLU-LIG-RXN| |4.2.1.61-RXN| |RXN0-5103| |RXN-8001| |RXN0-6388| |LCYSDESULF-RXN| |CARDIOLIPSYN-RXN| |BIOTINLIG-RXN| |RXN0-5294| |RXN0-7309| |RXN0-5116| |CITTRANS-RXN| |RXN-16424| |ACONITATEHYDR-RXN| |RXN-16649| |RXN-17724| |RXN0-2605| |PHENDEHYD-RXN| |MCPTAP-RXN| |PGPPHOSPHA-RXN| |RXN-11326| |RXN-14510| |UREIDOGLYCOLATE-LYASE-RXN| |PHOBR-RXN| |PYRIDOXKIN-RXN| |MALATE-DEHYDROGENASE-NADP+-RXN| |COBINAMIDEKIN-RXN| |RXN-10654| |UGD-RXN| |FUCISOM-RXN| |S-FORMYLGLUTATHIONE-HYDROLASE-RXN| |RXN0-5182| |RXN-11482| |DIAMINOPIMDECARB-RXN| |ADENYLOSUCCINATE-SYNTHASE-RXN| |RXN-16909| |RXN-17023| |CITRATE-PRO-3S-LYASE-THIOLESTERASE-RXN| |RXN0-6484| |RXN0-2945| |PHOSPHOGLUCMUT-RXN| |RXN-18584| |ISOCITDEH-RXN| |RXN0-5390| |RXN-14712| |YIAE1-RXN| |RXN-19949| |RXN0-5141| |1.1.1.283-RXN| |METHGLYSYN-RXN| |D--TARTRATE-DEHYDRATASE-RXN| |RXN-9527| |RXN-17784| |SUCCCOASYN-RXN| |RXN0-5214| |RXN-9655| |RXN-16701| |RXN-18708| |ALDEHYDE-DEHYDROGENASE-NADP+-RXN| |RXN-17392| |RXN0-1138| |R303-RXN| |RXN0-3281| |PRODISULFREDUCT-RXN| |RXN0-321| |PHOSPHASERDECARB-RXN| |RXN-11593| |DEHYDDEOXPHOSGALACT-ALDOL-RXN| |RXN0-7095| |DMBPPRIBOSYLTRANS-RXN| |NAD-KIN-RXN| |RXN0-5291| |RXN0-7297| |XANTHOSINEPHOSPHORY-RXN| |GCVMULTI-RXN| |TDPFUCACTRANS-RXN| |RXN-17700| |TORT-RXN| |RXN0-5437| |AMINOPROPDEHYDROG-RXN| |PYRAZIN-RXN| |2.3.1.180-RXN| |CYTIDEAM-RXN| |RXN0-6525| |RXN0-3921| |DIACYLGLYKIN-RXN| |ACYLGPEACYLTRANS-RXN| |RXN-17809| |RXN-15210| |RXN0-5383| |CHEBDEP-RXN| |RXN0-5208| |2-OCTAPRENYL-6-OHPHENOL-METHY-RXN| |NMNAMIDOHYDRO-RXN| |RXN-17782| |RIBOSYLNICOTINAMIDE-KINASE-RXN| |THYKI-RXN| |R165-RXN| |GCVT-RXN| |RXN-17011| |RXN-19311| |ASNSYNA-RXN| |DIOHBUTANONEPSYN-RXN| |MCPTSR-RXN| |RXN-17663| |DXPREDISOM-RXN| |RXN0-4581| |RXN0-5433| |PRAISOM-RXN| |RXN-11835| |RXN-15513| |RXN-17798| |RXN-10657| |RXN0-6366| |OROPRIBTRANS-RXN| |RIBOPHOSPHAT-RXN| |RXN-15915| |DCTP-PYROPHOSPHATASE-RXN| |GLUCOSAMINE-6-P-DEAMIN-RXN| |TRNA-GUANINE-N7--METHYLTRANSFERASE-RXN| |DURIDKI-RXN| |RXN-17354| |RXN-17936| |BASS-RXN| |RXN0-6277| |RXN-18678| |RXN0-5234| |RXN0-6565| |RXN-16009| |RXN-17931| |RXN-20000| |RXN-11109| |PEPSYNTH-RXN| |RXN-10819| |RXN-9532| |2.7.1.121-RXN| |UDPGLCNACEPIM-RXN| |FCLEPIM-RXN| |RXN-9659| |FOLYLPOLYGLUTAMATESYNTH-RXN| |CDPDIGLYSYN-RXN| |RXN-10940| |RXN0-1141| |PSEUDOURIDINE-KINASE-RXN| |RXN-19775| |RXN0-5122| |FHLMULTI-RXN| |RXN0-5055| |RXN0-6478| |RXN-16664| |RXN0-6461| |RXN0-6546| |DHBAMPLIG-RXN| |RXN-12071| |PHENYLSERINE-ALDOLASE-RXN| |RXN0-7108| |1.1.1.168-RXN| |UROGENDECARBOX-RXN| |RXN-11574| |RXN0-5361| |GLUTDEHYD-RXN| |CREC-RXN| |GALACTONDEHYDRAT-RXN| |1-ACYLGLYCEROL-3-P-ACYLTRANSFER-RXN| |RXN-18549| |RXN0-5186| |RXN0-6510| |2.7.13.1-RXN| |RXN-17778| |RXN0-6732| |1.8.4.4-RXN| |ARCA-RXN| |RXN-11578| |PNP-RXN| |RXN-19004| |CHEBTRGD-RXN| |QUERCETIN-23-DIOXYGENASE-RXN| |3-DEHYDROQUINATE-DEHYDRATASE-RXN| |DALADALALIG-RXN| |RXN-11637| |ENOYL-ACP-REDUCT-NADH-RXN| |GALACTURIDYLYLTRANS-RXN| |GLU6PDEHYDROG-RXN| |GSADENYLATION-RXN| |DIHYDROURACIL-DEHYDROGENASE-NAD+-RXN| |RXN-17489| |RXN0-6542| |NARLQ-RXN| |RXN0-6515| |PROPKIN-RXN| |2.3.1.118-RXN| |PYFLAVOXRE-RXN| |RXN0-5413| |RXN-12458| |DEOXYINOPHOSPHOR-RXN| |RXN-19407| |RXN-10660| |1TRANSKETO-RXN| |RXN0-5297| |RXN-11843| |RXN-13039| |RXN-17794| |GLYCOLATEDEHYDRO-RXN| |RXN-17726| |GLUTAMIN-RXN| |RXN-17013| |RXN-19024| |PYRIMSYN3-RXN| |RXN0-6717| |RXN-17363| |RIBOFLAVINKIN-RXN| |RXN0-6978| |DIAMTRANSAM-RXN| |2.7.8.25-RXN| |RXN-19366| |RXN-11776| |RXN0-5393| |RXN-19922| |RXN-7716| |DTDPGLUCOSEPP-RXN| |3.1.21.3-RXN| |RXN-17786| |RXN-12197| |RXN-9536| |GLUC1PURIDYLTRANS-RXN| |R524-RXN| |GLYCEROL-1-PHOSPHATASE-RXN| |RXN-9662| |RXN0-6259| |RXN-6622| |DNA-CYTOSINE-5--METHYLTRANSFERASE-RXN| |RXN0-6950| |RXN0-20| |RXN0-6550| |RXN0-5461| |3.1.11.1-RXN| |RXN0-5194| |RXN-17918| |RXN-17847| |RXN-5647| |RXN0-6445| |2.4.1.230-RXN| |RIBULP3EPIM-RXN| |RXN-12611| |RXN0-6561| |RXN-10040| |GSAAMINOTRANS-RXN| |ENOYL-COA-DELTA-ISOM-RXN| |GLYOXYLATE-REDUCTASE-NADP+-RXN| |RXN0-7192| |RXN-19474| |RXN0-6368| |RXN0-6987| |RXN0-747| |EXOPOLYPHOSPHATASE-RXN| |RXN0-7001| |RXN-17954| |3.1.27.5-RXN| |UDPREDUCT-RXN| |RXN-11860| |RXN-17960| |1.7.2.3-RXN| |RXN0-6444| |3.2.2.10-RXN| |RXN-11152| |RXN-12896| |2OXOGLUTDECARB-RXN| |GLUTAMINESYN-RXN| |FORMYLTHFGLUSYNTH-RXN| |GUANINE-DEAMINASE-RXN| |BAER-RXN| |RXN0-6451| |RXN-8340| |RXN0-6480| |RXN0-7020| |CHERTAPM-RXN| |1.1.1.251-RXN| |3.4.13.21-RXN| |ENVZ-RXN| |RXN-18241| |RXN0-6491| |RXN-13418| |RXN-18586| |RXN-8632| |HYDG-RXN| |2.8.1.6-RXN| |RXN-11588| |RXN-13859| |NARPX-RXN| |RXN-19778| |H2NTPEPIM-RXN| |GALPMUT-RXN| |HISTCYCLOHYD-RXN| |REDUCEDFE-S-RXN| |RXN-19953| |RXN0-6521| |RXN0-7079| |RXN-11474| |GABATRANSAM-RXN| |RXN0-7046| |2-ISOPROPYLMALATESYN-RXN| |3.4.24.70-RXN| |RXN-14391| |RXN-12274| |RXN-19026| |RXN-17016| |RXN0-6494| |RXN-13179| |3.4.21.107-RXN| |RXN-14115| |RXN-17824| |GLYCEROL-KIN-RXN| |GLUCOKIN-RXN| |IMIDPHOSDEHYD-RXN| |RXN-19473| |1.13.11.16-RXN| |RXN-8974| |RXN0-6556| |RXN0-7141| |RXN-8668| |RXN0-6957| |2.5.1.19-RXN| |5-OXOPROLINASE-ATP-HYDROLYSING-RXN| |RXN-9540| |RXN-18738| |RXN0-7123| |RXN-14064| |RXN-1961| |RXN0-1402| |RXN-9788| |3.1.11.6-RXN| |RXN-11866| |RXN-14260| |RXN0-2144| |RXN-11601| |HOMOSERDEHYDROG-RXN| |GLUTATHIONE-REDUCT-NADPH-RXN| |KDO-8PSYNTH-RXN| |RXN0-5231| |RXN-5921| |RXN0-6725| |RXN0-7235| |RXN0-6464| |GDPMANMANHYDRO-RXN| |2OXOGLUTARATEDEH-RXN| |ACETATEKIN-RXN| |RXN0-6718| |RXN-12752| |RXN-19988| |RXN0-2023| |RXN0-7197| |RXN0-6529| |4.1.2.28-RXN| |RXN-12353| |RXN0-802| |GMKALT-RXN| |GLYCOGEN-BRANCH-RXN| |LCARNCOALIG-RXN| |URITRANS-RXN| |2.1.1.34-RXN| |RXN0-1001| |RXN0-6974| |RXN0-7304| |1.8.4.13-RXN| |RXN0-6990| |3.1.13.3-RXN| |ACONITATEDEHYDR-RXN| |3-OXOACYL-ACP-SYNTH-BASE-RXN| |RXN-14160| |RXN-6201| |RXN0-2604| |BAROMP-RXN| |3.1.3.68-RXN| |RXN-14509| |CHERTSRM-RXN| |RXN-11839| |IPPISOM-RXN| |GMP-SYN-GLUT-RXN| |MALATE-DEHYDROGENASE-ACCEPTOR-RXN| |RXN-7931| |RXN0-6994| |S-ADENMETSYN-RXN| |NRIIPHOS-RXN| |RXN0-7170| |3.2.1.14-RXN| |ADENYLATECYC-RXN| |RIBONUCLEOSIDE-TRIP-REDUCT-RXN| |RXN-15294| |RXN-13141| |RXN0-7294| |RXN-7967| |RXN0-2943| |RXN-11478| |RXN0-6676| |RXN0-6501| |6-PHOSPHO-BETA-GLUCOSIDASE-RXN| |RXN-13182| |RXN-15509| |GUANOSINEKIN-RXN| |CPXR-RXN| |GUANYL-KIN-RXN| |METHENYLTHFCYCLOHYDRO-RXN| |RXN-17019| |2.7.7.1-RXN| |RXN0-7293| |RXN0-1861| |RXN0-7024| |SUCCARGDIHYDRO-RXN| |RXN-19618| |RXN0-7022| |PHOP-RXN| |3.4.17.8-RXN| |ALCOHOL-DEHYDROGENASE-NADPORNOP+-RXN| |RXN-9518| |RXN-19854| |URIDYLREM-RXN| |RXN-8667| |RXN0-3261| |RXN-9556| |3.4.13.9-RXN| |RXN0-6519| |RXN-14023| |RXN-982| |RXN-12104| |KETOGLUTREDUCT-RXN| |RXN0-7284| |HISTPRATPHYD-RXN| |NACGLCTRANS-RXN| |RXN0-2721| |RXN-8645| |RXN0-7090| |TARTRATE-DEHYDROGENASE-RXN| |RXN0-5468| |GLUTSEMIALDEHYDROG-RXN| |RXN0-7270| |325-BISPHOSPHATE-NUCLEOTIDASE-RXN| |AMINOCYL-TRNA-HYDROLASE-RXN| |RXN0-6499| |RXN-14002| |RXN-9772| |RXN0-3901| |RXN0-723| |RXN0-6941| |ACETYL-COA-ACETYLTRANSFER-RXN| |RXN-14136| |RXN-15147| |TDCEACT1-RXN| |HISTIDPHOS-RXN| |INORGPYROPHOSPHAT-RXN| |NICOTINATEPRIBOSYLTRANS-RXN| |1.97.1.4-A-RXN| |3-ISOPROPYLMALISOM-RXN| |RXN0-2281| |RXN0-7165| |THTOREDUCT-RXN| |3.1.4.14-RXN| |RXN0-7081| |5.3.4.1-RXN| |ARYLSULFAT-RXN| |4.2.1.59-RXN| |RXN-3521| |RXN-14480| |RXN0-1602| |RXN0-4401| |BIOTIN-CARBOXYL-RXN| |3.5.2.17-RXN| |RXN-14283| |RXN-15358| |CITRYLY-RXN| |LUMAZINESYN-RXN| |KDPGALDOL-RXN| |ORNDECARBOX-RXN| |RXN0-7249| |TRNA-CYTIDYLYLTRANSFERASE-RXN| |MCPMETEST-RXN| |GLYOHMETRANS-RXN| |RXN0-963| |ACETOLACTREDUCTOISOM-RXN| |BARA-RXN| |PHOBCREC-RXN| |RXN-14124| |RXN-16003| |RXN-10462| |RXN0-6982| |ADDALT-RXN| |RXN-14473| |PEPDEPHOS-RXN| |RXN-11481| |IMPCYCLOHYDROLASE-RXN| |LIPIDADISACCHARIDESYNTH-RXN| |UDPACYLGLCNACDEACETYL-RXN| |RXN-15512| |3.1.26.12-RXN| |RXN0-271| |RXN0-884| |CDPDIGLYPYPHOSPHA-RXN| |RXN-17022| |RXN0-7154| |ACYLCOADEHYDROG-RXN| |RXN0-5121| |RXN-18434| |RXN-7607| |RXN-14522| |RXN0-2621| |RXN-16660| |RXN-19780| |5.3.1.17-RXN| |RXN-14513| |RXN-9524| |MANNKIN-RXN| |MALTACETYLTRAN-RXN| |URKI-RXN| |RXN-9590| |RXN0-1461| |SEDOBISALDOL-RXN| |CPXA-RXN| |RXN0-1134| |GST-RXN| |SHIKIMATE-5-DEHYDROGENASE-RXN| |ADPSUGPPHOSPHAT-RXN| |RXN0-5185| |RXN0-312| |RXN-14281| |RXN0-301| |RXN-16938| |RXN0-5522| |RXN0-7010| |AIRS-RXN| |PNKIN-RXN| |RXN0-6507| |KDOTRANS2-RXN| |METHYLENETHFDEHYDROG-NADP-RXN| |DAHPSYN-RXN| |RXN0-7084| |3.4.11.2-RXN| |RXN0-305| |SUCCGLUDESUCC-RXN| |RXN0-7271| |RXN0-7239| |ALKAPHOSPHA-RXN| |RXN-17473| |THIOREDOXIN-RXN| |RXN-8460| |RXN-15740| |RXN0-3461| |PROPIONYL-COA-CARBOXY-RXN| |2.3.1.179-RXN| |ACETOACETYL-COA-TRANSFER-RXN| |RXN-15041| |DEOXYGUANPHOSPHOR-RXN| |ACP-S-ACETYLTRANSFER-RXN| |METHYLTHIOADENOSINE-NUCLEOSIDASE-RXN| |NADH-DEHYDROGENASE-QUINONE-RXN| |RXN0-5295| |CHEBDEAMID-RXN| |RXN0-2044| |THI-P-KIN-RXN| |RXN-17725| |HEMEOSYN-RXN| |SUCCSEMIALDDEHYDROG-RXN| |AMPSYN-RXN| |PYRIMSYN1-RXN| |GCVP-RXN| |RXN0-3962| |DIAMINOPIMEPIM-RXN| |MCPTRG-RXN| |RXN0-7068| |ALPHA-AMYL-RXN| |RXN-15293| |RXN0-5391| |PHOSICITDEHASE-RXN| |RXN0-5256| |LEUCINE--TRNA-LIGASE-RXN| |NUCLEOSIDE-DIP-KIN-RXN| |RXN-17785| |RXN-10656| |3.4.21.89-RXN| |RXN0-3601| |THYMIDYLATESYN-RXN| |R4-RXN| |RXN-15891| |RXN0-742| |ASPARAGINE--TRNA-LIGASE-RXN| |DMK-RXN| |RXN-17127| |RXN-9025| |RXN0-4841| |RXN0-5455| |RXN-18605| |ACSERLY-RXN| |RXN-15607| |RXN-17846| |RXN-19952| |RXN-14090| |ENTG-RXN| |NAG6PDEACET-RXN| |OXALODECARB-RXN| |RIBOSYLPYRIMIDINE-NUCLEOSIDASE-RXN| |RXN-9531| |RXN0-2606| |TRNA-S-TRANSFERASE-RXN| |DXS-RXN| |RXN-9658| |HYDROXYLAMINE-REDUCTASE-RXN| |THIOESTER-RXN| |BETA-PHOSPHOGLUCOMUTASE-RXN| |RXN0-6367| |RXN0-1140| |RXN-14511| |RXN0-5065| |RXN-17944| |RXN0-4942| |RXN0-7115| |ARCB717-RXN| |RXN-1623| |RXN-11135| |RXN0-6385| |MALIC-NADP-RXN| |PGLUCISOM-RXN| |FORMYLTHFDEFORMYL-RXN| |RXN0-6533| |4.3.1.17-RXN| |RXN0-4222| |UDPMANACATRANS-RXN| |RXN0-6479| |RXN0-7105| |SAICARSYN-RXN| |CHD-RXN| |1.1.1.215-RXN| |RXN0-7303| |RXN0-1321| |RXN-15299| |RXN0-5125| |RXN-18550| |ADENYLYLSULFKIN-RXN| |RXN-16687| |RXN-11586| |2.3.1.49-RXN| |RXN-14196| |O-SUCCINYLBENZOATE-COA-LIG-RXN| |PHOSACETYLTRANS-RXN| |GALACTUROISOM-RXN| |ALTARCA-RXN| |RXN0-299| |URPHOS-RXN| |RXN0-6518| |CHEBTARD-RXN| |ISOLEUCINE--TRNA-LIGASE-RXN| |TRANSALDOL-RXN| |CYCPHOSDIESTER-RXN| |2-DEHYDROPANTOATE-REDUCT-RXN| |DISULFOXRED-RXN| |RXN0-5190| |RXN-19025| |GLUTAREDOXIN-RXN| |RXN0-7219| |ASPARTATEKIN-RXN| |RXN-16997| |RXN-11791| |MYRPALMTRAN-RXN| |METHIONINE--TRNA-LIGASE-RXN| |POLYPHOSPHATE-KINASE-RXN| |GLUCARDEHYDRA-RXN| |PROTEIN-TYROSINE-PHOSPHATASE-RXN| |7KAPSYN-RXN| |RXN0-5038| |DARABALDOL-RXN| |RXN0-6555| |RXN-10659| |SUCCDIAMINOPIMDESUCC-RXN| |RXN0-5225| |2.4.1.78-RXN| |RXN-17012| |RXN0-1922| |RXN-15878| |RXN-17495| |RXN-19573| |RXN-17362| |PRPPAMIDOTRANS-RXN| |RXN-11865| |RXN-19342| |RXN-14379| |P-PANTOCYSLIG-RXN| |DEOXYRIBOSE-P-ALD-RXN| |GLUTATHIONE-PEROXIDASE-RXN| |RXN0-3364| |RXN0-6722| |RXN-9535| |L-LACTDEHYDROGFMN-RXN| |TRYPTOPHAN-RXN| |2.9.1.1-RXN| |RXN-9661| |RXN-14992| |PYRROLINECARBDEHYDROG-RXN| |RXN-19954| |RXN0-1147| |RXN0-7283| |BRANCHED-CHAINAMINOTRANSFERLEU-RXN| |DIHYDRODIPICSYN-RXN| |RXN-12275| |RXN0-5177| |NAD-SYNTH-GLN-RXN| |RXN0-5402| |GLYCINE--TRNA-LIGASE-RXN| |RXN0-6442| |ACETYLORNTRANSAM-RXN| |RXN0-5101| |RXN-17789| |RXN0-6973| |RXN0-6560| |RXN0-5266| |TETHYDPICSUCC-RXN| |RHAMNISOM-RXN| |3.1.13.1-RXN| |RXN0-7169| |RXN0-2382| |RXN-16420| |DNA-LIGASE-NAD+-RXN| |RXN0-746| |RXN0-5330| |AMP-DEPHOSPHORYLATION-RXN| |RXN0-5509| |UDPNACETYLGLUCOSAMACYLTRANS-RXN| |PGLYCEROLTRANSII-RXN| |GMP-REDUCT-RXN| |1.7.2.2-RXN| |RXN0-3922| |RNTRACTIV-RXN| |RXN0-6992| |2.7.7.61-RXN| |LYSOPHOSPHOLIPASE-RXN| |UDPSUGARHYDRO-RXN| |ENTF-RXN| |3.1.3.74-RXN| |ATOC-RXN| |RXN-19020| |RXN-15216| |RXN0-6382| |RXN-7948| |CHER-RXN| |RXN1-42| |CHORPYRLY-RXN| |RXN-13142| |HOLO-ACP-SYNTH-RXN| |NMNNUCLEOSID-RXN| |RXN-11319| |GUANPRIBOSYLTRAN-RXN| |NARPQ-RXN| |ADENOSYLHOMOCYSTEINE-NUCLEOSIDASE-RXN| |RXN0-5131| |FUC4NACTRANS-RXN| |RXN0-7023| |RCSC-RXN| |THYM-PHOSPH-RXN| |RXN0-6483| |3.4.15.5-RXN| |RXN-11361| |RXN0-280| |RXN-16691| |1.1.1.274-RXN| |RXN-8654| |RXN-14381| |ASPAMINOTRANS-RXN| |PHOSPHAGLYPSYN-RXN| |RXN-18707| |RXN-14014| |RXN-17015| |RXN-14534| |XANPRIBOSYLTRAN-RXN| |RXN-11592| |HISTOLDEHYD-RXN| |RXN-17823| |RXN0-4621| |CYTDEAM-RXN| |GARTRANSFORMYL2-RXN| |RXN0-7083| |RXN-8655| |MANNPDEHYDROG-RXN| |RXN0-5200| |RXN0-6524| |3.6.1.41-RXN| |RXN-9539| |RXN-15578| |RXN-17010| |2-OCTAPRENYL-6-METHOXYPHENOL-HYDROX-RXN| |RXN-9597| |RXN-9787| |SORBITOL-6-PHOSPHATASE-RXN| |PPPGPPHYDRO-RXN| |RXN-19256| |RXN-14126| |RXN0-2142| |OROTPDECARB-RXN| |DCTP-DEAM-RXN| |RXN-11834| |INOPHOSPHOR-RXN| |RXN0-5211| |ALANINE-AMINOTRANSFERASE-RXN| |RXN0-5229| |RXN0-7160| |RXN0-7196| |TRNA-NUCLEOTIDYLTRANSFERASE-RXN| |RXN-17632| |RXN0-6564| |5.3.3.14-RXN| |RXN0-801| |RXN0-3182| |PSERTRANSAMPYR-RXN| |2.6.1.7-RXN| |RXN0-1483| |UHPC-RXN| |BETA-GLUCURONID-RXN| |DGTPTRIPHYDRO-RXN| |RXN-19737| |RXN-14282| |1.8.4.12-RXN| |RXN0-5359| |RXN-12070| |KDPD-RXN| |3-OXOACYL-ACP-REDUCT-RXN| |RXN0-5062| |RXN-17777| |GLUTDECARBOX-RXN| |RXN0-7248| |CHERTRGM-RXN| |MMUM-RXN| |QOR-RXN| |RXN0-6731| |ACETOINDEHYDROG-A-RXN| |RXN-16165| |DIHYDROOROT-RXN| |3-CH3-2-OXOBUTANOATE-OH-CH3-XFER-RXN| |RXN0-2061| |LAUROYLACYLTRAN-RXN| |SULFOCYS-RXN| |RXN0-3501| |RXN0-5410| |RXN-2425| |RXN-14461| |NRIDEPHOS-RXN| |PEPTIDYLPROLYL-ISOMERASE-RXN| |RXN-17793| |RXN-12445| |LEUCYLTRANSFERASE-RXN| |RIBONUCLEOSIDE-DIP-REDUCTII-RXN| |AMACETOXID-RXN| |RIBOFLAVIN-SYN-RXN| |GLYCOLALDREDUCT-RXN| |RXN0-743| |RXN-11477| |UDPGLUCEPIM-RXN| |DTDPGLUCDEHYDRAT-RXN| |RXN0-6977| |ACYL-COA-HYDROLASE-RXN| |RXN-14499| |RXN0-382| |RXN0-6256| |3.1.21.2-RXN| |RXN0-262| |RXN-17018| |CDPKIN-RXN| |RXN-17916| |RXN-14512| |RXN-19617| |RXN-15129| |MALSYN-RXN| |RXN-9516| |RXN0-5123| |ETHAMLY-RXN| |GPPSYN-RXN| |SAMDECARB-RXN| |RXN-9555| |NARQ-RXN| |RXN-17652| |RXN0-6427| |RXN0-7000| |ADOMET-DMK-METHYLTRANSFER-RXN| |RXN-9790| |RXN-16665| |3.2.1.52-RXN| |RXN0-300| |RXN0-267| |THREONINE--TRNA-LIGASE-RXN| |RXN0-5419| |PHOQ-RXN| |METHIONYL-TRNA-FORMYLTRANSFERASE-RXN| |RXN0-6495| |ARGININE-N-SUCCINYLTRANSFERASE-RXN| |FUMHYDR-RXN| |H2NEOPTERINP3PYROPHOSPHOHYDRO-RXN| |SUCCGLUALDDEHYD-RXN| |RXN0-722| |RXN0-6369| |UROGENIIISYN-RXN| |RXN0-6493| |RXN0-7040| |ALDOSE1EPIM-RXN| |RXN0-949| |RXN0-4301| |1.11.1.15-RXN| |3.4.21.105-RXN| |RXN0-3381| |1.8.4.8-RXN| |CROBETREDUCT-RXN| |RXN-18737| |3.1.3.16-RXN| |RXN-11600| |RXN-14047| |NAD-SYNTH-NH3-RXN| |4.2.1.58-RXN| |RXN0-5187| |GDPMANDEHYDRA-RXN| |HOMOCYSTEINE-S-METHYLTRANSFERASE-RXN| |TETRAACYLDISACC4KIN-RXN| |CITC-RXN| |OHBUTYRYL-COA-EPIM-RXN| |RXN0-6528| |RXN0-7101| |AMP-NUCLEOSID-RXN| |FLAVONADPREDUCT-RXN| |RXN-16995| |2-OXOPENT-4-ENOATE-HYDRATASE-RXN| |4-NITROPHENYLPHOSPHATASE-RXN| |RXN0-3942| |MALONYL-COA-ACP-TRANSACYL-RXN| |TREHALOSE6PSYN-RXN| |RXN-15292| |PALMITOTRANS-RXN| |PNPOXI-RXN| |RXN-11838| |RXN-14143| |NQOR-RXN| |RSTB-RXN| |ATPASE-RXN| |GLUCOSE-6-PHOSPHATASE-RXN| |INOSINEKIN-RXN| |THYMIDYLATE-5-PHOSPHATASE-RXN| |RXN-11480| |DAPASYN-RXN| |RXN0-6576| |RXN0-7168| |ASPARAGHYD-RXN| |RXN-15511| |RXN0-5052| |2.7.13.2-RXN| |5.99.1.3-RXN| |RXN0-4641| |RXN-17021| |RXN0-5223| |RXN-19793| |RXN0-1842| |RXN-15581| |RXN-17943| |RXN-15943| |RXN-12093| |RXN-14286| |OXALOACETATE-TAUTOMERASE-RXN| |RXN-19774| |RXN-17490| |GLUTRNAREDUCT-RXN| |KETOBUTFORMLY-RXN| |TRNA-PSEUDOURIDINE-SYNTHASE-I-RXN| |RXN-9523| |PANTOTHENATE-KIN-RXN| |RXN0-6938| |RXN0-7253| |BETA-LACTAMASE-RXN| |RXN-9558| |PROTOHEMEFERROCHELAT-RXN| |3-ISOPROPYLMALDEHYDROG-RXN| |ACETOOHBUTSYN-RXN| |RXN0-5063| |RXN0-1133| |UDP-NACMUR-ALA-LIG-RXN| |RXN0-2201| |RXN-16225| |RXN0-307| |DEOXYNUCLEOTIDE-3-PHOSPHATASE-RXN| |RXN-14479| |PEROXID-RXN| |RXN0-5514| |CARBOXYLESTERASE-RXN| |GLYOCARBOLIG-RXN| |LTARTDEHYDRA-RXN| |UDPKIN-RXN| |RXN0-6503| |RXN0-5298| |RXN0-6981| |RXN0-962| |CELLULOSE-SYNTHASE-UDP-FORMING-RXN| |RXN0-7047| |RXN0-5114| |3.1.26.11-RXN| |ADCLY-RXN| |RXN0-5124| |RXN0-7268| |RXN-17745| |RXN-7605| |RXN0-268| |RXN-16685| |THIOREDOXIN-REDUCT-NADPH-RXN| |RXN-14521| |PHOR-RXN| |2.3.1.128-RXN| |RXN-16001| |PYRNUTRANSHYDROGEN-RXN| |GSPSYN-RXN| |MANNITOL-1-PHOSPHATASE-RXN| |UROPORIIIMETHYLTRANSA-RXN| |URACIL-PRIBOSYLTRANS-RXN| |RXN0-7008| |SERINE-O-ACETTRAN-RXN| |CTPSYN-RXN| |CDPREDUCT-RXN| |DIENOYLCOAREDUCT-RXN| |3.4.11.18-RXN| |AICARTRANSFORM-RXN| |RXN0-5189| |CREB-RXN| |COBALAMIN5PSYN-RXN| |RXN-8348| |RXN0-304| |RXN-16996| |GAMMA-GLUTAMYLTRANSFERASE-RXN| |RXN0-5395| |RXN-13548| |POLYNUCLEOTIDE-ADENYLYLTRANSFERASE-RXN| |MCPTAR-RXN| |RXN0-5181| |HCAMULTI-RXN| |METHYLMALONYL-COA-MUT-RXN| |DARAB5PISOM-RXN| |RXN-10655| |RXN-17787| |RXN0-7067| |SUCCORNTRANSAM-RXN| |RXN0-5224| |RXN-11483| |3.4.21.87-RXN| |ALLOSE-KINASE-RXN| |RXN-17493| |RXN-15890| |R621-RXN| |RXN-8999| |RXN0-3543| |PROTOPORGENOXI-RXN| |RXN-17024| |PHOSPHOENOLPYRUVATE-PHOSPHATASE-RXN| |DIMESULFREDUCT-RXN| |RXN-14074| |RXN-15122| |DEOXYRIBODIPYRIMIDINE-PHOTOLYASE-RXN| |RXN-18604| |DNA-DIRECTED-DNA-POLYMERASE-RXN| |HYDGLUTSYN-RXN| |NAG1P-URIDYLTRANS-RXN| |RXN0-5304| |RXN-19950| |XYLULOKIN-RXN| |RXN0-6373| |RXN0-7114| |THIKIN-RXN| |RXN-9528| |RXN0-5462| |4.3.1.15-RXN| |ARABISOM-RXN| |PYROXALTRANSAM-RXN| |RXN-9657| |CYTIKIN-RXN| |RXN0-1281| |RXN0-4181| |DIHYDLIPACETRANS-RXN| |RXN0-1139| |RXN-17848| |RXN-14188| |RXN-15298| |RXN0-5398| |RXN0-3341| |RXN0-5213| |ISOCIT-CLEAV-RXN| |O-SUCCHOMOSERLYASE-RXN| |RXN-17788| |RXN0-7299| |RIBULPEPIM-RXN| |RXN0-7188| |TRANS-RXN0-623| |RFFTRANS-RXN| |RXN-17391| |7-ALPHA-HYDROXYSTEROID-DEH-RXN| |ASPARTATE-SEMIALDEHYDE-DEHYDROGENASE-RXN| |DNA-DIRECTED-RNA-POLYMERASE-RXN| |2.3.1.41-RXN| |RXN-13163| |ENOYL-COA-HYDRAT-RXN| |RXN0-1882| |RXN0-5021| |RXN0-5507| |PRIBFAICARPISOM-RXN| |RXN-14363| |RXN-15761| |RXN0-6371| |L-IDONATE-2-DEHYDROGENASE-RXN| |P-PANTOCYSDECARB-RXN| |RNA-3-PHOSPHATE-CYCLASE-RXN| |DEHYDDEOXGALACTKIN-RXN| |RXN0-7280| |TRYPTOPHAN--TRNA-LIGASE-RXN| |ENTDB-RXN| |RXN-17955| |ACETYLORNDEACET-RXN| |BRANCHED-CHAINAMINOTRANSFERILEU-RXN| |RXN0-6381| |RXN0-5289| |RXN0-2381| |RXN0-5100| |RXN-17956| |RXN-17961| |RXN-14497| |RXN-16312| |RXN-17962| |LYSINE--TRNA-LIGASE-RXN| |PGLYCEROLTRANSI-RXN| |RXN-11313| |RXN-11277| |RXN0-986| |UDPNACETYLMURAMATEDEHYDROG-RXN| |FRUCTOKINASE-RXN| |PYRAMKIN-RXN| |ADENOSINE-NUCLEOSIDASE-RXN| |CHORISMATEMUT-RXN| |RXN0-6482| |RXN0-5264| |FPPSYN-RXN| |RXN0-279| |RXN0-5129| |1.1.1.271-RXN| |DHHB-METHYLTRANSFER-RXN| |RXN-14525| |RXN-16690| |RXN-18703| |PYRUVDEH-RXN| |RXN0-6481| |MANNOSE-ISOMERASE-RXN| |PHOSNACMURPENTATRANS-RXN| |RXN-11591| |RXN0-5375| |SORB6PDEHYDROG-RXN| |VALINE-PYRUVATE-AMINOTRANSFER-RXN| |GART-RXN| |1.1.1.264-RXN| |ALANINE--TRNA-LIGASE-RXN| |CYSTEINE-AMINOTRANSFERASE-RXN| |RXN0-6523| |RXN-17781| |RXN0-313| |RXN0-5199| |2-METHYLCITRATE-SYNTHASE-RXN| |RXN-18702| |RXN-17009| |RXN-19253| |R15-RXN| |MHPHYDROXY-RXN| |PPGPPSYN-RXN| |RXN-11833| |RXN-11589| |SULFITE-REDUCT-RXN| |DCDPKIN-RXN| |GLUCONOKIN-RXN| |RXN-12588| |DIMETHUROPORDEHYDROG-RXN| |ALTRODEHYDRAT-RXN| |RXN0-5228| |RXN0-6563| |GAPOXNPHOSPHN-RXN| |RXN0-3741| |2.6.1.57-RXN| |RXN-12894| |RXN0-5422| |PSERTRANSAM-RXN| |RXN-19630| |CARBPSYN-RXN| |RXN0-6522| |NAPHTHOATE-SYN-RXN| |DGDPKIN-RXN| |RXN-12002| |RXN-17797| |THREODEHYD-RXN| |RXN0-5329| |GLUTCYSLIG-RXN| |2-METHYLCITRATE-DEHYDRATASE-RXN| |ARGININE--TRNA-LIGASE-RXN| |RXN-17776| |RXN0-6727| |RIBOKIN-RXN| |RXN0-4281| |PYRUVFORMLY-RXN| |2TRANSKETO-RXN| |RXN-19249| |RXN-15341| |DIHYDRONEOPTERIN-MONO-P-DEPHOS-RXN| |RXN-2043| |DUDPKIN-RXN| |OHACYL-COA-DEHYDROG-RXN| |RXN0-5409| |RXN-12444| |RXN-11832| |TREHALA-RXN| |RXN-17792| |GLYCOLALD-DEHYDROG-RXN| |RXN0-7231| |RXN0-6274| |DLACTDEHYDROGFAD-RXN| |ATP-PYROPHOSPHATASE-RXN| |RIB5PISOM-RXN| |RXN0-6976| |GLUCONATE-5-DEHYDROGENASE-RXN| |RXN0-5051| |DTDPDEHYRHAMREDUCT-RXN| |3.1.21.1-RXN| |RXN-17930| |RXN0-6254| |RXN-6321| |RXN0-6511| |RXN0-6562| |PANTOATE-BETA-ALANINE-LIG-RXN| |RXN-10814| |RXN-11496| |TYROSINE-AMINOTRANSFERASE-RXN| |GPH-RXN| |2.5.1.64-RXN| |CARBOXYLATE-REDUCTASE-RXN| |ERYTHRON4PDEHYDROG-RXN| |RXN0-6999| |FADSYN-RXN| |RXN0-5108| |3.2.1.21-RXN| |RXN-19629| |RXN-16457| |RXN-18093| |RXN-8073| |RXN-10856| |URA-PHOSPH-RXN| |RXN-11397| |RXN-11867| |COBALADENOSYLTRANS-RXN| |FUCULOKIN-RXN| |H2NEOPTERINALDOL-RXN| |FGAMSYN-RXN| |RXN0-5146| |RXN0-6487| |RXN0-704| |GLUTATHIONE-SYN-RXN| |RXN-16788| |1.1.1.83-RXN| |3.4.21.102-RXN| |RXN0-6460| |PHOSPHOAMIDASE-RXN| |RXN-18710| |RXN-8770| |RXN0-6726| |XYLONATE-DEHYDRATASE-RXN| |RXN-11598| |RXN-14026| |RXN-18388| |CYTIDINEKIN-RXN| |GDPKIN-RXN| |HOMOCYSMETB12-RXN| |2PGADEHYDRAT-RXN| |RXN0-5210| |RXN0-6527| |RXN0-7100| |RXN-11573| |RXN-17330| |2-OCTAPRENYLPHENOL-HYDROX-RXN| |4-HYDROXYBUTYRATE-DEHYDROGENASE-RXN| |RXN-19998| |PREPHENATEDEHYDROG-RXN| |RXN-9952| |GALACTOKIN-RXN|))\n",
      "(with-organism (:org-id '|ECOLI|) (rxns-catalyzed-by-complex  :rxns '(|DCYSDESULF-RXN| |RXN-11837| |RXN-14142| |DIHYDROOROTATE-DEHYDROGENASE-RXN| |RXN-12402| |RXN0-5285| |GLUCOSE-1-PHOSPHAT-RXN| |INOSINE-NUCLEOSIDASE-RXN| |RXN0-6509| |RXN0-6575| |RXN0-7167| |GLYCOGENSYN-RXN| |PUTTRANSAM-RXN| |2.7.10.1-RXN| |5.99.1.2-RXN| |1.5.1.34-RXN| |DHDOGALDOL-RXN| |RXN-19777| |RXN0-1661| |RXN0-6975| |RXN0-5364| |RXN-12073| |RXN-14285| |RXN-18999| |RXN-17780| |GLUTRACE-RXN| |KETOACYLCOATHIOL-RXN| |3.1.13.5-RXN| |QUINOPRIBOTRANS-RXN| |RXN0-6734| |RXN0-7251| |RXN-11635| |DIHYDROXYMETVALDEHYDRAT-RXN| |3-HYDROXBUTYRYL-COA-DEHYDRATASE-RXN| |ACETOOHBUTREDUCTOISOM-RXN| |RXN0-5418| |RXN-2962| |RXN0-2161| |GLCNACPTRANS-RXN| |RXN-17796| |RXN-12508| |RXN-14478| |RXN-12816| |RIBOFLAVINSYNREDUC-RXN| |GLYCPDIESTER-RXN| |LTAA-RXN| |RXN0-6541| |DTMPKI-RXN| |RXN0-6980| |RXN0-961| |DALADEHYDROG-RXN| |GMP-SYN-NH3-RXN| |RXN0-6272| |3.1.22.4-RXN| |ACYLPHOSPHATASE-RXN| |2.1.1.79-RXN| |RXN-17920| |RXN0-2661| |RXN0-6998| |RXN-19381| |F16BDEPHOS-RXN| |GSPAMID-RXN| |MALTODEXGLUCOSID-RXN| |3.2.1.17-RXN| |FCLREDUCT-RXN| |RXN0-7007| |SERINE--TRNA-LIGASE-RXN| |RXN-11842| |RXN0-6459| |3.2.2.23-RXN| |AICARSYN-RXN| |RXN-18092| |FORMATEDEHYDROG-RXN| |RXN-7968| |RXN-18376| |RXN-8344| |RXN0-303| |GLUTAMIDOTRANS-RXN| |RXN-11484| |RXN-11396| |RXN-13202| |GALACTOACETYLTRAN-RXN| |H2PTEROATESYNTH-RXN| |METHYLMALONYL-COA-EPIM-RXN| |RXN0-6710| |RXN0-6506| |RXN0-7066| |SUCCINYLDIAMINOPIMTRANS-RXN| |FUCPALDOL-RXN| |GUANYLCYC-RXN| |1.5.1.20-RXN| |3.4.21.83-RXN| |ALLANTOINASE-RXN| |NADH-DEHYDROG-A-RXN| |2.7.7.8-RXN| |RXN-13403| |RXN-8992| |RXN0-3542| |RXN0-6485| |RXN0-703| |RXN-11633| |RXN-14073| |RXN0-4701| |GKI-RXN| |HOMSUCTRAN-RXN| |NADPYROPHOSPHAT-RXN| |1.1.1.39-RXN| |3.4.19.12-RXN| |RXN0-6532| |RXN0-7104| |THIAZOLSYN3-RXN| |RXN-12195| |2.1.1.77-RXN| |4.2.99.18-RXN| |ANTHRANSYN-RXN| |RXN-18709| |RXN-8675| |RXN-19362| |RXN0-1241| |RXN0-4121| |GLYCDEH-RXN| |RXN-11841| |RXN-14181| |RXN-15297| |RXN-11596| |RXN-14025| |CITLY-RXN| |GLURS-RXN| |ISOCHORSYN-RXN| |NUCLEOTIDE-PYROPHOSPHATASE-RXN| |RXN0-6948| |RXN0-6708| |RXN0-7187| |GDP-GLUCOSIDASE-RXN| |HOMOCYSMET-RXN| |2.7.7.60-RXN| |6PGLUCONOLACT-RXN| |ASPARTATE--TRNA-LIGASE-RXN| |3-PHOSPHOGLYCERATE-PHOSPHATASE-RXN| |RXN-19920| |RXN0-1863| |RXN0-5001| |RXN0-6526| |RXN0-7092| |RXN-14361| |RXN-15744| |GLYC3PDEHYDROGBIOSYN-RXN| |L-GLN-FRUCT-6-P-AMINOTRANS-RXN| |OXAMATE-CARBAMOYLTRANSFERASE-RXN| |2-OCTAPRENYL-METHOXY-BENZOQ-METH-RXN| |3PGAREARR-RXN| |RXN0-6945| |RXN0-7275| |TRYPSYN-RXN| |RXN-12587| |3-OCTAPRENYL-4-OHBENZOATE-DECARBOX-RXN| |ACETYLGLUTKIN-RXN| |BIS5-ADENOSYL-TRIPHOSPHATASE-RXN| |RXN-19312| |RXN-9951| |RXN-3641| |RXN0-2361| |RXN0-5074| |GLYOXIII-RXN| |RXN-12583| |RXN-14483| |RXN-16286| |RXN-11836| |RXN-14139| |GLYOXII-RXN| |LYSDECARBOX-RXN| |PGLYCDEHYDROG-RXN| |RXN-13158| |RXN0-6985| |RXN0-6984| |RXN0-985| |UDPNACETYLGLUCOSAMENOLPYRTRANS-RXN| |GLUCOSAMINE-KINASE-RXN| |INOSINATE-NUCLEOSIDASE-RXN| |3.1.26.4-RXN| |ADENODEAMIN-RXN| |CHORISMATE-SYNTHASE-RXN| |3.1.26.5-RXN| |RXN-7632| |RXN0-2787| |RXN0-5127| |RXN0-6566| |RXN0-7166| |RXN-12886| |RXN-14524| |RXN-16689| |RXN-7682| |GTP-CYCLOHYDRO-II-RXN| |MANNONOXIDOREDUCT-RXN| |PHOSMANMUT-RXN| |2.7.1.148-RXN| |5.4.2.10-RXN| |RXN0-7013| |SIROHEME-FERROCHELAT-RXN| |VALINE--TRNA-LIGASE-RXN| |RXN-12895| |3.4.11.9-RXN| |ALADEHYDCHLORO-RXN| |CYSTEINE--TRNA-LIGASE-RXN| |RXN-19776| |RXN0-1603| |RXN0-310| |RXN0-5195| |GTPPYPHOSKIN-RXN| |RXN-13853| |RXN-17008| |RXN-12072| |RXN-14284| |HISTALDEHYD-RXN| |MHPELY-RXN| |PPENTOMUT-RXN| |RXN0-7014| |RXN0-7075| |SULFATE-ADENYLYLTRANS-RXN| |DARABKIN-RXN| |GLUTKIN-RXN| |KDUD-RXN| |3.4.23.43-RXN| |ALTRO-OXIDOREDUCT-RXN| |RXN0-5227| |3.4.13.18-RXN| |RXN-9310| |RXN0-363| |RXN-17630| |RXN0-6733| |RXN-17928| |RXN0-7250| |RXN-14112| |RXN-15125| |PRTRANS-RXN| |RXN-8506| |RXN-17910| |HYPOXANPRIBOSYLTRAN-RXN| |NANK-RXN| |DETHIOBIOTIN-SYN-RXN| |3-DEHYDROQUINATE-SYNTHASE-RXN| |ACETOLACTSYN-RXN| |RXN0-7122| |THREDEHYD-RXN| |RXN0-5311| |SUCCINATE-DEHYDROGENASE-UBIQUINONE-RXN| |RXN-13854| |5-FORMYL-THF-CYCLO-LIGASE-RXN| |ARGDECARBOX-RXN| |RXN-17775| |RXN0-2101| |RXN0-1382| |RXN0-4261| |PYRUVATEDECARB-RXN| |HISTAMINOTRANS-RXN| |RXN-14251| |RXN-15313| |DIHYDROFOLATESYNTH-RXN| |RXN-12480| |RXN-14477| |KDGALDOL-RXN| |OCTAPRENYL-METHYL-METHOXY-BENZOQ-OH-RXN| |RXN0-5408| |RXN0-7078| |RXN0-7229| |TRE6PHYDRO-RXN| |RXN-17791| |GLYCOPHOSPHORYL-RXN| |LIPIDXSYNTHESIS-RXN| |ACETALD-DEHYDROG-RXN| |ASPDECARBOX-RXN| |RHAMNULPALDOL-RXN| |3.4.24.55-RXN| |RXN0-2001| |RXN0-5040| |DTDPDEHYDRHAMEPIM-RXN| |RXN0-6979| |RXN0-901| |RXN-14393| |RXN-15889| |RXN0-5515| |RXN-9311| |LACTALDDEHYDROG-RXN| |PANTEPADENYLYLTRAN-RXN| |RXN-17905| |3.1.21.7-RXN| |ACYLCOASYN-RXN| |RXN0-7291| |TYROSINE--TRNA-LIGASE-RXN| |RXN0-5388| |RXN-14113| |ACNEULY-RXN| |BTUR2-RXN| |ERYTH4PDEHYDROG-RXN| |RXN-7253| |RXN0-2625| |RXN0-2584| |RXN0-5107| |RXN0-6389| |IGPSYN-RXN| |RXN-16456| |RXN-14514| |LYXK-RXN| |UNDECAPRENYL-DIPHOSPHATASE-RXN| |RXN0-7139| |RXNMETA-12671| |CITSYN-RXN| |GSDEADENYLATION-RXN| |MALTODEG-RXN| |ADENPRIBOSYLTRAN-RXN| |RXN0-5144| |5-NUCLEOTID-RXN| |RXN0-2941| |RXN0-7002| |GLUTAMATESYN-RXN| |SELENOCYSTEINE-LYASE-RXN| |RXN-14569| |PHOSPHASERSYN-RXN| |RXN0-1401| |MERCAPYSTRANS-RXN| |XYLISOM-RXN| |3.2.2.21-RXN| |AGMATIN-RXN| |SPERMIDINESYN-RXN| |CYTIDEAM2-RXN| |RXN-14255| |ALCOHOL-DEHYDROG-GENERIC-RXN| |RXN0-5209| |RXN0-7049| |RXN-8342| |RXN0-7124| |RXN0-302| |RXN0-3221| |RXN-17307| |RXN0-1130| |KDO-8PPHOSPHAT-RXN| |PREPHENATEDEHYDRAT-RXN| |N-ACETYLGLUTPREDUCT-RXN| |DCUS-RXN| |RXN0-7230| |TAGAALDOL-RXN| |RXN0-5240| |DSBDC-RXN| |H2PTERIDINEPYROPHOSPHOKIN-RXN| |METHYLISOCITRATE-LYASE-RXN| |AMINEPHEN-RXN| |RXN-17634| |ACETATE--COA-LIGASE-RXN| |RXN0-384| |PTAALT-RXN| |RXN0-7048| |RXN0-705| |SUCCINATE-SEMIALDEHYDE-DEHYDROGENASE-RXN| |DHBDEHYD-RXN| |RXN0-7096| |RXN0-2022| |NICONUCADENYLYLTRAN-RXN| |RXN0-5363| |3.4.21.53-RXN| |ALLANTOATE-DEIMINASE-RXN| |RXN-17779| |RXN0-7310| |RXN-14394| |ARGSUCCINSYN-RXN| |QUINOLINATE-SYNTHA-RXN| |RXN-8991| |RXN0-3521| |RXN0-4342| |DIHYDROXYISOVALDEHYDRAT-RXN| |LACTALDREDUCT-RXN| |RXN0-5414| |DSBD-RXN| |RXN-14065| |RXN-15119| |OHMETPYRKIN-RXN| |RXN-17795| |PFLDEACTIV-RXN| |RXN0-7298| |TRIOSEPISOMERIZATION-RXN| |RIBOFLAVINSYNDEAM-RXN| |RXN0-7094| |HOMOSERKIN-RXN| |NADPH-DEHYDROGENASE-FLAVIN-RXN| |BADH-RXN| |DTDPKIN-RXN| |RXN0-1137| |ACONITATE-DELTA-ISOMERASE-RXN| |RXN0-5061| |RXN0-6271| |RXN0-7103| |THI-P-SYN-RXN| |RXN-16000| |RXN-17919| |RXN0-2601| |PEPCARBOX-RXN| |4.2.1.99-RXN| |AMYLOMALT-RXN| |UDP-NACMURALGLDAPAALIG-RXN| |F16ALDOLASE-RXN| |RXN-14505| |CARNDETRU-RXN| |RXN0-6446| |RXN0-7003| |RXN0-1081| |RXN0-4022| |RXN0-5118| |ADPREDUCT-RXN| |MALATE-DEH-RXN| |RXN-16650| |RXN-18258| |CHEBTAPD-RXN| |RXN-14161| |RXN-15296| |PHENPRODIOLDEHYDROG-RXN| |RXN-11475| |DEPHOSICITDEHASE-RXN| |R601-RXN| |RXNMETA-12672| |URIDINE-NUCLEOSIDASE-RXN| |GALACTARDEHYDRA-RXN| |GDPREDUCT-RXN| |ISOCHORMAT-RXN| |NUCLEOSIDE-DIPHOSPHATASE-RXN| |COBINPGUANYLYLTRANS-RXN| |RXN0-6502| |MYRISTOYLACYLTRAN-RXN| |ADENYL-KIN-RXN| |RXN0-5183| |1.2.99.7-RXN| |PROTEIN-KINASE-RXN| |RXN0-7173| |RXN-16910| |RXN-18739| |RXN-10658| |RXN0-2942| |PHOSPHOGLYCERATE-PHOSPHATASE-RXN| |RXN-11602| |RXN-12473| |6PFRUCTPHOS-RXN| |ASPARTASE-RXN| |YIAE2-RXN| |GDPPYPHOSKIN-RXN| |RXN-16381| |RXN-14570| |D-PPENTOMUT-RXN| |RXN0-6531| |RXN-17355| |RXN0-1862| |RXN0-4961| |RXN0-5216| |2.1.1.72-RXN| |RXN-19340| |METBALT-RXN| |RXN-17393| |RXN-19343| |RXN-5741| |RXN-14325| |RXN-15743| |PROLINE--TRNA-LIGASE-RXN| |RXN-11840| |RXN-9533| |DEOXYADENPHOSPHOR-RXN| |GLUCUROISOM-RXN| |RXN-9660| |L-ASPARTATE-OXID-RXN| |OXALYL-COA-DECARBOXYLASE-RXN| |RXN0-5292| |RXN0-6677| |RXN0-1144| |ALCOHOL-DEHYDROG-RXN| |RXN-17701| |2.7.7.13-RXN| |RXN0-5098| |RXN0-7272| |TRNA-URACIL-5--METHYLTRANSFERASE-RXN| |PYRIDOXINE-4-DEHYDROGENASE-RXN| |RXN-19919| |RXN0-6435| |RXN0-3241| |DIAMACTRANS-RXN| |RXN-12107| |RXN0-6547| |ACETYLESTERASE-RXN| |BETAGALACTOSID-RXN| |RXN0-5387| |GLY3KIN-RXN| |RXN0-745| |RXN-17783| |RXN0-6944| |UDPHYDROXYMYRGLUCOSAMNACETYLTRANS-RXN| |RXN0-2301| |RXN0-5073| |R170-RXN| |3-NUCLEOTID-RXN| |1.3.1.9-RXN| |N-ACETYLTRANSFER-RXN| |DLACTDEHYDROGNAD-RXN| |2.7.3.9-RXN| |RXN-14481| |RXN-16281| |RXN0-5435| |ARCB-RXN| |TAGAKIN-RXN| |RXN-17799| |GLYOXI-RXN| |CHEBTSRD-RXN| |LXULRU5P-RXN| |PGLUCONDEHYDRAT-RXN| |RIBOSYLHOMOCYSTEINASE-RXN| |RXN0-6983| |ENOYL-ACP-REDUCT-NADPH-RXN| |AMINOBUTDEHYDROG-RXN| |DUTP-PYROP-RXN| |3.1.26.3-RXN| |NARLX-RXN| |RXN0-984| |UDPMANNACADEHYDROG-RXN| |RXN0-6359| |RXN-7609| |PYRUFLAVREDUCT-RXN| |RXN0-385| |RXN-17935| |RXN-10661| |ADENINE-DEAMINASE-RXN| |CHEYDEPHOS-RXN| |GTP-CYCLOHYDRO-I-RXN| |RXN-14107| |RXN0-7012| |RXN-17014| |RXN0-275| |RXN0-5126| |FMNREDUCT-RXN| |3.4.11.4-RXN| |RXN-17474| |NICOTINAMID-RXN| |RXN0-6462| |RXN-19445| |RXN-14523| |RXN0-5260| |RXN-16688| |1.1.1.127-RXN| |RXN-1381| |RXN-8629| |THRESYN-RXN| |RXN-18435| |HEMN-RXN| |RXN-9537| |MANNONDEHYDRAT-RXN| |PHOSGLYPHOS-RXN| |RXN-11576| |RXN0-7074| |RXN-9663| |ARYLAMINE-N-ACETYLTRANSFERASE-RXN| |GALACTONOLACTONASE-RXN| |3.4.21.92-RXN| |RXN0-2141| |SHIKIMATE-KINASE-RXN| |URUR-RXN| |RXN0-6512| |RXN-9087| |RXN0-5204| |RXN0-4361| |1PFRUCTPHOSN-RXN| |RXN-14091| |RXN0-6705| |AKBLIG-RXN| |CYSTATHIONINE-BETA-LYASE-RXN| |RXN0-7195| |RXN-11193| |RXN-11638| |RXN0-7119| |RXN0-748| |RXN0-308| |RXN0-5192| |GLUC1PADENYLTRANS-RXN| |4OHBENZOATE-OCTAPRENYLTRANSFER-RXN| |UHPB-RXN| |RXN0-6554| |ORNCARBAMTRANSFER-RXN| |RXN0-6549| |RXN0-1342| |1.8.1.4-RXN| |RXN-16998| |2.3.1.157-RXN| |RXN-14249| |3-HYDROXYDECANOYL-ACP-DEHYDR-RXN| |TRIPHOSPHATASE-RXN| |RXN-19472| |ISPH2-RXN| |CHERTARM-RXN| |MHPCHYDROL-RXN| |PORPHOBILSYNTH-RXN| |RXN-11845| |RXN0-7227| |EVGA-RXN| |RXN-12893| |BAES-RXN| |GLUTAMINE--TRNA-LIGASE-RXN| |ACECOATRANS-RXN| |HYDH-RXN| |SUGAR-PHOSPHATASE-RXN| |DARABISOM-RXN| |RXN0-6720| |RXN0-1941| |NITRATE-REDUCTASE-CYTOCHROME-RXN| |2.7.9.3-RXN| |RXN-14382| |RIBONUCLEOSIDE-DIP-REDUCTI-RXN| |ALPHAGALACTOSID-RXN| |RXN0-5226| |RXN-19924| |L-RHAMNONATE-DEHYDRATASE-RXN| |RXN-11476| |PEPCARBOXYKIN-RXN| |RXN-12198| |RXN0-7285| |RXN-14498| |RXN0-361| |GLYCEROL-2-PHOSPHATASE-RXN| |ACID-PHOSPHATASE-RXN| |RXN-17017| |UDP-NACMURALGLDAPLIG-RXN| |RXN0-6952| |RXN0-2441| |RXN-9514| |PRPPSYN-RXN| |3.1.11.2-RXN| |RXN-9550| |CATAL-RXN| |RXN-5822| |LYXISOM-RXN| |RXN-9789| |NANE-RXN| |DEPHOSPHOCOAKIN-RXN| |RXN-12618| |RXN66-526| |RXN0-2145| |RXN0-5120| |GLYRIBONUCSYN-RXN| |ADENPHOSPHOR-RXN| |RXN0-5401| |THIOSULFATE-SULFURTRANSFERASE-RXN| |RXN0-5306| |RXN0-6988| |RXN0-2921| |RXN0-7198| |RXN-16659| |3.1.27.6-RXN| |RXN-14552| |RXN0-947| |ARCBTRANS-RXN| |RXN-17754| |RXN-7913| |MANNPISOM-RXN| |1.8.4.14-RXN| |PHENYLALANINE--TRNA-LIGASE-RXN| |RXN-13072| |SPERMACTRAN-RXN| |3-OXOACYL-ACP-SYNTH-RXN| |RXN0-4223| |PYRROLINECARBREDUCT-RXN| |GUANOSINE-DIPHOSPHATASE-RXN| |ALARACECAT-RXN| |3.4.11.1-RXN| |URIDINEKIN-RXN| |RXN0-7021| |RXN0-3201| |BASR-RXN| |RXN-15312| |DIHYDROFOLATEREDUCT-RXN| |3.4.13.22-RXN| |FERREDOXIN--NAD+-REDUCTASE-RXN| |CPM-KDOSYNTH-RXN| |RXN-8642| |N-ACETYLGLUCOSAMINE-KINASE-RXN| |MALONYL-ACPDECARBOX-RXN| |O-SUCCINYLBENZOATE-COA-SYN-RXN| |RXN0-5407| |RXN-13990| |SUPEROX-DISMUT-RXN| |NRIPHOS-RXN| |ASNSYNB-RXN| |RXN0-5184| |HISTIDINE--TRNA-LIGASE-RXN| |AMINEOXID-RXN| |RSTA-RXN| |TRANSENOYLCOARED-RXN| |RXN-17790| |RXN0-383| |RXN-11479| |RXN-16937| |3.5.1.88-RXN| |RXN-15131| |RXN-15510| |ASPCARBTRANS-RXN| |RHAMNULOKIN-RXN| |NARX-RXN| |RXN-17020| |PMPOXI-RXN| |RXN-14116| |THREONINE-ALDOLASE-RXN| |RXN-17897| |RXN0-5039| |RXN0-5268| |DSERDEAM-RXN| |IMP-DEHYDROG-RXN| |ARGSUCCINLYA-RXN| |RXN-19619| |DADPKIN-RXN| |RXN0-7143| |RXN0-4341| |RXN-9520| |RXN-15881| |RXN0-5510| |5.1.3.20-RXN| |RXN-9557| |RXN0-5217| |RXN0-1441| |OHMETHYLBILANESYN-RXN| |RXN0-1132| |PABASYN-RXN| |RXN-17900| |RXN-14261| |TREHALOSEPHOSPHA-RXN| |RXN0-5513| |RXN-17472| |KDOTRANS-RXN| |ATPPHOSPHORIBOSYLTRANS-RXN| |RXN0-7039| |TSA-REDUCT-RXN| |RXN0-7238| |RXN0-5057| |RXN0-724| |2.6.1.82-RXN| |PROPIONATE--COA-LIGASE-RXN| |ACETOACETATE-DECARBOXYLASE-RXN| |RXN-15952| |THIAZOLSYN2-RXN| |BRANCHED-CHAINAMINOTRANSFERVAL-RXN| |ENTMULTI-RXN| |RXN0-2042| |PDXJ-RXN| |2.1.1.63-RXN| |DEOXYGLUCONOKIN-RXN| |UDP-NACMURALA-GLU-LIG-RXN| |4.2.1.61-RXN| |RXN0-5103| |RXN-8001| |RXN0-6388| |LCYSDESULF-RXN| |CARDIOLIPSYN-RXN| |BIOTINLIG-RXN| |RXN0-5294| |RXN0-7309| |RXN0-5116| |CITTRANS-RXN| |RXN-16424| |ACONITATEHYDR-RXN| |RXN-16649| |RXN-17724| |RXN0-2605| |PHENDEHYD-RXN| |MCPTAP-RXN| |PGPPHOSPHA-RXN| |RXN-11326| |RXN-14510| |UREIDOGLYCOLATE-LYASE-RXN| |PHOBR-RXN| |PYRIDOXKIN-RXN| |MALATE-DEHYDROGENASE-NADP+-RXN| |COBINAMIDEKIN-RXN| |RXN-10654| |UGD-RXN| |FUCISOM-RXN| |S-FORMYLGLUTATHIONE-HYDROLASE-RXN| |RXN0-5182| |RXN-11482| |DIAMINOPIMDECARB-RXN| |ADENYLOSUCCINATE-SYNTHASE-RXN| |RXN-16909| |RXN-17023| |CITRATE-PRO-3S-LYASE-THIOLESTERASE-RXN| |RXN0-6484| |RXN0-2945| |PHOSPHOGLUCMUT-RXN| |RXN-18584| |ISOCITDEH-RXN| |RXN0-5390| |RXN-14712| |YIAE1-RXN| |RXN-19949| |RXN0-5141| |1.1.1.283-RXN| |METHGLYSYN-RXN| |D--TARTRATE-DEHYDRATASE-RXN| |RXN-9527| |RXN-17784| |SUCCCOASYN-RXN| |RXN0-5214| |RXN-9655| |RXN-16701| |RXN-18708| |ALDEHYDE-DEHYDROGENASE-NADP+-RXN| |RXN-17392| |RXN0-1138| |R303-RXN| |RXN0-3281| |PRODISULFREDUCT-RXN| |RXN0-321| |PHOSPHASERDECARB-RXN| |RXN-11593| |DEHYDDEOXPHOSGALACT-ALDOL-RXN| |RXN0-7095| |DMBPPRIBOSYLTRANS-RXN| |NAD-KIN-RXN| |RXN0-5291| |RXN0-7297| |XANTHOSINEPHOSPHORY-RXN| |GCVMULTI-RXN| |TDPFUCACTRANS-RXN| |RXN-17700| |TORT-RXN| |RXN0-5437| |AMINOPROPDEHYDROG-RXN| |PYRAZIN-RXN| |2.3.1.180-RXN| |CYTIDEAM-RXN| |RXN0-6525| |RXN0-3921| |DIACYLGLYKIN-RXN| |ACYLGPEACYLTRANS-RXN| |RXN-17809| |RXN-15210| |RXN0-5383| |CHEBDEP-RXN| |RXN0-5208| |2-OCTAPRENYL-6-OHPHENOL-METHY-RXN| |NMNAMIDOHYDRO-RXN| |RXN-17782| |RIBOSYLNICOTINAMIDE-KINASE-RXN| |THYKI-RXN| |R165-RXN| |GCVT-RXN| |RXN-17011| |RXN-19311| |ASNSYNA-RXN| |DIOHBUTANONEPSYN-RXN| |MCPTSR-RXN| |RXN-17663| |DXPREDISOM-RXN| |RXN0-4581| |RXN0-5433| |PRAISOM-RXN| |RXN-11835| |RXN-15513| |RXN-17798| |RXN-10657| |RXN0-6366| |OROPRIBTRANS-RXN| |RIBOPHOSPHAT-RXN| |RXN-15915| |DCTP-PYROPHOSPHATASE-RXN| |GLUCOSAMINE-6-P-DEAMIN-RXN| |TRNA-GUANINE-N7--METHYLTRANSFERASE-RXN| |DURIDKI-RXN| |RXN-17354| |RXN-17936| |BASS-RXN| |RXN0-6277| |RXN-18678| |RXN0-5234| |RXN0-6565| |RXN-16009| |RXN-17931| |RXN-20000| |RXN-11109| |PEPSYNTH-RXN| |RXN-10819| |RXN-9532| |2.7.1.121-RXN| |UDPGLCNACEPIM-RXN| |FCLEPIM-RXN| |RXN-9659| |FOLYLPOLYGLUTAMATESYNTH-RXN| |CDPDIGLYSYN-RXN| |RXN-10940| |RXN0-1141| |PSEUDOURIDINE-KINASE-RXN| |RXN-19775| |RXN0-5122| |FHLMULTI-RXN| |RXN0-5055| |RXN0-6478| |RXN-16664| |RXN0-6461| |RXN0-6546| |DHBAMPLIG-RXN| |RXN-12071| |PHENYLSERINE-ALDOLASE-RXN| |RXN0-7108| |1.1.1.168-RXN| |UROGENDECARBOX-RXN| |RXN-11574| |RXN0-5361| |GLUTDEHYD-RXN| |CREC-RXN| |GALACTONDEHYDRAT-RXN| |1-ACYLGLYCEROL-3-P-ACYLTRANSFER-RXN| |RXN-18549| |RXN0-5186| |RXN0-6510| |2.7.13.1-RXN| |RXN-17778| |RXN0-6732| |1.8.4.4-RXN| |ARCA-RXN| |RXN-11578| |PNP-RXN| |RXN-19004| |CHEBTRGD-RXN| |QUERCETIN-23-DIOXYGENASE-RXN| |3-DEHYDROQUINATE-DEHYDRATASE-RXN| |DALADALALIG-RXN| |RXN-11637| |ENOYL-ACP-REDUCT-NADH-RXN| |GALACTURIDYLYLTRANS-RXN| |GLU6PDEHYDROG-RXN| |GSADENYLATION-RXN| |DIHYDROURACIL-DEHYDROGENASE-NAD+-RXN| |RXN-17489| |RXN0-6542| |NARLQ-RXN| |RXN0-6515| |PROPKIN-RXN| |2.3.1.118-RXN| |PYFLAVOXRE-RXN| |RXN0-5413| |RXN-12458| |DEOXYINOPHOSPHOR-RXN| |RXN-19407| |RXN-10660| |1TRANSKETO-RXN| |RXN0-5297| |RXN-11843| |RXN-13039| |RXN-17794| |GLYCOLATEDEHYDRO-RXN| |RXN-17726| |GLUTAMIN-RXN| |RXN-17013| |RXN-19024| |PYRIMSYN3-RXN| |RXN0-6717| |RXN-17363| |RIBOFLAVINKIN-RXN| |RXN0-6978| |DIAMTRANSAM-RXN| |2.7.8.25-RXN| |RXN-19366| |RXN-11776| |RXN0-5393| |RXN-19922| |RXN-7716| |DTDPGLUCOSEPP-RXN| |3.1.21.3-RXN| |RXN-17786| |RXN-12197| |RXN-9536| |GLUC1PURIDYLTRANS-RXN| |R524-RXN| |GLYCEROL-1-PHOSPHATASE-RXN| |RXN-9662| |RXN0-6259| |RXN-6622| |DNA-CYTOSINE-5--METHYLTRANSFERASE-RXN| |RXN0-6950| |RXN0-20| |RXN0-6550| |RXN0-5461| |3.1.11.1-RXN| |RXN0-5194| |RXN-17918| |RXN-17847| |RXN-5647| |RXN0-6445| |2.4.1.230-RXN| |RIBULP3EPIM-RXN| |RXN-12611| |RXN0-6561| |RXN-10040| |GSAAMINOTRANS-RXN| |ENOYL-COA-DELTA-ISOM-RXN| |GLYOXYLATE-REDUCTASE-NADP+-RXN| |RXN0-7192| |RXN-19474| |RXN0-6368| |RXN0-6987| |RXN0-747| |EXOPOLYPHOSPHATASE-RXN| |RXN0-7001| |RXN-17954| |3.1.27.5-RXN| |UDPREDUCT-RXN| |RXN-11860| |RXN-17960| |1.7.2.3-RXN| |RXN0-6444| |3.2.2.10-RXN| |RXN-11152| |RXN-12896| |2OXOGLUTDECARB-RXN| |GLUTAMINESYN-RXN| |FORMYLTHFGLUSYNTH-RXN| |GUANINE-DEAMINASE-RXN| |BAER-RXN| |RXN0-6451| |RXN-8340| |RXN0-6480| |RXN0-7020| |CHERTAPM-RXN| |1.1.1.251-RXN| |3.4.13.21-RXN| |ENVZ-RXN| |RXN-18241| |RXN0-6491| |RXN-13418| |RXN-18586| |RXN-8632| |HYDG-RXN| |2.8.1.6-RXN| |RXN-11588| |RXN-13859| |NARPX-RXN| |RXN-19778| |H2NTPEPIM-RXN| |GALPMUT-RXN| |HISTCYCLOHYD-RXN| |REDUCEDFE-S-RXN| |RXN-19953| |RXN0-6521| |RXN0-7079| |RXN-11474| |GABATRANSAM-RXN| |RXN0-7046| |2-ISOPROPYLMALATESYN-RXN| |3.4.24.70-RXN| |RXN-14391| |RXN-12274| |RXN-19026| |RXN-17016| |RXN0-6494| |RXN-13179| |3.4.21.107-RXN| |RXN-14115| |RXN-17824| |GLYCEROL-KIN-RXN| |GLUCOKIN-RXN| |IMIDPHOSDEHYD-RXN| |RXN-19473| |1.13.11.16-RXN| |RXN-8974| |RXN0-6556| |RXN0-7141| |RXN-8668| |RXN0-6957| |2.5.1.19-RXN| |5-OXOPROLINASE-ATP-HYDROLYSING-RXN| |RXN-9540| |RXN-18738| |RXN0-7123| |RXN-14064| |RXN-1961| |RXN0-1402| |RXN-9788| |3.1.11.6-RXN| |RXN-11866| |RXN-14260| |RXN0-2144| |RXN-11601| |HOMOSERDEHYDROG-RXN| |GLUTATHIONE-REDUCT-NADPH-RXN| |KDO-8PSYNTH-RXN| |RXN0-5231| |RXN-5921| |RXN0-6725| |RXN0-7235| |RXN0-6464| |GDPMANMANHYDRO-RXN| |2OXOGLUTARATEDEH-RXN| |ACETATEKIN-RXN| |RXN0-6718| |RXN-12752| |RXN-19988| |RXN0-2023| |RXN0-7197| |RXN0-6529| |4.1.2.28-RXN| |RXN-12353| |RXN0-802| |GMKALT-RXN| |GLYCOGEN-BRANCH-RXN| |LCARNCOALIG-RXN| |URITRANS-RXN| |2.1.1.34-RXN| |RXN0-1001| |RXN0-6974| |RXN0-7304| |1.8.4.13-RXN| |RXN0-6990| |3.1.13.3-RXN| |ACONITATEDEHYDR-RXN| |3-OXOACYL-ACP-SYNTH-BASE-RXN| |RXN-14160| |RXN-6201| |RXN0-2604| |BAROMP-RXN| |3.1.3.68-RXN| |RXN-14509| |CHERTSRM-RXN| |RXN-11839| |IPPISOM-RXN| |GMP-SYN-GLUT-RXN| |MALATE-DEHYDROGENASE-ACCEPTOR-RXN| |RXN-7931| |RXN0-6994| |S-ADENMETSYN-RXN| |NRIIPHOS-RXN| |RXN0-7170| |3.2.1.14-RXN| |ADENYLATECYC-RXN| |RIBONUCLEOSIDE-TRIP-REDUCT-RXN| |RXN-15294| |RXN-13141| |RXN0-7294| |RXN-7967| |RXN0-2943| |RXN-11478| |RXN0-6676| |RXN0-6501| |6-PHOSPHO-BETA-GLUCOSIDASE-RXN| |RXN-13182| |RXN-15509| |GUANOSINEKIN-RXN| |CPXR-RXN| |GUANYL-KIN-RXN| |METHENYLTHFCYCLOHYDRO-RXN| |RXN-17019| |2.7.7.1-RXN| |RXN0-7293| |RXN0-1861| |RXN0-7024| |SUCCARGDIHYDRO-RXN| |RXN-19618| |RXN0-7022| |PHOP-RXN| |3.4.17.8-RXN| |ALCOHOL-DEHYDROGENASE-NADPORNOP+-RXN| |RXN-9518| |RXN-19854| |URIDYLREM-RXN| |RXN-8667| |RXN0-3261| |RXN-9556| |3.4.13.9-RXN| |RXN0-6519| |RXN-14023| |RXN-982| |RXN-12104| |KETOGLUTREDUCT-RXN| |RXN0-7284| |HISTPRATPHYD-RXN| |NACGLCTRANS-RXN| |RXN0-2721| |RXN-8645| |RXN0-7090| |TARTRATE-DEHYDROGENASE-RXN| |RXN0-5468| |GLUTSEMIALDEHYDROG-RXN| |RXN0-7270| |325-BISPHOSPHATE-NUCLEOTIDASE-RXN| |AMINOCYL-TRNA-HYDROLASE-RXN| |RXN0-6499| |RXN-14002| |RXN-9772| |RXN0-3901| |RXN0-723| |RXN0-6941| |ACETYL-COA-ACETYLTRANSFER-RXN| |RXN-14136| |RXN-15147| |TDCEACT1-RXN| |HISTIDPHOS-RXN| |INORGPYROPHOSPHAT-RXN| |NICOTINATEPRIBOSYLTRANS-RXN| |1.97.1.4-A-RXN| |3-ISOPROPYLMALISOM-RXN| |RXN0-2281| |RXN0-7165| |THTOREDUCT-RXN| |3.1.4.14-RXN| |RXN0-7081| |5.3.4.1-RXN| |ARYLSULFAT-RXN| |4.2.1.59-RXN| |RXN-3521| |RXN-14480| |RXN0-1602| |RXN0-4401| |BIOTIN-CARBOXYL-RXN| |3.5.2.17-RXN| |RXN-14283| |RXN-15358| |CITRYLY-RXN| |LUMAZINESYN-RXN| |KDPGALDOL-RXN| |ORNDECARBOX-RXN| |RXN0-7249| |TRNA-CYTIDYLYLTRANSFERASE-RXN| |MCPMETEST-RXN| |GLYOHMETRANS-RXN| |RXN0-963| |ACETOLACTREDUCTOISOM-RXN| |BARA-RXN| |PHOBCREC-RXN| |RXN-14124| |RXN-16003| |RXN-10462| |RXN0-6982| |ADDALT-RXN| |RXN-14473| |PEPDEPHOS-RXN| |RXN-11481| |IMPCYCLOHYDROLASE-RXN| |LIPIDADISACCHARIDESYNTH-RXN| |UDPACYLGLCNACDEACETYL-RXN| |RXN-15512| |3.1.26.12-RXN| |RXN0-271| |RXN0-884| |CDPDIGLYPYPHOSPHA-RXN| |RXN-17022| |RXN0-7154| |ACYLCOADEHYDROG-RXN| |RXN0-5121| |RXN-18434| |RXN-7607| |RXN-14522| |RXN0-2621| |RXN-16660| |RXN-19780| |5.3.1.17-RXN| |RXN-14513| |RXN-9524| |MANNKIN-RXN| |MALTACETYLTRAN-RXN| |URKI-RXN| |RXN-9590| |RXN0-1461| |SEDOBISALDOL-RXN| |CPXA-RXN| |RXN0-1134| |GST-RXN| |SHIKIMATE-5-DEHYDROGENASE-RXN| |ADPSUGPPHOSPHAT-RXN| |RXN0-5185| |RXN0-312| |RXN-14281| |RXN0-301| |RXN-16938| |RXN0-5522| |RXN0-7010| |AIRS-RXN| |PNKIN-RXN| |RXN0-6507| |KDOTRANS2-RXN| |METHYLENETHFDEHYDROG-NADP-RXN| |DAHPSYN-RXN| |RXN0-7084| |3.4.11.2-RXN| |RXN0-305| |SUCCGLUDESUCC-RXN| |RXN0-7271| |RXN0-7239| |ALKAPHOSPHA-RXN| |RXN-17473| |THIOREDOXIN-RXN| |RXN-8460| |RXN-15740| |RXN0-3461| |PROPIONYL-COA-CARBOXY-RXN| |2.3.1.179-RXN| |ACETOACETYL-COA-TRANSFER-RXN| |RXN-15041| |DEOXYGUANPHOSPHOR-RXN| |ACP-S-ACETYLTRANSFER-RXN| |METHYLTHIOADENOSINE-NUCLEOSIDASE-RXN| |NADH-DEHYDROGENASE-QUINONE-RXN| |RXN0-5295| |CHEBDEAMID-RXN| |RXN0-2044| |THI-P-KIN-RXN| |RXN-17725| |HEMEOSYN-RXN| |SUCCSEMIALDDEHYDROG-RXN| |AMPSYN-RXN| |PYRIMSYN1-RXN| |GCVP-RXN| |RXN0-3962| |DIAMINOPIMEPIM-RXN| |MCPTRG-RXN| |RXN0-7068| |ALPHA-AMYL-RXN| |RXN-15293| |RXN0-5391| |PHOSICITDEHASE-RXN| |RXN0-5256| |LEUCINE--TRNA-LIGASE-RXN| |NUCLEOSIDE-DIP-KIN-RXN| |RXN-17785| |RXN-10656| |3.4.21.89-RXN| |RXN0-3601| |THYMIDYLATESYN-RXN| |R4-RXN| |RXN-15891| |RXN0-742| |ASPARAGINE--TRNA-LIGASE-RXN| |DMK-RXN| |RXN-17127| |RXN-9025| |RXN0-4841| |RXN0-5455| |RXN-18605| |ACSERLY-RXN| |RXN-15607| |RXN-17846| |RXN-19952| |RXN-14090| |ENTG-RXN| |NAG6PDEACET-RXN| |OXALODECARB-RXN| |RIBOSYLPYRIMIDINE-NUCLEOSIDASE-RXN| |RXN-9531| |RXN0-2606| |TRNA-S-TRANSFERASE-RXN| |DXS-RXN| |RXN-9658| |HYDROXYLAMINE-REDUCTASE-RXN| |THIOESTER-RXN| |BETA-PHOSPHOGLUCOMUTASE-RXN| |RXN0-6367| |RXN0-1140| |RXN-14511| |RXN0-5065| |RXN-17944| |RXN0-4942| |RXN0-7115| |ARCB717-RXN| |RXN-1623| |RXN-11135| |RXN0-6385| |MALIC-NADP-RXN| |PGLUCISOM-RXN| |FORMYLTHFDEFORMYL-RXN| |RXN0-6533| |4.3.1.17-RXN| |RXN0-4222| |UDPMANACATRANS-RXN| |RXN0-6479| |RXN0-7105| |SAICARSYN-RXN| |CHD-RXN| |1.1.1.215-RXN| |RXN0-7303| |RXN0-1321| |RXN-15299| |RXN0-5125| |RXN-18550| |ADENYLYLSULFKIN-RXN| |RXN-16687| |RXN-11586| |2.3.1.49-RXN| |RXN-14196| |O-SUCCINYLBENZOATE-COA-LIG-RXN| |PHOSACETYLTRANS-RXN| |GALACTUROISOM-RXN| |ALTARCA-RXN| |RXN0-299| |URPHOS-RXN| |RXN0-6518| |CHEBTARD-RXN| |ISOLEUCINE--TRNA-LIGASE-RXN| |TRANSALDOL-RXN| |CYCPHOSDIESTER-RXN| |2-DEHYDROPANTOATE-REDUCT-RXN| |DISULFOXRED-RXN| |RXN0-5190| |RXN-19025| |GLUTAREDOXIN-RXN| |RXN0-7219| |ASPARTATEKIN-RXN| |RXN-16997| |RXN-11791| |MYRPALMTRAN-RXN| |METHIONINE--TRNA-LIGASE-RXN| |POLYPHOSPHATE-KINASE-RXN| |GLUCARDEHYDRA-RXN| |PROTEIN-TYROSINE-PHOSPHATASE-RXN| |7KAPSYN-RXN| |RXN0-5038| |DARABALDOL-RXN| |RXN0-6555| |RXN-10659| |SUCCDIAMINOPIMDESUCC-RXN| |RXN0-5225| |2.4.1.78-RXN| |RXN-17012| |RXN0-1922| |RXN-15878| |RXN-17495| |RXN-19573| |RXN-17362| |PRPPAMIDOTRANS-RXN| |RXN-11865| |RXN-19342| |RXN-14379| |P-PANTOCYSLIG-RXN| |DEOXYRIBOSE-P-ALD-RXN| |GLUTATHIONE-PEROXIDASE-RXN| |RXN0-3364| |RXN0-6722| |RXN-9535| |L-LACTDEHYDROGFMN-RXN| |TRYPTOPHAN-RXN| |2.9.1.1-RXN| |RXN-9661| |RXN-14992| |PYRROLINECARBDEHYDROG-RXN| |RXN-19954| |RXN0-1147| |RXN0-7283| |BRANCHED-CHAINAMINOTRANSFERLEU-RXN| |DIHYDRODIPICSYN-RXN| |RXN-12275| |RXN0-5177| |NAD-SYNTH-GLN-RXN| |RXN0-5402| |GLYCINE--TRNA-LIGASE-RXN| |RXN0-6442| |ACETYLORNTRANSAM-RXN| |RXN0-5101| |RXN-17789| |RXN0-6973| |RXN0-6560| |RXN0-5266| |TETHYDPICSUCC-RXN| |RHAMNISOM-RXN| |3.1.13.1-RXN| |RXN0-7169| |RXN0-2382| |RXN-16420| |DNA-LIGASE-NAD+-RXN| |RXN0-746| |RXN0-5330| |AMP-DEPHOSPHORYLATION-RXN| |RXN0-5509| |UDPNACETYLGLUCOSAMACYLTRANS-RXN| |PGLYCEROLTRANSII-RXN| |GMP-REDUCT-RXN| |1.7.2.2-RXN| |RXN0-3922| |RNTRACTIV-RXN| |RXN0-6992| |2.7.7.61-RXN| |LYSOPHOSPHOLIPASE-RXN| |UDPSUGARHYDRO-RXN| |ENTF-RXN| |3.1.3.74-RXN| |ATOC-RXN| |RXN-19020| |RXN-15216| |RXN0-6382| |RXN-7948| |CHER-RXN| |RXN1-42| |CHORPYRLY-RXN| |RXN-13142| |HOLO-ACP-SYNTH-RXN| |NMNNUCLEOSID-RXN| |RXN-11319| |GUANPRIBOSYLTRAN-RXN| |NARPQ-RXN| |ADENOSYLHOMOCYSTEINE-NUCLEOSIDASE-RXN| |RXN0-5131| |FUC4NACTRANS-RXN| |RXN0-7023| |RCSC-RXN| |THYM-PHOSPH-RXN| |RXN0-6483| |3.4.15.5-RXN| |RXN-11361| |RXN0-280| |RXN-16691| |1.1.1.274-RXN| |RXN-8654| |RXN-14381| |ASPAMINOTRANS-RXN| |PHOSPHAGLYPSYN-RXN| |RXN-18707| |RXN-14014| |RXN-17015| |RXN-14534| |XANPRIBOSYLTRAN-RXN| |RXN-11592| |HISTOLDEHYD-RXN| |RXN-17823| |RXN0-4621| |CYTDEAM-RXN| |GARTRANSFORMYL2-RXN| |RXN0-7083| |RXN-8655| |MANNPDEHYDROG-RXN| |RXN0-5200| |RXN0-6524| |3.6.1.41-RXN| |RXN-9539| |RXN-15578| |RXN-17010| |2-OCTAPRENYL-6-METHOXYPHENOL-HYDROX-RXN| |RXN-9597| |RXN-9787| |SORBITOL-6-PHOSPHATASE-RXN| |PPPGPPHYDRO-RXN| |RXN-19256| |RXN-14126| |RXN0-2142| |OROTPDECARB-RXN| |DCTP-DEAM-RXN| |RXN-11834| |INOPHOSPHOR-RXN| |RXN0-5211| |ALANINE-AMINOTRANSFERASE-RXN| |RXN0-5229| |RXN0-7160| |RXN0-7196| |TRNA-NUCLEOTIDYLTRANSFERASE-RXN| |RXN-17632| |RXN0-6564| |5.3.3.14-RXN| |RXN0-801| |RXN0-3182| |PSERTRANSAMPYR-RXN| |2.6.1.7-RXN| |RXN0-1483| |UHPC-RXN| |BETA-GLUCURONID-RXN| |DGTPTRIPHYDRO-RXN| |RXN-19737| |RXN-14282| |1.8.4.12-RXN| |RXN0-5359| |RXN-12070| |KDPD-RXN| |3-OXOACYL-ACP-REDUCT-RXN| |RXN0-5062| |RXN-17777| |GLUTDECARBOX-RXN| |RXN0-7248| |CHERTRGM-RXN| |MMUM-RXN| |QOR-RXN| |RXN0-6731| |ACETOINDEHYDROG-A-RXN| |RXN-16165| |DIHYDROOROT-RXN| |3-CH3-2-OXOBUTANOATE-OH-CH3-XFER-RXN| |RXN0-2061| |LAUROYLACYLTRAN-RXN| |SULFOCYS-RXN| |RXN0-3501| |RXN0-5410| |RXN-2425| |RXN-14461| |NRIDEPHOS-RXN| |PEPTIDYLPROLYL-ISOMERASE-RXN| |RXN-17793| |RXN-12445| |LEUCYLTRANSFERASE-RXN| |RIBONUCLEOSIDE-DIP-REDUCTII-RXN| |AMACETOXID-RXN| |RIBOFLAVIN-SYN-RXN| |GLYCOLALDREDUCT-RXN| |RXN0-743| |RXN-11477| |UDPGLUCEPIM-RXN| |DTDPGLUCDEHYDRAT-RXN| |RXN0-6977| |ACYL-COA-HYDROLASE-RXN| |RXN-14499| |RXN0-382| |RXN0-6256| |3.1.21.2-RXN| |RXN0-262| |RXN-17018| |CDPKIN-RXN| |RXN-17916| |RXN-14512| |RXN-19617| |RXN-15129| |MALSYN-RXN| |RXN-9516| |RXN0-5123| |ETHAMLY-RXN| |GPPSYN-RXN| |SAMDECARB-RXN| |RXN-9555| |NARQ-RXN| |RXN-17652| |RXN0-6427| |RXN0-7000| |ADOMET-DMK-METHYLTRANSFER-RXN| |RXN-9790| |RXN-16665| |3.2.1.52-RXN| |RXN0-300| |RXN0-267| |THREONINE--TRNA-LIGASE-RXN| |RXN0-5419| |PHOQ-RXN| |METHIONYL-TRNA-FORMYLTRANSFERASE-RXN| |RXN0-6495| |ARGININE-N-SUCCINYLTRANSFERASE-RXN| |FUMHYDR-RXN| |H2NEOPTERINP3PYROPHOSPHOHYDRO-RXN| |SUCCGLUALDDEHYD-RXN| |RXN0-722| |RXN0-6369| |UROGENIIISYN-RXN| |RXN0-6493| |RXN0-7040| |ALDOSE1EPIM-RXN| |RXN0-949| |RXN0-4301| |1.11.1.15-RXN| |3.4.21.105-RXN| |RXN0-3381| |1.8.4.8-RXN| |CROBETREDUCT-RXN| |RXN-18737| |3.1.3.16-RXN| |RXN-11600| |RXN-14047| |NAD-SYNTH-NH3-RXN| |4.2.1.58-RXN| |RXN0-5187| |GDPMANDEHYDRA-RXN| |HOMOCYSTEINE-S-METHYLTRANSFERASE-RXN| |TETRAACYLDISACC4KIN-RXN| |CITC-RXN| |OHBUTYRYL-COA-EPIM-RXN| |RXN0-6528| |RXN0-7101| |AMP-NUCLEOSID-RXN| |FLAVONADPREDUCT-RXN| |RXN-16995| |2-OXOPENT-4-ENOATE-HYDRATASE-RXN| |4-NITROPHENYLPHOSPHATASE-RXN| |RXN0-3942| |MALONYL-COA-ACP-TRANSACYL-RXN| |TREHALOSE6PSYN-RXN| |RXN-15292| |PALMITOTRANS-RXN| |PNPOXI-RXN| |RXN-11838| |RXN-14143| |NQOR-RXN| |RSTB-RXN| |ATPASE-RXN| |GLUCOSE-6-PHOSPHATASE-RXN| |INOSINEKIN-RXN| |THYMIDYLATE-5-PHOSPHATASE-RXN| |RXN-11480| |DAPASYN-RXN| |RXN0-6576| |RXN0-7168| |ASPARAGHYD-RXN| |RXN-15511| |RXN0-5052| |2.7.13.2-RXN| |5.99.1.3-RXN| |RXN0-4641| |RXN-17021| |RXN0-5223| |RXN-19793| |RXN0-1842| |RXN-15581| |RXN-17943| |RXN-15943| |RXN-12093| |RXN-14286| |OXALOACETATE-TAUTOMERASE-RXN| |RXN-19774| |RXN-17490| |GLUTRNAREDUCT-RXN| |KETOBUTFORMLY-RXN| |TRNA-PSEUDOURIDINE-SYNTHASE-I-RXN| |RXN-9523| |PANTOTHENATE-KIN-RXN| |RXN0-6938| |RXN0-7253| |BETA-LACTAMASE-RXN| |RXN-9558| |PROTOHEMEFERROCHELAT-RXN| |3-ISOPROPYLMALDEHYDROG-RXN| |ACETOOHBUTSYN-RXN| |RXN0-5063| |RXN0-1133| |UDP-NACMUR-ALA-LIG-RXN| |RXN0-2201| |RXN-16225| |RXN0-307| |DEOXYNUCLEOTIDE-3-PHOSPHATASE-RXN| |RXN-14479| |PEROXID-RXN| |RXN0-5514| |CARBOXYLESTERASE-RXN| |GLYOCARBOLIG-RXN| |LTARTDEHYDRA-RXN| |UDPKIN-RXN| |RXN0-6503| |RXN0-5298| |RXN0-6981| |RXN0-962| |CELLULOSE-SYNTHASE-UDP-FORMING-RXN| |RXN0-7047| |RXN0-5114| |3.1.26.11-RXN| |ADCLY-RXN| |RXN0-5124| |RXN0-7268| |RXN-17745| |RXN-7605| |RXN0-268| |RXN-16685| |THIOREDOXIN-REDUCT-NADPH-RXN| |RXN-14521| |PHOR-RXN| |2.3.1.128-RXN| |RXN-16001| |PYRNUTRANSHYDROGEN-RXN| |GSPSYN-RXN| |MANNITOL-1-PHOSPHATASE-RXN| |UROPORIIIMETHYLTRANSA-RXN| |URACIL-PRIBOSYLTRANS-RXN| |RXN0-7008| |SERINE-O-ACETTRAN-RXN| |CTPSYN-RXN| |CDPREDUCT-RXN| |DIENOYLCOAREDUCT-RXN| |3.4.11.18-RXN| |AICARTRANSFORM-RXN| |RXN0-5189| |CREB-RXN| |COBALAMIN5PSYN-RXN| |RXN-8348| |RXN0-304| |RXN-16996| |GAMMA-GLUTAMYLTRANSFERASE-RXN| |RXN0-5395| |RXN-13548| |POLYNUCLEOTIDE-ADENYLYLTRANSFERASE-RXN| |MCPTAR-RXN| |RXN0-5181| |HCAMULTI-RXN| |METHYLMALONYL-COA-MUT-RXN| |DARAB5PISOM-RXN| |RXN-10655| |RXN-17787| |RXN0-7067| |SUCCORNTRANSAM-RXN| |RXN0-5224| |RXN-11483| |3.4.21.87-RXN| |ALLOSE-KINASE-RXN| |RXN-17493| |RXN-15890| |R621-RXN| |RXN-8999| |RXN0-3543| |PROTOPORGENOXI-RXN| |RXN-17024| |PHOSPHOENOLPYRUVATE-PHOSPHATASE-RXN| |DIMESULFREDUCT-RXN| |RXN-14074| |RXN-15122| |DEOXYRIBODIPYRIMIDINE-PHOTOLYASE-RXN| |RXN-18604| |DNA-DIRECTED-DNA-POLYMERASE-RXN| |HYDGLUTSYN-RXN| |NAG1P-URIDYLTRANS-RXN| |RXN0-5304| |RXN-19950| |XYLULOKIN-RXN| |RXN0-6373| |RXN0-7114| |THIKIN-RXN| |RXN-9528| |RXN0-5462| |4.3.1.15-RXN| |ARABISOM-RXN| |PYROXALTRANSAM-RXN| |RXN-9657| |CYTIKIN-RXN| |RXN0-1281| |RXN0-4181| |DIHYDLIPACETRANS-RXN| |RXN0-1139| |RXN-17848| |RXN-14188| |RXN-15298| |RXN0-5398| |RXN0-3341| |RXN0-5213| |ISOCIT-CLEAV-RXN| |O-SUCCHOMOSERLYASE-RXN| |RXN-17788| |RXN0-7299| |RIBULPEPIM-RXN| |RXN0-7188| |TRANS-RXN0-623| |RFFTRANS-RXN| |RXN-17391| |7-ALPHA-HYDROXYSTEROID-DEH-RXN| |ASPARTATE-SEMIALDEHYDE-DEHYDROGENASE-RXN| |DNA-DIRECTED-RNA-POLYMERASE-RXN| |2.3.1.41-RXN| |RXN-13163| |ENOYL-COA-HYDRAT-RXN| |RXN0-1882| |RXN0-5021| |RXN0-5507| |PRIBFAICARPISOM-RXN| |RXN-14363| |RXN-15761| |RXN0-6371| |L-IDONATE-2-DEHYDROGENASE-RXN| |P-PANTOCYSDECARB-RXN| |RNA-3-PHOSPHATE-CYCLASE-RXN| |DEHYDDEOXGALACTKIN-RXN| |RXN0-7280| |TRYPTOPHAN--TRNA-LIGASE-RXN| |ENTDB-RXN| |RXN-17955| |ACETYLORNDEACET-RXN| |BRANCHED-CHAINAMINOTRANSFERILEU-RXN| |RXN0-6381| |RXN0-5289| |RXN0-2381| |RXN0-5100| |RXN-17956| |RXN-17961| |RXN-14497| |RXN-16312| |RXN-17962| |LYSINE--TRNA-LIGASE-RXN| |PGLYCEROLTRANSI-RXN| |RXN-11313| |RXN-11277| |RXN0-986| |UDPNACETYLMURAMATEDEHYDROG-RXN| |FRUCTOKINASE-RXN| |PYRAMKIN-RXN| |ADENOSINE-NUCLEOSIDASE-RXN| |CHORISMATEMUT-RXN| |RXN0-6482| |RXN0-5264| |FPPSYN-RXN| |RXN0-279| |RXN0-5129| |1.1.1.271-RXN| |DHHB-METHYLTRANSFER-RXN| |RXN-14525| |RXN-16690| |RXN-18703| |PYRUVDEH-RXN| |RXN0-6481| |MANNOSE-ISOMERASE-RXN| |PHOSNACMURPENTATRANS-RXN| |RXN-11591| |RXN0-5375| |SORB6PDEHYDROG-RXN| |VALINE-PYRUVATE-AMINOTRANSFER-RXN| |GART-RXN| |1.1.1.264-RXN| |ALANINE--TRNA-LIGASE-RXN| |CYSTEINE-AMINOTRANSFERASE-RXN| |RXN0-6523| |RXN-17781| |RXN0-313| |RXN0-5199| |2-METHYLCITRATE-SYNTHASE-RXN| |RXN-18702| |RXN-17009| |RXN-19253| |R15-RXN| |MHPHYDROXY-RXN| |PPGPPSYN-RXN| |RXN-11833| |RXN-11589| |SULFITE-REDUCT-RXN| |DCDPKIN-RXN| |GLUCONOKIN-RXN| |RXN-12588| |DIMETHUROPORDEHYDROG-RXN| |ALTRODEHYDRAT-RXN| |RXN0-5228| |RXN0-6563| |GAPOXNPHOSPHN-RXN| |RXN0-3741| |2.6.1.57-RXN| |RXN-12894| |RXN0-5422| |PSERTRANSAM-RXN| |RXN-19630| |CARBPSYN-RXN| |RXN0-6522| |NAPHTHOATE-SYN-RXN| |DGDPKIN-RXN| |RXN-12002| |RXN-17797| |THREODEHYD-RXN| |RXN0-5329| |GLUTCYSLIG-RXN| |2-METHYLCITRATE-DEHYDRATASE-RXN| |ARGININE--TRNA-LIGASE-RXN| |RXN-17776| |RXN0-6727| |RIBOKIN-RXN| |RXN0-4281| |PYRUVFORMLY-RXN| |2TRANSKETO-RXN| |RXN-19249| |RXN-15341| |DIHYDRONEOPTERIN-MONO-P-DEPHOS-RXN| |RXN-2043| |DUDPKIN-RXN| |OHACYL-COA-DEHYDROG-RXN| |RXN0-5409| |RXN-12444| |RXN-11832| |TREHALA-RXN| |RXN-17792| |GLYCOLALD-DEHYDROG-RXN| |RXN0-7231| |RXN0-6274| |DLACTDEHYDROGFAD-RXN| |ATP-PYROPHOSPHATASE-RXN| |RIB5PISOM-RXN| |RXN0-6976| |GLUCONATE-5-DEHYDROGENASE-RXN| |RXN0-5051| |DTDPDEHYRHAMREDUCT-RXN| |3.1.21.1-RXN| |RXN-17930| |RXN0-6254| |RXN-6321| |RXN0-6511| |RXN0-6562| |PANTOATE-BETA-ALANINE-LIG-RXN| |RXN-10814| |RXN-11496| |TYROSINE-AMINOTRANSFERASE-RXN| |GPH-RXN| |2.5.1.64-RXN| |CARBOXYLATE-REDUCTASE-RXN| |ERYTHRON4PDEHYDROG-RXN| |RXN0-6999| |FADSYN-RXN| |RXN0-5108| |3.2.1.21-RXN| |RXN-19629| |RXN-16457| |RXN-18093| |RXN-8073| |RXN-10856| |URA-PHOSPH-RXN| |RXN-11397| |RXN-11867| |COBALADENOSYLTRANS-RXN| |FUCULOKIN-RXN| |H2NEOPTERINALDOL-RXN| |FGAMSYN-RXN| |RXN0-5146| |RXN0-6487| |RXN0-704| |GLUTATHIONE-SYN-RXN| |RXN-16788| |1.1.1.83-RXN| |3.4.21.102-RXN| |RXN0-6460| |PHOSPHOAMIDASE-RXN| |RXN-18710| |RXN-8770| |RXN0-6726| |XYLONATE-DEHYDRATASE-RXN| |RXN-11598| |RXN-14026| |RXN-18388| |CYTIDINEKIN-RXN| |GDPKIN-RXN| |HOMOCYSMETB12-RXN| |2PGADEHYDRAT-RXN| |RXN0-5210| |RXN0-6527| |RXN0-7100| |RXN-11573| |RXN-17330| |2-OCTAPRENYLPHENOL-HYDROX-RXN| |4-HYDROXYBUTYRATE-DEHYDROGENASE-RXN| |RXN-19998| |PREPHENATEDEHYDROG-RXN| |RXN-9952| |GALACTOKIN-RXN|)))\n"
     ]
    },
    {
     "name": "stdout",
     "output_type": "stream",
     "text": [
      "rxns-catalyzed-by-complex\n",
      "(rxns-catalyzed-by-complex  )\n",
      "(with-organism (:org-id '|ECOLI|) (rxns-catalyzed-by-complex  ))\n"
     ]
    },
    {
     "data": {
      "text/plain": [
       "[u'|DCYSDESULF-RXN|',\n",
       " u'|RXN-14142|',\n",
       " u'|RXN-12402|',\n",
       " u'|GLUCOSE-1-PHOSPHAT-RXN|',\n",
       " u'|PUTTRANSAM-RXN|',\n",
       " u'|1.5.1.34-RXN|',\n",
       " u'|DHDOGALDOL-RXN|',\n",
       " u'|RXN-19777|',\n",
       " u'|RXN-12073|',\n",
       " u'|RXN-14285|']"
      ]
     },
     "execution_count": 16,
     "metadata": {},
     "output_type": "execute_result"
    }
   ],
   "source": [
    "\"\"\"\n",
    "rxns\n",
    "Keyword, Optional A list of instances of the class |Reactions|. Defaults to the \n",
    "result of (all‑rxns :enzyme).\n",
    "\"\"\"\n",
    "\n",
    "ecoli.rxns_catalyzed_by_complex(rxns = ecoli.all_rxns(':enzyme'))[0:10]\n",
    "ecoli.rxns_catalyzed_by_complex()[0:10]"
   ]
  },
  {
   "cell_type": "code",
   "execution_count": 17,
   "metadata": {},
   "outputs": [
    {
     "name": "stdout",
     "output_type": "stream",
     "text": [
      "all-enzymes\n",
      "(all-enzymes  )\n",
      "(with-organism (:org-id '|ECOLI|) (all-enzymes  ))\n",
      "all-enzymes\n",
      "(all-enzymes  :type :any)\n",
      "(with-organism (:org-id '|ECOLI|) (all-enzymes  :type :any))\n",
      "all-enzymes\n",
      "(all-enzymes  :type :chemical-change)\n",
      "(with-organism (:org-id '|ECOLI|) (all-enzymes  :type :chemical-change))\n",
      "all-enzymes\n",
      "(all-enzymes  :type :small-molecule)\n",
      "(with-organism (:org-id '|ECOLI|) (all-enzymes  :type :small-molecule))\n",
      "all-enzymes\n",
      "(all-enzymes  :type :transport)\n",
      "(with-organism (:org-id '|ECOLI|) (all-enzymes  :type :transport))\n",
      "all-enzymes\n",
      "(all-enzymes  :type :non-transport)\n",
      "(with-organism (:org-id '|ECOLI|) (all-enzymes  :type :non-transport))\n"
     ]
    },
    {
     "data": {
      "text/plain": [
       "[u'|MHPELY-MONOMER|',\n",
       " u'|G6571-MONOMER|',\n",
       " u'|G7751-MONOMER|',\n",
       " u'|G7910-MONOMER|',\n",
       " u'|G6904-MONOMER|',\n",
       " u'|PGLUCONDEHYDRAT-MONOMER|',\n",
       " u'|MONOMER0-1241|',\n",
       " u'|ACECITLY-CPLX|',\n",
       " u'|G7422-MONOMER|',\n",
       " u'|EG12069-MONOMER|']"
      ]
     },
     "execution_count": 17,
     "metadata": {},
     "output_type": "execute_result"
    }
   ],
   "source": [
    "\"\"\"\n",
    "type\n",
    "Keyword, Optional A type as taken from the argument to #'enzyme?. Defaults to \n",
    ":chemical‑change.\n",
    "\n",
    ">> type\n",
    "Optional Can take on one of the following values to select more precisely what \n",
    "is meant by an “enzyme”:\n",
    "\n",
    ":any\n",
    "Any protein that catalyzes a reaction is considered an enzyme. \n",
    ":chemical-change\n",
    "If the reactants and products of the catalyzed reactin differ, and not just by \n",
    "their cellular location, then the protein is considered an enzyme. \n",
    ":small-molecule\n",
    "If the reactants of the catalyzed reaction differ and are small molecules, then \n",
    "the protein is considered an enzyme. \n",
    ":transport\n",
    "If the protein catalyzes a transport reaction. \n",
    ":non-transport\n",
    "If the protein only catalyzes non-transport reactions. \n",
    "\"\"\"\n",
    "\n",
    "ecoli.all_enzymes()[0:10]\n",
    "ecoli.all_enzymes(type = ':any')[0:10]\n",
    "ecoli.all_enzymes(type = ':chemical-change')[0:10]\n",
    "ecoli.all_enzymes(type = ':small-molecule')[0:10]\n",
    "ecoli.all_enzymes(type = ':transport')[0:10]\n",
    "ecoli.all_enzymes(type = ':non-transport')[0:10]"
   ]
  },
  {
   "cell_type": "code",
   "execution_count": 18,
   "metadata": {},
   "outputs": [
    {
     "name": "stdout",
     "output_type": "stream",
     "text": [
      "all-transporters\n",
      "(all-transporters  )\n",
      "(with-organism (:org-id '|ECOLI|) (all-transporters  ))\n"
     ]
    },
    {
     "data": {
      "text/plain": [
       "[u'|DCUA-MONOMER|',\n",
       " u'|G7399-MONOMER|',\n",
       " u'|YIDT-MONOMER|',\n",
       " u'|CORA-MONOMER|',\n",
       " u'|EG12134-MONOMER|',\n",
       " u'|EG11486-MONOMER|',\n",
       " u'|CYNX-MONOMER|',\n",
       " u'|YJDL-MONOMER|',\n",
       " u'|EG11512-MONOMER|',\n",
       " u'|GLTP-MONOMER|']"
      ]
     },
     "execution_count": 18,
     "metadata": {},
     "output_type": "execute_result"
    }
   ],
   "source": [
    "ecoli.all_transporters()[0:10]"
   ]
  },
  {
   "cell_type": "code",
   "execution_count": null,
   "metadata": {},
   "outputs": [],
   "source": []
  }
 ],
 "metadata": {
  "kernelspec": {
   "display_name": "Python 2",
   "language": "python",
   "name": "python2"
  },
  "language_info": {
   "codemirror_mode": {
    "name": "ipython",
    "version": 2
   },
   "file_extension": ".py",
   "mimetype": "text/x-python",
   "name": "python",
   "nbconvert_exporter": "python",
   "pygments_lexer": "ipython2",
   "version": "2.7.15rc1"
  }
 },
 "nbformat": 4,
 "nbformat_minor": 2
}
