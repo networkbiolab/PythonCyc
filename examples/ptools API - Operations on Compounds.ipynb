{
 "cells": [
  {
   "cell_type": "code",
   "execution_count": 1,
   "metadata": {},
   "outputs": [
    {
     "data": {
      "text/plain": [
       "0"
      ]
     },
     "execution_count": 1,
     "metadata": {},
     "output_type": "execute_result"
    }
   ],
   "source": [
    "#to run the script, you need to start pathway tools form the command line \n",
    "# using the -lisp -python options. Example (from the pathway tools github repository)\n",
    "import os\n",
    "# os.system('nohup /opt/pathway-tools/pathway-tools -lisp -python &')\n",
    "os.system('nohup /opt/pathway-tools/pathway-tools -lisp -python-local-only &') # added cybersecurity\n",
    "os.system('nohup /shared/D1/opt/pathway-tools/pathway-tools -lisp -python-local-only &') # added cybersecurity"
   ]
  },
  {
   "cell_type": "code",
   "execution_count": 2,
   "metadata": {},
   "outputs": [
    {
     "data": {
      "text/plain": [
       "['/home/glucksfall/Dropbox/modding-pythoncyc/PythonCyc']"
      ]
     },
     "execution_count": 2,
     "metadata": {},
     "output_type": "execute_result"
    }
   ],
   "source": [
    "# modify sys.path to recognize local pythoncyc\n",
    "import os\n",
    "import sys\n",
    "module_path = os.path.abspath(os.path.join('./PythonCyc/'))\n",
    "sys.path = [module_path]\n",
    "\n",
    "sys.path"
   ]
  },
  {
   "cell_type": "code",
   "execution_count": 21,
   "metadata": {},
   "outputs": [
    {
     "name": "stdout",
     "output_type": "stream",
     "text": [
      "rm: cannot remove './PythonCyc/pythoncyc/*pyc': No such file or directory\n",
      "[u'|META|', u'|ECOLI|']\n",
      "class-name-p\n",
      "(class-name-p \"compounds\" )\n",
      "(with-organism (:org-id '|ECOLI|) (class-name-p \"compounds\" ))\n",
      "get-frame-object\n",
      "(get-frame-object '|Compounds| )\n",
      "(with-organism (:org-id '|ECOLI|) (get-frame-object '|Compounds| ))\n",
      "get-class\n",
      "(get-class |Compounds| )\n",
      "(with-organism (:org-id '|ECOLI|) (get-class |Compounds| ))\n",
      "class-name-p\n",
      "(class-name-p \"reactions\" )\n",
      "(with-organism (:org-id '|ECOLI|) (class-name-p \"reactions\" ))\n",
      "get-frame-object\n",
      "(get-frame-object '|Reactions| )\n",
      "(with-organism (:org-id '|ECOLI|) (get-frame-object '|Reactions| ))\n",
      "get-class\n",
      "(get-class |Reactions| )\n",
      "(with-organism (:org-id '|ECOLI|) (get-class |Reactions| ))\n",
      "all-enzymes\n",
      "(all-enzymes  :type :chemical-change)\n",
      "(with-organism (:org-id '|ECOLI|) (all-enzymes  :type :chemical-change))\n"
     ]
    }
   ],
   "source": [
    "# remove pyc files\n",
    "!rm ./PythonCyc/pythoncyc/*pyc\n",
    "\n",
    "import pythoncyc\n",
    "all_orgids = pythoncyc.all_orgids()\n",
    "print all_orgids\n",
    "\n",
    "meta = pythoncyc.select_organism(u'|META|')\n",
    "ecoli = pythoncyc.select_organism(u'|ECOLI|')\n",
    "\n",
    "compounds = [x.frameid for x in ecoli.compounds.instances][0:2]\n",
    "reactions = [x.frameid for x in ecoli.reactions.instances][0:2]\n",
    "enzymes = ecoli.all_enzymes(type_of_reactions = ':chemical-change')[0:2]"
   ]
  },
  {
   "cell_type": "code",
   "execution_count": 4,
   "metadata": {},
   "outputs": [
    {
     "name": "stdout",
     "output_type": "stream",
     "text": [
      "reactions-of-compound\n",
      "(reactions-of-compound '|CPD0-1107| :enzymatic? t)\n",
      "(with-organism (:org-id '|ECOLI|) (reactions-of-compound '|CPD0-1107| :enzymatic? t))\n",
      "reactions-of-compound\n",
      "(reactions-of-compound '|CPD-8521| :enzymatic? t)\n",
      "(with-organism (:org-id '|ECOLI|) (reactions-of-compound '|CPD-8521| :enzymatic? t))\n",
      "[[u'|RXN0-5298|'], [u'|RXN0-1922|']]\n"
     ]
    }
   ],
   "source": [
    "\"\"\"\n",
    "cpd\n",
    "A child of class |Compounds|. \n",
    "non-specific-too?\n",
    "Keyword, Optional If non-nil, returns all generic reactions where cpd, or a \n",
    "parent of cpd, appears as a substrate. \n",
    "transport-only?\n",
    "Keyword, Optional If non-nil, return only transport reactions. \n",
    "compartment\n",
    "Keyword, Optional If non-nil, return only reactions within the specified \n",
    "compartment. \n",
    "enzymatic?\n",
    "Keyword, Optional If non-nil, return only enzymatic reactions. \n",
    "\"\"\"\n",
    "\n",
    "lst = []\n",
    "for compound in compounds:\n",
    "    lst.append(ecoli.reactions_of_compound(compound, enzymatic = True))\n",
    "print(lst[-10:])"
   ]
  },
  {
   "cell_type": "code",
   "execution_count": 5,
   "metadata": {},
   "outputs": [
    {
     "name": "stdout",
     "output_type": "stream",
     "text": [
      "substrate-of-generic-rxn?\n",
      "(substrate-of-generic-rxn? '|CPD0-1107| '|DSBD-RXN| )\n",
      "(with-organism (:org-id '|ECOLI|) (substrate-of-generic-rxn? '|CPD0-1107| '|DSBD-RXN| ))\n"
     ]
    }
   ],
   "source": [
    "try:\n",
    "    lst = []\n",
    "    for compound in compounds:\n",
    "        for reaction in reactions:\n",
    "            lst.append(ecoli.substrate_of_generic_rxn(compound, reaction))\n",
    "    print(lst[-10:])\n",
    "except:\n",
    "    pass"
   ]
  },
  {
   "cell_type": "code",
   "execution_count": 6,
   "metadata": {},
   "outputs": [
    {
     "name": "stdout",
     "output_type": "stream",
     "text": [
      "pathways-of-compound\n",
      "(pathways-of-compound '|CPD0-1107| )\n",
      "(with-organism (:org-id '|ECOLI|) (pathways-of-compound '|CPD0-1107| ))\n",
      "pathways-of-compound\n",
      "(pathways-of-compound '|CPD-8521| )\n",
      "(with-organism (:org-id '|ECOLI|) (pathways-of-compound '|CPD-8521| ))\n",
      "[[u'|FUCCAT-PWY|', u'|FUC-RHAMCAT-PWY|'], []]\n"
     ]
    }
   ],
   "source": [
    "\"\"\"\n",
    "cpd\n",
    "An instance of class |Compounds|. \n",
    "non-specific-too?\n",
    "Keyword, Optional If non-nil, returns all generic reactions where cpd, or a \n",
    "parent of cpd, appears as a substrate. \n",
    "modulators?\n",
    "Keyword, Optional If non-nil, returns pathways where cpd appears as a regulator \n",
    "as well. \n",
    "phys-relevant?\n",
    "Keyword, Optional If true, then only return inhibitors that are associated with \n",
    "|Regulation| instances that have the 'physiologically‑relevant? slot set to \n",
    "non-nil. \n",
    "include-rxns?\n",
    "Keyword, Optional If non-nil, then return a list of reaction-pathway pairs. \n",
    "\"\"\"\n",
    "\n",
    "lst = []\n",
    "for compound in compounds:\n",
    "    lst.append(ecoli.pathways_of_compound(compound))#, modulators = True, include_rxns = True))\n",
    "print(lst[-10:])"
   ]
  },
  {
   "cell_type": "code",
   "execution_count": 7,
   "metadata": {},
   "outputs": [
    {
     "name": "stdout",
     "output_type": "stream",
     "text": [
      "ACTIVATED-OR-INHIBITED-BY-COMPOUND\n",
      "(ACTIVATED-OR-INHIBITED-BY-COMPOUND '|CPD0-1107| )\n",
      "(with-organism (:org-id '|ECOLI|) (ACTIVATED-OR-INHIBITED-BY-COMPOUND '|CPD0-1107| ))\n"
     ]
    }
   ],
   "source": [
    "\"\"\"\n",
    "cpds\n",
    "An instance or list of instances of class |Compounds|. \n",
    "mode\n",
    "Keyword, Optional Represents the type of regulation. Can take on the values of \n",
    "“+”, “-”, or 'nil. \n",
    "mechanisms\n",
    "Keyword, Optional Keywords from the 'mechanism slot of the corresponding \n",
    "sub-class of the class |Regulation|. If non-nil, only regulation objects with \n",
    "mechanisms in this list will be explored for regulated objects. \n",
    "phys-relevant?\n",
    "Keyword, Optional If true, then only return inhibitors that are associated with \n",
    "|Regulation| instances that have the 'physiologically‑relevant? slot set to \n",
    "non-nil. \n",
    "slots\n",
    "Keyword A list of enzymatic reaction slots to \n",
    "\"\"\"\n",
    "\n",
    "try:\n",
    "    lst = []\n",
    "    for compound in compounds:\n",
    "        lst.append(ecoli.activated_or_inhibited_by_compound(compound))\n",
    "    print(lst[-10:])\n",
    "except:\n",
    "    pass"
   ]
  },
  {
   "cell_type": "code",
   "execution_count": 8,
   "metadata": {},
   "outputs": [
    {
     "name": "stdout",
     "output_type": "stream",
     "text": [
      "tfs-bound-to-compound\n",
      "(tfs-bound-to-compound '|CPD0-1107| :include-inactive? t)\n",
      "(with-organism (:org-id '|ECOLI|) (tfs-bound-to-compound '|CPD0-1107| :include-inactive? t))\n",
      "tfs-bound-to-compound\n",
      "(tfs-bound-to-compound '|CPD-8521| :include-inactive? t)\n",
      "(with-organism (:org-id '|ECOLI|) (tfs-bound-to-compound '|CPD-8521| :include-inactive? t))\n",
      "[[], []]\n"
     ]
    }
   ],
   "source": [
    "lst = []\n",
    "for compound in compounds:\n",
    "    lst.append(ecoli.tfs_bound_to_compound(compound, include_inactive = True))\n",
    "print(lst[-10:])"
   ]
  },
  {
   "cell_type": "code",
   "execution_count": 26,
   "metadata": {
    "scrolled": false
   },
   "outputs": [
    {
     "name": "stdout",
     "output_type": "stream",
     "text": [
      "full-enzyme-name\n",
      "(full-enzyme-name '|DSBD-RXN| )\n",
      "(with-organism (:org-id '|ECOLI|) (full-enzyme-name '|DSBD-RXN| ))\n",
      "full-enzyme-name\n",
      "(full-enzyme-name '|RXN0-4342| )\n",
      "(with-organism (:org-id '|ECOLI|) (full-enzyme-name '|RXN0-4342| ))\n",
      "[u'dsbd-rxn', u'rxn0-4342']\n",
      "\n",
      "enzyme-activity-name\n",
      "(enzyme-activity-name '|MHPELY-MONOMER| nil )\n",
      "(with-organism (:org-id '|ECOLI|) (enzyme-activity-name '|MHPELY-MONOMER| nil ))\n",
      "enzyme-activity-name\n",
      "(enzyme-activity-name '|G6571-MONOMER| nil )\n",
      "(with-organism (:org-id '|ECOLI|) (enzyme-activity-name '|G6571-MONOMER| nil ))\n",
      "[u'4-hydroxy-2-oxovalerate aldolase', u'L,D-transpeptidase YcfS']\n"
     ]
    }
   ],
   "source": [
    "# Object Name Manipulation Operations\n",
    "# lst = []\n",
    "# for reaction in reactions:\n",
    "#     lst.append(ecoli.get_name_string(reaction))\n",
    "# print lst[-10:]\n",
    "# print ''\n",
    "\n",
    "lst = []\n",
    "for reaction in reactions:\n",
    "    lst.append(ecoli.full_enzyme_name(reaction))\n",
    "print lst[-10:]\n",
    "print ''\n",
    "\n",
    "lst = []\n",
    "for enzyme in enzymes:\n",
    "    lst.append(ecoli.enzyme_activity_name(enzyme))\n",
    "print lst[-10:]"
   ]
  },
  {
   "cell_type": "code",
   "execution_count": null,
   "metadata": {},
   "outputs": [],
   "source": []
  }
 ],
 "metadata": {
  "kernelspec": {
   "display_name": "Python 2",
   "language": "python",
   "name": "python2"
  },
  "language_info": {
   "codemirror_mode": {
    "name": "ipython",
    "version": 2
   },
   "file_extension": ".py",
   "mimetype": "text/x-python",
   "name": "python",
   "nbconvert_exporter": "python",
   "pygments_lexer": "ipython2",
   "version": "2.7.15rc1"
  }
 },
 "nbformat": 4,
 "nbformat_minor": 2
}
